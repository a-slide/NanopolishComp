{
 "cells": [
  {
   "cell_type": "markdown",
   "metadata": {
    "ExecuteTime": {
     "end_time": "2018-08-10T10:03:00.595966Z",
     "start_time": "2018-08-10T10:03:00.587806Z"
    }
   },
   "source": [
    "# Eventalign_collapse usage"
   ]
  },
  {
   "cell_type": "markdown",
   "metadata": {},
   "source": [
    "## Bash command line usage"
   ]
  },
  {
   "cell_type": "markdown",
   "metadata": {
    "ExecuteTime": {
     "end_time": "2018-08-10T17:02:13.860121Z",
     "start_time": "2018-08-10T17:02:13.847128Z"
    }
   },
   "source": [
    "#### From an existing nanopolish eventalign output to a file"
   ]
  },
  {
   "cell_type": "code",
   "execution_count": 10,
   "metadata": {
    "ExecuteTime": {
     "end_time": "2018-09-24T13:30:50.352128Z",
     "start_time": "2018-09-24T13:30:49.467917Z"
    },
    "init_cell": true,
    "scrolled": true
   },
   "outputs": [
    {
     "name": "stdout",
     "output_type": "stream",
     "text": [
      "#0\tYGR240C\n",
      "ref_pos\tref_kmer\tn_events\tNNNNN_events\tmismatching_events\n",
      "1656\tGAAAA\t1\t0\t0\n",
      "1657\tAAAAC\t1\t0\t0\n",
      "1658\tAAACA\t1\t0\t0\n",
      "1659\tAACAA\t1\t0\t0\n",
      "1660\tACAAA\t1\t0\t0\n",
      "1661\tCAAAG\t1\t0\t0\n",
      "1662\tAAAGA\t1\t0\t0\n",
      "1663\tAAGAT\t1\t0\t0\n",
      "ref_id\tref_start\tref_end\tread_id\tkmers\tNNNNN_kmers\tmismatching_kmers\tmissing_kmers\tbyte_offset\tbyte_len\n",
      "YGR240C\t1656\t2960\t0\t1250\t35\t0\t54\t0\t21325\n",
      "YCR030C\t1578\t2576\t1\t971\t23\t0\t27\t21326\t16579\n",
      "YHR174W\t0\t839\t2\t825\t15\t0\t14\t37906\t13169\n",
      "YHR174W\t218\t1309\t3\t1028\t36\t0\t63\t51076\t16818\n",
      "YHR174W\t462\t1309\t4\t818\t18\t0\t29\t67895\t13465\n",
      "YLR441C\t173\t764\t5\t554\t20\t0\t37\t81361\t8932\n",
      "YGR192C\t1\t989\t6\t927\t37\t0\t61\t90294\t14810\n",
      "YDR500C\t9\t252\t8\t231\t7\t0\t14\t105105\t3679\n",
      "YDR224C\t0\t389\t9\t376\t8\t0\t13\t108785\t5983\n"
     ]
    },
    {
     "name": "stderr",
     "output_type": "stream",
     "text": [
      "[Eventalign_collapse] total reads: 21 [161.57 reads/s]\n"
     ]
    }
   ],
   "source": [
    "%%bash\n",
    "source ~/.bashrc && workon Nanopolish_0.10.1\n",
    "\n",
    "NanopolishComp Eventalign_collapse -i ./data/nanopolish_reads.tsv -o ./output/nanopolish_collapsed_reads.tsv\n",
    "head ./output/nanopolish_collapsed_reads.tsv\n",
    "head ./output/nanopolish_collapsed_reads.tsv.idx"
   ]
  },
  {
   "cell_type": "markdown",
   "metadata": {},
   "source": [
    "#### From standard input to a file"
   ]
  },
  {
   "cell_type": "code",
   "execution_count": 11,
   "metadata": {
    "ExecuteTime": {
     "end_time": "2018-09-24T13:30:51.354786Z",
     "start_time": "2018-09-24T13:30:50.354342Z"
    },
    "init_cell": true
   },
   "outputs": [
    {
     "name": "stdout",
     "output_type": "stream",
     "text": [
      "#0\tYGR240C\n",
      "ref_pos\tref_kmer\tn_events\tNNNNN_events\tmismatching_events\tstart_idx\tend_idx\n",
      "1656\tGAAAA\t1\t0\t0\t63446\t63454\n",
      "1657\tAAAAC\t1\t0\t0\t63423\t63446\n",
      "1658\tAAACA\t1\t0\t0\t63411\t63423\n",
      "1659\tAACAA\t1\t0\t0\t63398\t63411\n",
      "1660\tACAAA\t1\t0\t0\t63383\t63398\n",
      "1661\tCAAAG\t1\t0\t0\t63366\t63383\n",
      "1662\tAAAGA\t1\t0\t0\t63337\t63366\n",
      "1663\tAAGAT\t1\t0\t0\t63328\t63337\n",
      "ref_id\tref_start\tref_end\tread_id\tkmers\tNNNNN_kmers\tmismatching_kmers\tmissing_kmers\tbyte_offset\tbyte_len\n",
      "YGR240C\t1656\t2960\t0\t1250\t35\t0\t54\t0\t36343\n",
      "YHR174W\t0\t839\t2\t825\t15\t0\t14\t36344\t22533\n",
      "YCR030C\t1578\t2576\t1\t971\t23\t0\t27\t58878\t28249\n",
      "YHR174W\t462\t1309\t4\t818\t18\t0\t29\t87128\t23299\n",
      "YHR174W\t218\t1309\t3\t1028\t36\t0\t63\t110428\t29172\n",
      "YLR441C\t173\t764\t5\t554\t20\t0\t37\t139601\t15598\n",
      "YGR192C\t3\t995\t7\t946\t31\t0\t50\t155200\t26485\n",
      "YGR192C\t1\t989\t6\t927\t37\t0\t61\t181686\t25951\n",
      "YDR500C\t9\t252\t8\t231\t7\t0\t14\t207638\t6469\n"
     ]
    },
    {
     "name": "stderr",
     "output_type": "stream",
     "text": [
      "Collapse file by read_id/ref_id\n",
      "\r",
      "0 reads [00:00, ? reads/s]\r",
      "11 reads [00:00, 108.71 reads/s]\r",
      "21 reads [00:00, 127.54 reads/s]\n",
      "[Eventalign_collapse] total reads: 21 [125.69 reads/s]\n"
     ]
    }
   ],
   "source": [
    "%%bash\n",
    "source ~/.bashrc && workon Nanopolish_0.10.1\n",
    "\n",
    "cat ./data/nanopolish_reads_index.tsv | NanopolishComp Eventalign_collapse -o ./output/nanopolish_collapsed_reads.tsv --verbose\n",
    "head ./output/nanopolish_collapsed_reads.tsv\n",
    "head ./output/nanopolish_collapsed_reads.tsv.idx"
   ]
  },
  {
   "cell_type": "markdown",
   "metadata": {},
   "source": [
    "#### On the fly, from nanopolish eventalign to a file"
   ]
  },
  {
   "cell_type": "code",
   "execution_count": 12,
   "metadata": {
    "ExecuteTime": {
     "end_time": "2018-09-24T13:30:54.073654Z",
     "start_time": "2018-09-24T13:30:51.356798Z"
    },
    "init_cell": true,
    "scrolled": true
   },
   "outputs": [
    {
     "name": "stdout",
     "output_type": "stream",
     "text": [
      "#3784283c-47cc-48ac-8d7b-7efd32123b56\tYHR174W\n",
      "ref_pos\tref_kmer\tn_events\tNNNNN_events\tmismatching_events\tmean\tstd\tmedian\tmad\tn_signals\n",
      "0\tATGGC\t1\t0\t0\t86.3893051147461\t3.8192403316497803\t85.67970275878906\t2.618194580078125\t33\n",
      "1\tTGGCT\t4\t0\t0\t104.78181457519531\t6.572873592376709\t106.18900299072266\t3.9269943237304688\t98\n",
      "2\tGGCTG\t1\t0\t0\t96.55765533447266\t6.874111652374268\t97.75244903564453\t5.382049560546875\t14\n",
      "3\tGCTGT\t5\t0\t0\t81.69342803955078\t5.14208984375\t80.29779815673828\t1.5273017883300781\t116\n",
      "4\tCTGTC\t1\t0\t0\t102.4487075805664\t1.5290673971176147\t103.57099914550781\t0.2910003662109375\t7\n",
      "5\tTGTCT\t4\t0\t0\t107.04158020019531\t5.813553810119629\t107.64350128173828\t2.5454978942871094\t58\n",
      "6\tGTCTC\t2\t0\t0\t76.83718872070312\t2.1963260173797607\t76.87960052490234\t1.1636505126953125\t24\n",
      "7\tTCTCT\t1\t0\t0\t80.0484619140625\t1.0306347608566284\t80.00689697265625\t0.727294921875\t7\n",
      "ref_id\tref_start\tref_end\tread_id\tkmers\tNNNNN_kmers\tmismatching_kmers\tmissing_kmers\tbyte_offset\tbyte_len\n",
      "YHR174W\t0\t839\t3784283c-47cc-48ac-8d7b-7efd32123b56\t825\t15\t0\t14\t0\t75969\n",
      "YHR174W\t218\t1309\t3e81c32a-f2ee-4719-a88d-e0affe93d26f\t1028\t36\t0\t63\t75970\t95001\n",
      "YCR030C\t1578\t2576\t9a1c5296-2ab1-4abd-8d50-e059754cf332\t971\t23\t0\t27\t170972\t90455\n",
      "YGR240C\t1656\t2960\t97205d42-93ac-4c99-af78-e553f7d1ff83\t1250\t35\t0\t54\t261428\t116600\n",
      "YLR441C\t173\t764\t6af04302-04c8-4d8d-8e87-aa69178b3f24\t554\t20\t0\t37\t378029\t51182\n",
      "YHR174W\t462\t1309\t0ef36fa0-7c3f-47f5-8410-027f50724701\t818\t18\t0\t29\t429212\t75811\n",
      "YDR500C\t9\t252\te6a8e4d0-7b3c-471a-be26-fa7857d12663\t231\t7\t0\t14\t505024\t21352\n",
      "YGR192C\t1\t989\t4e21bf07-e2df-42d8-b347-59ef2c0618ea\t927\t37\t0\t61\t526377\t85345\n",
      "YIL117C\t27\t953\t68804104-71dc-465c-b82d-3a99a4689701\t889\t23\t0\t37\t611723\t82012\n"
     ]
    },
    {
     "name": "stderr",
     "output_type": "stream",
     "text": [
      "[post-run summary] total reads: 21, unparseable: 0, qc fail: 0, could not calibrate: 0, no alignment: 0, bad fast5: 0\n",
      "[Eventalign_collapse] total reads: 21 [11.14 reads/s]\n"
     ]
    }
   ],
   "source": [
    "%%bash\n",
    "source ~/.bashrc && workon Nanopolish_0.10.1\n",
    "\n",
    "nanopolish eventalign -t 4 --samples --scale-events --print-read-name --reads ./data/reads.fastq --bam ./data/aligned_reads.bam --genome ./data/reference.fa | NanopolishComp Eventalign_collapse  -o ./output/nanopolish_collapsed_reads.tsv\n",
    "head ./output/nanopolish_collapsed_reads.tsv\n",
    "head ./output/nanopolish_collapsed_reads.tsv.idx"
   ]
  },
  {
   "cell_type": "markdown",
   "metadata": {},
   "source": [
    "## Python API usage"
   ]
  },
  {
   "cell_type": "markdown",
   "metadata": {},
   "source": [
    "#### Import the package"
   ]
  },
  {
   "cell_type": "code",
   "execution_count": 13,
   "metadata": {
    "ExecuteTime": {
     "end_time": "2018-09-24T13:30:54.080576Z",
     "start_time": "2018-09-24T13:30:54.076961Z"
    },
    "init_cell": true
   },
   "outputs": [],
   "source": [
    "from NanopolishComp.Eventalign_collapse import Eventalign_collapse"
   ]
  },
  {
   "cell_type": "markdown",
   "metadata": {},
   "source": [
    "#### Example with minimal file"
   ]
  },
  {
   "cell_type": "code",
   "execution_count": 14,
   "metadata": {
    "ExecuteTime": {
     "end_time": "2018-09-24T13:30:54.559059Z",
     "start_time": "2018-09-24T13:30:54.083981Z"
    },
    "init_cell": true,
    "scrolled": true
   },
   "outputs": [
    {
     "name": "stderr",
     "output_type": "stream",
     "text": [
      "Collapse file by read_id/ref_id\n",
      "21 reads [00:00, 119.75 reads/s]\n",
      "[Eventalign_collapse] total reads: 21 [112.67 reads/s]\n"
     ]
    },
    {
     "name": "stdout",
     "output_type": "stream",
     "text": [
      "Collapsed eventalign file\n",
      "#0\tYGR240C\n",
      "ref_pos\tref_kmer\tn_events\tNNNNN_events\tmismatching_events\n",
      "1656\tGAAAA\t1\t0\t0\n",
      "1657\tAAAAC\t1\t0\t0\n",
      "1658\tAAACA\t1\t0\t0\n",
      "1659\tAACAA\t1\t0\t0\n",
      "1660\tACAAA\t1\t0\t0\n",
      "1661\tCAAAG\t1\t0\t0\n",
      "1662\tAAAGA\t1\t0\t0\n",
      "1663\tAAGAT\t1\t0\t0\n",
      "Index file\n",
      "ref_id\tref_start\tref_end\tread_id\tkmers\tNNNNN_kmers\tmismatching_kmers\tmissing_kmers\tbyte_offset\tbyte_len\n",
      "YGR240C\t1656\t2960\t0\t1250\t35\t0\t54\t0\t21325\n",
      "YCR030C\t1578\t2576\t1\t971\t23\t0\t27\t21326\t16579\n",
      "YHR174W\t0\t839\t2\t825\t15\t0\t14\t37906\t13169\n",
      "YHR174W\t218\t1309\t3\t1028\t36\t0\t63\t51076\t16818\n",
      "YHR174W\t462\t1309\t4\t818\t18\t0\t29\t67895\t13465\n",
      "YLR441C\t173\t764\t5\t554\t20\t0\t37\t81361\t8932\n",
      "YGR192C\t1\t989\t6\t927\t37\t0\t61\t90294\t14810\n",
      "YDR500C\t9\t252\t8\t231\t7\t0\t14\t105105\t3679\n",
      "YDR224C\t0\t389\t9\t376\t8\t0\t13\t108785\t5983\n"
     ]
    }
   ],
   "source": [
    "input_fn = \"./data/nanopolish_reads.tsv\"\n",
    "output_fn = \"./output/collapsed_nanopolish.tsv\"\n",
    "index_fn = \"./output/collapsed_nanopolish.tsv.idx\"\n",
    "\n",
    "Eventalign_collapse (input_fn=input_fn, output_fn=output_fn, threads=6, verbose=True)\n",
    "\n",
    "print (\"Collapsed eventalign file\")\n",
    "! head {output_fn} -n 10\n",
    "\n",
    "print (\"Index file\")\n",
    "! head {index_fn} -n 10"
   ]
  },
  {
   "cell_type": "markdown",
   "metadata": {},
   "source": [
    "#### Example with indexes"
   ]
  },
  {
   "cell_type": "code",
   "execution_count": 15,
   "metadata": {
    "ExecuteTime": {
     "end_time": "2018-09-24T13:30:55.040308Z",
     "start_time": "2018-09-24T13:30:54.562024Z"
    },
    "init_cell": true
   },
   "outputs": [
    {
     "name": "stderr",
     "output_type": "stream",
     "text": [
      "Collapse file by read_id/ref_id\n",
      "21 reads [00:00, 131.20 reads/s]\n",
      "[Eventalign_collapse] total reads: 21 [112.31 reads/s]\n"
     ]
    },
    {
     "name": "stdout",
     "output_type": "stream",
     "text": [
      "\n",
      "Collapsed eventalign file\n",
      "#0\tYGR240C\n",
      "ref_pos\tref_kmer\tn_events\tNNNNN_events\tmismatching_events\tstart_idx\tend_idx\n",
      "1656\tGAAAA\t1\t0\t0\t63446\t63454\n",
      "1657\tAAAAC\t1\t0\t0\t63423\t63446\n",
      "1658\tAAACA\t1\t0\t0\t63411\t63423\n",
      "1659\tAACAA\t1\t0\t0\t63398\t63411\n",
      "1660\tACAAA\t1\t0\t0\t63383\t63398\n",
      "1661\tCAAAG\t1\t0\t0\t63366\t63383\n",
      "1662\tAAAGA\t1\t0\t0\t63337\t63366\n",
      "1663\tAAGAT\t1\t0\t0\t63328\t63337\n",
      "\n",
      "Index file\n",
      "ref_id\tref_start\tref_end\tread_id\tkmers\tNNNNN_kmers\tmismatching_kmers\tmissing_kmers\tbyte_offset\tbyte_len\n",
      "YGR240C\t1656\t2960\t0\t1250\t35\t0\t54\t0\t36343\n",
      "YCR030C\t1578\t2576\t1\t971\t23\t0\t27\t36344\t28249\n",
      "YHR174W\t0\t839\t2\t825\t15\t0\t14\t64594\t22533\n",
      "YHR174W\t462\t1309\t4\t818\t18\t0\t29\t87128\t23299\n",
      "YHR174W\t218\t1309\t3\t1028\t36\t0\t63\t110428\t29172\n",
      "YLR441C\t173\t764\t5\t554\t20\t0\t37\t139601\t15598\n",
      "YGR192C\t1\t989\t6\t927\t37\t0\t61\t155200\t25951\n",
      "YGR192C\t3\t995\t7\t946\t31\t0\t50\t181152\t26485\n",
      "YDR500C\t9\t252\t8\t231\t7\t0\t14\t207638\t6469\n"
     ]
    }
   ],
   "source": [
    "input_fn = \"./data/nanopolish_reads_index.tsv\"\n",
    "output_fn = \"./output/collapsed_nanopolish_index.tsv\"\n",
    "index_fn = \"./output/collapsed_nanopolish_index.tsv.idx\"\n",
    "\n",
    "Eventalign_collapse (input_fn=input_fn, output_fn=output_fn, verbose=True, threads=6)\n",
    "\n",
    "print (\"\\nCollapsed eventalign file\")\n",
    "! head {output_fn} -n 10\n",
    "\n",
    "print (\"\\nIndex file\")\n",
    "! head {index_fn} -n 10"
   ]
  },
  {
   "cell_type": "markdown",
   "metadata": {},
   "source": [
    "#### Example including samples"
   ]
  },
  {
   "cell_type": "code",
   "execution_count": 19,
   "metadata": {
    "ExecuteTime": {
     "end_time": "2018-09-24T13:32:18.259016Z",
     "start_time": "2018-09-24T13:32:16.756801Z"
    },
    "init_cell": true,
    "scrolled": false
   },
   "outputs": [
    {
     "name": "stderr",
     "output_type": "stream",
     "text": [
      "Collapse file by read_id/ref_id\n",
      "21 reads [00:01, 17.77 reads/s]\n",
      "[Eventalign_collapse] total reads: 21 [17.53 reads/s]\n"
     ]
    },
    {
     "name": "stdout",
     "output_type": "stream",
     "text": [
      "\n",
      "Collapsed eventalign file\n",
      "#2\tYHR174W\n",
      "ref_pos\tref_kmer\tn_events\tNNNNN_events\tmismatching_events\tmean\tstd\tmedian\tmad\tn_signals\n",
      "0\tATGGC\t1\t0\t0\t86.3893051147461\t3.8192403316497803\t85.67970275878906\t2.618194580078125\t33\n",
      "1\tTGGCT\t4\t0\t0\t104.78181457519531\t6.572873592376709\t106.18900299072266\t3.9269943237304688\t98\n",
      "2\tGGCTG\t1\t0\t0\t96.55765533447266\t6.874111652374268\t97.75244903564453\t5.382049560546875\t14\n",
      "3\tGCTGT\t5\t0\t0\t81.69342803955078\t5.14208984375\t80.29779815673828\t1.5273017883300781\t116\n",
      "4\tCTGTC\t1\t0\t0\t102.4487075805664\t1.5290673971176147\t103.57099914550781\t0.2910003662109375\t7\n",
      "5\tTGTCT\t4\t0\t0\t107.04158020019531\t5.813553810119629\t107.64350128173828\t2.5454978942871094\t58\n",
      "6\tGTCTC\t2\t0\t0\t76.83718872070312\t2.1963260173797607\t76.87960052490234\t1.1636505126953125\t24\n",
      "7\tTCTCT\t1\t0\t0\t80.0484619140625\t1.0306347608566284\t80.00689697265625\t0.727294921875\t7\n",
      "\n",
      "Index file\n",
      "ref_id\tref_start\tref_end\tread_id\tkmers\tNNNNN_kmers\tmismatching_kmers\tmissing_kmers\tbyte_offset\tbyte_len\n",
      "YHR174W\t0\t839\t2\t825\t15\t0\t14\t0\t75934\n",
      "YCR030C\t1578\t2576\t1\t971\t23\t0\t27\t75935\t90420\n",
      "YHR174W\t218\t1309\t3\t1028\t36\t0\t63\t166356\t94966\n",
      "YGR240C\t1656\t2960\t0\t1250\t35\t0\t54\t261323\t116565\n",
      "YLR441C\t173\t764\t5\t554\t20\t0\t37\t377889\t51147\n",
      "YGR192C\t1\t989\t6\t927\t37\t0\t61\t429037\t85310\n",
      "YDR500C\t9\t252\t8\t231\t7\t0\t14\t514348\t21317\n",
      "YHR174W\t462\t1309\t4\t818\t18\t0\t29\t535666\t75776\n",
      "YGR192C\t3\t995\t7\t946\t31\t0\t50\t611443\t87075\n"
     ]
    }
   ],
   "source": [
    "input_fn = \"./data/nanopolish_reads_samples.tsv\"\n",
    "output_fn = \"./output/collapsed_nanopolish_samples.tsv\"\n",
    "index_fn = \"./output/collapsed_nanopolish_samples.tsv.idx\"\n",
    "\n",
    "Eventalign_collapse (input_fn=input_fn, output_fn=output_fn, verbose=True, threads=6)\n",
    "\n",
    "print (\"\\nCollapsed eventalign file\")\n",
    "! head {output_fn} -n 10\n",
    "\n",
    "print (\"\\nIndex file\")\n",
    "! head {index_fn} -n 10"
   ]
  },
  {
   "cell_type": "markdown",
   "metadata": {},
   "source": [
    "#### Example including samples and writing samples values in ouput file"
   ]
  },
  {
   "cell_type": "code",
   "execution_count": 20,
   "metadata": {
    "ExecuteTime": {
     "end_time": "2018-09-24T13:32:20.031504Z",
     "start_time": "2018-09-24T13:32:18.266628Z"
    },
    "init_cell": true,
    "scrolled": false
   },
   "outputs": [
    {
     "name": "stderr",
     "output_type": "stream",
     "text": [
      "Collapse file by read_id/ref_id\n",
      "21 reads [00:01,  5.60 reads/s]\n",
      "[Eventalign_collapse] total reads: 21 [14.53 reads/s]\n"
     ]
    },
    {
     "name": "stdout",
     "output_type": "stream",
     "text": [
      "\n",
      "Collapsed eventalign file\n",
      "#2\tYHR174W\n",
      "ref_pos\tref_kmer\tn_events\tNNNNN_events\tmismatching_events\tmean\tstd\tmedian\tmad\tn_signals\tsamples\n",
      "0\tATGGC\t1\t0\t0\t86.3893051147461\t3.8192403316497803\t85.67970275878906\t2.618194580078125\t33\t96.4434,93.5342,94.5524,87.1342,85.6797,86.6978,85.0978,91.0615,89.316,84.0797,82.916,82.3342,89.316,84.3706,84.3706,85.8251,81.4615,83.0615,85.9706,85.0978,80.7342,82.4796,93.0979,88.0069,82.916,85.3887,84.0797,86.5524,84.3706,82.3342,88.2979,88.2979,85.9706\n",
      "1\tTGGCT\t4\t0\t0\t104.78181457519531\t6.572873592376709\t106.18900299072266\t3.9269943237304688\t98\t104.007,96.1524,106.189,99.0615,108.371,102.407,107.498,100.662,113.462,106.189,111.28,111.28,112.298,102.989,101.971,109.68,106.916,109.243,106.916,103.28,101.825,110.553,112.443,105.898,101.098,99.0615,105.462,102.843,100.516,107.643,109.098,107.789,113.316,109.098,110.116,108.807,106.916,112.443,114.916,110.843,109.098,111.716,103.862,110.262,109.098,105.171,109.68,108.807,112.589,111.425,123.498,110.116,108.371,110.843,111.134,110.843,96.007,94.5524,97.8979,90.6251,94.9888,97.0252,93.9706,104.589,109.971,106.48,108.807,101.389,103.716,96.8797,89.7524,97.4615,98.0434,86.8433,104.443,103.716,102.407,107.207,102.989,93.6797,103.571,104.007,100.08,103.862,109.68,106.625,101.534,97.3161,103.571,97.607,88.7342,109.534,106.771,113.025,108.807,93.2433,108.952,91.207\n",
      "2\tGGCTG\t1\t0\t0\t96.55765533447266\t6.874111652374268\t97.75244903564453\t5.382049560546875\t14\t105.752,98.9161,98.7706,96.7343,95.5706,100.08,105.607,96.4434,88.5888,101.68,85.6797,104.589,88.1524,85.2433\n",
      "3\tGCTGT\t5\t0\t0\t81.69342803955078\t5.14208984375\t80.29779815673828\t1.5273017883300781\t116\t94.1161,90.6251,93.2433,81.316,105.316,87.716,95.7161,90.3342,98.0434,86.116,87.716,107.789,96.2979,83.4978,84.2251,83.3524,79.5705,80.8796,79.1342,78.116,80.4433,80.5887,79.4251,79.2796,81.6069,77.9705,81.6069,81.7524,81.4615,80.4433,86.9888,79.5705,81.316,77.5342,82.6251,77.9705,82.1887,77.6796,80.7342,83.6433,77.9705,78.4069,80.0069,80.1524,80.4433,80.7342,80.2978,84.9524,78.5524,81.316,80.2978,82.1887,81.6069,77.6796,81.0251,78.4069,79.4251,80.4433,79.8615,82.1887,79.8615,80.0069,78.6978,80.7342,80.5887,78.5524,78.8433,79.4251,82.6251,80.0069,77.5342,80.0069,77.5342,83.7887,84.0797,83.0615,82.1887,81.6069,80.8796,81.316,80.0069,78.9887,82.7706,84.516,81.4615,80.5887,79.2796,78.9887,78.4069,80.5887,80.2978,83.7887,78.4069,78.116,79.5705,78.5524,79.4251,79.2796,81.0251,78.8433,78.9887,78.5524,80.1524,77.9705,78.2614,80.8796,78.4069,79.2796,78.2614,79.716,77.6796,79.4251,77.6796,78.6978,77.3887,76.9523\n",
      "4\tCTGTC\t1\t0\t0\t102.4487075805664\t1.5290673971176147\t103.57099914550781\t0.2910003662109375\t7\t103.571,103.716,103.862,101.243,100.371,103.862,100.516\n",
      "5\tTGTCT\t4\t0\t0\t107.04158020019531\t5.813553810119629\t107.64350128173828\t2.5454978942871094\t58\t113.462,109.534,107.789,112.298,110.116,112.153,109.243,111.862,107.352,112.88,103.716,102.262,103.571,101.971,104.007,104.152,99.6434,104.88,109.971,109.825,114.625,105.898,107.062,88.7342,105.462,112.589,108.516,114.771,106.916,111.716,110.116,106.334,108.08,107.207,110.262,110.116,105.898,109.825,108.08,106.771,107.207,108.08,107.498,114.48,116.807,107.062,109.68,105.607,110.407,110.553,106.189,105.025,109.389,104.88,86.6978,103.425,88.2979,97.4615\n",
      "6\tGTCTC\t2\t0\t0\t76.83718872070312\t2.1963260173797607\t76.87960052490234\t1.1636505126953125\t24\t78.5524,75.6432,75.7887,79.4251,82.3342,77.3887,79.4251,77.8251,76.9523,78.4069,76.9523,77.8251,76.6614,78.9887,76.6614,76.8069,75.7887,71.8614,74.7705,74.6251,77.3887,76.8069,74.3341,72.8796\n",
      "7\tTCTCT\t1\t0\t0\t80.0484619140625\t1.0306347608566284\t80.00689697265625\t0.727294921875\t7\t78.6978,79.2796,79.2796,80.0069,81.4615,81.6069,80.0069\n",
      "\n",
      "Index file\n",
      "ref_id\tref_start\tref_end\tread_id\tkmers\tNNNNN_kmers\tmismatching_kmers\tmissing_kmers\tbyte_offset\tbyte_len\n",
      "YHR174W\t0\t839\t2\t825\t15\t0\t14\t0\t305963\n",
      "YCR030C\t1578\t2576\t1\t971\t23\t0\t27\t305964\t363199\n",
      "YHR174W\t218\t1309\t3\t1028\t36\t0\t63\t669164\t358141\n",
      "YGR240C\t1656\t2960\t0\t1250\t35\t0\t54\t1027306\t444306\n",
      "YLR441C\t173\t764\t5\t554\t20\t0\t37\t1471613\t183163\n",
      "YDR500C\t9\t252\t8\t231\t7\t0\t14\t1654777\t90747\n",
      "YHR174W\t462\t1309\t4\t818\t18\t0\t29\t1745525\t331402\n",
      "YDR224C\t0\t389\t9\t376\t8\t0\t13\t2076928\t136308\n",
      "YDL145C\t3232\t3576\t11\t323\t12\t0\t21\t2213237\t165259\n"
     ]
    }
   ],
   "source": [
    "input_fn = \"./data/nanopolish_reads_samples.tsv\"\n",
    "output_fn = \"./output/collapsed_nanopolish_samples_all.tsv\"\n",
    "index_fn = \"./output/collapsed_nanopolish_samples_all.tsv.idx\"\n",
    "\n",
    "Eventalign_collapse (input_fn=input_fn, output_fn=output_fn, verbose=True, threads=6, write_samples=True)\n",
    "\n",
    "print (\"\\nCollapsed eventalign file\")\n",
    "! head {output_fn} -n 10\n",
    "\n",
    "print (\"\\nIndex file\")\n",
    "! head {index_fn} -n 10"
   ]
  },
  {
   "cell_type": "markdown",
   "metadata": {},
   "source": [
    "#### Using the index to random access a specific entry in the file"
   ]
  },
  {
   "cell_type": "code",
   "execution_count": 21,
   "metadata": {
    "ExecuteTime": {
     "end_time": "2018-09-24T13:32:23.689029Z",
     "start_time": "2018-09-24T13:32:23.512264Z"
    },
    "init_cell": true,
    "scrolled": false
   },
   "outputs": [
    {
     "name": "stdout",
     "output_type": "stream",
     "text": [
      "Random index lines\n"
     ]
    },
    {
     "data": {
      "text/html": [
       "<div>\n",
       "<style scoped>\n",
       "    .dataframe tbody tr th:only-of-type {\n",
       "        vertical-align: middle;\n",
       "    }\n",
       "\n",
       "    .dataframe tbody tr th {\n",
       "        vertical-align: top;\n",
       "    }\n",
       "\n",
       "    .dataframe thead th {\n",
       "        text-align: right;\n",
       "    }\n",
       "</style>\n",
       "<table border=\"1\" class=\"dataframe\">\n",
       "  <thead>\n",
       "    <tr style=\"text-align: right;\">\n",
       "      <th></th>\n",
       "      <th>ref_id</th>\n",
       "      <th>ref_start</th>\n",
       "      <th>ref_end</th>\n",
       "      <th>read_id</th>\n",
       "      <th>kmers</th>\n",
       "      <th>NNNNN_kmers</th>\n",
       "      <th>mismatching_kmers</th>\n",
       "      <th>missing_kmers</th>\n",
       "      <th>byte_offset</th>\n",
       "      <th>byte_len</th>\n",
       "    </tr>\n",
       "  </thead>\n",
       "  <tbody>\n",
       "    <tr>\n",
       "      <th>3</th>\n",
       "      <td>YGR240C</td>\n",
       "      <td>1656</td>\n",
       "      <td>2960</td>\n",
       "      <td>0</td>\n",
       "      <td>1250</td>\n",
       "      <td>35</td>\n",
       "      <td>0</td>\n",
       "      <td>54</td>\n",
       "      <td>261323</td>\n",
       "      <td>116565</td>\n",
       "    </tr>\n",
       "    <tr>\n",
       "      <th>10</th>\n",
       "      <td>YDL145C</td>\n",
       "      <td>3232</td>\n",
       "      <td>3576</td>\n",
       "      <td>11</td>\n",
       "      <td>323</td>\n",
       "      <td>12</td>\n",
       "      <td>0</td>\n",
       "      <td>21</td>\n",
       "      <td>733037</td>\n",
       "      <td>30161</td>\n",
       "    </tr>\n",
       "    <tr>\n",
       "      <th>5</th>\n",
       "      <td>YGR192C</td>\n",
       "      <td>1</td>\n",
       "      <td>989</td>\n",
       "      <td>6</td>\n",
       "      <td>927</td>\n",
       "      <td>37</td>\n",
       "      <td>0</td>\n",
       "      <td>61</td>\n",
       "      <td>429037</td>\n",
       "      <td>85310</td>\n",
       "    </tr>\n",
       "    <tr>\n",
       "      <th>1</th>\n",
       "      <td>YCR030C</td>\n",
       "      <td>1578</td>\n",
       "      <td>2576</td>\n",
       "      <td>1</td>\n",
       "      <td>971</td>\n",
       "      <td>23</td>\n",
       "      <td>0</td>\n",
       "      <td>27</td>\n",
       "      <td>75935</td>\n",
       "      <td>90420</td>\n",
       "    </tr>\n",
       "    <tr>\n",
       "      <th>8</th>\n",
       "      <td>YGR192C</td>\n",
       "      <td>3</td>\n",
       "      <td>995</td>\n",
       "      <td>7</td>\n",
       "      <td>946</td>\n",
       "      <td>31</td>\n",
       "      <td>0</td>\n",
       "      <td>50</td>\n",
       "      <td>611443</td>\n",
       "      <td>87075</td>\n",
       "    </tr>\n",
       "  </tbody>\n",
       "</table>\n",
       "</div>"
      ],
      "text/plain": [
       "     ref_id  ref_start  ref_end  read_id  kmers  NNNNN_kmers  \\\n",
       "3   YGR240C       1656     2960        0   1250           35   \n",
       "10  YDL145C       3232     3576       11    323           12   \n",
       "5   YGR192C          1      989        6    927           37   \n",
       "1   YCR030C       1578     2576        1    971           23   \n",
       "8   YGR192C          3      995        7    946           31   \n",
       "\n",
       "    mismatching_kmers  missing_kmers  byte_offset  byte_len  \n",
       "3                   0             54       261323    116565  \n",
       "10                  0             21       733037     30161  \n",
       "5                   0             61       429037     85310  \n",
       "1                   0             27        75935     90420  \n",
       "8                   0             50       611443     87075  "
      ]
     },
     "metadata": {},
     "output_type": "display_data"
    },
    {
     "name": "stdout",
     "output_type": "stream",
     "text": [
      "#0\tYGR240C\n"
     ]
    },
    {
     "data": {
      "text/html": [
       "<div>\n",
       "<style scoped>\n",
       "    .dataframe tbody tr th:only-of-type {\n",
       "        vertical-align: middle;\n",
       "    }\n",
       "\n",
       "    .dataframe tbody tr th {\n",
       "        vertical-align: top;\n",
       "    }\n",
       "\n",
       "    .dataframe thead th {\n",
       "        text-align: right;\n",
       "    }\n",
       "</style>\n",
       "<table border=\"1\" class=\"dataframe\">\n",
       "  <thead>\n",
       "    <tr style=\"text-align: right;\">\n",
       "      <th></th>\n",
       "      <th>ref_pos</th>\n",
       "      <th>ref_kmer</th>\n",
       "      <th>n_events</th>\n",
       "      <th>NNNNN_events</th>\n",
       "      <th>mismatching_events</th>\n",
       "      <th>mean</th>\n",
       "      <th>std</th>\n",
       "      <th>median</th>\n",
       "      <th>mad</th>\n",
       "      <th>n_signals</th>\n",
       "    </tr>\n",
       "  </thead>\n",
       "  <tbody>\n",
       "    <tr>\n",
       "      <th>0</th>\n",
       "      <td>1656</td>\n",
       "      <td>GAAAA</td>\n",
       "      <td>1</td>\n",
       "      <td>0</td>\n",
       "      <td>0</td>\n",
       "      <td>105.497749</td>\n",
       "      <td>1.198813</td>\n",
       "      <td>105.480003</td>\n",
       "      <td>0.852997</td>\n",
       "      <td>8</td>\n",
       "    </tr>\n",
       "    <tr>\n",
       "      <th>1</th>\n",
       "      <td>1657</td>\n",
       "      <td>AAAAC</td>\n",
       "      <td>1</td>\n",
       "      <td>0</td>\n",
       "      <td>0</td>\n",
       "      <td>111.092743</td>\n",
       "      <td>1.667485</td>\n",
       "      <td>111.025002</td>\n",
       "      <td>0.995003</td>\n",
       "      <td>23</td>\n",
       "    </tr>\n",
       "    <tr>\n",
       "      <th>...</th>\n",
       "      <td>...</td>\n",
       "      <td>...</td>\n",
       "      <td>...</td>\n",
       "      <td>...</td>\n",
       "      <td>...</td>\n",
       "      <td>...</td>\n",
       "      <td>...</td>\n",
       "      <td>...</td>\n",
       "      <td>...</td>\n",
       "      <td>...</td>\n",
       "    </tr>\n",
       "    <tr>\n",
       "      <th>1248</th>\n",
       "      <td>2958</td>\n",
       "      <td>AAATG</td>\n",
       "      <td>2</td>\n",
       "      <td>0</td>\n",
       "      <td>0</td>\n",
       "      <td>108.238159</td>\n",
       "      <td>9.100697</td>\n",
       "      <td>107.897003</td>\n",
       "      <td>6.398003</td>\n",
       "      <td>55</td>\n",
       "    </tr>\n",
       "    <tr>\n",
       "      <th>1249</th>\n",
       "      <td>2959</td>\n",
       "      <td>AATGA</td>\n",
       "      <td>1</td>\n",
       "      <td>0</td>\n",
       "      <td>0</td>\n",
       "      <td>84.509178</td>\n",
       "      <td>3.165896</td>\n",
       "      <td>84.367004</td>\n",
       "      <td>1.919350</td>\n",
       "      <td>10</td>\n",
       "    </tr>\n",
       "  </tbody>\n",
       "</table>\n",
       "<p>1250 rows × 10 columns</p>\n",
       "</div>"
      ],
      "text/plain": [
       "      ref_pos ref_kmer  n_events  NNNNN_events  mismatching_events  \\\n",
       "0        1656    GAAAA         1             0                   0   \n",
       "1        1657    AAAAC         1             0                   0   \n",
       "...       ...      ...       ...           ...                 ...   \n",
       "1248     2958    AAATG         2             0                   0   \n",
       "1249     2959    AATGA         1             0                   0   \n",
       "\n",
       "            mean       std      median       mad  n_signals  \n",
       "0     105.497749  1.198813  105.480003  0.852997          8  \n",
       "1     111.092743  1.667485  111.025002  0.995003         23  \n",
       "...          ...       ...         ...       ...        ...  \n",
       "1248  108.238159  9.100697  107.897003  6.398003         55  \n",
       "1249   84.509178  3.165896   84.367004  1.919350         10  \n",
       "\n",
       "[1250 rows x 10 columns]"
      ]
     },
     "metadata": {},
     "output_type": "display_data"
    },
    {
     "name": "stdout",
     "output_type": "stream",
     "text": [
      "#11\tYDL145C\n"
     ]
    },
    {
     "data": {
      "text/html": [
       "<div>\n",
       "<style scoped>\n",
       "    .dataframe tbody tr th:only-of-type {\n",
       "        vertical-align: middle;\n",
       "    }\n",
       "\n",
       "    .dataframe tbody tr th {\n",
       "        vertical-align: top;\n",
       "    }\n",
       "\n",
       "    .dataframe thead th {\n",
       "        text-align: right;\n",
       "    }\n",
       "</style>\n",
       "<table border=\"1\" class=\"dataframe\">\n",
       "  <thead>\n",
       "    <tr style=\"text-align: right;\">\n",
       "      <th></th>\n",
       "      <th>ref_pos</th>\n",
       "      <th>ref_kmer</th>\n",
       "      <th>n_events</th>\n",
       "      <th>NNNNN_events</th>\n",
       "      <th>mismatching_events</th>\n",
       "      <th>mean</th>\n",
       "      <th>std</th>\n",
       "      <th>median</th>\n",
       "      <th>mad</th>\n",
       "      <th>n_signals</th>\n",
       "    </tr>\n",
       "  </thead>\n",
       "  <tbody>\n",
       "    <tr>\n",
       "      <th>0</th>\n",
       "      <td>3232</td>\n",
       "      <td>CCCCA</td>\n",
       "      <td>1</td>\n",
       "      <td>0</td>\n",
       "      <td>0</td>\n",
       "      <td>67.217834</td>\n",
       "      <td>1.898893</td>\n",
       "      <td>67.199554</td>\n",
       "      <td>1.097202</td>\n",
       "      <td>16</td>\n",
       "    </tr>\n",
       "    <tr>\n",
       "      <th>1</th>\n",
       "      <td>3233</td>\n",
       "      <td>CCCAA</td>\n",
       "      <td>1</td>\n",
       "      <td>0</td>\n",
       "      <td>0</td>\n",
       "      <td>80.539490</td>\n",
       "      <td>2.236158</td>\n",
       "      <td>81.170349</td>\n",
       "      <td>1.901798</td>\n",
       "      <td>16</td>\n",
       "    </tr>\n",
       "    <tr>\n",
       "      <th>...</th>\n",
       "      <td>...</td>\n",
       "      <td>...</td>\n",
       "      <td>...</td>\n",
       "      <td>...</td>\n",
       "      <td>...</td>\n",
       "      <td>...</td>\n",
       "      <td>...</td>\n",
       "      <td>...</td>\n",
       "      <td>...</td>\n",
       "      <td>...</td>\n",
       "    </tr>\n",
       "    <tr>\n",
       "      <th>321</th>\n",
       "      <td>3574</td>\n",
       "      <td>CACCT</td>\n",
       "      <td>6</td>\n",
       "      <td>3</td>\n",
       "      <td>0</td>\n",
       "      <td>90.383423</td>\n",
       "      <td>14.472500</td>\n",
       "      <td>90.167297</td>\n",
       "      <td>14.482895</td>\n",
       "      <td>134</td>\n",
       "    </tr>\n",
       "    <tr>\n",
       "      <th>322</th>\n",
       "      <td>3575</td>\n",
       "      <td>ACCTG</td>\n",
       "      <td>1</td>\n",
       "      <td>0</td>\n",
       "      <td>0</td>\n",
       "      <td>89.301727</td>\n",
       "      <td>3.195853</td>\n",
       "      <td>90.971901</td>\n",
       "      <td>1.243500</td>\n",
       "      <td>12</td>\n",
       "    </tr>\n",
       "  </tbody>\n",
       "</table>\n",
       "<p>323 rows × 10 columns</p>\n",
       "</div>"
      ],
      "text/plain": [
       "     ref_pos ref_kmer  n_events  NNNNN_events  mismatching_events       mean  \\\n",
       "0       3232    CCCCA         1             0                   0  67.217834   \n",
       "1       3233    CCCAA         1             0                   0  80.539490   \n",
       "..       ...      ...       ...           ...                 ...        ...   \n",
       "321     3574    CACCT         6             3                   0  90.383423   \n",
       "322     3575    ACCTG         1             0                   0  89.301727   \n",
       "\n",
       "           std     median        mad  n_signals  \n",
       "0     1.898893  67.199554   1.097202         16  \n",
       "1     2.236158  81.170349   1.901798         16  \n",
       "..         ...        ...        ...        ...  \n",
       "321  14.472500  90.167297  14.482895        134  \n",
       "322   3.195853  90.971901   1.243500         12  \n",
       "\n",
       "[323 rows x 10 columns]"
      ]
     },
     "metadata": {},
     "output_type": "display_data"
    },
    {
     "name": "stdout",
     "output_type": "stream",
     "text": [
      "#6\tYGR192C\n"
     ]
    },
    {
     "data": {
      "text/html": [
       "<div>\n",
       "<style scoped>\n",
       "    .dataframe tbody tr th:only-of-type {\n",
       "        vertical-align: middle;\n",
       "    }\n",
       "\n",
       "    .dataframe tbody tr th {\n",
       "        vertical-align: top;\n",
       "    }\n",
       "\n",
       "    .dataframe thead th {\n",
       "        text-align: right;\n",
       "    }\n",
       "</style>\n",
       "<table border=\"1\" class=\"dataframe\">\n",
       "  <thead>\n",
       "    <tr style=\"text-align: right;\">\n",
       "      <th></th>\n",
       "      <th>ref_pos</th>\n",
       "      <th>ref_kmer</th>\n",
       "      <th>n_events</th>\n",
       "      <th>NNNNN_events</th>\n",
       "      <th>mismatching_events</th>\n",
       "      <th>mean</th>\n",
       "      <th>std</th>\n",
       "      <th>median</th>\n",
       "      <th>mad</th>\n",
       "      <th>n_signals</th>\n",
       "    </tr>\n",
       "  </thead>\n",
       "  <tbody>\n",
       "    <tr>\n",
       "      <th>0</th>\n",
       "      <td>1</td>\n",
       "      <td>TGGTT</td>\n",
       "      <td>1</td>\n",
       "      <td>0</td>\n",
       "      <td>0</td>\n",
       "      <td>121.652458</td>\n",
       "      <td>3.768495</td>\n",
       "      <td>121.652496</td>\n",
       "      <td>2.450497</td>\n",
       "      <td>44</td>\n",
       "    </tr>\n",
       "    <tr>\n",
       "      <th>1</th>\n",
       "      <td>2</td>\n",
       "      <td>GGTTA</td>\n",
       "      <td>1</td>\n",
       "      <td>0</td>\n",
       "      <td>0</td>\n",
       "      <td>107.041557</td>\n",
       "      <td>6.442137</td>\n",
       "      <td>107.959000</td>\n",
       "      <td>6.053001</td>\n",
       "      <td>19</td>\n",
       "    </tr>\n",
       "    <tr>\n",
       "      <th>...</th>\n",
       "      <td>...</td>\n",
       "      <td>...</td>\n",
       "      <td>...</td>\n",
       "      <td>...</td>\n",
       "      <td>...</td>\n",
       "      <td>...</td>\n",
       "      <td>...</td>\n",
       "      <td>...</td>\n",
       "      <td>...</td>\n",
       "      <td>...</td>\n",
       "    </tr>\n",
       "    <tr>\n",
       "      <th>925</th>\n",
       "      <td>987</td>\n",
       "      <td>GCCAA</td>\n",
       "      <td>2</td>\n",
       "      <td>0</td>\n",
       "      <td>0</td>\n",
       "      <td>69.626373</td>\n",
       "      <td>1.819091</td>\n",
       "      <td>69.547104</td>\n",
       "      <td>1.153103</td>\n",
       "      <td>60</td>\n",
       "    </tr>\n",
       "    <tr>\n",
       "      <th>926</th>\n",
       "      <td>988</td>\n",
       "      <td>CCAAG</td>\n",
       "      <td>5</td>\n",
       "      <td>3</td>\n",
       "      <td>0</td>\n",
       "      <td>111.930679</td>\n",
       "      <td>12.997627</td>\n",
       "      <td>112.716003</td>\n",
       "      <td>4.973003</td>\n",
       "      <td>78</td>\n",
       "    </tr>\n",
       "  </tbody>\n",
       "</table>\n",
       "<p>927 rows × 10 columns</p>\n",
       "</div>"
      ],
      "text/plain": [
       "     ref_pos ref_kmer  n_events  NNNNN_events  mismatching_events        mean  \\\n",
       "0          1    TGGTT         1             0                   0  121.652458   \n",
       "1          2    GGTTA         1             0                   0  107.041557   \n",
       "..       ...      ...       ...           ...                 ...         ...   \n",
       "925      987    GCCAA         2             0                   0   69.626373   \n",
       "926      988    CCAAG         5             3                   0  111.930679   \n",
       "\n",
       "           std      median       mad  n_signals  \n",
       "0     3.768495  121.652496  2.450497         44  \n",
       "1     6.442137  107.959000  6.053001         19  \n",
       "..         ...         ...       ...        ...  \n",
       "925   1.819091   69.547104  1.153103         60  \n",
       "926  12.997627  112.716003  4.973003         78  \n",
       "\n",
       "[927 rows x 10 columns]"
      ]
     },
     "metadata": {},
     "output_type": "display_data"
    },
    {
     "name": "stdout",
     "output_type": "stream",
     "text": [
      "#1\tYCR030C\n"
     ]
    },
    {
     "data": {
      "text/html": [
       "<div>\n",
       "<style scoped>\n",
       "    .dataframe tbody tr th:only-of-type {\n",
       "        vertical-align: middle;\n",
       "    }\n",
       "\n",
       "    .dataframe tbody tr th {\n",
       "        vertical-align: top;\n",
       "    }\n",
       "\n",
       "    .dataframe thead th {\n",
       "        text-align: right;\n",
       "    }\n",
       "</style>\n",
       "<table border=\"1\" class=\"dataframe\">\n",
       "  <thead>\n",
       "    <tr style=\"text-align: right;\">\n",
       "      <th></th>\n",
       "      <th>ref_pos</th>\n",
       "      <th>ref_kmer</th>\n",
       "      <th>n_events</th>\n",
       "      <th>NNNNN_events</th>\n",
       "      <th>mismatching_events</th>\n",
       "      <th>mean</th>\n",
       "      <th>std</th>\n",
       "      <th>median</th>\n",
       "      <th>mad</th>\n",
       "      <th>n_signals</th>\n",
       "    </tr>\n",
       "  </thead>\n",
       "  <tbody>\n",
       "    <tr>\n",
       "      <th>0</th>\n",
       "      <td>1578</td>\n",
       "      <td>CCACC</td>\n",
       "      <td>1</td>\n",
       "      <td>0</td>\n",
       "      <td>0</td>\n",
       "      <td>70.063416</td>\n",
       "      <td>2.593738</td>\n",
       "      <td>70.677299</td>\n",
       "      <td>1.468002</td>\n",
       "      <td>11</td>\n",
       "    </tr>\n",
       "    <tr>\n",
       "      <th>1</th>\n",
       "      <td>1579</td>\n",
       "      <td>CACCC</td>\n",
       "      <td>15</td>\n",
       "      <td>0</td>\n",
       "      <td>0</td>\n",
       "      <td>74.594688</td>\n",
       "      <td>3.270260</td>\n",
       "      <td>75.081497</td>\n",
       "      <td>2.495804</td>\n",
       "      <td>294</td>\n",
       "    </tr>\n",
       "    <tr>\n",
       "      <th>...</th>\n",
       "      <td>...</td>\n",
       "      <td>...</td>\n",
       "      <td>...</td>\n",
       "      <td>...</td>\n",
       "      <td>...</td>\n",
       "      <td>...</td>\n",
       "      <td>...</td>\n",
       "      <td>...</td>\n",
       "      <td>...</td>\n",
       "      <td>...</td>\n",
       "    </tr>\n",
       "    <tr>\n",
       "      <th>969</th>\n",
       "      <td>2574</td>\n",
       "      <td>AGAAC</td>\n",
       "      <td>2</td>\n",
       "      <td>0</td>\n",
       "      <td>0</td>\n",
       "      <td>137.112579</td>\n",
       "      <td>5.854877</td>\n",
       "      <td>138.354996</td>\n",
       "      <td>3.083008</td>\n",
       "      <td>43</td>\n",
       "    </tr>\n",
       "    <tr>\n",
       "      <th>970</th>\n",
       "      <td>2575</td>\n",
       "      <td>GAACT</td>\n",
       "      <td>8</td>\n",
       "      <td>4</td>\n",
       "      <td>0</td>\n",
       "      <td>89.164696</td>\n",
       "      <td>10.459612</td>\n",
       "      <td>86.165497</td>\n",
       "      <td>8.441399</td>\n",
       "      <td>128</td>\n",
       "    </tr>\n",
       "  </tbody>\n",
       "</table>\n",
       "<p>971 rows × 10 columns</p>\n",
       "</div>"
      ],
      "text/plain": [
       "     ref_pos ref_kmer  n_events  NNNNN_events  mismatching_events        mean  \\\n",
       "0       1578    CCACC         1             0                   0   70.063416   \n",
       "1       1579    CACCC        15             0                   0   74.594688   \n",
       "..       ...      ...       ...           ...                 ...         ...   \n",
       "969     2574    AGAAC         2             0                   0  137.112579   \n",
       "970     2575    GAACT         8             4                   0   89.164696   \n",
       "\n",
       "           std      median       mad  n_signals  \n",
       "0     2.593738   70.677299  1.468002         11  \n",
       "1     3.270260   75.081497  2.495804        294  \n",
       "..         ...         ...       ...        ...  \n",
       "969   5.854877  138.354996  3.083008         43  \n",
       "970  10.459612   86.165497  8.441399        128  \n",
       "\n",
       "[971 rows x 10 columns]"
      ]
     },
     "metadata": {},
     "output_type": "display_data"
    },
    {
     "name": "stdout",
     "output_type": "stream",
     "text": [
      "#7\tYGR192C\n"
     ]
    },
    {
     "data": {
      "text/html": [
       "<div>\n",
       "<style scoped>\n",
       "    .dataframe tbody tr th:only-of-type {\n",
       "        vertical-align: middle;\n",
       "    }\n",
       "\n",
       "    .dataframe tbody tr th {\n",
       "        vertical-align: top;\n",
       "    }\n",
       "\n",
       "    .dataframe thead th {\n",
       "        text-align: right;\n",
       "    }\n",
       "</style>\n",
       "<table border=\"1\" class=\"dataframe\">\n",
       "  <thead>\n",
       "    <tr style=\"text-align: right;\">\n",
       "      <th></th>\n",
       "      <th>ref_pos</th>\n",
       "      <th>ref_kmer</th>\n",
       "      <th>n_events</th>\n",
       "      <th>NNNNN_events</th>\n",
       "      <th>mismatching_events</th>\n",
       "      <th>mean</th>\n",
       "      <th>std</th>\n",
       "      <th>median</th>\n",
       "      <th>mad</th>\n",
       "      <th>n_signals</th>\n",
       "    </tr>\n",
       "  </thead>\n",
       "  <tbody>\n",
       "    <tr>\n",
       "      <th>0</th>\n",
       "      <td>3</td>\n",
       "      <td>GTTAG</td>\n",
       "      <td>1</td>\n",
       "      <td>0</td>\n",
       "      <td>0</td>\n",
       "      <td>82.788704</td>\n",
       "      <td>2.058451</td>\n",
       "      <td>83.222099</td>\n",
       "      <td>1.155602</td>\n",
       "      <td>17</td>\n",
       "    </tr>\n",
       "    <tr>\n",
       "      <th>1</th>\n",
       "      <td>4</td>\n",
       "      <td>TTAGA</td>\n",
       "      <td>1</td>\n",
       "      <td>0</td>\n",
       "      <td>0</td>\n",
       "      <td>100.523682</td>\n",
       "      <td>3.785173</td>\n",
       "      <td>99.689751</td>\n",
       "      <td>1.661201</td>\n",
       "      <td>22</td>\n",
       "    </tr>\n",
       "    <tr>\n",
       "      <th>...</th>\n",
       "      <td>...</td>\n",
       "      <td>...</td>\n",
       "      <td>...</td>\n",
       "      <td>...</td>\n",
       "      <td>...</td>\n",
       "      <td>...</td>\n",
       "      <td>...</td>\n",
       "      <td>...</td>\n",
       "      <td>...</td>\n",
       "      <td>...</td>\n",
       "    </tr>\n",
       "    <tr>\n",
       "      <th>944</th>\n",
       "      <td>989</td>\n",
       "      <td>CAAGG</td>\n",
       "      <td>7</td>\n",
       "      <td>1</td>\n",
       "      <td>0</td>\n",
       "      <td>102.884529</td>\n",
       "      <td>6.507542</td>\n",
       "      <td>101.422997</td>\n",
       "      <td>3.466698</td>\n",
       "      <td>172</td>\n",
       "    </tr>\n",
       "    <tr>\n",
       "      <th>945</th>\n",
       "      <td>994</td>\n",
       "      <td>CTTAA</td>\n",
       "      <td>1</td>\n",
       "      <td>0</td>\n",
       "      <td>0</td>\n",
       "      <td>98.905594</td>\n",
       "      <td>9.529233</td>\n",
       "      <td>94.200500</td>\n",
       "      <td>6.211502</td>\n",
       "      <td>7</td>\n",
       "    </tr>\n",
       "  </tbody>\n",
       "</table>\n",
       "<p>946 rows × 10 columns</p>\n",
       "</div>"
      ],
      "text/plain": [
       "     ref_pos ref_kmer  n_events  NNNNN_events  mismatching_events        mean  \\\n",
       "0          3    GTTAG         1             0                   0   82.788704   \n",
       "1          4    TTAGA         1             0                   0  100.523682   \n",
       "..       ...      ...       ...           ...                 ...         ...   \n",
       "944      989    CAAGG         7             1                   0  102.884529   \n",
       "945      994    CTTAA         1             0                   0   98.905594   \n",
       "\n",
       "          std      median       mad  n_signals  \n",
       "0    2.058451   83.222099  1.155602         17  \n",
       "1    3.785173   99.689751  1.661201         22  \n",
       "..        ...         ...       ...        ...  \n",
       "944  6.507542  101.422997  3.466698        172  \n",
       "945  9.529233   94.200500  6.211502          7  \n",
       "\n",
       "[946 rows x 10 columns]"
      ]
     },
     "metadata": {},
     "output_type": "display_data"
    }
   ],
   "source": [
    "output_fn = \"./output/collapsed_nanopolish_samples.tsv\"\n",
    "index_fn = \"./output/collapsed_nanopolish_samples.tsv.idx\"\n",
    "\n",
    "# Import the index in a pandas dataframe (because it is simple)\n",
    "import pandas as pd \n",
    "index_df = pd.read_table (index_fn)\n",
    "\n",
    "# Select random lines\n",
    "random_lines = index_df.sample(5)\n",
    "print (\"Random index lines\")\n",
    "display (random_lines)\n",
    "\n",
    "# Open the collapsed event align file\n",
    "with open (output_fn) as fp:\n",
    "    for id, read in random_lines.iterrows():\n",
    "        \n",
    "        # Access the header corresponding to the randomly selected index line using seek \n",
    "        fp.seek(0) # Return to file start\n",
    "        fp.seek(read.byte_offset) # Move tho the offset indicated in the index file\n",
    "        print (fp.readline().rstrip()) # Print read header\n",
    "        df = pd.read_table (fp, nrows=read.kmers) # Read lines corresponding to the read\n",
    "        with pd.option_context(\"display.max_rows\",4): # display first and last lines\n",
    "            display(df)"
   ]
  }
 ],
 "metadata": {
  "celltoolbar": "Initialization Cell",
  "hide_input": false,
  "kernelspec": {
   "display_name": "Python3.6",
   "language": "python",
   "name": "python3.6"
  },
  "language_info": {
   "codemirror_mode": {
    "name": "ipython",
    "version": 3
   },
   "file_extension": ".py",
   "mimetype": "text/x-python",
   "name": "python",
   "nbconvert_exporter": "python",
   "pygments_lexer": "ipython3",
   "version": "3.6.6"
  }
 },
 "nbformat": 4,
 "nbformat_minor": 2
}
