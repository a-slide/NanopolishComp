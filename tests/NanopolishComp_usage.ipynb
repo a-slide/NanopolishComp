{
 "cells": [
  {
   "cell_type": "markdown",
   "metadata": {
    "ExecuteTime": {
     "end_time": "2018-08-10T10:03:00.595966Z",
     "start_time": "2018-08-10T10:03:00.587806Z"
    }
   },
   "source": [
    "# Eventalign_collapse usage"
   ]
  },
  {
   "cell_type": "markdown",
   "metadata": {},
   "source": [
    "## Bash command line usage"
   ]
  },
  {
   "cell_type": "markdown",
   "metadata": {
    "ExecuteTime": {
     "end_time": "2018-08-10T17:02:13.860121Z",
     "start_time": "2018-08-10T17:02:13.847128Z"
    }
   },
   "source": [
    "#### From an existing nanopolish eventalign output to a file"
   ]
  },
  {
   "cell_type": "code",
   "execution_count": 1,
   "metadata": {
    "ExecuteTime": {
     "end_time": "2018-11-19T17:13:09.541268Z",
     "start_time": "2018-11-19T17:13:08.589629Z"
    },
    "init_cell": true,
    "scrolled": true
   },
   "outputs": [
    {
     "name": "stdout",
     "output_type": "stream",
     "text": [
      "#0\tYGR240C\n",
      "ref_pos\tref_kmer\tn_events\tNNNNN_events\tmismatching_events\n",
      "1656\tGAAAA\t1\t0\t0\n",
      "1657\tAAAAC\t1\t0\t0\n",
      "1658\tAAACA\t1\t0\t0\n",
      "1659\tAACAA\t1\t0\t0\n",
      "1660\tACAAA\t1\t0\t0\n",
      "1661\tCAAAG\t1\t0\t0\n",
      "1662\tAAAGA\t1\t0\t0\n",
      "1663\tAAGAT\t1\t0\t0\n",
      "ref_id\tref_start\tref_end\tread_id\tkmers\tNNNNN_kmers\tmismatching_kmers\tmissing_kmers\tbyte_offset\tbyte_len\n",
      "YGR240C\t1656\t2960\t0\t1250\t35\t0\t54\t0\t21325\n",
      "YCR030C\t1578\t2576\t1\t971\t23\t0\t27\t21326\t16579\n",
      "YHR174W\t0\t839\t2\t825\t15\t0\t14\t37906\t13169\n",
      "YHR174W\t218\t1309\t3\t1028\t36\t0\t63\t51076\t16818\n",
      "YHR174W\t462\t1309\t4\t818\t18\t0\t29\t67895\t13465\n",
      "YLR441C\t173\t764\t5\t554\t20\t0\t37\t81361\t8932\n",
      "YGR192C\t3\t995\t7\t946\t31\t0\t50\t90294\t15115\n",
      "YGR192C\t1\t989\t6\t927\t37\t0\t61\t105410\t14810\n",
      "YDR500C\t9\t252\t8\t231\t7\t0\t14\t120221\t3679\n"
     ]
    },
    {
     "name": "stderr",
     "output_type": "stream",
     "text": [
      "[Eventalign_collapse] total reads: 21 [188.82 reads/s]\n"
     ]
    }
   ],
   "source": [
    "%%bash\n",
    "source ~/.bashrc && workon Nanopolish_0.10.1\n",
    "\n",
    "NanopolishComp Eventalign_collapse -i ./data/nanopolish_reads.tsv -o ./output/nanopolish_collapsed_reads.tsv\n",
    "head ./output/nanopolish_collapsed_reads.tsv\n",
    "head ./output/nanopolish_collapsed_reads.tsv.idx"
   ]
  },
  {
   "cell_type": "markdown",
   "metadata": {},
   "source": [
    "#### From standard input to a file"
   ]
  },
  {
   "cell_type": "code",
   "execution_count": 2,
   "metadata": {
    "ExecuteTime": {
     "end_time": "2018-11-19T17:13:10.434118Z",
     "start_time": "2018-11-19T17:13:09.544829Z"
    },
    "init_cell": true
   },
   "outputs": [
    {
     "name": "stdout",
     "output_type": "stream",
     "text": [
      "#0\tYGR240C\n",
      "ref_pos\tref_kmer\tn_events\tNNNNN_events\tmismatching_events\tstart_idx\tend_idx\n",
      "1656\tGAAAA\t1\t0\t0\t63446\t63454\n",
      "1657\tAAAAC\t1\t0\t0\t63423\t63446\n",
      "1658\tAAACA\t1\t0\t0\t63411\t63423\n",
      "1659\tAACAA\t1\t0\t0\t63398\t63411\n",
      "1660\tACAAA\t1\t0\t0\t63383\t63398\n",
      "1661\tCAAAG\t1\t0\t0\t63366\t63383\n",
      "1662\tAAAGA\t1\t0\t0\t63337\t63366\n",
      "1663\tAAGAT\t1\t0\t0\t63328\t63337\n",
      "ref_id\tref_start\tref_end\tread_id\tkmers\tNNNNN_kmers\tmismatching_kmers\tmissing_kmers\tbyte_offset\tbyte_len\n",
      "YGR240C\t1656\t2960\t0\t1250\t35\t0\t54\t0\t36343\n",
      "YCR030C\t1578\t2576\t1\t971\t23\t0\t27\t36344\t28249\n",
      "YHR174W\t0\t839\t2\t825\t15\t0\t14\t64594\t22533\n",
      "YHR174W\t218\t1309\t3\t1028\t36\t0\t63\t87128\t29172\n",
      "YHR174W\t462\t1309\t4\t818\t18\t0\t29\t116301\t23299\n",
      "YLR441C\t173\t764\t5\t554\t20\t0\t37\t139601\t15598\n",
      "YGR192C\t1\t989\t6\t927\t37\t0\t61\t155200\t25951\n",
      "YDR500C\t9\t252\t8\t231\t7\t0\t14\t181152\t6469\n",
      "YDR224C\t0\t389\t9\t376\t8\t0\t13\t187622\t10513\n"
     ]
    },
    {
     "name": "stderr",
     "output_type": "stream",
     "text": [
      "Collapse file by read_id/ref_id\n",
      "\r",
      "0 reads [00:00, ? reads/s]\r",
      "15 reads [00:00, 144.37 reads/s]\r",
      "21 reads [00:00, 166.74 reads/s]\n",
      "[Eventalign_collapse] total reads: 21 [162.97 reads/s]\n"
     ]
    }
   ],
   "source": [
    "%%bash\n",
    "source ~/.bashrc && workon Nanopolish_0.10.1\n",
    "\n",
    "cat ./data/nanopolish_reads_index.tsv | NanopolishComp Eventalign_collapse -o ./output/nanopolish_collapsed_reads.tsv --verbose\n",
    "head ./output/nanopolish_collapsed_reads.tsv\n",
    "head ./output/nanopolish_collapsed_reads.tsv.idx"
   ]
  },
  {
   "cell_type": "markdown",
   "metadata": {},
   "source": [
    "#### On the fly, from nanopolish eventalign to a file"
   ]
  },
  {
   "cell_type": "code",
   "execution_count": 3,
   "metadata": {
    "ExecuteTime": {
     "end_time": "2018-11-19T17:13:12.511768Z",
     "start_time": "2018-11-19T17:13:10.441312Z"
    },
    "init_cell": true,
    "scrolled": true
   },
   "outputs": [
    {
     "name": "stdout",
     "output_type": "stream",
     "text": [
      "#3784283c-47cc-48ac-8d7b-7efd32123b56\tYHR174W\n",
      "ref_pos\tref_kmer\tn_events\tNNNNN_events\tmismatching_events\tmean\tmedian\tn_signals\n",
      "0\tATGGC\t1\t0\t0\t86.389305\t85.6797\t33\n",
      "1\tTGGCT\t4\t0\t0\t104.781815\t106.189\t98\n",
      "2\tGGCTG\t1\t0\t0\t96.557655\t97.75245\t14\n",
      "3\tGCTGT\t5\t0\t0\t81.69343\t80.2978\t116\n",
      "4\tCTGTC\t1\t0\t0\t102.44871\t103.571\t7\n",
      "5\tTGTCT\t4\t0\t0\t107.04158\t107.6435\t58\n",
      "6\tGTCTC\t2\t0\t0\t76.83719\t76.8796\t24\n",
      "7\tTCTCT\t1\t0\t0\t80.04846\t80.0069\t7\n",
      "ref_id\tref_start\tref_end\tread_id\tkmers\tNNNNN_kmers\tmismatching_kmers\tmissing_kmers\tbyte_offset\tbyte_len\n",
      "YHR174W\t0\t839\t3784283c-47cc-48ac-8d7b-7efd32123b56\t825\t15\t0\t14\t0\t30319\n",
      "YHR174W\t218\t1309\t3e81c32a-f2ee-4719-a88d-e0affe93d26f\t1028\t36\t0\t63\t30320\t37948\n",
      "YGR240C\t1656\t2960\t97205d42-93ac-4c99-af78-e553f7d1ff83\t1250\t35\t0\t54\t68269\t47238\n",
      "YCR030C\t1578\t2576\t9a1c5296-2ab1-4abd-8d50-e059754cf332\t971\t23\t0\t27\t115508\t36782\n",
      "YLR441C\t173\t764\t6af04302-04c8-4d8d-8e87-aa69178b3f24\t554\t20\t0\t37\t152291\t20554\n",
      "YHR174W\t462\t1309\t0ef36fa0-7c3f-47f5-8410-027f50724701\t818\t18\t0\t29\t172846\t30619\n",
      "YGR192C\t1\t989\t4e21bf07-e2df-42d8-b347-59ef2c0618ea\t927\t37\t0\t61\t203466\t34026\n",
      "YDR500C\t9\t252\te6a8e4d0-7b3c-471a-be26-fa7857d12663\t231\t7\t0\t14\t237493\t8512\n",
      "YDR224C\t0\t389\tf8325de9-a77e-4616-a4a8-69ecf32e1688\t376\t8\t0\t13\t246006\t13832\n"
     ]
    },
    {
     "name": "stderr",
     "output_type": "stream",
     "text": [
      "[post-run summary] total reads: 21, unparseable: 0, qc fail: 0, could not calibrate: 0, no alignment: 0, bad fast5: 0\n",
      "[Eventalign_collapse] total reads: 21 [16.79 reads/s]\n"
     ]
    }
   ],
   "source": [
    "%%bash\n",
    "source ~/.bashrc && workon Nanopolish_0.10.1\n",
    "\n",
    "nanopolish eventalign -t 4 --samples --scale-events --print-read-name --reads ./data/reads.fastq --bam ./data/aligned_reads.bam --genome ./data/reference.fa | NanopolishComp Eventalign_collapse  -o ./output/nanopolish_collapsed_reads.tsv\n",
    "head ./output/nanopolish_collapsed_reads.tsv\n",
    "head ./output/nanopolish_collapsed_reads.tsv.idx"
   ]
  },
  {
   "cell_type": "markdown",
   "metadata": {},
   "source": [
    "## Python API usage"
   ]
  },
  {
   "cell_type": "markdown",
   "metadata": {},
   "source": [
    "#### Import the package"
   ]
  },
  {
   "cell_type": "code",
   "execution_count": 4,
   "metadata": {
    "ExecuteTime": {
     "end_time": "2018-11-19T17:13:12.674125Z",
     "start_time": "2018-11-19T17:13:12.514646Z"
    },
    "init_cell": true
   },
   "outputs": [],
   "source": [
    "from NanopolishComp.Eventalign_collapse import Eventalign_collapse"
   ]
  },
  {
   "cell_type": "markdown",
   "metadata": {},
   "source": [
    "#### Example with minimal file"
   ]
  },
  {
   "cell_type": "code",
   "execution_count": 5,
   "metadata": {
    "ExecuteTime": {
     "end_time": "2018-11-19T17:13:13.111469Z",
     "start_time": "2018-11-19T17:13:12.681040Z"
    },
    "init_cell": true,
    "scrolled": true
   },
   "outputs": [
    {
     "name": "stderr",
     "output_type": "stream",
     "text": [
      "Collapse file by read_id/ref_id\n",
      "21 reads [00:00, 121.69 reads/s]\n",
      "[Eventalign_collapse] total reads: 21 [118.71 reads/s]\n"
     ]
    },
    {
     "name": "stdout",
     "output_type": "stream",
     "text": [
      "Collapsed eventalign file\n",
      "#0\tYGR240C\n",
      "ref_pos\tref_kmer\tn_events\tNNNNN_events\tmismatching_events\n",
      "1656\tGAAAA\t1\t0\t0\n",
      "1657\tAAAAC\t1\t0\t0\n",
      "1658\tAAACA\t1\t0\t0\n",
      "1659\tAACAA\t1\t0\t0\n",
      "1660\tACAAA\t1\t0\t0\n",
      "1661\tCAAAG\t1\t0\t0\n",
      "1662\tAAAGA\t1\t0\t0\n",
      "1663\tAAGAT\t1\t0\t0\n",
      "Index file\n",
      "ref_id\tref_start\tref_end\tread_id\tkmers\tNNNNN_kmers\tmismatching_kmers\tmissing_kmers\tbyte_offset\tbyte_len\n",
      "YGR240C\t1656\t2960\t0\t1250\t35\t0\t54\t0\t21325\n",
      "YCR030C\t1578\t2576\t1\t971\t23\t0\t27\t21326\t16579\n",
      "YHR174W\t0\t839\t2\t825\t15\t0\t14\t37906\t13169\n",
      "YHR174W\t462\t1309\t4\t818\t18\t0\t29\t51076\t13465\n",
      "YHR174W\t218\t1309\t3\t1028\t36\t0\t63\t64542\t16818\n",
      "YLR441C\t173\t764\t5\t554\t20\t0\t37\t81361\t8932\n",
      "YGR192C\t1\t989\t6\t927\t37\t0\t61\t90294\t14810\n",
      "YDR500C\t9\t252\t8\t231\t7\t0\t14\t105105\t3679\n",
      "YGR192C\t3\t995\t7\t946\t31\t0\t50\t108785\t15115\n"
     ]
    }
   ],
   "source": [
    "input_fn = \"./data/nanopolish_reads.tsv\"\n",
    "output_fn = \"./output/collapsed_nanopolish.tsv\"\n",
    "index_fn = \"./output/collapsed_nanopolish.tsv.idx\"\n",
    "\n",
    "Eventalign_collapse (input_fn=input_fn, output_fn=output_fn, threads=6, verbose=True)\n",
    "\n",
    "print (\"Collapsed eventalign file\")\n",
    "! head {output_fn} -n 10\n",
    "\n",
    "print (\"Index file\")\n",
    "! head {index_fn} -n 10"
   ]
  },
  {
   "cell_type": "markdown",
   "metadata": {},
   "source": [
    "#### Example with indexes"
   ]
  },
  {
   "cell_type": "code",
   "execution_count": 6,
   "metadata": {
    "ExecuteTime": {
     "end_time": "2018-11-19T17:13:13.613876Z",
     "start_time": "2018-11-19T17:13:13.117438Z"
    },
    "init_cell": true
   },
   "outputs": [
    {
     "name": "stderr",
     "output_type": "stream",
     "text": [
      "Collapse file by read_id/ref_id\n",
      "21 reads [00:00, 118.27 reads/s]\n",
      "[Eventalign_collapse] total reads: 21 [106.86 reads/s]\n"
     ]
    },
    {
     "name": "stdout",
     "output_type": "stream",
     "text": [
      "\n",
      "Collapsed eventalign file\n",
      "#0\tYGR240C\n",
      "ref_pos\tref_kmer\tn_events\tNNNNN_events\tmismatching_events\tstart_idx\tend_idx\n",
      "1656\tGAAAA\t1\t0\t0\t63446\t63454\n",
      "1657\tAAAAC\t1\t0\t0\t63423\t63446\n",
      "1658\tAAACA\t1\t0\t0\t63411\t63423\n",
      "1659\tAACAA\t1\t0\t0\t63398\t63411\n",
      "1660\tACAAA\t1\t0\t0\t63383\t63398\n",
      "1661\tCAAAG\t1\t0\t0\t63366\t63383\n",
      "1662\tAAAGA\t1\t0\t0\t63337\t63366\n",
      "1663\tAAGAT\t1\t0\t0\t63328\t63337\n",
      "\n",
      "Index file\n",
      "ref_id\tref_start\tref_end\tread_id\tkmers\tNNNNN_kmers\tmismatching_kmers\tmissing_kmers\tbyte_offset\tbyte_len\n",
      "YGR240C\t1656\t2960\t0\t1250\t35\t0\t54\t0\t36343\n",
      "YCR030C\t1578\t2576\t1\t971\t23\t0\t27\t36344\t28249\n",
      "YHR174W\t0\t839\t2\t825\t15\t0\t14\t64594\t22533\n",
      "YHR174W\t218\t1309\t3\t1028\t36\t0\t63\t87128\t29172\n",
      "YHR174W\t462\t1309\t4\t818\t18\t0\t29\t116301\t23299\n",
      "YLR441C\t173\t764\t5\t554\t20\t0\t37\t139601\t15598\n",
      "YGR192C\t1\t989\t6\t927\t37\t0\t61\t155200\t25951\n",
      "YDR500C\t9\t252\t8\t231\t7\t0\t14\t181152\t6469\n",
      "YGR192C\t3\t995\t7\t946\t31\t0\t50\t187622\t26485\n"
     ]
    }
   ],
   "source": [
    "input_fn = \"./data/nanopolish_reads_index.tsv\"\n",
    "output_fn = \"./output/collapsed_nanopolish_index.tsv\"\n",
    "index_fn = \"./output/collapsed_nanopolish_index.tsv.idx\"\n",
    "\n",
    "Eventalign_collapse (input_fn=input_fn, output_fn=output_fn, verbose=True, threads=6)\n",
    "\n",
    "print (\"\\nCollapsed eventalign file\")\n",
    "! head {output_fn} -n 10\n",
    "\n",
    "print (\"\\nIndex file\")\n",
    "! head {index_fn} -n 10"
   ]
  },
  {
   "cell_type": "markdown",
   "metadata": {},
   "source": [
    "#### Example including samples"
   ]
  },
  {
   "cell_type": "code",
   "execution_count": 7,
   "metadata": {
    "ExecuteTime": {
     "end_time": "2018-11-19T17:13:15.318815Z",
     "start_time": "2018-11-19T17:13:13.622282Z"
    },
    "init_cell": true,
    "scrolled": false
   },
   "outputs": [
    {
     "name": "stderr",
     "output_type": "stream",
     "text": [
      "Collapse file by read_id/ref_id\n",
      "21 reads [00:01, 15.44 reads/s]\n",
      "[Eventalign_collapse] total reads: 21 [15.12 reads/s]\n"
     ]
    },
    {
     "name": "stdout",
     "output_type": "stream",
     "text": [
      "\n",
      "Collapsed eventalign file\n",
      "#1\tYCR030C\n",
      "ref_pos\tref_kmer\tn_events\tNNNNN_events\tmismatching_events\tmean\tstd\tmedian\tmad\tn_signals\n",
      "1578\tCCACC\t1\t0\t0\t70.063416\t2.5937378\t70.6773\t1.4680023\t11\n",
      "1579\tCACCC\t15\t0\t0\t74.59469\t3.2702603\t75.0815\t2.4958038\t294\n",
      "1580\tACCCT\t1\t0\t0\t67.237854\t1.7063779\t67.888\t2.2021027\t7\n",
      "1581\tCCCTC\t1\t0\t0\t72.0615\t1.1475614\t72.5858\t1.0277023\t7\n",
      "1582\tCCTCA\t5\t0\t0\t73.5635\t2.3691814\t73.7603\t1.6148987\t47\n",
      "1583\tCTCAA\t1\t0\t0\t77.589485\t1.5072672\t78.164505\t0.73399353\t12\n",
      "1584\tTCAAG\t1\t0\t0\t83.52072\t3.1505558\t84.0368\t2.3488998\t33\n",
      "1585\tCAAGG\t1\t0\t0\t105.23971\t3.6324797\t104.296\t1.762001\t7\n",
      "\n",
      "Index file\n",
      "ref_id\tref_start\tref_end\tread_id\tkmers\tNNNNN_kmers\tmismatching_kmers\tmissing_kmers\tbyte_offset\tbyte_len\n",
      "YCR030C\t1578\t2576\t1\t971\t23\t0\t27\t0\t55739\n",
      "YHR174W\t0\t839\t2\t825\t15\t0\t14\t55740\t46331\n",
      "YHR174W\t218\t1309\t3\t1028\t36\t0\t63\t102072\t57924\n",
      "YGR240C\t1656\t2960\t0\t1250\t35\t0\t54\t159997\t71640\n",
      "YLR441C\t173\t764\t5\t554\t20\t0\t37\t231638\t31362\n",
      "YHR174W\t462\t1309\t4\t818\t18\t0\t29\t263001\t46483\n",
      "YDR500C\t9\t252\t8\t231\t7\t0\t14\t309485\t12991\n",
      "YGR192C\t1\t989\t6\t927\t37\t0\t61\t322477\t52066\n",
      "YDR224C\t0\t389\t9\t376\t8\t0\t13\t374544\t21162\n"
     ]
    }
   ],
   "source": [
    "input_fn = \"./data/nanopolish_reads_samples.tsv\"\n",
    "output_fn = \"./output/collapsed_nanopolish_samples.tsv\"\n",
    "index_fn = \"./output/collapsed_nanopolish_samples.tsv.idx\"\n",
    "\n",
    "Eventalign_collapse (input_fn=input_fn, output_fn=output_fn, verbose=True, threads=6, stat_fields=[\"mean\", \"std\", \"median\", \"mad\", \"n_signals\"])\n",
    "\n",
    "print (\"\\nCollapsed eventalign file\")\n",
    "! head {output_fn} -n 10\n",
    "\n",
    "print (\"\\nIndex file\")\n",
    "! head {index_fn} -n 10"
   ]
  },
  {
   "cell_type": "markdown",
   "metadata": {},
   "source": [
    "#### Example including samples and writing samples values in ouput file"
   ]
  },
  {
   "cell_type": "code",
   "execution_count": 8,
   "metadata": {
    "ExecuteTime": {
     "end_time": "2018-11-19T17:13:16.369472Z",
     "start_time": "2018-11-19T17:13:15.325373Z"
    },
    "init_cell": true,
    "scrolled": false
   },
   "outputs": [
    {
     "name": "stderr",
     "output_type": "stream",
     "text": [
      "Collapse file by read_id/ref_id\n",
      "21 reads [00:00,  6.20 reads/s]\n",
      "[Eventalign_collapse] total reads: 21 [28.92 reads/s]\n"
     ]
    },
    {
     "name": "stdout",
     "output_type": "stream",
     "text": [
      "\n",
      "Collapsed eventalign file\n",
      "#1\tYCR030C\n",
      "ref_pos\tref_kmer\tn_events\tNNNNN_events\tmismatching_events\tmean\tmedian\tn_signals\tsamples\n",
      "1578\tCCACC\t1\t0\t0\t70.063416\t70.6773\t11\t70.6773,72.1454,71.4114,63.6306,69.2093,69.2093,67.3008,72.5858,69.9433,72.8794,71.705\n",
      "1579\tCACCC\t15\t0\t0\t74.59469\t75.0815\t294\t75.0815,75.8156,79.6326,78.0177,75.3752,77.2837,78.0177,72.2922,76.99,74.7879,75.3752,75.522,75.6688,73.3199,74.9347,77.5773,73.7603,74.3475,72.7326,75.522,77.2837,75.2284,76.6964,78.4581,78.4581,79.7794,76.5496,76.8432,70.2369,70.2369,81.1006,77.8709,74.9347,72.439,75.8156,77.5773,75.9624,77.4305,76.1092,77.2837,64.5114,74.4943,78.4581,77.4305,76.8432,75.0815,76.1092,78.3113,76.5496,75.6688,76.5496,77.4305,78.6049,76.4028,75.8156,77.1368,71.8518,76.4028,75.8156,75.9624,74.9347,78.3113,72.2922,75.6688,75.0815,75.522,75.9624,70.6773,69.9433,69.2093,68.3284,69.3561,69.2093,69.7965,67.888,68.9157,68.622,69.0625,69.7965,73.173,76.1092,74.7879,75.2284,78.3113,76.256,78.3113,77.7241,72.7326,73.6135,78.6049,75.522,75.8156,74.0539,67.3008,72.439,72.2922,67.0072,74.6411,76.1092,75.8156,73.3199,77.2837,70.3837,73.4667,74.7879,76.6964,79.1921,73.3199,76.6964,76.4028,71.1178,76.1092,79.7794,77.7241,77.1368,74.3475,78.6049,78.8985,77.2837,77.7241,70.0901,79.0453,76.1092,73.6135,78.1645,79.0453,75.8156,79.3389,79.0453,77.1368,78.1645,78.3113,77.8709,79.4858,75.8156,76.4028,77.2837,77.4305,79.6326,77.4305,81.8347,76.5496,76.5496,78.8985,74.7879,77.2837,80.2198,75.6688,78.1645,76.99,79.3389,79.0453,71.5582,78.6049,79.7794,78.3113,78.1645,75.3752,76.8432,80.073,78.3113,80.2198,80.073,80.9538,77.5773,77.8709,75.6688,80.807,77.8709,78.0177,79.3389,80.2198,80.2198,76.1092,77.8709,76.5496,76.6964,77.8709,77.1368,75.9624,76.99,72.2922,71.8518,73.9071,68.9157,70.0901,71.8518,75.3752,73.9071,72.1454,73.6135,74.4943,73.173,75.9624,75.0815,74.6411,75.0815,75.2284,74.4943,75.522,76.6964,72.7326,73.7603,74.9347,75.522,74.0539,71.2646,70.3837,72.439,75.522,75.9624,71.705,72.2922,70.8241,71.1178,70.971,74.7879,75.6688,74.6411,72.1454,73.0262,71.4114,73.9071,74.2007,75.0815,74.4943,72.1454,72.8794,72.1454,69.6497,71.5582,72.439,70.6773,69.7965,68.4752,68.7689,73.6135,73.7603,72.2922,71.4114,69.2093,70.2369,73.3199,72.439,71.5582,67.4476,72.8794,72.2922,72.5858,72.439,73.9071,69.6497,72.2922,73.6135,74.4943,73.0262,70.0901,72.439,71.8518,72.1454,71.9986,70.2369,74.0539,70.971,72.1454,71.2646,71.8518,71.1178,71.5582,70.971,69.2093,70.8241,71.4114,71.2646,72.1454,70.5305,69.6497,70.6773,69.9433,72.8794,67.5944,66.7135,70.5305,69.7965,68.622,73.4667,73.7603,76.1092,77.1368,74.3475,75.8156,74.7879,76.8432,75.8156\n",
      "1580\tACCCT\t1\t0\t0\t67.237854\t67.888\t7\t64.9519,65.6859,67.888,68.1816,68.1816,65.6859,70.0901\n",
      "1581\tCCCTC\t1\t0\t0\t72.0615\t72.5858\t7\t70.3837,72.5858,70.6773,71.4114,73.0262,73.6135,72.7326\n",
      "1582\tCCTCA\t5\t0\t0\t73.5635\t73.7603\t47\t75.522,77.8709,75.2284,74.3475,75.9624,76.6964,72.1454,71.1178,71.1178,72.439,76.256,74.0539,73.0262,73.4667,70.6773,71.5582,69.7965,71.1178,68.3284,70.6773,73.6135,69.6497,67.4476,73.7603,74.3475,72.8794,74.0539,73.3199,74.4943,75.522,72.8794,72.5858,71.2646,73.4667,74.3475,74.4943,74.9347,71.9986,72.2922,76.8432,74.9347,76.5496,75.6688,75.2284,75.0815,76.6964,77.7241\n",
      "1583\tCTCAA\t1\t0\t0\t77.589485\t78.164505\t12\t74.3475,75.0815,78.3113,78.8985,77.8709,78.3113,76.4028,78.0177,77.1368,78.3113,78.8985,79.4858\n",
      "1584\tTCAAG\t1\t0\t0\t83.52072\t84.0368\t33\t88.441,79.9262,81.6879,81.9815,85.0644,86.9729,84.624,81.1006,76.99,79.0453,79.9262,84.0368,92.1112,83.0091,84.1836,80.807,84.0368,85.7985,87.2665,85.6516,83.0091,87.7069,81.2474,84.0368,79.1921,79.6326,87.2665,83.4495,84.0368,83.7432,80.807,84.624,84.7708\n",
      "1585\tCAAGG\t1\t0\t0\t105.23971\t104.296\t7\t113.251,102.534,104.296,103.415,106.498,101.36,105.324\n",
      "\n",
      "Index file\n",
      "ref_id\tref_start\tref_end\tread_id\tkmers\tNNNNN_kmers\tmismatching_kmers\tmissing_kmers\tbyte_offset\tbyte_len\n",
      "YCR030C\t1578\t2576\t1\t971\t23\t0\t27\t0\t309526\n",
      "YGR240C\t1656\t2960\t0\t1250\t35\t0\t54\t309527\t374944\n",
      "YHR174W\t0\t839\t2\t825\t15\t0\t14\t684472\t260313\n",
      "YLR441C\t173\t764\t5\t554\t20\t0\t37\t944786\t152535\n",
      "YHR174W\t218\t1309\t3\t1028\t36\t0\t63\t1097322\t301088\n",
      "YDR500C\t9\t252\t8\t231\t7\t0\t14\t1398411\t77907\n",
      "YHR174W\t462\t1309\t4\t818\t18\t0\t29\t1476319\t286210\n",
      "YDR224C\t0\t389\t9\t376\t8\t0\t13\t1762530\t115588\n",
      "YGR192C\t1\t989\t6\t927\t37\t0\t61\t1878119\t312418\n"
     ]
    }
   ],
   "source": [
    "input_fn = \"./data/nanopolish_reads_samples.tsv\"\n",
    "output_fn = \"./output/collapsed_nanopolish_samples_all.tsv\"\n",
    "index_fn = \"./output/collapsed_nanopolish_samples_all.tsv.idx\"\n",
    "\n",
    "Eventalign_collapse (input_fn=input_fn, output_fn=output_fn, verbose=True, threads=6, write_samples=True)\n",
    "\n",
    "print (\"\\nCollapsed eventalign file\")\n",
    "! head {output_fn} -n 10\n",
    "\n",
    "print (\"\\nIndex file\")\n",
    "! head {index_fn} -n 10"
   ]
  },
  {
   "cell_type": "markdown",
   "metadata": {},
   "source": [
    "#### Using the index to random access a specific entry in the file"
   ]
  },
  {
   "cell_type": "code",
   "execution_count": 9,
   "metadata": {
    "ExecuteTime": {
     "end_time": "2018-11-19T17:13:16.905930Z",
     "start_time": "2018-11-19T17:13:16.377767Z"
    },
    "init_cell": true,
    "scrolled": false
   },
   "outputs": [
    {
     "name": "stdout",
     "output_type": "stream",
     "text": [
      "Random index lines\n"
     ]
    },
    {
     "data": {
      "text/html": [
       "<div>\n",
       "<style scoped>\n",
       "    .dataframe tbody tr th:only-of-type {\n",
       "        vertical-align: middle;\n",
       "    }\n",
       "\n",
       "    .dataframe tbody tr th {\n",
       "        vertical-align: top;\n",
       "    }\n",
       "\n",
       "    .dataframe thead th {\n",
       "        text-align: right;\n",
       "    }\n",
       "</style>\n",
       "<table border=\"1\" class=\"dataframe\">\n",
       "  <thead>\n",
       "    <tr style=\"text-align: right;\">\n",
       "      <th></th>\n",
       "      <th>ref_id</th>\n",
       "      <th>ref_start</th>\n",
       "      <th>ref_end</th>\n",
       "      <th>read_id</th>\n",
       "      <th>kmers</th>\n",
       "      <th>NNNNN_kmers</th>\n",
       "      <th>mismatching_kmers</th>\n",
       "      <th>missing_kmers</th>\n",
       "      <th>byte_offset</th>\n",
       "      <th>byte_len</th>\n",
       "    </tr>\n",
       "  </thead>\n",
       "  <tbody>\n",
       "    <tr>\n",
       "      <th>18</th>\n",
       "      <td>YMR116C</td>\n",
       "      <td>180</td>\n",
       "      <td>950</td>\n",
       "      <td>16</td>\n",
       "      <td>740</td>\n",
       "      <td>20</td>\n",
       "      <td>0</td>\n",
       "      <td>30</td>\n",
       "      <td>660578</td>\n",
       "      <td>41675</td>\n",
       "    </tr>\n",
       "    <tr>\n",
       "      <th>5</th>\n",
       "      <td>YHR174W</td>\n",
       "      <td>462</td>\n",
       "      <td>1309</td>\n",
       "      <td>4</td>\n",
       "      <td>818</td>\n",
       "      <td>18</td>\n",
       "      <td>0</td>\n",
       "      <td>29</td>\n",
       "      <td>263001</td>\n",
       "      <td>46483</td>\n",
       "    </tr>\n",
       "    <tr>\n",
       "      <th>4</th>\n",
       "      <td>YLR441C</td>\n",
       "      <td>173</td>\n",
       "      <td>764</td>\n",
       "      <td>5</td>\n",
       "      <td>554</td>\n",
       "      <td>20</td>\n",
       "      <td>0</td>\n",
       "      <td>37</td>\n",
       "      <td>231638</td>\n",
       "      <td>31362</td>\n",
       "    </tr>\n",
       "    <tr>\n",
       "      <th>20</th>\n",
       "      <td>YOL139C</td>\n",
       "      <td>0</td>\n",
       "      <td>638</td>\n",
       "      <td>20</td>\n",
       "      <td>617</td>\n",
       "      <td>15</td>\n",
       "      <td>0</td>\n",
       "      <td>21</td>\n",
       "      <td>741365</td>\n",
       "      <td>34598</td>\n",
       "    </tr>\n",
       "    <tr>\n",
       "      <th>10</th>\n",
       "      <td>YGR192C</td>\n",
       "      <td>3</td>\n",
       "      <td>995</td>\n",
       "      <td>7</td>\n",
       "      <td>946</td>\n",
       "      <td>31</td>\n",
       "      <td>0</td>\n",
       "      <td>50</td>\n",
       "      <td>414274</td>\n",
       "      <td>53215</td>\n",
       "    </tr>\n",
       "  </tbody>\n",
       "</table>\n",
       "</div>"
      ],
      "text/plain": [
       "     ref_id  ref_start  ref_end  read_id  kmers  NNNNN_kmers  \\\n",
       "18  YMR116C        180      950       16    740           20   \n",
       "5   YHR174W        462     1309        4    818           18   \n",
       "4   YLR441C        173      764        5    554           20   \n",
       "20  YOL139C          0      638       20    617           15   \n",
       "10  YGR192C          3      995        7    946           31   \n",
       "\n",
       "    mismatching_kmers  missing_kmers  byte_offset  byte_len  \n",
       "18                  0             30       660578     41675  \n",
       "5                   0             29       263001     46483  \n",
       "4                   0             37       231638     31362  \n",
       "20                  0             21       741365     34598  \n",
       "10                  0             50       414274     53215  "
      ]
     },
     "metadata": {},
     "output_type": "display_data"
    },
    {
     "name": "stdout",
     "output_type": "stream",
     "text": [
      "#16\tYMR116C\n"
     ]
    },
    {
     "data": {
      "text/html": [
       "<div>\n",
       "<style scoped>\n",
       "    .dataframe tbody tr th:only-of-type {\n",
       "        vertical-align: middle;\n",
       "    }\n",
       "\n",
       "    .dataframe tbody tr th {\n",
       "        vertical-align: top;\n",
       "    }\n",
       "\n",
       "    .dataframe thead th {\n",
       "        text-align: right;\n",
       "    }\n",
       "</style>\n",
       "<table border=\"1\" class=\"dataframe\">\n",
       "  <thead>\n",
       "    <tr style=\"text-align: right;\">\n",
       "      <th></th>\n",
       "      <th>ref_pos</th>\n",
       "      <th>ref_kmer</th>\n",
       "      <th>n_events</th>\n",
       "      <th>NNNNN_events</th>\n",
       "      <th>mismatching_events</th>\n",
       "      <th>mean</th>\n",
       "      <th>std</th>\n",
       "      <th>median</th>\n",
       "      <th>mad</th>\n",
       "      <th>n_signals</th>\n",
       "    </tr>\n",
       "  </thead>\n",
       "  <tbody>\n",
       "    <tr>\n",
       "      <th>0</th>\n",
       "      <td>180</td>\n",
       "      <td>TTCAA</td>\n",
       "      <td>3</td>\n",
       "      <td>0</td>\n",
       "      <td>0</td>\n",
       "      <td>75.26566</td>\n",
       "      <td>3.367346</td>\n",
       "      <td>74.922800</td>\n",
       "      <td>2.120995</td>\n",
       "      <td>193</td>\n",
       "    </tr>\n",
       "    <tr>\n",
       "      <th>1</th>\n",
       "      <td>181</td>\n",
       "      <td>TCAAG</td>\n",
       "      <td>1</td>\n",
       "      <td>0</td>\n",
       "      <td>0</td>\n",
       "      <td>77.17734</td>\n",
       "      <td>2.464255</td>\n",
       "      <td>77.397300</td>\n",
       "      <td>1.484699</td>\n",
       "      <td>18</td>\n",
       "    </tr>\n",
       "    <tr>\n",
       "      <th>...</th>\n",
       "      <td>...</td>\n",
       "      <td>...</td>\n",
       "      <td>...</td>\n",
       "      <td>...</td>\n",
       "      <td>...</td>\n",
       "      <td>...</td>\n",
       "      <td>...</td>\n",
       "      <td>...</td>\n",
       "      <td>...</td>\n",
       "      <td>...</td>\n",
       "    </tr>\n",
       "    <tr>\n",
       "      <th>738</th>\n",
       "      <td>948</td>\n",
       "      <td>ACTGC</td>\n",
       "      <td>7</td>\n",
       "      <td>4</td>\n",
       "      <td>0</td>\n",
       "      <td>97.11315</td>\n",
       "      <td>11.467521</td>\n",
       "      <td>101.223495</td>\n",
       "      <td>12.372505</td>\n",
       "      <td>118</td>\n",
       "    </tr>\n",
       "    <tr>\n",
       "      <th>739</th>\n",
       "      <td>949</td>\n",
       "      <td>CTGCT</td>\n",
       "      <td>1</td>\n",
       "      <td>0</td>\n",
       "      <td>0</td>\n",
       "      <td>107.28474</td>\n",
       "      <td>4.256286</td>\n",
       "      <td>105.748000</td>\n",
       "      <td>2.121002</td>\n",
       "      <td>15</td>\n",
       "    </tr>\n",
       "  </tbody>\n",
       "</table>\n",
       "<p>740 rows × 10 columns</p>\n",
       "</div>"
      ],
      "text/plain": [
       "     ref_pos ref_kmer  n_events  NNNNN_events  mismatching_events       mean  \\\n",
       "0        180    TTCAA         3             0                   0   75.26566   \n",
       "1        181    TCAAG         1             0                   0   77.17734   \n",
       "..       ...      ...       ...           ...                 ...        ...   \n",
       "738      948    ACTGC         7             4                   0   97.11315   \n",
       "739      949    CTGCT         1             0                   0  107.28474   \n",
       "\n",
       "           std      median        mad  n_signals  \n",
       "0     3.367346   74.922800   2.120995        193  \n",
       "1     2.464255   77.397300   1.484699         18  \n",
       "..         ...         ...        ...        ...  \n",
       "738  11.467521  101.223495  12.372505        118  \n",
       "739   4.256286  105.748000   2.121002         15  \n",
       "\n",
       "[740 rows x 10 columns]"
      ]
     },
     "metadata": {},
     "output_type": "display_data"
    },
    {
     "name": "stdout",
     "output_type": "stream",
     "text": [
      "#4\tYHR174W\n"
     ]
    },
    {
     "data": {
      "text/html": [
       "<div>\n",
       "<style scoped>\n",
       "    .dataframe tbody tr th:only-of-type {\n",
       "        vertical-align: middle;\n",
       "    }\n",
       "\n",
       "    .dataframe tbody tr th {\n",
       "        vertical-align: top;\n",
       "    }\n",
       "\n",
       "    .dataframe thead th {\n",
       "        text-align: right;\n",
       "    }\n",
       "</style>\n",
       "<table border=\"1\" class=\"dataframe\">\n",
       "  <thead>\n",
       "    <tr style=\"text-align: right;\">\n",
       "      <th></th>\n",
       "      <th>ref_pos</th>\n",
       "      <th>ref_kmer</th>\n",
       "      <th>n_events</th>\n",
       "      <th>NNNNN_events</th>\n",
       "      <th>mismatching_events</th>\n",
       "      <th>mean</th>\n",
       "      <th>std</th>\n",
       "      <th>median</th>\n",
       "      <th>mad</th>\n",
       "      <th>n_signals</th>\n",
       "    </tr>\n",
       "  </thead>\n",
       "  <tbody>\n",
       "    <tr>\n",
       "      <th>0</th>\n",
       "      <td>462</td>\n",
       "      <td>TTGAA</td>\n",
       "      <td>2</td>\n",
       "      <td>0</td>\n",
       "      <td>0</td>\n",
       "      <td>109.441040</td>\n",
       "      <td>4.321321</td>\n",
       "      <td>110.7380</td>\n",
       "      <td>3.350002</td>\n",
       "      <td>24</td>\n",
       "    </tr>\n",
       "    <tr>\n",
       "      <th>1</th>\n",
       "      <td>463</td>\n",
       "      <td>TGAAC</td>\n",
       "      <td>1</td>\n",
       "      <td>0</td>\n",
       "      <td>0</td>\n",
       "      <td>125.106384</td>\n",
       "      <td>9.260922</td>\n",
       "      <td>127.6275</td>\n",
       "      <td>4.676498</td>\n",
       "      <td>16</td>\n",
       "    </tr>\n",
       "    <tr>\n",
       "      <th>...</th>\n",
       "      <td>...</td>\n",
       "      <td>...</td>\n",
       "      <td>...</td>\n",
       "      <td>...</td>\n",
       "      <td>...</td>\n",
       "      <td>...</td>\n",
       "      <td>...</td>\n",
       "      <td>...</td>\n",
       "      <td>...</td>\n",
       "      <td>...</td>\n",
       "    </tr>\n",
       "    <tr>\n",
       "      <th>816</th>\n",
       "      <td>1307</td>\n",
       "      <td>GTTGT</td>\n",
       "      <td>5</td>\n",
       "      <td>0</td>\n",
       "      <td>0</td>\n",
       "      <td>84.352264</td>\n",
       "      <td>2.085414</td>\n",
       "      <td>84.2869</td>\n",
       "      <td>1.256302</td>\n",
       "      <td>79</td>\n",
       "    </tr>\n",
       "    <tr>\n",
       "      <th>817</th>\n",
       "      <td>1308</td>\n",
       "      <td>TTGTA</td>\n",
       "      <td>14</td>\n",
       "      <td>0</td>\n",
       "      <td>0</td>\n",
       "      <td>93.088670</td>\n",
       "      <td>7.634180</td>\n",
       "      <td>91.1265</td>\n",
       "      <td>3.210403</td>\n",
       "      <td>209</td>\n",
       "    </tr>\n",
       "  </tbody>\n",
       "</table>\n",
       "<p>818 rows × 10 columns</p>\n",
       "</div>"
      ],
      "text/plain": [
       "     ref_pos ref_kmer  n_events  NNNNN_events  mismatching_events        mean  \\\n",
       "0        462    TTGAA         2             0                   0  109.441040   \n",
       "1        463    TGAAC         1             0                   0  125.106384   \n",
       "..       ...      ...       ...           ...                 ...         ...   \n",
       "816     1307    GTTGT         5             0                   0   84.352264   \n",
       "817     1308    TTGTA        14             0                   0   93.088670   \n",
       "\n",
       "          std    median       mad  n_signals  \n",
       "0    4.321321  110.7380  3.350002         24  \n",
       "1    9.260922  127.6275  4.676498         16  \n",
       "..        ...       ...       ...        ...  \n",
       "816  2.085414   84.2869  1.256302         79  \n",
       "817  7.634180   91.1265  3.210403        209  \n",
       "\n",
       "[818 rows x 10 columns]"
      ]
     },
     "metadata": {},
     "output_type": "display_data"
    },
    {
     "name": "stdout",
     "output_type": "stream",
     "text": [
      "#5\tYLR441C\n"
     ]
    },
    {
     "data": {
      "text/html": [
       "<div>\n",
       "<style scoped>\n",
       "    .dataframe tbody tr th:only-of-type {\n",
       "        vertical-align: middle;\n",
       "    }\n",
       "\n",
       "    .dataframe tbody tr th {\n",
       "        vertical-align: top;\n",
       "    }\n",
       "\n",
       "    .dataframe thead th {\n",
       "        text-align: right;\n",
       "    }\n",
       "</style>\n",
       "<table border=\"1\" class=\"dataframe\">\n",
       "  <thead>\n",
       "    <tr style=\"text-align: right;\">\n",
       "      <th></th>\n",
       "      <th>ref_pos</th>\n",
       "      <th>ref_kmer</th>\n",
       "      <th>n_events</th>\n",
       "      <th>NNNNN_events</th>\n",
       "      <th>mismatching_events</th>\n",
       "      <th>mean</th>\n",
       "      <th>std</th>\n",
       "      <th>median</th>\n",
       "      <th>mad</th>\n",
       "      <th>n_signals</th>\n",
       "    </tr>\n",
       "  </thead>\n",
       "  <tbody>\n",
       "    <tr>\n",
       "      <th>0</th>\n",
       "      <td>173</td>\n",
       "      <td>AGATG</td>\n",
       "      <td>4</td>\n",
       "      <td>0</td>\n",
       "      <td>0</td>\n",
       "      <td>131.99776</td>\n",
       "      <td>8.953995</td>\n",
       "      <td>134.4680</td>\n",
       "      <td>5.272995</td>\n",
       "      <td>80</td>\n",
       "    </tr>\n",
       "    <tr>\n",
       "      <th>1</th>\n",
       "      <td>174</td>\n",
       "      <td>GATGC</td>\n",
       "      <td>1</td>\n",
       "      <td>0</td>\n",
       "      <td>0</td>\n",
       "      <td>75.09377</td>\n",
       "      <td>3.819872</td>\n",
       "      <td>74.2486</td>\n",
       "      <td>2.497498</td>\n",
       "      <td>11</td>\n",
       "    </tr>\n",
       "    <tr>\n",
       "      <th>...</th>\n",
       "      <td>...</td>\n",
       "      <td>...</td>\n",
       "      <td>...</td>\n",
       "      <td>...</td>\n",
       "      <td>...</td>\n",
       "      <td>...</td>\n",
       "      <td>...</td>\n",
       "      <td>...</td>\n",
       "      <td>...</td>\n",
       "      <td>...</td>\n",
       "    </tr>\n",
       "    <tr>\n",
       "      <th>552</th>\n",
       "      <td>762</td>\n",
       "      <td>GTGTA</td>\n",
       "      <td>7</td>\n",
       "      <td>0</td>\n",
       "      <td>0</td>\n",
       "      <td>93.32534</td>\n",
       "      <td>8.111859</td>\n",
       "      <td>92.9804</td>\n",
       "      <td>4.578796</td>\n",
       "      <td>109</td>\n",
       "    </tr>\n",
       "    <tr>\n",
       "      <th>553</th>\n",
       "      <td>763</td>\n",
       "      <td>TGTAA</td>\n",
       "      <td>4</td>\n",
       "      <td>0</td>\n",
       "      <td>0</td>\n",
       "      <td>104.72426</td>\n",
       "      <td>3.458026</td>\n",
       "      <td>104.7740</td>\n",
       "      <td>2.082001</td>\n",
       "      <td>47</td>\n",
       "    </tr>\n",
       "  </tbody>\n",
       "</table>\n",
       "<p>554 rows × 10 columns</p>\n",
       "</div>"
      ],
      "text/plain": [
       "     ref_pos ref_kmer  n_events  NNNNN_events  mismatching_events       mean  \\\n",
       "0        173    AGATG         4             0                   0  131.99776   \n",
       "1        174    GATGC         1             0                   0   75.09377   \n",
       "..       ...      ...       ...           ...                 ...        ...   \n",
       "552      762    GTGTA         7             0                   0   93.32534   \n",
       "553      763    TGTAA         4             0                   0  104.72426   \n",
       "\n",
       "          std    median       mad  n_signals  \n",
       "0    8.953995  134.4680  5.272995         80  \n",
       "1    3.819872   74.2486  2.497498         11  \n",
       "..        ...       ...       ...        ...  \n",
       "552  8.111859   92.9804  4.578796        109  \n",
       "553  3.458026  104.7740  2.082001         47  \n",
       "\n",
       "[554 rows x 10 columns]"
      ]
     },
     "metadata": {},
     "output_type": "display_data"
    },
    {
     "name": "stdout",
     "output_type": "stream",
     "text": [
      "#20\tYOL139C\n"
     ]
    },
    {
     "data": {
      "text/html": [
       "<div>\n",
       "<style scoped>\n",
       "    .dataframe tbody tr th:only-of-type {\n",
       "        vertical-align: middle;\n",
       "    }\n",
       "\n",
       "    .dataframe tbody tr th {\n",
       "        vertical-align: top;\n",
       "    }\n",
       "\n",
       "    .dataframe thead th {\n",
       "        text-align: right;\n",
       "    }\n",
       "</style>\n",
       "<table border=\"1\" class=\"dataframe\">\n",
       "  <thead>\n",
       "    <tr style=\"text-align: right;\">\n",
       "      <th></th>\n",
       "      <th>ref_pos</th>\n",
       "      <th>ref_kmer</th>\n",
       "      <th>n_events</th>\n",
       "      <th>NNNNN_events</th>\n",
       "      <th>mismatching_events</th>\n",
       "      <th>mean</th>\n",
       "      <th>std</th>\n",
       "      <th>median</th>\n",
       "      <th>mad</th>\n",
       "      <th>n_signals</th>\n",
       "    </tr>\n",
       "  </thead>\n",
       "  <tbody>\n",
       "    <tr>\n",
       "      <th>0</th>\n",
       "      <td>0</td>\n",
       "      <td>ATGTC</td>\n",
       "      <td>1</td>\n",
       "      <td>0</td>\n",
       "      <td>0</td>\n",
       "      <td>90.352520</td>\n",
       "      <td>2.778766</td>\n",
       "      <td>89.7893</td>\n",
       "      <td>1.612602</td>\n",
       "      <td>19</td>\n",
       "    </tr>\n",
       "    <tr>\n",
       "      <th>1</th>\n",
       "      <td>1</td>\n",
       "      <td>TGTCC</td>\n",
       "      <td>3</td>\n",
       "      <td>0</td>\n",
       "      <td>0</td>\n",
       "      <td>101.823364</td>\n",
       "      <td>11.103065</td>\n",
       "      <td>104.0090</td>\n",
       "      <td>7.769997</td>\n",
       "      <td>45</td>\n",
       "    </tr>\n",
       "    <tr>\n",
       "      <th>...</th>\n",
       "      <td>...</td>\n",
       "      <td>...</td>\n",
       "      <td>...</td>\n",
       "      <td>...</td>\n",
       "      <td>...</td>\n",
       "      <td>...</td>\n",
       "      <td>...</td>\n",
       "      <td>...</td>\n",
       "      <td>...</td>\n",
       "      <td>...</td>\n",
       "    </tr>\n",
       "    <tr>\n",
       "      <th>615</th>\n",
       "      <td>636</td>\n",
       "      <td>TTGTA</td>\n",
       "      <td>6</td>\n",
       "      <td>0</td>\n",
       "      <td>0</td>\n",
       "      <td>101.537820</td>\n",
       "      <td>9.207060</td>\n",
       "      <td>103.2760</td>\n",
       "      <td>6.597000</td>\n",
       "      <td>85</td>\n",
       "    </tr>\n",
       "    <tr>\n",
       "      <th>616</th>\n",
       "      <td>637</td>\n",
       "      <td>TGTAA</td>\n",
       "      <td>3</td>\n",
       "      <td>0</td>\n",
       "      <td>0</td>\n",
       "      <td>121.393420</td>\n",
       "      <td>11.010363</td>\n",
       "      <td>123.4335</td>\n",
       "      <td>9.968998</td>\n",
       "      <td>60</td>\n",
       "    </tr>\n",
       "  </tbody>\n",
       "</table>\n",
       "<p>617 rows × 10 columns</p>\n",
       "</div>"
      ],
      "text/plain": [
       "     ref_pos ref_kmer  n_events  NNNNN_events  mismatching_events        mean  \\\n",
       "0          0    ATGTC         1             0                   0   90.352520   \n",
       "1          1    TGTCC         3             0                   0  101.823364   \n",
       "..       ...      ...       ...           ...                 ...         ...   \n",
       "615      636    TTGTA         6             0                   0  101.537820   \n",
       "616      637    TGTAA         3             0                   0  121.393420   \n",
       "\n",
       "           std    median       mad  n_signals  \n",
       "0     2.778766   89.7893  1.612602         19  \n",
       "1    11.103065  104.0090  7.769997         45  \n",
       "..         ...       ...       ...        ...  \n",
       "615   9.207060  103.2760  6.597000         85  \n",
       "616  11.010363  123.4335  9.968998         60  \n",
       "\n",
       "[617 rows x 10 columns]"
      ]
     },
     "metadata": {},
     "output_type": "display_data"
    },
    {
     "name": "stdout",
     "output_type": "stream",
     "text": [
      "#7\tYGR192C\n"
     ]
    },
    {
     "data": {
      "text/html": [
       "<div>\n",
       "<style scoped>\n",
       "    .dataframe tbody tr th:only-of-type {\n",
       "        vertical-align: middle;\n",
       "    }\n",
       "\n",
       "    .dataframe tbody tr th {\n",
       "        vertical-align: top;\n",
       "    }\n",
       "\n",
       "    .dataframe thead th {\n",
       "        text-align: right;\n",
       "    }\n",
       "</style>\n",
       "<table border=\"1\" class=\"dataframe\">\n",
       "  <thead>\n",
       "    <tr style=\"text-align: right;\">\n",
       "      <th></th>\n",
       "      <th>ref_pos</th>\n",
       "      <th>ref_kmer</th>\n",
       "      <th>n_events</th>\n",
       "      <th>NNNNN_events</th>\n",
       "      <th>mismatching_events</th>\n",
       "      <th>mean</th>\n",
       "      <th>std</th>\n",
       "      <th>median</th>\n",
       "      <th>mad</th>\n",
       "      <th>n_signals</th>\n",
       "    </tr>\n",
       "  </thead>\n",
       "  <tbody>\n",
       "    <tr>\n",
       "      <th>0</th>\n",
       "      <td>3</td>\n",
       "      <td>GTTAG</td>\n",
       "      <td>1</td>\n",
       "      <td>0</td>\n",
       "      <td>0</td>\n",
       "      <td>82.788704</td>\n",
       "      <td>2.058451</td>\n",
       "      <td>83.22210</td>\n",
       "      <td>1.155601</td>\n",
       "      <td>17</td>\n",
       "    </tr>\n",
       "    <tr>\n",
       "      <th>1</th>\n",
       "      <td>4</td>\n",
       "      <td>TTAGA</td>\n",
       "      <td>1</td>\n",
       "      <td>0</td>\n",
       "      <td>0</td>\n",
       "      <td>100.523680</td>\n",
       "      <td>3.785173</td>\n",
       "      <td>99.68975</td>\n",
       "      <td>1.661201</td>\n",
       "      <td>22</td>\n",
       "    </tr>\n",
       "    <tr>\n",
       "      <th>...</th>\n",
       "      <td>...</td>\n",
       "      <td>...</td>\n",
       "      <td>...</td>\n",
       "      <td>...</td>\n",
       "      <td>...</td>\n",
       "      <td>...</td>\n",
       "      <td>...</td>\n",
       "      <td>...</td>\n",
       "      <td>...</td>\n",
       "      <td>...</td>\n",
       "    </tr>\n",
       "    <tr>\n",
       "      <th>944</th>\n",
       "      <td>989</td>\n",
       "      <td>CAAGG</td>\n",
       "      <td>7</td>\n",
       "      <td>1</td>\n",
       "      <td>0</td>\n",
       "      <td>102.884530</td>\n",
       "      <td>6.507542</td>\n",
       "      <td>101.42300</td>\n",
       "      <td>3.466698</td>\n",
       "      <td>172</td>\n",
       "    </tr>\n",
       "    <tr>\n",
       "      <th>945</th>\n",
       "      <td>994</td>\n",
       "      <td>CTTAA</td>\n",
       "      <td>1</td>\n",
       "      <td>0</td>\n",
       "      <td>0</td>\n",
       "      <td>98.905594</td>\n",
       "      <td>9.529233</td>\n",
       "      <td>94.20050</td>\n",
       "      <td>6.211502</td>\n",
       "      <td>7</td>\n",
       "    </tr>\n",
       "  </tbody>\n",
       "</table>\n",
       "<p>946 rows × 10 columns</p>\n",
       "</div>"
      ],
      "text/plain": [
       "     ref_pos ref_kmer  n_events  NNNNN_events  mismatching_events        mean  \\\n",
       "0          3    GTTAG         1             0                   0   82.788704   \n",
       "1          4    TTAGA         1             0                   0  100.523680   \n",
       "..       ...      ...       ...           ...                 ...         ...   \n",
       "944      989    CAAGG         7             1                   0  102.884530   \n",
       "945      994    CTTAA         1             0                   0   98.905594   \n",
       "\n",
       "          std     median       mad  n_signals  \n",
       "0    2.058451   83.22210  1.155601         17  \n",
       "1    3.785173   99.68975  1.661201         22  \n",
       "..        ...        ...       ...        ...  \n",
       "944  6.507542  101.42300  3.466698        172  \n",
       "945  9.529233   94.20050  6.211502          7  \n",
       "\n",
       "[946 rows x 10 columns]"
      ]
     },
     "metadata": {},
     "output_type": "display_data"
    }
   ],
   "source": [
    "output_fn = \"./output/collapsed_nanopolish_samples.tsv\"\n",
    "index_fn = \"./output/collapsed_nanopolish_samples.tsv.idx\"\n",
    "\n",
    "# Import the index in a pandas dataframe (because it is simple)\n",
    "import pandas as pd \n",
    "index_df = pd.read_table (index_fn)\n",
    "\n",
    "# Select random lines\n",
    "random_lines = index_df.sample(5)\n",
    "print (\"Random index lines\")\n",
    "display (random_lines)\n",
    "\n",
    "# Open the collapsed event align file\n",
    "with open (output_fn) as fp:\n",
    "    for id, read in random_lines.iterrows():\n",
    "        \n",
    "        # Access the header corresponding to the randomly selected index line using seek \n",
    "        fp.seek(0) # Return to file start\n",
    "        fp.seek(read.byte_offset) # Move to the offset indicated in the index file\n",
    "        print (fp.readline().rstrip()) # Print read header\n",
    "        df = pd.read_table (fp, nrows=read.kmers) # Read lines corresponding to the read\n",
    "        with pd.option_context(\"display.max_rows\",4): # display first and last lines\n",
    "            display(df)"
   ]
  }
 ],
 "metadata": {
  "celltoolbar": "Initialization Cell",
  "hide_input": false,
  "kernelspec": {
   "display_name": "Python3.6",
   "language": "python",
   "name": "python3.6"
  },
  "language_info": {
   "codemirror_mode": {
    "name": "ipython",
    "version": 3
   },
   "file_extension": ".py",
   "mimetype": "text/x-python",
   "name": "python",
   "nbconvert_exporter": "python",
   "pygments_lexer": "ipython3",
   "version": "3.6.6"
  }
 },
 "nbformat": 4,
 "nbformat_minor": 2
}
