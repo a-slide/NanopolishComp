{
 "cells": [
  {
   "cell_type": "markdown",
   "metadata": {
    "ExecuteTime": {
     "end_time": "2018-08-10T10:03:00.595966Z",
     "start_time": "2018-08-10T10:03:00.587806Z"
    }
   },
   "source": [
    "# Eventalign_collapse usage"
   ]
  },
  {
   "cell_type": "markdown",
   "metadata": {
    "heading_collapsed": true
   },
   "source": [
    "## Bash command line usage"
   ]
  },
  {
   "cell_type": "code",
   "execution_count": null,
   "metadata": {
    "hidden": true
   },
   "outputs": [],
   "source": [
    "%%bash\n",
    "source ~/.bashrc && workon Nanopolish_0.10.1"
   ]
  },
  {
   "cell_type": "markdown",
   "metadata": {
    "ExecuteTime": {
     "end_time": "2018-08-10T17:02:13.860121Z",
     "start_time": "2018-08-10T17:02:13.847128Z"
    },
    "heading_collapsed": true,
    "hidden": true
   },
   "source": [
    "#### From an existing nanopolish event align output to another file"
   ]
  },
  {
   "cell_type": "code",
   "execution_count": 15,
   "metadata": {
    "ExecuteTime": {
     "end_time": "2018-08-20T10:56:21.153616Z",
     "start_time": "2018-08-20T10:56:20.432402Z"
    },
    "hidden": true,
    "scrolled": true
   },
   "outputs": [
    {
     "name": "stdout",
     "output_type": "stream",
     "text": [
      "628\tCAATC\n",
      "629\tAATCA\n",
      "630\tATCAC\n",
      "631\tTCACC\n",
      "632\tCACCT\n",
      "633\tACCTT\n",
      "634\tCCTTG\n",
      "635\tCTTGT\n",
      "636\tTTGTA\n",
      "637\tTGTAA\n"
     ]
    },
    {
     "name": "stderr",
     "output_type": "stream",
     "text": [
      "[NanopolishComp summary] Reads:21\tKmers:13,717  \n"
     ]
    }
   ],
   "source": [
    "NanopolishComp Eventalign_collapse -i ./data/nanopolish_reads.tsv -o ./output/nanopolish_collapsed_reads.tsv\n",
    "tail ./output/nanopolish_collapsed_reads.tsv"
   ]
  },
  {
   "cell_type": "markdown",
   "metadata": {
    "ExecuteTime": {
     "end_time": "2018-08-10T17:02:13.860121Z",
     "start_time": "2018-08-10T17:02:13.847128Z"
    },
    "heading_collapsed": true,
    "hidden": true
   },
   "source": [
    "#### From an existing nanopolish event align output to the standard output"
   ]
  },
  {
   "cell_type": "code",
   "execution_count": 16,
   "metadata": {
    "ExecuteTime": {
     "end_time": "2018-08-20T10:56:27.013015Z",
     "start_time": "2018-08-20T10:56:25.331964Z"
    },
    "hidden": true
   },
   "outputs": [
    {
     "name": "stdout",
     "output_type": "stream",
     "text": [
      "628\tCAATC\t103.672\t1.808\n",
      "629\tAATCA\t89.459\t3.184\n",
      "630\tATCAC\t78.621\t1.688\n",
      "631\tTCACC\t74.978\t1.625\n",
      "632\tCACCT\t76.966\t1.53\n",
      "633\tACCTT\t72.711\t1.378\n",
      "634\tCCTTG\t78.384\t1.358\n",
      "635\tCTTGT\t88.14\t1.671\n",
      "636\tTTGTA\t101.538\t9.207\n",
      "637\tTGTAA\t121.393\t11.01\n"
     ]
    },
    {
     "name": "stderr",
     "output_type": "stream",
     "text": [
      "[NanopolishComp summary] Reads:21\tKmers:13,717  \n"
     ]
    }
   ],
   "source": [
    "NanopolishComp Eventalign_collapse -i ./data/nanopolish_reads_samples.tsv | tail"
   ]
  },
  {
   "cell_type": "markdown",
   "metadata": {
    "heading_collapsed": true,
    "hidden": true
   },
   "source": [
    "#### Directly from nanopolish to the standard output."
   ]
  },
  {
   "cell_type": "code",
   "execution_count": 17,
   "metadata": {
    "ExecuteTime": {
     "end_time": "2018-08-20T10:57:08.843692Z",
     "start_time": "2018-08-20T10:57:06.624032Z"
    },
    "hidden": true,
    "scrolled": true
   },
   "outputs": [
    {
     "name": "stdout",
     "output_type": "stream",
     "text": [
      "628\tCAATC\t12892\t12902\t103.672\t1.808\n",
      "629\tAATCA\t12884\t12892\t89.459\t3.184\n",
      "630\tATCAC\t12873\t12884\t78.621\t1.688\n",
      "631\tTCACC\t12841\t12873\t74.978\t1.625\n",
      "632\tCACCT\t12801\t12841\t76.966\t1.53\n",
      "633\tACCTT\t12777\t12801\t72.711\t1.378\n",
      "634\tCCTTG\t12767\t12777\t78.384\t1.358\n",
      "635\tCTTGT\t12755\t12767\t88.14\t1.671\n",
      "636\tTTGTA\t12670\t12755\t101.538\t9.207\n",
      "637\tTGTAA\t12610\t12670\t121.393\t11.01\n"
     ]
    },
    {
     "name": "stderr",
     "output_type": "stream",
     "text": [
      "[post-run summary] total reads: 21, unparseable: 0, qc fail: 0, could not calibrate: 0, no alignment: 0, bad fast5: 0\n",
      "[NanopolishComp summary] Reads:21\tKmers:13,717  \n"
     ]
    }
   ],
   "source": [
    "nanopolish eventalign -t 1 --samples --scale-events --reads ./data/reads.fastq --bam ./data/aligned_reads.bam --genome ./data/reference.fa --signal-index| NanopolishComp Eventalign_collapse | tail"
   ]
  },
  {
   "cell_type": "code",
   "execution_count": 21,
   "metadata": {
    "ExecuteTime": {
     "end_time": "2018-08-20T10:58:19.399604Z",
     "start_time": "2018-08-20T10:58:18.229063Z"
    },
    "hidden": true
   },
   "outputs": [
    {
     "name": "stdout",
     "output_type": "stream",
     "text": [
      "YOL139C\t635\tCTTGT\t20\tt\t1281\t88.14\t1.614\t0.00398\tCTTGT\t86.77\t2.65\t0.47\n",
      "YOL139C\t636\tTTGTA\t20\tt\t1282\t109.29\t4.880\t0.00664\tTTGTA\t99.35\t3.78\t2.40\n",
      "YOL139C\t636\tTTGTA\t20\tt\t1283\t99.46\t6.203\t0.00365\tTTGTA\t99.35\t3.78\t0.03\n",
      "YOL139C\t636\tTTGTA\t20\tt\t1284\t89.20\t5.534\t0.00365\tTTGTA\t99.35\t3.78\t-2.46\n",
      "YOL139C\t636\tTTGTA\t20\tt\t1285\t90.92\t1.341\t0.00232\tTTGTA\t99.35\t3.78\t-2.04\n",
      "YOL139C\t636\tTTGTA\t20\tt\t1286\t107.99\t3.837\t0.00830\tTTGTA\t99.35\t3.78\t2.09\n",
      "YOL139C\t636\tTTGTA\t20\tt\t1287\t93.95\t2.716\t0.00365\tTTGTA\t99.35\t3.78\t-1.31\n",
      "YOL139C\t637\tTGTAA\t20\tt\t1288\t110.57\t3.508\t0.00930\tTGTAA\t109.08\t8.56\t0.16\n",
      "YOL139C\t637\tTGTAA\t20\tt\t1289\t125.16\t5.134\t0.00232\tTGTAA\t109.08\t8.56\t1.72\n",
      "YOL139C\t637\tTGTAA\t20\tt\t1290\t132.46\t3.145\t0.00830\tTGTAA\t109.08\t8.56\t2.50\n"
     ]
    },
    {
     "name": "stderr",
     "output_type": "stream",
     "text": [
      "[post-run summary] total reads: 21, unparseable: 0, qc fail: 0, could not calibrate: 0, no alignment: 0, bad fast5: 0\n"
     ]
    }
   ],
   "source": [
    "nanopolish eventalign -t 1 --scale-events --reads ./data/reads.fastq --bam ./data/aligned_reads.bam --genome ./data/reference.fa |  tail"
   ]
  },
  {
   "cell_type": "markdown",
   "metadata": {
    "heading_collapsed": true,
    "hidden": true
   },
   "source": [
    "#### Directly from nanopolish to a file"
   ]
  },
  {
   "cell_type": "code",
   "execution_count": 22,
   "metadata": {
    "ExecuteTime": {
     "end_time": "2018-08-20T10:59:44.051074Z",
     "start_time": "2018-08-20T10:59:41.727586Z"
    },
    "hidden": true,
    "scrolled": true
   },
   "outputs": [
    {
     "name": "stderr",
     "output_type": "stream",
     "text": [
      "[post-run summary] total reads: 21, unparseable: 0, qc fail: 0, could not calibrate: 0, no alignment: 0, bad fast5: 0\n",
      "[NanopolishComp summary] Reads:21\tKmers:13,717  \n"
     ]
    }
   ],
   "source": [
    "nanopolish eventalign -t 1 --samples --scale-events --reads ./data/reads.fastq --bam ./data/aligned_reads.bam --genome ./data/reference.fa --signal-index| NanopolishComp Eventalign_collapse > output/collapsed_nanopolish.tsv"
   ]
  },
  {
   "cell_type": "markdown",
   "metadata": {},
   "source": [
    "## Python API usage"
   ]
  },
  {
   "cell_type": "markdown",
   "metadata": {
    "heading_collapsed": true
   },
   "source": [
    "#### Import the package"
   ]
  },
  {
   "cell_type": "code",
   "execution_count": 1,
   "metadata": {
    "ExecuteTime": {
     "end_time": "2018-08-21T10:22:31.075980Z",
     "start_time": "2018-08-21T10:22:30.990491Z"
    },
    "hidden": true
   },
   "outputs": [],
   "source": [
    "from NanopolishComp.Eventalign_collapse import Eventalign_collapse"
   ]
  },
  {
   "cell_type": "markdown",
   "metadata": {
    "heading_collapsed": true
   },
   "source": [
    "#### Example including sample writing"
   ]
  },
  {
   "cell_type": "code",
   "execution_count": 6,
   "metadata": {
    "ExecuteTime": {
     "end_time": "2018-08-21T10:24:05.811566Z",
     "start_time": "2018-08-21T10:24:04.498014Z"
    },
    "hidden": true,
    "scrolled": true
   },
   "outputs": [
    {
     "name": "stderr",
     "output_type": "stream",
     "text": [
      "Define input and output  \n",
      "Parse file  \n",
      "\tFound samples in nanopolish eventalign header  \n"
     ]
    },
    {
     "name": "stdout",
     "output_type": "stream",
     "text": [
      "ref_pos\tref_kmer\tmean\tstd\tsamples\n",
      "#\t0\tYGR240C\n",
      "1656\tGAAAA\t105.498\t1.199\t104.343;106.049;106.617;105.196;105.48;107.47;103.347;105.48\n",
      "1657\tAAAAC\t111.093\t1.667\t112.873;106.617;110.03;114.579;111.736;113.726;111.309;109.745;113.157;109.034;111.025;112.162;112.162;110.172;110.598;110.74;111.025;109.461;110.883;112.02;111.878;110.314;109.887\n",
      "1658\tAAACA\t100.113\t2.855\t100.077;97.5182;98.0869;97.0917;97.5182;99.3665;97.9447;99.6508;100.362;105.764;102.636;105.338\n",
      "636\tTTGTA\t101.538\t9.207\t124.24;111.193;102.25;106.208;116.324;109.14;114.564;112.952;109.287;109.873;109.873;109.727;105.915;109.14;108.114;110.606;106.795;102.983;104.156;102.543;107.967;99.6114;94.4804;97.559;103.276;100.491;96.826;108.261;96.5328;104.449;84.6583;93.894;92.428;90.8155;91.6951;93.894;93.3076;92.7212;92.5746;80.8468;79.674;79.3808;91.4019;91.1087;89.7893;93.6008;88.7631;91.1087;90.6689;104.303;108.847;108.407;106.941;100.051;112.659;106.648;114.858;108.847;105.035;109.727;106.648;102.69;108.261;113.831;104.449;107.821;113.685;114.564;109.727;111.046;105.182;106.208;108.7;100.491;93.894;89.4961;96.6794;97.2658;89.0563;92.1348;94.9202;91.6951;95.6532;97.1192;95.5066\n",
      "637\tTGTAA\t121.393\t11.01\t114.125;115.444;103.863;113.098;113.538;106.648;110.753;105.768;110.166;112.952;110.46;111.046;107.674;107.528;111.193;103.423;114.418;112.805;113.685;115.884;108.994;116.47;106.941;110.606;113.538;112.512;106.208;106.208;124.68;129.224;114.271;132.889;123.8;125.266;125.999;129.811;131.863;131.57;128.491;132.743;131.423;136.114;134.648;133.769;129.224;132.596;137.141;137.58;131.13;138.167;133.476;131.13;123.067;130.104;136.114;130.104;133.915;130.983;131.423;134.942\n",
      "#\n"
     ]
    },
    {
     "name": "stderr",
     "output_type": "stream",
     "text": [
      "[NanopolishComp summary] Reads:21\tKmers:13,717  \n"
     ]
    }
   ],
   "source": [
    "Eventalign_collapse (input_fn=\"./data/nanopolish_reads_samples.tsv\", output_fn=\"./output/collapsed_nanopolish.tsv\", write_samples=True, verbose=True)\n",
    "! head output/collapsed_nanopolish.tsv -n 5\n",
    "! tail output/collapsed_nanopolish.tsv -n 3"
   ]
  },
  {
   "cell_type": "markdown",
   "metadata": {
    "heading_collapsed": true
   },
   "source": [
    "#### Example without sample writing"
   ]
  },
  {
   "cell_type": "code",
   "execution_count": 7,
   "metadata": {
    "ExecuteTime": {
     "end_time": "2018-08-21T10:24:08.197462Z",
     "start_time": "2018-08-21T10:24:06.920872Z"
    },
    "hidden": true
   },
   "outputs": [
    {
     "name": "stderr",
     "output_type": "stream",
     "text": [
      "Define input and output  \n",
      "Parse file  \n",
      "\tFound samples in nanopolish eventalign header  \n"
     ]
    },
    {
     "name": "stdout",
     "output_type": "stream",
     "text": [
      "ref_pos\tref_kmer\tmean\tstd\n",
      "#\t0\tYGR240C\n",
      "1656\tGAAAA\t105.498\t1.199\n",
      "1657\tAAAAC\t111.093\t1.667\n",
      "1658\tAAACA\t100.113\t2.855\n",
      "636\tTTGTA\t101.538\t9.207\n",
      "637\tTGTAA\t121.393\t11.01\n",
      "#\n"
     ]
    },
    {
     "name": "stderr",
     "output_type": "stream",
     "text": [
      "[NanopolishComp summary] Reads:21\tKmers:13,717  \n"
     ]
    }
   ],
   "source": [
    "Eventalign_collapse (input_fn=\"./data/nanopolish_reads_samples.tsv\", output_fn=\"./output/collapsed_nanopolish.tsv\", write_samples=False, verbose=True)\n",
    "! head output/collapsed_nanopolish.tsv -n 5\n",
    "! tail output/collapsed_nanopolish.tsv -n 3"
   ]
  },
  {
   "cell_type": "markdown",
   "metadata": {},
   "source": [
    "#### Example without sample writing"
   ]
  },
  {
   "cell_type": "code",
   "execution_count": 8,
   "metadata": {
    "ExecuteTime": {
     "end_time": "2018-08-21T10:24:20.771685Z",
     "start_time": "2018-08-21T10:24:20.670675Z"
    },
    "scrolled": false
   },
   "outputs": [
    {
     "name": "stdout",
     "output_type": "stream",
     "text": [
      "#\t0\tYGR240C\n",
      "1656\tGAAAA\t63446\t63454\n",
      "1657\tAAAAC\t63423\t63446\n",
      "...\n",
      "#\t1\tYCR030C\n",
      "1578\tCCACC\t47517\t47528\n",
      "1579\tCACCC\t47223\t47517\n",
      "...\n",
      "#\t2\tYHR174W\n",
      "0\tATGGC\t29726\t29759\n",
      "1\tTGGCT\t29628\t29726\n",
      "...\n",
      "#\t3\tYHR174W\n",
      "218\tTGCTG\t44643\t44665\n",
      "219\tGCTGC\t44628\t44643\n",
      "...\n",
      "#\t4\tYHR174W\n",
      "462\tTTGAA\t42640\t42664\n",
      "463\tTGAAC\t42624\t42640\n",
      "...\n",
      "#\t5\tYLR441C\n",
      "173\tAGATG\t27161\t27241\n",
      "174\tGATGC\t27150\t27161\n",
      "...\n",
      "#\t6\tYGR192C\n",
      "1\tTGGTT\t45267\t45311\n",
      "2\tGGTTA\t45248\t45267\n",
      "...\n",
      "#\t7\tYGR192C\n",
      "3\tGTTAG\t55070\t55087\n",
      "4\tTTAGA\t55048\t55070\n",
      "...\n",
      "#\t8\tYDR500C\n",
      "9\tGGTAC\t22637\t22670\n",
      "10\tGTACT\t22618\t22637\n",
      "...\n",
      "#\t9\tYDR224C\n",
      "0\tATGTC\t24307\t24316\n",
      "1\tTGTCT\t24292\t24307\n",
      "...\n",
      "#\t10\tYIL117C\n",
      "27\tGGCCT\t57497\t57596\n",
      "31\tTTCCA\t57485\t57497\n",
      "...\n",
      "#\t11\tYDL145C\n",
      "3232\tCCCCA\t30420\t30436\n",
      "3233\tCCCAA\t30404\t30420\n",
      "...\n",
      "#\t12\tYLR293C\n",
      "1\tTGTCT\t81520\t81535\n",
      "2\tGTCTG\t81436\t81520\n",
      "...\n",
      "#\t13\tYPL198W\n",
      "10\tAAAAA\t44620\t44641\n",
      "11\tAAAAA\t44561\t44620\n",
      "...\n",
      "#\t14\tYDR382W\n",
      "5\tATACT\t48813\t48858\n",
      "6\tTACTT\t48794\t48813\n",
      "...\n",
      "#\t15\tYLR110C\n",
      "14\tTGTCG\t23697\t23715\n",
      "15\tGTCGC\t23675\t23697\n",
      "...\n",
      "#\t16\tYMR116C\n",
      "180\tTTCAA\t41362\t41555\n",
      "181\tTCAAG\t41344\t41362\n",
      "...\n",
      "#\t17\tYEL052W\n",
      "1095\tCAGTT\t30696\t30714\n",
      "1098\tTTGTG\t30404\t30696\n",
      "...\n",
      "#\t18\tYGL076C\n",
      "10\tAAAAA\t44620\t44641\n",
      "11\tAAAAA\t44561\t44620\n",
      "...\n",
      "#\t19\tYKL060C\n",
      "897\tATCAG\t29373\t29399\n",
      "898\tTCAGA\t29364\t29373\n",
      "...\n",
      "#\t20\tYOL139C\n",
      "0\tATGTC\t34220\t34239\n",
      "1\tTGTCC\t34175\t34220\n",
      "...\n",
      "#\n"
     ]
    },
    {
     "name": "stderr",
     "output_type": "stream",
     "text": [
      "Define input and output  \n",
      "Parse file  \n",
      "\tFound signal index in nanopolish eventalign header  \n",
      "[NanopolishComp summary] Reads:21\tKmers:13,717  \n"
     ]
    }
   ],
   "source": [
    "Eventalign_collapse (input_fn=\"./data/nanopolish_reads_index.tsv\", output_fn=\"./output/collapsed_nanopolish.tsv\", verbose=True)\n",
    "\n",
    "# Expand output\n",
    "with open (\"./output/collapsed_nanopolish.tsv\") as f:\n",
    "    c = 0\n",
    "    for line in f:\n",
    "        if line.startswith(\"#\"):\n",
    "            print (line[:-1])\n",
    "            c = 3\n",
    "        elif c>1:\n",
    "            print (line[:-1])\n",
    "            c-=1\n",
    "        elif c == 1:\n",
    "            print (\"...\")\n",
    "            c=0"
   ]
  },
  {
   "cell_type": "markdown",
   "metadata": {},
   "source": [
    "#### Minimal "
   ]
  },
  {
   "cell_type": "code",
   "execution_count": 9,
   "metadata": {
    "ExecuteTime": {
     "end_time": "2018-08-21T10:26:04.518059Z",
     "start_time": "2018-08-21T10:26:04.320471Z"
    }
   },
   "outputs": [
    {
     "name": "stdout",
     "output_type": "stream",
     "text": [
      "ref_pos\tref_kmer\r\n",
      "#\t0\tYGR240C\r\n",
      "1656\tGAAAA\r\n",
      "1657\tAAAAC\r\n",
      "1658\tAAACA\r\n",
      "1659\tAACAA\r\n",
      "1660\tACAAA\r\n",
      "1661\tCAAAG\r\n",
      "1662\tAAAGA\r\n",
      "1663\tAAGAT\r\n",
      "1664\tAGATT\r\n",
      "1665\tGATTT\r\n",
      "1666\tATTTC\r\n",
      "1667\tTTTCG\r\n",
      "1668\tTTCGA\r\n"
     ]
    },
    {
     "name": "stderr",
     "output_type": "stream",
     "text": [
      "Define input and output  \n",
      "Parse file  \n",
      "[NanopolishComp summary] Reads:21\tKmers:13,717  \n"
     ]
    }
   ],
   "source": [
    "Eventalign_collapse (input_fn=\"./data/nanopolish_reads.tsv\", output_fn=\"./output/collapsed_nanopolish.tsv\", verbose=True)\n",
    "! head output/collapsed_nanopolish.tsv -n 15"
   ]
  }
 ],
 "metadata": {
  "hide_input": false,
  "kernelspec": {
   "display_name": "Python3.6",
   "language": "python",
   "name": "python3.6"
  },
  "language_info": {
   "codemirror_mode": {
    "name": "ipython",
    "version": 3
   },
   "file_extension": ".py",
   "mimetype": "text/x-python",
   "name": "python",
   "nbconvert_exporter": "python",
   "pygments_lexer": "ipython3",
   "version": "3.6.6"
  }
 },
 "nbformat": 4,
 "nbformat_minor": 2
}
