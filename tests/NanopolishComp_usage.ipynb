{
 "cells": [
  {
   "cell_type": "markdown",
   "metadata": {},
   "source": [
    "# NanopolishComp package usage"
   ]
  },
  {
   "cell_type": "markdown",
   "metadata": {
    "ExecuteTime": {
     "end_time": "2018-08-10T10:03:00.595966Z",
     "start_time": "2018-08-10T10:03:00.587806Z"
    }
   },
   "source": [
    "## Eventalign_collapse usage"
   ]
  },
  {
   "cell_type": "markdown",
   "metadata": {
    "heading_collapsed": true
   },
   "source": [
    "### Bash command line usage"
   ]
  },
  {
   "cell_type": "markdown",
   "metadata": {
    "ExecuteTime": {
     "end_time": "2018-08-10T17:02:13.860121Z",
     "start_time": "2018-08-10T17:02:13.847128Z"
    },
    "hidden": true
   },
   "source": [
    "**From an existing nanopolish event align output to another file**"
   ]
  },
  {
   "cell_type": "code",
   "execution_count": 6,
   "metadata": {
    "ExecuteTime": {
     "end_time": "2018-08-15T12:46:48.024162Z",
     "start_time": "2018-08-15T12:46:47.228598Z"
    },
    "hidden": true,
    "scrolled": true
   },
   "outputs": [
    {
     "name": "stdout",
     "output_type": "stream",
     "text": [
      "YOL139C\t628\tCAATC\t20\t1\n",
      "YOL139C\t629\tAATCA\t20\t1\n",
      "YOL139C\t630\tATCAC\t20\t1\n",
      "YOL139C\t631\tTCACC\t20\t3\n",
      "YOL139C\t632\tCACCT\t20\t3\n",
      "YOL139C\t633\tACCTT\t20\t1\n",
      "YOL139C\t634\tCCTTG\t20\t1\n",
      "YOL139C\t635\tCTTGT\t20\t1\n",
      "YOL139C\t636\tTTGTA\t20\t6\n",
      "YOL139C\t637\tTGTAA\t20\t3\n"
     ]
    },
    {
     "name": "stderr",
     "output_type": "stream",
     "text": [
      "[NanopolishComp summary] Reads:21\tKmers:13,717  \n"
     ]
    }
   ],
   "source": [
    "NanopolishComp Eventalign_collapse -i ./data/nanopolish_reads.tsv -o ./output/nanopolish_collapsed_reads.tsv\n",
    "tail ./output/nanopolish_collapsed_reads.tsv"
   ]
  },
  {
   "cell_type": "markdown",
   "metadata": {
    "ExecuteTime": {
     "end_time": "2018-08-10T17:02:13.860121Z",
     "start_time": "2018-08-10T17:02:13.847128Z"
    },
    "hidden": true
   },
   "source": [
    "**From an existing nanopolish event align output to the standard output**"
   ]
  },
  {
   "cell_type": "code",
   "execution_count": 7,
   "metadata": {
    "ExecuteTime": {
     "end_time": "2018-08-15T12:47:01.080807Z",
     "start_time": "2018-08-15T12:47:00.319257Z"
    },
    "hidden": true,
    "scrolled": true
   },
   "outputs": [
    {
     "name": "stdout",
     "output_type": "stream",
     "text": [
      "YOL139C\t628\tCAATC\t20\t1\t12892\t12902\n",
      "YOL139C\t629\tAATCA\t20\t1\t12884\t12892\n",
      "YOL139C\t630\tATCAC\t20\t1\t12873\t12884\n",
      "YOL139C\t631\tTCACC\t20\t3\t12841\t12873\n",
      "YOL139C\t632\tCACCT\t20\t3\t12801\t12841\n",
      "YOL139C\t633\tACCTT\t20\t1\t12777\t12801\n",
      "YOL139C\t634\tCCTTG\t20\t1\t12767\t12777\n",
      "YOL139C\t635\tCTTGT\t20\t1\t12755\t12767\n",
      "YOL139C\t636\tTTGTA\t20\t6\t12670\t12755\n",
      "YOL139C\t637\tTGTAA\t20\t3\t12610\t12670\n"
     ]
    },
    {
     "name": "stderr",
     "output_type": "stream",
     "text": [
      "[NanopolishComp summary] Reads:21\tKmers:13,717  \n"
     ]
    }
   ],
   "source": [
    "NanopolishComp Eventalign_collapse -i ./data/nanopolish_reads_index.tsv | tail"
   ]
  },
  {
   "cell_type": "code",
   "execution_count": 9,
   "metadata": {
    "ExecuteTime": {
     "end_time": "2018-08-15T12:47:53.212187Z",
     "start_time": "2018-08-15T12:47:50.152209Z"
    },
    "hidden": true
   },
   "outputs": [
    {
     "name": "stdout",
     "output_type": "stream",
     "text": [
      "YOL139C\t628\tCAATC\t20\t1\t103.672\t103.862\t1.808\t3.271\n",
      "YOL139C\t629\tAATCA\t20\t1\t89.459\t89.569\t3.184\t10.137\n",
      "YOL139C\t630\tATCAC\t20\t1\t78.621\t78.501\t1.688\t2.848\n",
      "YOL139C\t631\tTCACC\t20\t3\t74.978\t74.91\t1.625\t2.64\n",
      "YOL139C\t632\tCACCT\t20\t3\t76.966\t76.889\t1.53\t2.341\n",
      "YOL139C\t633\tACCTT\t20\t1\t72.711\t72.93\t1.378\t1.898\n",
      "YOL139C\t634\tCCTTG\t20\t1\t78.384\t78.648\t1.358\t1.843\n",
      "YOL139C\t635\tCTTGT\t20\t1\t88.14\t88.397\t1.671\t2.791\n",
      "YOL139C\t636\tTTGTA\t20\t6\t101.538\t103.276\t9.207\t84.77\n",
      "YOL139C\t637\tTGTAA\t20\t3\t121.393\t123.434\t11.01\t121.228\n"
     ]
    },
    {
     "name": "stderr",
     "output_type": "stream",
     "text": [
      "[NanopolishComp summary] Reads:21\tKmers:13,717  \n"
     ]
    }
   ],
   "source": [
    "NanopolishComp Eventalign_collapse -i ./data/nanopolish_reads_samples.tsv | tail"
   ]
  },
  {
   "cell_type": "markdown",
   "metadata": {
    "hidden": true
   },
   "source": [
    "**Directly from nanopolish to the standard output.**"
   ]
  },
  {
   "cell_type": "code",
   "execution_count": 5,
   "metadata": {
    "ExecuteTime": {
     "end_time": "2018-08-15T13:01:54.814825Z",
     "start_time": "2018-08-15T13:01:51.093445Z"
    },
    "hidden": true,
    "scrolled": true
   },
   "outputs": [
    {
     "name": "stdout",
     "output_type": "stream",
     "text": [
      "YOL139C\t628\tCAATC\t20\t1\t12892\t12902\t103.672\t103.862\t1.808\t3.271\n",
      "YOL139C\t629\tAATCA\t20\t1\t12884\t12892\t89.459\t89.569\t3.184\t10.137\n",
      "YOL139C\t630\tATCAC\t20\t1\t12873\t12884\t78.621\t78.501\t1.688\t2.848\n",
      "YOL139C\t631\tTCACC\t20\t3\t12841\t12873\t74.978\t74.91\t1.625\t2.64\n",
      "YOL139C\t632\tCACCT\t20\t3\t12801\t12841\t76.966\t76.889\t1.53\t2.341\n",
      "YOL139C\t633\tACCTT\t20\t1\t12777\t12801\t72.711\t72.93\t1.378\t1.898\n",
      "YOL139C\t634\tCCTTG\t20\t1\t12767\t12777\t78.384\t78.648\t1.358\t1.843\n",
      "YOL139C\t635\tCTTGT\t20\t1\t12755\t12767\t88.14\t88.397\t1.671\t2.791\n",
      "YOL139C\t636\tTTGTA\t20\t6\t12670\t12755\t101.538\t103.276\t9.207\t84.77\n",
      "YOL139C\t637\tTGTAA\t20\t3\t12610\t12670\t121.393\t123.434\t11.01\t121.228\n"
     ]
    },
    {
     "name": "stderr",
     "output_type": "stream",
     "text": [
      "[post-run summary] total reads: 21, unparseable: 0, qc fail: 0, could not calibrate: 0, no alignment: 0, bad fast5: 0\n",
      "[NanopolishComp summary] Reads:21\tKmers:13,717  \n"
     ]
    }
   ],
   "source": [
    "nanopolish eventalign -t 1 --samples --scale-events --reads ./data/reads.fastq --bam ./data/aligned_reads.bam --genome ./data/reference.fa --signal-index| NanopolishComp Eventalign_collapse | tail"
   ]
  },
  {
   "cell_type": "markdown",
   "metadata": {
    "heading_collapsed": true
   },
   "source": [
    "### Directly from nanopolish to a file"
   ]
  },
  {
   "cell_type": "code",
   "execution_count": 7,
   "metadata": {
    "ExecuteTime": {
     "end_time": "2018-08-15T13:03:29.474753Z",
     "start_time": "2018-08-15T13:03:25.929180Z"
    },
    "hidden": true,
    "scrolled": true
   },
   "outputs": [
    {
     "name": "stderr",
     "output_type": "stream",
     "text": [
      "[post-run summary] total reads: 21, unparseable: 0, qc fail: 0, could not calibrate: 0, no alignment: 0, bad fast5: 0\n",
      "[NanopolishComp summary] Reads:21\tKmers:13,717  \n"
     ]
    }
   ],
   "source": [
    "nanopolish eventalign -t 1 --samples --scale-events --reads ./data/reads.fastq --bam ./data/aligned_reads.bam --genome ./data/reference.fa --signal-index| NanopolishComp Eventalign_collapse > output/collapsed_nanopolish.tsv"
   ]
  },
  {
   "cell_type": "markdown",
   "metadata": {},
   "source": [
    "### Python API usage"
   ]
  },
  {
   "cell_type": "code",
   "execution_count": 8,
   "metadata": {
    "ExecuteTime": {
     "end_time": "2018-08-15T13:05:04.147412Z",
     "start_time": "2018-08-15T13:05:04.142159Z"
    }
   },
   "outputs": [],
   "source": [
    "from NanopolishComp.Eventalign_collapse import Eventalign_collapse"
   ]
  },
  {
   "cell_type": "code",
   "execution_count": 9,
   "metadata": {
    "ExecuteTime": {
     "end_time": "2018-08-15T13:05:07.457995Z",
     "start_time": "2018-08-15T13:05:04.826505Z"
    },
    "scrolled": true
   },
   "outputs": [
    {
     "name": "stderr",
     "output_type": "stream",
     "text": [
      "Define input and output  \n",
      "Parse file  \n",
      "\tFound samples in nanopolish eventalign header  \n"
     ]
    },
    {
     "name": "stdout",
     "output_type": "stream",
     "text": [
      "ref_name\tref_pos\tref_kmer\tread_name\tn_events\tmean\tmedian\tstd\tvar\tsamples\r\n",
      "YGR240C\t1656\tGAAAA\t0\t1\t105.498\t105.48\t1.199\t1.437\t104.343;106.049;106.617;105.196;105.48;107.47;103.347;105.48\r\n",
      "YGR240C\t1657\tAAAAC\t0\t1\t111.093\t111.025\t1.667\t2.781\t112.873;106.617;110.03;114.579;111.736;113.726;111.309;109.745;113.157;109.034;111.025;112.162;112.162;110.172;110.598;110.74;111.025;109.461;110.883;112.02;111.878;110.314;109.887\r\n",
      "YGR240C\t1658\tAAACA\t0\t1\t100.113\t99.509\t2.855\t8.153\t100.077;97.5182;98.0869;97.0917;97.5182;99.3665;97.9447;99.6508;100.362;105.764;102.636;105.338\r\n",
      "YGR240C\t1659\tAACAA\t0\t1\t90.716\t89.13\t3.648\t13.309\t86.4285;87.1394;86.8551;89.1299;87.9925;91.5468;90.9781;95.2434;95.6699;97.376;89.1299;94.3903;87.4238\r\n",
      "YGR240C\t1660\tACAAA\t0\t1\t81.68\t81.595\t2.027\t4.107\t81.7368;79.6041;80.7415;82.5898;84.7224;80.8837;86.2864;82.3055;81.5946;79.1776;78.8932;83.3007;79.7463;80.4572;83.1585\r\n",
      "YGR240C\t1661\tCAAAG\t0\t1\t109.754\t111.167\t4.07\t16.568\t113.157;111.167;103.347;111.736;111.594;108.892;112.731;111.025;109.319;113.3;110.883;111.736;113.868;111.878;107.897;105.764;97.5182\r\n",
      "YGR240C\t1662\tAAAGA\t0\t1\t117.82\t118.134\t3.554\t12.631\t122.399;115.006;115.29;116.996;116.996;109.745;118.276;123.963;121.688;119.555;120.835;121.688;110.456;118.987;118.134;114.721;115.574;120.835;121.83;118.134;118.134;116.57;121.688;112.162;118.418;116.427;116.57;113.584;122.114\r\n",
      "YGR240C\t1663\tAAGAT\t0\t1\t137.011\t137.185\t3.222\t10.384\t134.768;138.18;131.356;141.592;137.185;137.327;134.057;142.019;136.616\r\n",
      "YGR240C\t1664\tAGATT\t0\t5\t136.944\t136.83\t8.283\t68.61\t142.872;142.019;138.038;141.877;140.882;144.152;141.45;143.583;143.441;136.758;136.19;146.284;136.616;141.166;138.465;137.327;136.758;136.901;134.484;135.621;132.067;133.346;134.342;131.214;125.1;123.678;131.782;124.958;127.517;132.493;126.522;122.683;117.565;133.488;147.422;133.488;119.982;152.54;149.839;147.279;133.346;130.645;145.431;122.257;146.142;146.711;148.275;146.142;139.175;144.862;131.214;144.72\r\n"
     ]
    },
    {
     "name": "stderr",
     "output_type": "stream",
     "text": [
      "[NanopolishComp summary] Reads:21\tKmers:13,717  \n"
     ]
    }
   ],
   "source": [
    "Eventalign_collapse (input_fn=\"./data/nanopolish_reads_samples.tsv\", output_fn=\"./output/collapsed_nanopolish.tsv\", write_samples=True, verbose=True)\n",
    "! head output/collapsed_nanopolish.tsv"
   ]
  },
  {
   "cell_type": "code",
   "execution_count": 11,
   "metadata": {
    "ExecuteTime": {
     "end_time": "2018-08-15T13:05:23.250763Z",
     "start_time": "2018-08-15T13:05:20.750680Z"
    }
   },
   "outputs": [
    {
     "name": "stderr",
     "output_type": "stream",
     "text": [
      "Define input and output  \n",
      "Parse file  \n",
      "\tFound samples in nanopolish eventalign header  \n",
      "[NanopolishComp summary] Reads:21\tKmers:13,717  \n"
     ]
    }
   ],
   "source": [
    "Eventalign_collapse (input_fn=\"./data/nanopolish_reads_samples.tsv\", output_fn=\"./output/collapsed_nanopolish.tsv\", verbose=True)\n",
    "! head output/collapsed_nanopolish.tsv -n 15"
   ]
  },
  {
   "cell_type": "code",
   "execution_count": 4,
   "metadata": {
    "ExecuteTime": {
     "end_time": "2018-08-15T12:59:36.609137Z",
     "start_time": "2018-08-15T12:59:36.411632Z"
    }
   },
   "outputs": [
    {
     "name": "stderr",
     "output_type": "stream",
     "text": [
      "Define input and output  \n",
      "Parse file  \n"
     ]
    },
    {
     "name": "stdout",
     "output_type": "stream",
     "text": [
      "ref_name\tref_pos\tref_kmer\tread_name\tn_events\r\n",
      "YGR240C\t1656\tGAAAA\t0\t1\r\n",
      "YGR240C\t1657\tAAAAC\t0\t1\r\n",
      "YGR240C\t1658\tAAACA\t0\t1\r\n",
      "YGR240C\t1659\tAACAA\t0\t1\r\n",
      "YGR240C\t1660\tACAAA\t0\t1\r\n",
      "YGR240C\t1661\tCAAAG\t0\t1\r\n",
      "YGR240C\t1662\tAAAGA\t0\t1\r\n",
      "YGR240C\t1663\tAAGAT\t0\t1\r\n",
      "YGR240C\t1664\tAGATT\t0\t5\r\n",
      "YGR240C\t1665\tGATTT\t0\t2\r\n",
      "YGR240C\t1666\tATTTC\t0\t2\r\n",
      "YGR240C\t1667\tTTTCG\t0\t2\r\n",
      "YGR240C\t1668\tTTCGA\t0\t1\r\n",
      "YGR240C\t1669\tTCGAT\t0\t1\r\n"
     ]
    },
    {
     "name": "stderr",
     "output_type": "stream",
     "text": [
      "[NanopolishComp summary] Reads:21\tKmers:13,717  \n"
     ]
    }
   ],
   "source": [
    "Eventalign_collapse (input_fn=\"./data/nanopolish_reads.tsv\", output_fn=\"./output/collapsed_nanopolish.tsv\", verbose=True)\n",
    "! head output/collapsed_nanopolish.tsv -n 15"
   ]
  }
 ],
 "metadata": {
  "hide_input": false,
  "kernelspec": {
   "display_name": "Python3.6",
   "language": "python",
   "name": "python3.6"
  },
  "language_info": {
   "codemirror_mode": {
    "name": "ipython",
    "version": 3
   },
   "file_extension": ".py",
   "mimetype": "text/x-python",
   "name": "python",
   "nbconvert_exporter": "python",
   "pygments_lexer": "ipython3",
   "version": "3.6.6"
  }
 },
 "nbformat": 4,
 "nbformat_minor": 2
}
