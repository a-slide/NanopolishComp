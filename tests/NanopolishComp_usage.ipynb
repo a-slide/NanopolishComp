{
 "cells": [
  {
   "cell_type": "markdown",
   "metadata": {
    "ExecuteTime": {
     "end_time": "2018-08-10T10:03:00.595966Z",
     "start_time": "2018-08-10T10:03:00.587806Z"
    }
   },
   "source": [
    "# Eventalign_collapse usage"
   ]
  },
  {
   "cell_type": "markdown",
   "metadata": {},
   "source": [
    "## Bash command line usage"
   ]
  },
  {
   "cell_type": "markdown",
   "metadata": {
    "ExecuteTime": {
     "end_time": "2018-08-10T17:02:13.860121Z",
     "start_time": "2018-08-10T17:02:13.847128Z"
    }
   },
   "source": [
    "#### From an existing nanopolish eventalign output to a file"
   ]
  },
  {
   "cell_type": "code",
   "execution_count": 10,
   "metadata": {
    "ExecuteTime": {
     "end_time": "2018-09-14T20:59:21.776357Z",
     "start_time": "2018-09-14T20:59:20.000354Z"
    },
    "init_cell": true,
    "scrolled": true
   },
   "outputs": [
    {
     "name": "stdout",
     "output_type": "stream",
     "text": [
      "#1\tYCR030C\n",
      "ref_pos\tref_kmer\tn_events\tNNNNN_events\tmismatching_events\n",
      "1578\tCCACC\t1\t0\t0\n",
      "1579\tCACCC\t15\t0\t0\n",
      "1580\tACCCT\t1\t0\t0\n",
      "1581\tCCCTC\t1\t0\t0\n",
      "1582\tCCTCA\t5\t0\t0\n",
      "1583\tCTCAA\t1\t0\t0\n",
      "1584\tTCAAG\t1\t0\t0\n",
      "1585\tCAAGG\t1\t0\t0\n",
      "ref_id\tref_start\tref_end\tread_id\tkmers\tNNNNN_kmers\tmismatching_kmers\tmissing_kmers\tbyte_offset\tbyte_len\n",
      "YCR030C\t1578\t2576\t1\t971\t23\t0\t27\t0\t16579\n",
      "YHR174W\t0\t839\t2\t825\t15\t0\t14\t16580\t13169\n",
      "YGR240C\t1656\t2960\t0\t1250\t35\t0\t54\t29750\t21325\n",
      "YHR174W\t218\t1309\t3\t1028\t36\t0\t63\t51076\t16818\n",
      "YLR441C\t173\t764\t5\t554\t20\t0\t37\t67895\t8932\n",
      "YHR174W\t462\t1309\t4\t818\t18\t0\t29\t76828\t13465\n",
      "YGR192C\t1\t989\t6\t927\t37\t0\t61\t90294\t14810\n",
      "YDR500C\t9\t252\t8\t231\t7\t0\t14\t105105\t3679\n",
      "YGR192C\t3\t995\t7\t946\t31\t0\t50\t108785\t15115\n"
     ]
    },
    {
     "name": "stderr",
     "output_type": "stream",
     "text": [
      "[Eventalign_collapse] total reads: 21 [57.68 reads/s]\n"
     ]
    }
   ],
   "source": [
    "%%bash\n",
    "source ~/.bashrc && workon Nanopolish_0.10.1\n",
    "\n",
    "NanopolishComp Eventalign_collapse -i ./data/nanopolish_reads.tsv -o ./output/nanopolish_collapsed_reads.tsv\n",
    "head ./output/nanopolish_collapsed_reads.tsv\n",
    "head ./output/nanopolish_collapsed_reads.tsv.idx"
   ]
  },
  {
   "cell_type": "markdown",
   "metadata": {},
   "source": [
    "#### From standard input to a file"
   ]
  },
  {
   "cell_type": "code",
   "execution_count": 11,
   "metadata": {
    "ExecuteTime": {
     "end_time": "2018-09-14T20:59:23.620111Z",
     "start_time": "2018-09-14T20:59:21.785809Z"
    },
    "init_cell": true
   },
   "outputs": [
    {
     "name": "stdout",
     "output_type": "stream",
     "text": [
      "#1\tYCR030C\n",
      "ref_pos\tref_kmer\tn_events\tNNNNN_events\tmismatching_events\tstart_idx\tend_idx\n",
      "1578\tCCACC\t1\t0\t0\t47517\t47528\n",
      "1579\tCACCC\t15\t0\t0\t47223\t47517\n",
      "1580\tACCCT\t1\t0\t0\t47216\t47223\n",
      "1581\tCCCTC\t1\t0\t0\t47209\t47216\n",
      "1582\tCCTCA\t5\t0\t0\t47162\t47209\n",
      "1583\tCTCAA\t1\t0\t0\t47150\t47162\n",
      "1584\tTCAAG\t1\t0\t0\t47117\t47150\n",
      "1585\tCAAGG\t1\t0\t0\t47110\t47117\n",
      "ref_id\tref_start\tref_end\tread_id\tkmers\tNNNNN_kmers\tmismatching_kmers\tmissing_kmers\tbyte_offset\tbyte_len\n",
      "YCR030C\t1578\t2576\t1\t971\t23\t0\t27\t0\t28249\n",
      "YGR240C\t1656\t2960\t0\t1250\t35\t0\t54\t28250\t36343\n",
      "YHR174W\t0\t839\t2\t825\t15\t0\t14\t64594\t22533\n",
      "YHR174W\t462\t1309\t4\t818\t18\t0\t29\t87128\t23299\n",
      "YHR174W\t218\t1309\t3\t1028\t36\t0\t63\t110428\t29172\n",
      "YLR441C\t173\t764\t5\t554\t20\t0\t37\t139601\t15598\n",
      "YGR192C\t1\t989\t6\t927\t37\t0\t61\t155200\t25951\n",
      "YDR500C\t9\t252\t8\t231\t7\t0\t14\t181152\t6469\n",
      "YDR224C\t0\t389\t9\t376\t8\t0\t13\t187622\t10513\n"
     ]
    },
    {
     "name": "stderr",
     "output_type": "stream",
     "text": [
      "Collapse file by read_id/ref_id\n",
      "\r",
      "0 reads [00:00, ? reads/s]\r",
      "4 reads [00:00, 31.45 reads/s]\r",
      "12 reads [00:00, 33.31 reads/s]\r",
      "20 reads [00:00, 35.34 reads/s]\r",
      "21 reads [00:00, 60.05 reads/s]\n",
      "[Eventalign_collapse] total reads: 21 [59.58 reads/s]\n"
     ]
    }
   ],
   "source": [
    "%%bash\n",
    "source ~/.bashrc && workon Nanopolish_0.10.1\n",
    "\n",
    "cat ./data/nanopolish_reads_index.tsv | NanopolishComp Eventalign_collapse -o ./output/nanopolish_collapsed_reads.tsv --verbose\n",
    "head ./output/nanopolish_collapsed_reads.tsv\n",
    "head ./output/nanopolish_collapsed_reads.tsv.idx"
   ]
  },
  {
   "cell_type": "markdown",
   "metadata": {},
   "source": [
    "#### On the fly, from nanopolish eventalign to a file"
   ]
  },
  {
   "cell_type": "code",
   "execution_count": 12,
   "metadata": {
    "ExecuteTime": {
     "end_time": "2018-09-14T20:59:27.144787Z",
     "start_time": "2018-09-14T20:59:23.625136Z"
    },
    "init_cell": true,
    "scrolled": true
   },
   "outputs": [
    {
     "name": "stdout",
     "output_type": "stream",
     "text": [
      "#3784283c-47cc-48ac-8d7b-7efd32123b56\tYHR174W\n",
      "ref_pos\tref_kmer\tn_events\tNNNNN_events\tmismatching_events\tmean\tstd\tn_signals\n",
      "0\tATGGC\t1\t0\t0\t86.3893051147461\t3.8192403316497803\t33\n",
      "1\tTGGCT\t4\t0\t0\t104.78181457519531\t6.572873592376709\t98\n",
      "2\tGGCTG\t1\t0\t0\t96.55765533447266\t6.874111652374268\t14\n",
      "3\tGCTGT\t5\t0\t0\t81.69342803955078\t5.14208984375\t116\n",
      "4\tCTGTC\t1\t0\t0\t102.4487075805664\t1.5290673971176147\t7\n",
      "5\tTGTCT\t4\t0\t0\t107.04158020019531\t5.813553810119629\t58\n",
      "6\tGTCTC\t2\t0\t0\t76.83718872070312\t2.1963260173797607\t24\n",
      "7\tTCTCT\t1\t0\t0\t80.0484619140625\t1.0306347608566284\t7\n",
      "ref_id\tref_start\tref_end\tread_id\tkmers\tNNNNN_kmers\tmismatching_kmers\tmissing_kmers\tbyte_offset\tbyte_len\n",
      "YHR174W\t0\t839\t3784283c-47cc-48ac-8d7b-7efd32123b56\t825\t15\t0\t14\t0\t45732\n",
      "YHR174W\t218\t1309\t3e81c32a-f2ee-4719-a88d-e0affe93d26f\t1028\t36\t0\t63\t45733\t57431\n",
      "YCR030C\t1578\t2576\t9a1c5296-2ab1-4abd-8d50-e059754cf332\t971\t23\t0\t27\t103165\t54928\n",
      "YLR441C\t173\t764\t6af04302-04c8-4d8d-8e87-aa69178b3f24\t554\t20\t0\t37\t158094\t30857\n",
      "YGR240C\t1656\t2960\t97205d42-93ac-4c99-af78-e553f7d1ff83\t1250\t35\t0\t54\t188952\t70731\n",
      "YHR174W\t462\t1309\t0ef36fa0-7c3f-47f5-8410-027f50724701\t818\t18\t0\t29\t259684\t45875\n",
      "YGR192C\t3\t995\t2c32553e-62c6-4c7a-bf05-249771364f04\t946\t31\t0\t50\t305560\t52533\n",
      "YDR500C\t9\t252\te6a8e4d0-7b3c-471a-be26-fa7857d12663\t231\t7\t0\t14\t358094\t12848\n",
      "YDR224C\t0\t389\tf8325de9-a77e-4616-a4a8-69ecf32e1688\t376\t8\t0\t13\t370943\t20888\n"
     ]
    },
    {
     "name": "stderr",
     "output_type": "stream",
     "text": [
      "[post-run summary] total reads: 21, unparseable: 0, qc fail: 0, could not calibrate: 0, no alignment: 0, bad fast5: 0\n",
      "[Eventalign_collapse] total reads: 21 [10.39 reads/s]\n"
     ]
    }
   ],
   "source": [
    "%%bash\n",
    "source ~/.bashrc && workon Nanopolish_0.10.1\n",
    "\n",
    "nanopolish eventalign -t 4 --samples --scale-events --print-read-name --reads ./data/reads.fastq --bam ./data/aligned_reads.bam --genome ./data/reference.fa | NanopolishComp Eventalign_collapse  -o ./output/nanopolish_collapsed_reads.tsv\n",
    "head ./output/nanopolish_collapsed_reads.tsv\n",
    "head ./output/nanopolish_collapsed_reads.tsv.idx"
   ]
  },
  {
   "cell_type": "markdown",
   "metadata": {},
   "source": [
    "## Python API usage"
   ]
  },
  {
   "cell_type": "markdown",
   "metadata": {},
   "source": [
    "#### Import the package"
   ]
  },
  {
   "cell_type": "code",
   "execution_count": 13,
   "metadata": {
    "ExecuteTime": {
     "end_time": "2018-09-14T20:59:27.159611Z",
     "start_time": "2018-09-14T20:59:27.147676Z"
    },
    "init_cell": true
   },
   "outputs": [],
   "source": [
    "from NanopolishComp.Eventalign_collapse import Eventalign_collapse"
   ]
  },
  {
   "cell_type": "markdown",
   "metadata": {},
   "source": [
    "#### Example with minimal file"
   ]
  },
  {
   "cell_type": "code",
   "execution_count": 14,
   "metadata": {
    "ExecuteTime": {
     "end_time": "2018-09-14T20:59:27.929045Z",
     "start_time": "2018-09-14T20:59:27.166598Z"
    },
    "init_cell": true,
    "scrolled": true
   },
   "outputs": [
    {
     "name": "stderr",
     "output_type": "stream",
     "text": [
      "Collapse file by read_id/ref_id\n",
      "21 reads [00:00, 47.46 reads/s]\n",
      "[Eventalign_collapse] total reads: 21 [43.95 reads/s]\n"
     ]
    },
    {
     "name": "stdout",
     "output_type": "stream",
     "text": [
      "Collapsed eventalign file\n",
      "#0\tYGR240C\n",
      "ref_pos\tref_kmer\tn_events\tNNNNN_events\tmismatching_events\n",
      "1656\tGAAAA\t1\t0\t0\n",
      "1657\tAAAAC\t1\t0\t0\n",
      "1658\tAAACA\t1\t0\t0\n",
      "1659\tAACAA\t1\t0\t0\n",
      "1660\tACAAA\t1\t0\t0\n",
      "1661\tCAAAG\t1\t0\t0\n",
      "1662\tAAAGA\t1\t0\t0\n",
      "1663\tAAGAT\t1\t0\t0\n",
      "Index file\n",
      "ref_id\tref_start\tref_end\tread_id\tkmers\tNNNNN_kmers\tmismatching_kmers\tmissing_kmers\tbyte_offset\tbyte_len\n",
      "YGR240C\t1656\t2960\t0\t1250\t35\t0\t54\t0\t21325\n",
      "YCR030C\t1578\t2576\t1\t971\t23\t0\t27\t21326\t16579\n",
      "YHR174W\t0\t839\t2\t825\t15\t0\t14\t37906\t13169\n",
      "YLR441C\t173\t764\t5\t554\t20\t0\t37\t51076\t8932\n",
      "YHR174W\t462\t1309\t4\t818\t18\t0\t29\t60009\t13465\n",
      "YHR174W\t218\t1309\t3\t1028\t36\t0\t63\t73475\t16818\n",
      "YGR192C\t1\t989\t6\t927\t37\t0\t61\t90294\t14810\n",
      "YDR500C\t9\t252\t8\t231\t7\t0\t14\t105105\t3679\n",
      "YGR192C\t3\t995\t7\t946\t31\t0\t50\t108785\t15115\n"
     ]
    }
   ],
   "source": [
    "input_fn = \"./data/nanopolish_reads.tsv\"\n",
    "output_fn = \"./output/collapsed_nanopolish.tsv\"\n",
    "index_fn = \"./output/collapsed_nanopolish.tsv.idx\"\n",
    "\n",
    "Eventalign_collapse (input_fn=input_fn, output_fn=output_fn, threads=6, verbose=True)\n",
    "\n",
    "print (\"Collapsed eventalign file\")\n",
    "! head {output_fn} -n 10\n",
    "\n",
    "print (\"Index file\")\n",
    "! head {index_fn} -n 10"
   ]
  },
  {
   "cell_type": "markdown",
   "metadata": {},
   "source": [
    "#### Example with indexes"
   ]
  },
  {
   "cell_type": "code",
   "execution_count": 15,
   "metadata": {
    "ExecuteTime": {
     "end_time": "2018-09-14T20:59:28.722906Z",
     "start_time": "2018-09-14T20:59:27.932094Z"
    },
    "init_cell": true
   },
   "outputs": [
    {
     "name": "stderr",
     "output_type": "stream",
     "text": [
      "Collapse file by read_id/ref_id\n",
      "21 reads [00:00, 53.62 reads/s]\n",
      "[Eventalign_collapse] total reads: 21 [49.85 reads/s]\n"
     ]
    },
    {
     "name": "stdout",
     "output_type": "stream",
     "text": [
      "\n",
      "Collapsed eventalign file\n",
      "#0\tYGR240C\n",
      "ref_pos\tref_kmer\tn_events\tNNNNN_events\tmismatching_events\tstart_idx\tend_idx\n",
      "1656\tGAAAA\t1\t0\t0\t63446\t63454\n",
      "1657\tAAAAC\t1\t0\t0\t63423\t63446\n",
      "1658\tAAACA\t1\t0\t0\t63411\t63423\n",
      "1659\tAACAA\t1\t0\t0\t63398\t63411\n",
      "1660\tACAAA\t1\t0\t0\t63383\t63398\n",
      "1661\tCAAAG\t1\t0\t0\t63366\t63383\n",
      "1662\tAAAGA\t1\t0\t0\t63337\t63366\n",
      "1663\tAAGAT\t1\t0\t0\t63328\t63337\n",
      "\n",
      "Index file\n",
      "ref_id\tref_start\tref_end\tread_id\tkmers\tNNNNN_kmers\tmismatching_kmers\tmissing_kmers\tbyte_offset\tbyte_len\n",
      "YGR240C\t1656\t2960\t0\t1250\t35\t0\t54\t0\t36343\n",
      "YCR030C\t1578\t2576\t1\t971\t23\t0\t27\t36344\t28249\n",
      "YHR174W\t0\t839\t2\t825\t15\t0\t14\t64594\t22533\n",
      "YHR174W\t218\t1309\t3\t1028\t36\t0\t63\t87128\t29172\n",
      "YLR441C\t173\t764\t5\t554\t20\t0\t37\t116301\t15598\n",
      "YHR174W\t462\t1309\t4\t818\t18\t0\t29\t131900\t23299\n",
      "YGR192C\t1\t989\t6\t927\t37\t0\t61\t155200\t25951\n",
      "YDR500C\t9\t252\t8\t231\t7\t0\t14\t181152\t6469\n",
      "YGR192C\t3\t995\t7\t946\t31\t0\t50\t187622\t26485\n"
     ]
    }
   ],
   "source": [
    "input_fn = \"./data/nanopolish_reads_index.tsv\"\n",
    "output_fn = \"./output/collapsed_nanopolish_index.tsv\"\n",
    "index_fn = \"./output/collapsed_nanopolish_index.tsv.idx\"\n",
    "\n",
    "Eventalign_collapse (input_fn=input_fn, output_fn=output_fn, verbose=True, threads=6)\n",
    "\n",
    "print (\"\\nCollapsed eventalign file\")\n",
    "! head {output_fn} -n 10\n",
    "\n",
    "print (\"\\nIndex file\")\n",
    "! head {index_fn} -n 10"
   ]
  },
  {
   "cell_type": "markdown",
   "metadata": {},
   "source": [
    "#### Example including samples"
   ]
  },
  {
   "cell_type": "code",
   "execution_count": 16,
   "metadata": {
    "ExecuteTime": {
     "end_time": "2018-09-14T20:59:30.504836Z",
     "start_time": "2018-09-14T20:59:28.726083Z"
    },
    "init_cell": true,
    "scrolled": false
   },
   "outputs": [
    {
     "name": "stderr",
     "output_type": "stream",
     "text": [
      "Collapse file by read_id/ref_id\n",
      "21 reads [00:01, 14.59 reads/s]\n",
      "[Eventalign_collapse] total reads: 21 [14.22 reads/s]\n"
     ]
    },
    {
     "name": "stdout",
     "output_type": "stream",
     "text": [
      "\n",
      "Collapsed eventalign file\n",
      "#2\tYHR174W\n",
      "ref_pos\tref_kmer\tn_events\tNNNNN_events\tmismatching_events\tmean\tstd\tn_signals\n",
      "0\tATGGC\t1\t0\t0\t86.3893051147461\t3.8192403316497803\t33\n",
      "1\tTGGCT\t4\t0\t0\t104.78181457519531\t6.572873592376709\t98\n",
      "2\tGGCTG\t1\t0\t0\t96.55765533447266\t6.874111652374268\t14\n",
      "3\tGCTGT\t5\t0\t0\t81.69342803955078\t5.14208984375\t116\n",
      "4\tCTGTC\t1\t0\t0\t102.4487075805664\t1.5290673971176147\t7\n",
      "5\tTGTCT\t4\t0\t0\t107.04158020019531\t5.813553810119629\t58\n",
      "6\tGTCTC\t2\t0\t0\t76.83718872070312\t2.1963260173797607\t24\n",
      "7\tTCTCT\t1\t0\t0\t80.0484619140625\t1.0306347608566284\t7\n",
      "\n",
      "Index file\n",
      "ref_id\tref_start\tref_end\tread_id\tkmers\tNNNNN_kmers\tmismatching_kmers\tmissing_kmers\tbyte_offset\tbyte_len\n",
      "YHR174W\t0\t839\t2\t825\t15\t0\t14\t0\t45697\n",
      "YCR030C\t1578\t2576\t1\t971\t23\t0\t27\t45698\t54893\n",
      "YHR174W\t218\t1309\t3\t1028\t36\t0\t63\t100592\t57396\n",
      "YGR240C\t1656\t2960\t0\t1250\t35\t0\t54\t157989\t70696\n",
      "YLR441C\t173\t764\t5\t554\t20\t0\t37\t228686\t30822\n",
      "YDR500C\t9\t252\t8\t231\t7\t0\t14\t259509\t12813\n",
      "YHR174W\t462\t1309\t4\t818\t18\t0\t29\t272323\t45840\n",
      "YDR224C\t0\t389\t9\t376\t8\t0\t13\t318164\t20853\n",
      "YGR192C\t1\t989\t6\t927\t37\t0\t61\t339018\t51380\n"
     ]
    }
   ],
   "source": [
    "input_fn = \"./data/nanopolish_reads_samples.tsv\"\n",
    "output_fn = \"./output/collapsed_nanopolish_samples.tsv\"\n",
    "index_fn = \"./output/collapsed_nanopolish_samples.tsv.idx\"\n",
    "\n",
    "Eventalign_collapse (input_fn=input_fn, output_fn=output_fn, verbose=True, threads=6)\n",
    "\n",
    "print (\"\\nCollapsed eventalign file\")\n",
    "! head {output_fn} -n 10\n",
    "\n",
    "print (\"\\nIndex file\")\n",
    "! head {index_fn} -n 10"
   ]
  },
  {
   "cell_type": "markdown",
   "metadata": {},
   "source": [
    "#### Example including samples and writing samples values in ouput file"
   ]
  },
  {
   "cell_type": "code",
   "execution_count": 17,
   "metadata": {
    "ExecuteTime": {
     "end_time": "2018-09-14T20:59:32.195978Z",
     "start_time": "2018-09-14T20:59:30.510397Z"
    },
    "init_cell": true,
    "scrolled": false
   },
   "outputs": [
    {
     "name": "stderr",
     "output_type": "stream",
     "text": [
      "Collapse file by read_id/ref_id\n",
      "21 reads [00:01, 16.02 reads/s]\n",
      "[Eventalign_collapse] total reads: 21 [15.37 reads/s]\n"
     ]
    },
    {
     "name": "stdout",
     "output_type": "stream",
     "text": [
      "\n",
      "Collapsed eventalign file\n",
      "#1\tYCR030C\n",
      "ref_pos\tref_kmer\tn_events\tNNNNN_events\tmismatching_events\tmean\tstd\tn_signals\tsamples\n",
      "1578\tCCACC\t1\t0\t0\t70.06341552734375\t2.593737840652466\t11\t70.6773,72.1454,71.4114,63.6306,69.2093,69.2093,67.3008,72.5858,69.9433,72.8794,71.705\n",
      "1579\tCACCC\t15\t0\t0\t74.59468841552734\t3.2702603340148926\t294\t75.0815,75.8156,79.6326,78.0177,75.3752,77.2837,78.0177,72.2922,76.99,74.7879,75.3752,75.522,75.6688,73.3199,74.9347,77.5773,73.7603,74.3475,72.7326,75.522,77.2837,75.2284,76.6964,78.4581,78.4581,79.7794,76.5496,76.8432,70.2369,70.2369,81.1006,77.8709,74.9347,72.439,75.8156,77.5773,75.9624,77.4305,76.1092,77.2837,64.5114,74.4943,78.4581,77.4305,76.8432,75.0815,76.1092,78.3113,76.5496,75.6688,76.5496,77.4305,78.6049,76.4028,75.8156,77.1368,71.8518,76.4028,75.8156,75.9624,74.9347,78.3113,72.2922,75.6688,75.0815,75.522,75.9624,70.6773,69.9433,69.2093,68.3284,69.3561,69.2093,69.7965,67.888,68.9157,68.622,69.0625,69.7965,73.173,76.1092,74.7879,75.2284,78.3113,76.256,78.3113,77.7241,72.7326,73.6135,78.6049,75.522,75.8156,74.0539,67.3008,72.439,72.2922,67.0072,74.6411,76.1092,75.8156,73.3199,77.2837,70.3837,73.4667,74.7879,76.6964,79.1921,73.3199,76.6964,76.4028,71.1178,76.1092,79.7794,77.7241,77.1368,74.3475,78.6049,78.8985,77.2837,77.7241,70.0901,79.0453,76.1092,73.6135,78.1645,79.0453,75.8156,79.3389,79.0453,77.1368,78.1645,78.3113,77.8709,79.4858,75.8156,76.4028,77.2837,77.4305,79.6326,77.4305,81.8347,76.5496,76.5496,78.8985,74.7879,77.2837,80.2198,75.6688,78.1645,76.99,79.3389,79.0453,71.5582,78.6049,79.7794,78.3113,78.1645,75.3752,76.8432,80.073,78.3113,80.2198,80.073,80.9538,77.5773,77.8709,75.6688,80.807,77.8709,78.0177,79.3389,80.2198,80.2198,76.1092,77.8709,76.5496,76.6964,77.8709,77.1368,75.9624,76.99,72.2922,71.8518,73.9071,68.9157,70.0901,71.8518,75.3752,73.9071,72.1454,73.6135,74.4943,73.173,75.9624,75.0815,74.6411,75.0815,75.2284,74.4943,75.522,76.6964,72.7326,73.7603,74.9347,75.522,74.0539,71.2646,70.3837,72.439,75.522,75.9624,71.705,72.2922,70.8241,71.1178,70.971,74.7879,75.6688,74.6411,72.1454,73.0262,71.4114,73.9071,74.2007,75.0815,74.4943,72.1454,72.8794,72.1454,69.6497,71.5582,72.439,70.6773,69.7965,68.4752,68.7689,73.6135,73.7603,72.2922,71.4114,69.2093,70.2369,73.3199,72.439,71.5582,67.4476,72.8794,72.2922,72.5858,72.439,73.9071,69.6497,72.2922,73.6135,74.4943,73.0262,70.0901,72.439,71.8518,72.1454,71.9986,70.2369,74.0539,70.971,72.1454,71.2646,71.8518,71.1178,71.5582,70.971,69.2093,70.8241,71.4114,71.2646,72.1454,70.5305,69.6497,70.6773,69.9433,72.8794,67.5944,66.7135,70.5305,69.7965,68.622,73.4667,73.7603,76.1092,77.1368,74.3475,75.8156,74.7879,76.8432,75.8156\n",
      "1580\tACCCT\t1\t0\t0\t67.23785400390625\t1.7063778638839722\t7\t64.9519,65.6859,67.888,68.1816,68.1816,65.6859,70.0901\n",
      "1581\tCCCTC\t1\t0\t0\t72.0615005493164\t1.1475614309310913\t7\t70.3837,72.5858,70.6773,71.4114,73.0262,73.6135,72.7326\n",
      "1582\tCCTCA\t5\t0\t0\t73.5634994506836\t2.3691813945770264\t47\t75.522,77.8709,75.2284,74.3475,75.9624,76.6964,72.1454,71.1178,71.1178,72.439,76.256,74.0539,73.0262,73.4667,70.6773,71.5582,69.7965,71.1178,68.3284,70.6773,73.6135,69.6497,67.4476,73.7603,74.3475,72.8794,74.0539,73.3199,74.4943,75.522,72.8794,72.5858,71.2646,73.4667,74.3475,74.4943,74.9347,71.9986,72.2922,76.8432,74.9347,76.5496,75.6688,75.2284,75.0815,76.6964,77.7241\n",
      "1583\tCTCAA\t1\t0\t0\t77.58948516845703\t1.5072672367095947\t12\t74.3475,75.0815,78.3113,78.8985,77.8709,78.3113,76.4028,78.0177,77.1368,78.3113,78.8985,79.4858\n",
      "1584\tTCAAG\t1\t0\t0\t83.52072143554688\t3.1505558490753174\t33\t88.441,79.9262,81.6879,81.9815,85.0644,86.9729,84.624,81.1006,76.99,79.0453,79.9262,84.0368,92.1112,83.0091,84.1836,80.807,84.0368,85.7985,87.2665,85.6516,83.0091,87.7069,81.2474,84.0368,79.1921,79.6326,87.2665,83.4495,84.0368,83.7432,80.807,84.624,84.7708\n",
      "1585\tCAAGG\t1\t0\t0\t105.23970794677734\t3.632479667663574\t7\t113.251,102.534,104.296,103.415,106.498,101.36,105.324\n",
      "\n",
      "Index file\n",
      "ref_id\tref_start\tref_end\tread_id\tkmers\tNNNNN_kmers\tmismatching_kmers\tmissing_kmers\tbyte_offset\tbyte_len\n",
      "YCR030C\t1578\t2576\t1\t971\t23\t0\t27\t0\t327672\n",
      "YHR174W\t0\t839\t2\t825\t15\t0\t14\t327673\t275726\n",
      "YHR174W\t218\t1309\t3\t1028\t36\t0\t63\t603400\t320571\n",
      "YGR240C\t1656\t2960\t0\t1250\t35\t0\t54\t923972\t398437\n",
      "YLR441C\t173\t764\t5\t554\t20\t0\t37\t1322410\t162838\n",
      "YHR174W\t462\t1309\t4\t818\t18\t0\t29\t1485249\t301466\n",
      "YDR500C\t9\t252\t8\t231\t7\t0\t14\t1786716\t82243\n",
      "YDR224C\t0\t389\t9\t376\t8\t0\t13\t1868960\t122644\n",
      "YGR192C\t1\t989\t6\t927\t37\t0\t61\t1991605\t329807\n"
     ]
    }
   ],
   "source": [
    "input_fn = \"./data/nanopolish_reads_samples.tsv\"\n",
    "output_fn = \"./output/collapsed_nanopolish_samples.tsv\"\n",
    "index_fn = \"./output/collapsed_nanopolish_samples.tsv.idx\"\n",
    "\n",
    "Eventalign_collapse (input_fn=input_fn, output_fn=output_fn, verbose=True, threads=6, write_samples=True)\n",
    "\n",
    "print (\"\\nCollapsed eventalign file\")\n",
    "! head {output_fn} -n 10\n",
    "\n",
    "print (\"\\nIndex file\")\n",
    "! head {index_fn} -n 10"
   ]
  },
  {
   "cell_type": "markdown",
   "metadata": {},
   "source": [
    "#### Using the index to random access a specific entry in the file"
   ]
  },
  {
   "cell_type": "code",
   "execution_count": 18,
   "metadata": {
    "ExecuteTime": {
     "end_time": "2018-09-14T20:59:32.364556Z",
     "start_time": "2018-09-14T20:59:32.203279Z"
    },
    "init_cell": true,
    "scrolled": false
   },
   "outputs": [
    {
     "name": "stdout",
     "output_type": "stream",
     "text": [
      "Random index lines\n"
     ]
    },
    {
     "data": {
      "text/html": [
       "<div>\n",
       "<style scoped>\n",
       "    .dataframe tbody tr th:only-of-type {\n",
       "        vertical-align: middle;\n",
       "    }\n",
       "\n",
       "    .dataframe tbody tr th {\n",
       "        vertical-align: top;\n",
       "    }\n",
       "\n",
       "    .dataframe thead th {\n",
       "        text-align: right;\n",
       "    }\n",
       "</style>\n",
       "<table border=\"1\" class=\"dataframe\">\n",
       "  <thead>\n",
       "    <tr style=\"text-align: right;\">\n",
       "      <th></th>\n",
       "      <th>ref_id</th>\n",
       "      <th>ref_start</th>\n",
       "      <th>ref_end</th>\n",
       "      <th>read_id</th>\n",
       "      <th>kmers</th>\n",
       "      <th>NNNNN_kmers</th>\n",
       "      <th>mismatching_kmers</th>\n",
       "      <th>missing_kmers</th>\n",
       "      <th>byte_offset</th>\n",
       "      <th>byte_len</th>\n",
       "    </tr>\n",
       "  </thead>\n",
       "  <tbody>\n",
       "    <tr>\n",
       "      <th>19</th>\n",
       "      <td>YGL076C</td>\n",
       "      <td>10</td>\n",
       "      <td>731</td>\n",
       "      <td>18</td>\n",
       "      <td>695</td>\n",
       "      <td>21</td>\n",
       "      <td>0</td>\n",
       "      <td>26</td>\n",
       "      <td>351362</td>\n",
       "      <td>19471</td>\n",
       "    </tr>\n",
       "    <tr>\n",
       "      <th>16</th>\n",
       "      <td>YEL052W</td>\n",
       "      <td>1095</td>\n",
       "      <td>1521</td>\n",
       "      <td>17</td>\n",
       "      <td>407</td>\n",
       "      <td>11</td>\n",
       "      <td>0</td>\n",
       "      <td>19</td>\n",
       "      <td>313689</td>\n",
       "      <td>11896</td>\n",
       "    </tr>\n",
       "    <tr>\n",
       "      <th>18</th>\n",
       "      <td>YKL060C</td>\n",
       "      <td>897</td>\n",
       "      <td>1076</td>\n",
       "      <td>19</td>\n",
       "      <td>171</td>\n",
       "      <td>8</td>\n",
       "      <td>0</td>\n",
       "      <td>8</td>\n",
       "      <td>346400</td>\n",
       "      <td>4961</td>\n",
       "    </tr>\n",
       "    <tr>\n",
       "      <th>15</th>\n",
       "      <td>YLR110C</td>\n",
       "      <td>14</td>\n",
       "      <td>395</td>\n",
       "      <td>15</td>\n",
       "      <td>364</td>\n",
       "      <td>9</td>\n",
       "      <td>0</td>\n",
       "      <td>17</td>\n",
       "      <td>303489</td>\n",
       "      <td>10199</td>\n",
       "    </tr>\n",
       "    <tr>\n",
       "      <th>0</th>\n",
       "      <td>YGR240C</td>\n",
       "      <td>1656</td>\n",
       "      <td>2960</td>\n",
       "      <td>0</td>\n",
       "      <td>1250</td>\n",
       "      <td>35</td>\n",
       "      <td>0</td>\n",
       "      <td>54</td>\n",
       "      <td>0</td>\n",
       "      <td>36343</td>\n",
       "    </tr>\n",
       "  </tbody>\n",
       "</table>\n",
       "</div>"
      ],
      "text/plain": [
       "     ref_id  ref_start  ref_end  read_id  kmers  NNNNN_kmers  \\\n",
       "19  YGL076C         10      731       18    695           21   \n",
       "16  YEL052W       1095     1521       17    407           11   \n",
       "18  YKL060C        897     1076       19    171            8   \n",
       "15  YLR110C         14      395       15    364            9   \n",
       "0   YGR240C       1656     2960        0   1250           35   \n",
       "\n",
       "    mismatching_kmers  missing_kmers  byte_offset  byte_len  \n",
       "19                  0             26       351362     19471  \n",
       "16                  0             19       313689     11896  \n",
       "18                  0              8       346400      4961  \n",
       "15                  0             17       303489     10199  \n",
       "0                   0             54            0     36343  "
      ]
     },
     "metadata": {},
     "output_type": "display_data"
    },
    {
     "name": "stdout",
     "output_type": "stream",
     "text": [
      "#18\tYGL076C\n"
     ]
    },
    {
     "data": {
      "text/html": [
       "<div>\n",
       "<style scoped>\n",
       "    .dataframe tbody tr th:only-of-type {\n",
       "        vertical-align: middle;\n",
       "    }\n",
       "\n",
       "    .dataframe tbody tr th {\n",
       "        vertical-align: top;\n",
       "    }\n",
       "\n",
       "    .dataframe thead th {\n",
       "        text-align: right;\n",
       "    }\n",
       "</style>\n",
       "<table border=\"1\" class=\"dataframe\">\n",
       "  <thead>\n",
       "    <tr style=\"text-align: right;\">\n",
       "      <th></th>\n",
       "      <th>ref_pos</th>\n",
       "      <th>ref_kmer</th>\n",
       "      <th>n_events</th>\n",
       "      <th>NNNNN_events</th>\n",
       "      <th>mismatching_events</th>\n",
       "      <th>start_idx</th>\n",
       "      <th>end_idx</th>\n",
       "    </tr>\n",
       "  </thead>\n",
       "  <tbody>\n",
       "    <tr>\n",
       "      <th>0</th>\n",
       "      <td>10</td>\n",
       "      <td>AAAAA</td>\n",
       "      <td>1</td>\n",
       "      <td>0</td>\n",
       "      <td>0</td>\n",
       "      <td>44620</td>\n",
       "      <td>44641</td>\n",
       "    </tr>\n",
       "    <tr>\n",
       "      <th>1</th>\n",
       "      <td>11</td>\n",
       "      <td>AAAAA</td>\n",
       "      <td>1</td>\n",
       "      <td>0</td>\n",
       "      <td>0</td>\n",
       "      <td>44561</td>\n",
       "      <td>44620</td>\n",
       "    </tr>\n",
       "    <tr>\n",
       "      <th>...</th>\n",
       "      <td>...</td>\n",
       "      <td>...</td>\n",
       "      <td>...</td>\n",
       "      <td>...</td>\n",
       "      <td>...</td>\n",
       "      <td>...</td>\n",
       "      <td>...</td>\n",
       "    </tr>\n",
       "    <tr>\n",
       "      <th>693</th>\n",
       "      <td>729</td>\n",
       "      <td>AACTA</td>\n",
       "      <td>6</td>\n",
       "      <td>0</td>\n",
       "      <td>0</td>\n",
       "      <td>17789</td>\n",
       "      <td>17885</td>\n",
       "    </tr>\n",
       "    <tr>\n",
       "      <th>694</th>\n",
       "      <td>730</td>\n",
       "      <td>ACTAA</td>\n",
       "      <td>6</td>\n",
       "      <td>3</td>\n",
       "      <td>0</td>\n",
       "      <td>17660</td>\n",
       "      <td>17789</td>\n",
       "    </tr>\n",
       "  </tbody>\n",
       "</table>\n",
       "<p>695 rows × 7 columns</p>\n",
       "</div>"
      ],
      "text/plain": [
       "     ref_pos ref_kmer  n_events  NNNNN_events  mismatching_events  start_idx  \\\n",
       "0         10    AAAAA         1             0                   0      44620   \n",
       "1         11    AAAAA         1             0                   0      44561   \n",
       "..       ...      ...       ...           ...                 ...        ...   \n",
       "693      729    AACTA         6             0                   0      17789   \n",
       "694      730    ACTAA         6             3                   0      17660   \n",
       "\n",
       "     end_idx  \n",
       "0      44641  \n",
       "1      44620  \n",
       "..       ...  \n",
       "693    17885  \n",
       "694    17789  \n",
       "\n",
       "[695 rows x 7 columns]"
      ]
     },
     "metadata": {},
     "output_type": "display_data"
    },
    {
     "name": "stdout",
     "output_type": "stream",
     "text": [
      "#17\tYEL052W\n"
     ]
    },
    {
     "data": {
      "text/html": [
       "<div>\n",
       "<style scoped>\n",
       "    .dataframe tbody tr th:only-of-type {\n",
       "        vertical-align: middle;\n",
       "    }\n",
       "\n",
       "    .dataframe tbody tr th {\n",
       "        vertical-align: top;\n",
       "    }\n",
       "\n",
       "    .dataframe thead th {\n",
       "        text-align: right;\n",
       "    }\n",
       "</style>\n",
       "<table border=\"1\" class=\"dataframe\">\n",
       "  <thead>\n",
       "    <tr style=\"text-align: right;\">\n",
       "      <th></th>\n",
       "      <th>ref_pos</th>\n",
       "      <th>ref_kmer</th>\n",
       "      <th>n_events</th>\n",
       "      <th>NNNNN_events</th>\n",
       "      <th>mismatching_events</th>\n",
       "      <th>start_idx</th>\n",
       "      <th>end_idx</th>\n",
       "    </tr>\n",
       "  </thead>\n",
       "  <tbody>\n",
       "    <tr>\n",
       "      <th>0</th>\n",
       "      <td>1095</td>\n",
       "      <td>CAGTT</td>\n",
       "      <td>1</td>\n",
       "      <td>1</td>\n",
       "      <td>0</td>\n",
       "      <td>30696</td>\n",
       "      <td>30714</td>\n",
       "    </tr>\n",
       "    <tr>\n",
       "      <th>1</th>\n",
       "      <td>1098</td>\n",
       "      <td>TTGTG</td>\n",
       "      <td>8</td>\n",
       "      <td>0</td>\n",
       "      <td>0</td>\n",
       "      <td>30404</td>\n",
       "      <td>30696</td>\n",
       "    </tr>\n",
       "    <tr>\n",
       "      <th>...</th>\n",
       "      <td>...</td>\n",
       "      <td>...</td>\n",
       "      <td>...</td>\n",
       "      <td>...</td>\n",
       "      <td>...</td>\n",
       "      <td>...</td>\n",
       "      <td>...</td>\n",
       "    </tr>\n",
       "    <tr>\n",
       "      <th>405</th>\n",
       "      <td>1519</td>\n",
       "      <td>CTACA</td>\n",
       "      <td>12</td>\n",
       "      <td>0</td>\n",
       "      <td>0</td>\n",
       "      <td>13013</td>\n",
       "      <td>13195</td>\n",
       "    </tr>\n",
       "    <tr>\n",
       "      <th>406</th>\n",
       "      <td>1520</td>\n",
       "      <td>TACAT</td>\n",
       "      <td>12</td>\n",
       "      <td>0</td>\n",
       "      <td>0</td>\n",
       "      <td>12832</td>\n",
       "      <td>13013</td>\n",
       "    </tr>\n",
       "  </tbody>\n",
       "</table>\n",
       "<p>407 rows × 7 columns</p>\n",
       "</div>"
      ],
      "text/plain": [
       "     ref_pos ref_kmer  n_events  NNNNN_events  mismatching_events  start_idx  \\\n",
       "0       1095    CAGTT         1             1                   0      30696   \n",
       "1       1098    TTGTG         8             0                   0      30404   \n",
       "..       ...      ...       ...           ...                 ...        ...   \n",
       "405     1519    CTACA        12             0                   0      13013   \n",
       "406     1520    TACAT        12             0                   0      12832   \n",
       "\n",
       "     end_idx  \n",
       "0      30714  \n",
       "1      30696  \n",
       "..       ...  \n",
       "405    13195  \n",
       "406    13013  \n",
       "\n",
       "[407 rows x 7 columns]"
      ]
     },
     "metadata": {},
     "output_type": "display_data"
    },
    {
     "name": "stdout",
     "output_type": "stream",
     "text": [
      "#19\tYKL060C\n"
     ]
    },
    {
     "data": {
      "text/html": [
       "<div>\n",
       "<style scoped>\n",
       "    .dataframe tbody tr th:only-of-type {\n",
       "        vertical-align: middle;\n",
       "    }\n",
       "\n",
       "    .dataframe tbody tr th {\n",
       "        vertical-align: top;\n",
       "    }\n",
       "\n",
       "    .dataframe thead th {\n",
       "        text-align: right;\n",
       "    }\n",
       "</style>\n",
       "<table border=\"1\" class=\"dataframe\">\n",
       "  <thead>\n",
       "    <tr style=\"text-align: right;\">\n",
       "      <th></th>\n",
       "      <th>ref_pos</th>\n",
       "      <th>ref_kmer</th>\n",
       "      <th>n_events</th>\n",
       "      <th>NNNNN_events</th>\n",
       "      <th>mismatching_events</th>\n",
       "      <th>start_idx</th>\n",
       "      <th>end_idx</th>\n",
       "    </tr>\n",
       "  </thead>\n",
       "  <tbody>\n",
       "    <tr>\n",
       "      <th>0</th>\n",
       "      <td>897</td>\n",
       "      <td>ATCAG</td>\n",
       "      <td>1</td>\n",
       "      <td>0</td>\n",
       "      <td>0</td>\n",
       "      <td>29373</td>\n",
       "      <td>29399</td>\n",
       "    </tr>\n",
       "    <tr>\n",
       "      <th>1</th>\n",
       "      <td>898</td>\n",
       "      <td>TCAGA</td>\n",
       "      <td>1</td>\n",
       "      <td>0</td>\n",
       "      <td>0</td>\n",
       "      <td>29364</td>\n",
       "      <td>29373</td>\n",
       "    </tr>\n",
       "    <tr>\n",
       "      <th>...</th>\n",
       "      <td>...</td>\n",
       "      <td>...</td>\n",
       "      <td>...</td>\n",
       "      <td>...</td>\n",
       "      <td>...</td>\n",
       "      <td>...</td>\n",
       "      <td>...</td>\n",
       "    </tr>\n",
       "    <tr>\n",
       "      <th>169</th>\n",
       "      <td>1074</td>\n",
       "      <td>TTATA</td>\n",
       "      <td>1</td>\n",
       "      <td>0</td>\n",
       "      <td>0</td>\n",
       "      <td>15595</td>\n",
       "      <td>15634</td>\n",
       "    </tr>\n",
       "    <tr>\n",
       "      <th>170</th>\n",
       "      <td>1075</td>\n",
       "      <td>TATAA</td>\n",
       "      <td>3</td>\n",
       "      <td>1</td>\n",
       "      <td>0</td>\n",
       "      <td>15503</td>\n",
       "      <td>15595</td>\n",
       "    </tr>\n",
       "  </tbody>\n",
       "</table>\n",
       "<p>171 rows × 7 columns</p>\n",
       "</div>"
      ],
      "text/plain": [
       "     ref_pos ref_kmer  n_events  NNNNN_events  mismatching_events  start_idx  \\\n",
       "0        897    ATCAG         1             0                   0      29373   \n",
       "1        898    TCAGA         1             0                   0      29364   \n",
       "..       ...      ...       ...           ...                 ...        ...   \n",
       "169     1074    TTATA         1             0                   0      15595   \n",
       "170     1075    TATAA         3             1                   0      15503   \n",
       "\n",
       "     end_idx  \n",
       "0      29399  \n",
       "1      29373  \n",
       "..       ...  \n",
       "169    15634  \n",
       "170    15595  \n",
       "\n",
       "[171 rows x 7 columns]"
      ]
     },
     "metadata": {},
     "output_type": "display_data"
    },
    {
     "name": "stdout",
     "output_type": "stream",
     "text": [
      "#15\tYLR110C\n"
     ]
    },
    {
     "data": {
      "text/html": [
       "<div>\n",
       "<style scoped>\n",
       "    .dataframe tbody tr th:only-of-type {\n",
       "        vertical-align: middle;\n",
       "    }\n",
       "\n",
       "    .dataframe tbody tr th {\n",
       "        vertical-align: top;\n",
       "    }\n",
       "\n",
       "    .dataframe thead th {\n",
       "        text-align: right;\n",
       "    }\n",
       "</style>\n",
       "<table border=\"1\" class=\"dataframe\">\n",
       "  <thead>\n",
       "    <tr style=\"text-align: right;\">\n",
       "      <th></th>\n",
       "      <th>ref_pos</th>\n",
       "      <th>ref_kmer</th>\n",
       "      <th>n_events</th>\n",
       "      <th>NNNNN_events</th>\n",
       "      <th>mismatching_events</th>\n",
       "      <th>start_idx</th>\n",
       "      <th>end_idx</th>\n",
       "    </tr>\n",
       "  </thead>\n",
       "  <tbody>\n",
       "    <tr>\n",
       "      <th>0</th>\n",
       "      <td>14</td>\n",
       "      <td>TGTCG</td>\n",
       "      <td>2</td>\n",
       "      <td>0</td>\n",
       "      <td>0</td>\n",
       "      <td>23697</td>\n",
       "      <td>23715</td>\n",
       "    </tr>\n",
       "    <tr>\n",
       "      <th>1</th>\n",
       "      <td>15</td>\n",
       "      <td>GTCGC</td>\n",
       "      <td>1</td>\n",
       "      <td>0</td>\n",
       "      <td>0</td>\n",
       "      <td>23675</td>\n",
       "      <td>23697</td>\n",
       "    </tr>\n",
       "    <tr>\n",
       "      <th>...</th>\n",
       "      <td>...</td>\n",
       "      <td>...</td>\n",
       "      <td>...</td>\n",
       "      <td>...</td>\n",
       "      <td>...</td>\n",
       "      <td>...</td>\n",
       "      <td>...</td>\n",
       "    </tr>\n",
       "    <tr>\n",
       "      <th>362</th>\n",
       "      <td>393</td>\n",
       "      <td>TTGTT</td>\n",
       "      <td>7</td>\n",
       "      <td>0</td>\n",
       "      <td>0</td>\n",
       "      <td>9871</td>\n",
       "      <td>9998</td>\n",
       "    </tr>\n",
       "    <tr>\n",
       "      <th>363</th>\n",
       "      <td>394</td>\n",
       "      <td>TGTTG</td>\n",
       "      <td>5</td>\n",
       "      <td>0</td>\n",
       "      <td>0</td>\n",
       "      <td>9815</td>\n",
       "      <td>9871</td>\n",
       "    </tr>\n",
       "  </tbody>\n",
       "</table>\n",
       "<p>364 rows × 7 columns</p>\n",
       "</div>"
      ],
      "text/plain": [
       "     ref_pos ref_kmer  n_events  NNNNN_events  mismatching_events  start_idx  \\\n",
       "0         14    TGTCG         2             0                   0      23697   \n",
       "1         15    GTCGC         1             0                   0      23675   \n",
       "..       ...      ...       ...           ...                 ...        ...   \n",
       "362      393    TTGTT         7             0                   0       9871   \n",
       "363      394    TGTTG         5             0                   0       9815   \n",
       "\n",
       "     end_idx  \n",
       "0      23715  \n",
       "1      23697  \n",
       "..       ...  \n",
       "362     9998  \n",
       "363     9871  \n",
       "\n",
       "[364 rows x 7 columns]"
      ]
     },
     "metadata": {},
     "output_type": "display_data"
    },
    {
     "name": "stdout",
     "output_type": "stream",
     "text": [
      "#0\tYGR240C\n"
     ]
    },
    {
     "data": {
      "text/html": [
       "<div>\n",
       "<style scoped>\n",
       "    .dataframe tbody tr th:only-of-type {\n",
       "        vertical-align: middle;\n",
       "    }\n",
       "\n",
       "    .dataframe tbody tr th {\n",
       "        vertical-align: top;\n",
       "    }\n",
       "\n",
       "    .dataframe thead th {\n",
       "        text-align: right;\n",
       "    }\n",
       "</style>\n",
       "<table border=\"1\" class=\"dataframe\">\n",
       "  <thead>\n",
       "    <tr style=\"text-align: right;\">\n",
       "      <th></th>\n",
       "      <th>ref_pos</th>\n",
       "      <th>ref_kmer</th>\n",
       "      <th>n_events</th>\n",
       "      <th>NNNNN_events</th>\n",
       "      <th>mismatching_events</th>\n",
       "      <th>start_idx</th>\n",
       "      <th>end_idx</th>\n",
       "    </tr>\n",
       "  </thead>\n",
       "  <tbody>\n",
       "    <tr>\n",
       "      <th>0</th>\n",
       "      <td>1656</td>\n",
       "      <td>GAAAA</td>\n",
       "      <td>1</td>\n",
       "      <td>0</td>\n",
       "      <td>0</td>\n",
       "      <td>63446</td>\n",
       "      <td>63454</td>\n",
       "    </tr>\n",
       "    <tr>\n",
       "      <th>1</th>\n",
       "      <td>1657</td>\n",
       "      <td>AAAAC</td>\n",
       "      <td>1</td>\n",
       "      <td>0</td>\n",
       "      <td>0</td>\n",
       "      <td>63423</td>\n",
       "      <td>63446</td>\n",
       "    </tr>\n",
       "    <tr>\n",
       "      <th>...</th>\n",
       "      <td>...</td>\n",
       "      <td>...</td>\n",
       "      <td>...</td>\n",
       "      <td>...</td>\n",
       "      <td>...</td>\n",
       "      <td>...</td>\n",
       "      <td>...</td>\n",
       "    </tr>\n",
       "    <tr>\n",
       "      <th>1248</th>\n",
       "      <td>2958</td>\n",
       "      <td>AAATG</td>\n",
       "      <td>2</td>\n",
       "      <td>0</td>\n",
       "      <td>0</td>\n",
       "      <td>21931</td>\n",
       "      <td>21986</td>\n",
       "    </tr>\n",
       "    <tr>\n",
       "      <th>1249</th>\n",
       "      <td>2959</td>\n",
       "      <td>AATGA</td>\n",
       "      <td>1</td>\n",
       "      <td>0</td>\n",
       "      <td>0</td>\n",
       "      <td>21921</td>\n",
       "      <td>21931</td>\n",
       "    </tr>\n",
       "  </tbody>\n",
       "</table>\n",
       "<p>1250 rows × 7 columns</p>\n",
       "</div>"
      ],
      "text/plain": [
       "      ref_pos ref_kmer  n_events  NNNNN_events  mismatching_events  start_idx  \\\n",
       "0        1656    GAAAA         1             0                   0      63446   \n",
       "1        1657    AAAAC         1             0                   0      63423   \n",
       "...       ...      ...       ...           ...                 ...        ...   \n",
       "1248     2958    AAATG         2             0                   0      21931   \n",
       "1249     2959    AATGA         1             0                   0      21921   \n",
       "\n",
       "      end_idx  \n",
       "0       63454  \n",
       "1       63446  \n",
       "...       ...  \n",
       "1248    21986  \n",
       "1249    21931  \n",
       "\n",
       "[1250 rows x 7 columns]"
      ]
     },
     "metadata": {},
     "output_type": "display_data"
    }
   ],
   "source": [
    "output_fn = \"./output/collapsed_nanopolish_index.tsv\"\n",
    "index_fn = \"./output/collapsed_nanopolish_index.tsv.idx\"\n",
    "\n",
    "# Import the index in a pandas dataframe (because it is simple)\n",
    "import pandas as pd \n",
    "index_df = pd.read_table (index_fn)\n",
    "\n",
    "# Select random lines\n",
    "random_lines = index_df.sample(5)\n",
    "print (\"Random index lines\")\n",
    "display (random_lines)\n",
    "\n",
    "# Open the collapsed event align file\n",
    "with open (output_fn) as fp:\n",
    "    for id, read in random_lines.iterrows():\n",
    "        \n",
    "        # Access the header corresponding to the randomly selected index line using seek \n",
    "        fp.seek(0) # Return to file start\n",
    "        fp.seek(read.byte_offset) # Move tho the offset indicated in the index file\n",
    "        print (fp.readline().rstrip()) # Print read header\n",
    "        df = pd.read_table (fp, nrows=read.kmers) # Read lines corresponding to the read\n",
    "        with pd.option_context(\"display.max_rows\",4): # display first and last lines\n",
    "            display(df)"
   ]
  }
 ],
 "metadata": {
  "celltoolbar": "Initialization Cell",
  "hide_input": false,
  "kernelspec": {
   "display_name": "Python3.6",
   "language": "python",
   "name": "python3.6"
  },
  "language_info": {
   "codemirror_mode": {
    "name": "ipython",
    "version": 3
   },
   "file_extension": ".py",
   "mimetype": "text/x-python",
   "name": "python",
   "nbconvert_exporter": "python",
   "pygments_lexer": "ipython3",
   "version": "3.6.6"
  }
 },
 "nbformat": 4,
 "nbformat_minor": 2
}
