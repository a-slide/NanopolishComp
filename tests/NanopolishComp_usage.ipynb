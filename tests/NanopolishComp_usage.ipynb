{
 "cells": [
  {
   "cell_type": "markdown",
   "metadata": {
    "ExecuteTime": {
     "end_time": "2018-08-10T10:03:00.595966Z",
     "start_time": "2018-08-10T10:03:00.587806Z"
    }
   },
   "source": [
    "# Eventalign_collapse usage"
   ]
  },
  {
   "cell_type": "markdown",
   "metadata": {},
   "source": [
    "## Bash command line usage"
   ]
  },
  {
   "cell_type": "code",
   "execution_count": null,
   "metadata": {},
   "outputs": [],
   "source": [
    "%%bash\n",
    "source ~/.bashrc && workon Nanopolish_0.10.1"
   ]
  },
  {
   "cell_type": "markdown",
   "metadata": {
    "ExecuteTime": {
     "end_time": "2018-08-10T17:02:13.860121Z",
     "start_time": "2018-08-10T17:02:13.847128Z"
    }
   },
   "source": [
    "#### From an existing nanopolish event align output to another file"
   ]
  },
  {
   "cell_type": "code",
   "execution_count": 2,
   "metadata": {
    "ExecuteTime": {
     "end_time": "2018-08-30T00:01:54.619521Z",
     "start_time": "2018-08-30T00:01:53.807959Z"
    },
    "scrolled": true
   },
   "outputs": [
    {
     "name": "stdout",
     "output_type": "stream",
     "text": [
      "['contig', 'position', 'reference_kmer', 'read_index', 'strand', 'event_index', 'event_level_mean', 'event_stdv', 'event_length', 'model_kmer', 'model_mean', 'model_stdv', 'standardized_level']\n",
      "#0\tYGR240C\n",
      "ref_pos\tref_kmer\tn_events\tNNNNN_events\tmismatching_events\n",
      "1656\tGAAAA\t1\t0\t0\n",
      "1657\tAAAAC\t1\t0\t0\n",
      "1658\tAAACA\t1\t0\t0\n",
      "1659\tAACAA\t1\t0\t0\n",
      "1660\tACAAA\t1\t0\t0\n",
      "1661\tCAAAG\t1\t0\t0\n",
      "1662\tAAAGA\t1\t0\t0\n",
      "1663\tAAGAT\t1\t0\t0\n",
      "read_id\tref_id\tkmers\tNNNNN_kmers\tmismatching_kmers\toffset\n",
      "0\tYGR240C\t1250\t35\t0\t0\n",
      "1\tYCR030C\t971\t23\t0\t21326\n",
      "2\tYHR174W\t825\t15\t0\t37906\n",
      "4\tYHR174W\t818\t18\t0\t51076\n",
      "3\tYHR174W\t1028\t36\t0\t64542\n",
      "5\tYLR441C\t554\t20\t0\t81361\n",
      "6\tYGR192C\t927\t37\t0\t90294\n",
      "8\tYDR500C\t231\t7\t0\t105105\n",
      "9\tYDR224C\t376\t8\t0\t108785\n"
     ]
    },
    {
     "name": "stderr",
     "output_type": "stream",
     "text": [
      "Collapse file by read_id/ref_id\n",
      "[Eventalign_collapse] Reads:21 [205 reads/s]\n"
     ]
    }
   ],
   "source": [
    "%%bash\n",
    "source ~/.bashrc && workon Nanopolish_0.10.1\n",
    "\n",
    "NanopolishComp Eventalign_collapse -i ./data/nanopolish_reads.tsv -o ./output/nanopolish_collapsed_reads.tsv --verbose\n",
    "\n",
    "head ./output/nanopolish_collapsed_reads.tsv\n",
    "head ./output/nanopolish_collapsed_reads.tsv.idx"
   ]
  },
  {
   "cell_type": "code",
   "execution_count": 3,
   "metadata": {
    "ExecuteTime": {
     "end_time": "2018-08-30T00:02:00.347761Z",
     "start_time": "2018-08-30T00:01:59.431826Z"
    }
   },
   "outputs": [
    {
     "name": "stdout",
     "output_type": "stream",
     "text": [
      "['contig', 'position', 'reference_kmer', 'read_index', 'strand', 'event_index', 'event_level_mean', 'event_stdv', 'event_length', 'model_kmer', 'model_mean', 'model_stdv', 'standardized_level', 'start_idx', 'end_idx']\n",
      "#0\tYGR240C\n",
      "ref_pos\tref_kmer\tn_events\tNNNNN_events\tmismatching_events\tstart_idx\tend_idx\n",
      "1656\tGAAAA\t1\t0\t0\t63446\t63454\n",
      "1657\tAAAAC\t1\t0\t0\t63423\t63446\n",
      "1658\tAAACA\t1\t0\t0\t63411\t63423\n",
      "1659\tAACAA\t1\t0\t0\t63398\t63411\n",
      "1660\tACAAA\t1\t0\t0\t63383\t63398\n",
      "1661\tCAAAG\t1\t0\t0\t63366\t63383\n",
      "1662\tAAAGA\t1\t0\t0\t63337\t63366\n",
      "1663\tAAGAT\t1\t0\t0\t63328\t63337\n",
      "read_id\tref_id\tkmers\tNNNNN_kmers\tmismatching_kmers\toffset\n",
      "0\tYGR240C\t1250\t35\t0\t0\n",
      "1\tYCR030C\t971\t23\t0\t36344\n",
      "2\tYHR174W\t825\t15\t0\t64594\n",
      "3\tYHR174W\t1028\t36\t0\t87128\n",
      "4\tYHR174W\t818\t18\t0\t116301\n",
      "5\tYLR441C\t554\t20\t0\t139601\n",
      "6\tYGR192C\t927\t37\t0\t155200\n",
      "8\tYDR500C\t231\t7\t0\t181152\n",
      "7\tYGR192C\t946\t31\t0\t187622\n"
     ]
    },
    {
     "name": "stderr",
     "output_type": "stream",
     "text": [
      "Collapse file by read_id/ref_id\n",
      "[Eventalign_collapse] Reads:21 [177 reads/s]\n"
     ]
    }
   ],
   "source": [
    "%%bash\n",
    "source ~/.bashrc && workon Nanopolish_0.10.1\n",
    "\n",
    "cat ./data/nanopolish_reads_index.tsv | NanopolishComp Eventalign_collapse -o ./output/nanopolish_collapsed_reads.tsv --verbose\n",
    "\n",
    "head ./output/nanopolish_collapsed_reads.tsv\n",
    "head ./output/nanopolish_collapsed_reads.tsv.idx"
   ]
  },
  {
   "cell_type": "markdown",
   "metadata": {},
   "source": [
    "#### Directly from nanopolish to the standard output."
   ]
  },
  {
   "cell_type": "code",
   "execution_count": 14,
   "metadata": {
    "ExecuteTime": {
     "end_time": "2018-08-30T00:17:41.632014Z",
     "start_time": "2018-08-30T00:17:39.767386Z"
    },
    "scrolled": true
   },
   "outputs": [
    {
     "name": "stderr",
     "output_type": "stream",
     "text": [
      "Collapse file by read_id/ref_id\n",
      "Reads:3 [15 reads/s]\r",
      "Reads:8 [25 reads/s]\r",
      "Reads:11 [15 reads/s]\r",
      "Reads:17 [30 reads/s]\r",
      "[post-run summary] total reads: 21, unparseable: 0, qc fail: 0, could not calibrate: 0, no alignment: 0, bad fast5: 0\n",
      "[Eventalign_collapse] Reads:21 [20 reads/s]\n"
     ]
    }
   ],
   "source": [
    "%%bash\n",
    "source ~/.bashrc && workon Nanopolish_0.10.1\n",
    "\n",
    "nanopolish eventalign -t 4 --samples --scale-events --reads ./data/reads.fastq --bam ./data/aligned_reads.bam --genome ./data/reference.fa --signal-index | NanopolishComp Eventalign_collapse  -o ./output/nanopolish_collapsed_reads.tsv --verbose"
   ]
  },
  {
   "cell_type": "markdown",
   "metadata": {},
   "source": [
    "#### Directly from nanopolish to a file"
   ]
  },
  {
   "cell_type": "code",
   "execution_count": 13,
   "metadata": {
    "ExecuteTime": {
     "end_time": "2018-08-30T00:16:47.500784Z",
     "start_time": "2018-08-30T00:16:45.692934Z"
    },
    "scrolled": true
   },
   "outputs": [
    {
     "name": "stderr",
     "output_type": "stream",
     "text": [
      "[post-run summary] total reads: 21, unparseable: 0, qc fail: 0, could not calibrate: 0, no alignment: 0, bad fast5: 0\n",
      "[Eventalign_collapse] Reads:21 [21 reads/s]\n"
     ]
    }
   ],
   "source": [
    "%%bash\n",
    "source ~/.bashrc && workon Nanopolish_0.10.1\n",
    "nanopolish eventalign -t 4 --samples --scale-events --reads ./data/reads.fastq --bam ./data/aligned_reads.bam --genome ./data/reference.fa --signal-index| NanopolishComp Eventalign_collapse -t 4 -o output/collapsed_nanopolish.tsv"
   ]
  },
  {
   "cell_type": "markdown",
   "metadata": {},
   "source": [
    "## Python API usage"
   ]
  },
  {
   "cell_type": "markdown",
   "metadata": {},
   "source": [
    "#### Import the package"
   ]
  },
  {
   "cell_type": "code",
   "execution_count": 2,
   "metadata": {
    "ExecuteTime": {
     "end_time": "2018-08-29T23:36:27.095256Z",
     "start_time": "2018-08-29T23:36:27.090992Z"
    }
   },
   "outputs": [],
   "source": [
    "from NanopolishComp.Eventalign_collapse import Eventalign_collapse"
   ]
  },
  {
   "cell_type": "markdown",
   "metadata": {},
   "source": [
    "#### Example with minimal file"
   ]
  },
  {
   "cell_type": "code",
   "execution_count": 3,
   "metadata": {
    "ExecuteTime": {
     "end_time": "2018-08-29T23:36:31.014760Z",
     "start_time": "2018-08-29T23:36:30.620640Z"
    },
    "scrolled": true
   },
   "outputs": [
    {
     "name": "stderr",
     "output_type": "stream",
     "text": [
      "Collapse file by read_id/ref_id\n",
      "[Eventalign_collapse] Reads:21 [206 reads/s]\n"
     ]
    },
    {
     "name": "stdout",
     "output_type": "stream",
     "text": [
      "\n",
      "Collapsed eventalign file\n",
      "#0\tYGR240C\n",
      "ref_pos\tref_kmer\tn_events\tNNNNN_events\tmismatching_events\n",
      "1656\tGAAAA\t1\t0\t0\n",
      "1657\tAAAAC\t1\t0\t0\n",
      "1658\tAAACA\t1\t0\t0\n",
      "1659\tAACAA\t1\t0\t0\n",
      "1660\tACAAA\t1\t0\t0\n",
      "1661\tCAAAG\t1\t0\t0\n",
      "1662\tAAAGA\t1\t0\t0\n",
      "1663\tAAGAT\t1\t0\t0\n",
      "\n",
      "Index file\n",
      "read_id\tref_id\tkmers\tNNNNN_kmers\tmismatching_kmers\toffset\n",
      "0\tYGR240C\t1250\t35\t0\t0\n",
      "1\tYCR030C\t971\t23\t0\t21326\n",
      "2\tYHR174W\t825\t15\t0\t37906\n",
      "3\tYHR174W\t1028\t36\t0\t51076\n",
      "5\tYLR441C\t554\t20\t0\t67895\n",
      "4\tYHR174W\t818\t18\t0\t76828\n",
      "6\tYGR192C\t927\t37\t0\t90294\n",
      "8\tYDR500C\t231\t7\t0\t105105\n",
      "9\tYDR224C\t376\t8\t0\t108785\n"
     ]
    }
   ],
   "source": [
    "input_fn = \"./data/nanopolish_reads.tsv\"\n",
    "output_fn = \"./output/collapsed_nanopolish.tsv\"\n",
    "index_fn = \"./output/collapsed_nanopolish.tsv.idx\"\n",
    "\n",
    "Eventalign_collapse (input_fn=input_fn, output_fn=output_fn, threads=6, verbose=True)\n",
    "\n",
    "print (\"\\nCollapsed eventalign file\")\n",
    "! head {output_fn} -n 10\n",
    "\n",
    "print (\"\\nIndex file\")\n",
    "! head {index_fn} -n 10"
   ]
  },
  {
   "cell_type": "markdown",
   "metadata": {},
   "source": [
    "#### Example with indexes"
   ]
  },
  {
   "cell_type": "code",
   "execution_count": 4,
   "metadata": {
    "ExecuteTime": {
     "end_time": "2018-08-29T23:36:38.873284Z",
     "start_time": "2018-08-29T23:36:38.471046Z"
    }
   },
   "outputs": [
    {
     "name": "stderr",
     "output_type": "stream",
     "text": [
      "Collapse file by read_id/ref_id\n",
      "[Eventalign_collapse] Reads:21 [159 reads/s]\n"
     ]
    },
    {
     "name": "stdout",
     "output_type": "stream",
     "text": [
      "\n",
      "Collapsed eventalign file\n",
      "#0\tYGR240C\n",
      "ref_pos\tref_kmer\tn_events\tNNNNN_events\tmismatching_events\tstart_idx\tend_idx\n",
      "1656\tGAAAA\t1\t0\t0\t63446\t63454\n",
      "1657\tAAAAC\t1\t0\t0\t63423\t63446\n",
      "1658\tAAACA\t1\t0\t0\t63411\t63423\n",
      "1659\tAACAA\t1\t0\t0\t63398\t63411\n",
      "1660\tACAAA\t1\t0\t0\t63383\t63398\n",
      "1661\tCAAAG\t1\t0\t0\t63366\t63383\n",
      "1662\tAAAGA\t1\t0\t0\t63337\t63366\n",
      "1663\tAAGAT\t1\t0\t0\t63328\t63337\n",
      "\n",
      "Index file\n",
      "read_id\tref_id\tkmers\tNNNNN_kmers\tmismatching_kmers\toffset\n",
      "0\tYGR240C\t1250\t35\t0\t0\n",
      "1\tYCR030C\t971\t23\t0\t36344\n",
      "2\tYHR174W\t825\t15\t0\t64594\n",
      "3\tYHR174W\t1028\t36\t0\t87128\n",
      "4\tYHR174W\t818\t18\t0\t116301\n",
      "5\tYLR441C\t554\t20\t0\t139601\n",
      "6\tYGR192C\t927\t37\t0\t155200\n",
      "8\tYDR500C\t231\t7\t0\t181152\n",
      "9\tYDR224C\t376\t8\t0\t187622\n"
     ]
    }
   ],
   "source": [
    "input_fn = \"./data/nanopolish_reads_index.tsv\"\n",
    "output_fn = \"./output/collapsed_nanopolish_index.tsv\"\n",
    "index_fn = \"./output/collapsed_nanopolish_index.tsv.idx\"\n",
    "\n",
    "Eventalign_collapse (input_fn=input_fn, output_fn=output_fn, verbose=True, threads=6)\n",
    "\n",
    "print (\"\\nCollapsed eventalign file\")\n",
    "! head {output_fn} -n 10\n",
    "\n",
    "print (\"\\nIndex file\")\n",
    "! head {index_fn} -n 10"
   ]
  },
  {
   "cell_type": "markdown",
   "metadata": {},
   "source": [
    "#### Example including samples"
   ]
  },
  {
   "cell_type": "code",
   "execution_count": 5,
   "metadata": {
    "ExecuteTime": {
     "end_time": "2018-08-29T23:36:50.854068Z",
     "start_time": "2018-08-29T23:36:50.099692Z"
    },
    "scrolled": false
   },
   "outputs": [
    {
     "name": "stderr",
     "output_type": "stream",
     "text": [
      "Collapse file by read_id/ref_id\n",
      "[Eventalign_collapse] Reads:21 [45 reads/s]\n"
     ]
    },
    {
     "name": "stdout",
     "output_type": "stream",
     "text": [
      "\n",
      "Collapsed eventalign file\n",
      "#0\tYGR240C\n",
      "ref_pos\tref_kmer\tn_events\tNNNNN_events\tmismatching_events\tmean\tstd\tn_signals\n",
      "1656\tGAAAA\t1\t0\t0\t105.49774932861328\t1.1988129615783691\t8\n",
      "1657\tAAAAC\t1\t0\t0\t111.09274291992188\t1.667485237121582\t23\n",
      "1658\tAAACA\t1\t0\t0\t100.11283111572266\t2.855329990386963\t12\n",
      "1659\tAACAA\t1\t0\t0\t90.71566009521484\t3.648205518722534\t13\n",
      "1660\tACAAA\t1\t0\t0\t81.67988586425781\t2.026559352874756\t15\n",
      "1661\tCAAAG\t1\t0\t0\t109.75365447998047\t4.070319175720215\t17\n",
      "1662\tAAAGA\t1\t0\t0\t117.81983184814453\t3.554028034210205\t29\n",
      "1663\tAAGAT\t1\t0\t0\t137.0111083984375\t3.2223927974700928\t9\n",
      "\n",
      "Index file\n",
      "read_id\tref_id\tkmers\tNNNNN_kmers\tmismatching_kmers\toffset\n",
      "0\tYGR240C\t1250\t35\t0\t0\n",
      "1\tYCR030C\t971\t23\t0\t70697\n",
      "2\tYHR174W\t825\t15\t0\t125591\n",
      "3\tYHR174W\t1028\t36\t0\t171289\n",
      "5\tYLR441C\t554\t20\t0\t228686\n",
      "4\tYHR174W\t818\t18\t0\t259509\n",
      "8\tYDR500C\t231\t7\t0\t305350\n",
      "9\tYDR224C\t376\t8\t0\t318164\n",
      "6\tYGR192C\t927\t37\t0\t339018\n"
     ]
    }
   ],
   "source": [
    "input_fn = \"./data/nanopolish_reads_samples.tsv\"\n",
    "output_fn = \"./output/collapsed_nanopolish_samples.tsv\"\n",
    "index_fn = \"./output/collapsed_nanopolish_samples.tsv.idx\"\n",
    "\n",
    "Eventalign_collapse (input_fn=input_fn, output_fn=output_fn, verbose=True, threads=6)\n",
    "\n",
    "print (\"\\nCollapsed eventalign file\")\n",
    "! head {output_fn} -n 10\n",
    "\n",
    "print (\"\\nIndex file\")\n",
    "! head {index_fn} -n 10"
   ]
  },
  {
   "cell_type": "markdown",
   "metadata": {},
   "source": [
    "#### Example including samples and writing samples values in ouput file"
   ]
  },
  {
   "cell_type": "code",
   "execution_count": 6,
   "metadata": {
    "ExecuteTime": {
     "end_time": "2018-08-29T23:37:02.184613Z",
     "start_time": "2018-08-29T23:37:01.444064Z"
    },
    "scrolled": false
   },
   "outputs": [
    {
     "name": "stderr",
     "output_type": "stream",
     "text": [
      "Collapse file by read_id/ref_id\n",
      "[Eventalign_collapse] Reads:21 [45 reads/s]\n"
     ]
    },
    {
     "name": "stdout",
     "output_type": "stream",
     "text": [
      "\n",
      "Collapsed eventalign file\n",
      "#1\tYCR030C\n",
      "ref_pos\tref_kmer\tn_events\tNNNNN_events\tmismatching_events\tmean\tstd\tn_signals\tsamples\n",
      "1578\tCCACC\t1\t0\t0\t70.06341552734375\t2.593737840652466\t11\t70.6773,72.1454,71.4114,63.6306,69.2093,69.2093,67.3008,72.5858,69.9433,72.8794,71.705\n",
      "1579\tCACCC\t15\t0\t0\t74.59468841552734\t3.2702603340148926\t294\t75.0815,75.8156,79.6326,78.0177,75.3752,77.2837,78.0177,72.2922,76.99,74.7879,75.3752,75.522,75.6688,73.3199,74.9347,77.5773,73.7603,74.3475,72.7326,75.522,77.2837,75.2284,76.6964,78.4581,78.4581,79.7794,76.5496,76.8432,70.2369,70.2369,81.1006,77.8709,74.9347,72.439,75.8156,77.5773,75.9624,77.4305,76.1092,77.2837,64.5114,74.4943,78.4581,77.4305,76.8432,75.0815,76.1092,78.3113,76.5496,75.6688,76.5496,77.4305,78.6049,76.4028,75.8156,77.1368,71.8518,76.4028,75.8156,75.9624,74.9347,78.3113,72.2922,75.6688,75.0815,75.522,75.9624,70.6773,69.9433,69.2093,68.3284,69.3561,69.2093,69.7965,67.888,68.9157,68.622,69.0625,69.7965,73.173,76.1092,74.7879,75.2284,78.3113,76.256,78.3113,77.7241,72.7326,73.6135,78.6049,75.522,75.8156,74.0539,67.3008,72.439,72.2922,67.0072,74.6411,76.1092,75.8156,73.3199,77.2837,70.3837,73.4667,74.7879,76.6964,79.1921,73.3199,76.6964,76.4028,71.1178,76.1092,79.7794,77.7241,77.1368,74.3475,78.6049,78.8985,77.2837,77.7241,70.0901,79.0453,76.1092,73.6135,78.1645,79.0453,75.8156,79.3389,79.0453,77.1368,78.1645,78.3113,77.8709,79.4858,75.8156,76.4028,77.2837,77.4305,79.6326,77.4305,81.8347,76.5496,76.5496,78.8985,74.7879,77.2837,80.2198,75.6688,78.1645,76.99,79.3389,79.0453,71.5582,78.6049,79.7794,78.3113,78.1645,75.3752,76.8432,80.073,78.3113,80.2198,80.073,80.9538,77.5773,77.8709,75.6688,80.807,77.8709,78.0177,79.3389,80.2198,80.2198,76.1092,77.8709,76.5496,76.6964,77.8709,77.1368,75.9624,76.99,72.2922,71.8518,73.9071,68.9157,70.0901,71.8518,75.3752,73.9071,72.1454,73.6135,74.4943,73.173,75.9624,75.0815,74.6411,75.0815,75.2284,74.4943,75.522,76.6964,72.7326,73.7603,74.9347,75.522,74.0539,71.2646,70.3837,72.439,75.522,75.9624,71.705,72.2922,70.8241,71.1178,70.971,74.7879,75.6688,74.6411,72.1454,73.0262,71.4114,73.9071,74.2007,75.0815,74.4943,72.1454,72.8794,72.1454,69.6497,71.5582,72.439,70.6773,69.7965,68.4752,68.7689,73.6135,73.7603,72.2922,71.4114,69.2093,70.2369,73.3199,72.439,71.5582,67.4476,72.8794,72.2922,72.5858,72.439,73.9071,69.6497,72.2922,73.6135,74.4943,73.0262,70.0901,72.439,71.8518,72.1454,71.9986,70.2369,74.0539,70.971,72.1454,71.2646,71.8518,71.1178,71.5582,70.971,69.2093,70.8241,71.4114,71.2646,72.1454,70.5305,69.6497,70.6773,69.9433,72.8794,67.5944,66.7135,70.5305,69.7965,68.622,73.4667,73.7603,76.1092,77.1368,74.3475,75.8156,74.7879,76.8432,75.8156\n",
      "1580\tACCCT\t1\t0\t0\t67.23785400390625\t1.7063778638839722\t7\t64.9519,65.6859,67.888,68.1816,68.1816,65.6859,70.0901\n",
      "1581\tCCCTC\t1\t0\t0\t72.0615005493164\t1.1475614309310913\t7\t70.3837,72.5858,70.6773,71.4114,73.0262,73.6135,72.7326\n",
      "1582\tCCTCA\t5\t0\t0\t73.5634994506836\t2.3691813945770264\t47\t75.522,77.8709,75.2284,74.3475,75.9624,76.6964,72.1454,71.1178,71.1178,72.439,76.256,74.0539,73.0262,73.4667,70.6773,71.5582,69.7965,71.1178,68.3284,70.6773,73.6135,69.6497,67.4476,73.7603,74.3475,72.8794,74.0539,73.3199,74.4943,75.522,72.8794,72.5858,71.2646,73.4667,74.3475,74.4943,74.9347,71.9986,72.2922,76.8432,74.9347,76.5496,75.6688,75.2284,75.0815,76.6964,77.7241\n",
      "1583\tCTCAA\t1\t0\t0\t77.58948516845703\t1.5072672367095947\t12\t74.3475,75.0815,78.3113,78.8985,77.8709,78.3113,76.4028,78.0177,77.1368,78.3113,78.8985,79.4858\n",
      "1584\tTCAAG\t1\t0\t0\t83.52072143554688\t3.1505558490753174\t33\t88.441,79.9262,81.6879,81.9815,85.0644,86.9729,84.624,81.1006,76.99,79.0453,79.9262,84.0368,92.1112,83.0091,84.1836,80.807,84.0368,85.7985,87.2665,85.6516,83.0091,87.7069,81.2474,84.0368,79.1921,79.6326,87.2665,83.4495,84.0368,83.7432,80.807,84.624,84.7708\n",
      "1585\tCAAGG\t1\t0\t0\t105.23970794677734\t3.632479667663574\t7\t113.251,102.534,104.296,103.415,106.498,101.36,105.324\n",
      "\n",
      "Index file\n",
      "read_id\tref_id\tkmers\tNNNNN_kmers\tmismatching_kmers\toffset\n",
      "1\tYCR030C\t971\t23\t0\t0\n",
      "0\tYGR240C\t1250\t35\t0\t327673\n",
      "2\tYHR174W\t825\t15\t0\t726111\n",
      "3\tYHR174W\t1028\t36\t0\t1001838\n",
      "5\tYLR441C\t554\t20\t0\t1322410\n",
      "8\tYDR500C\t231\t7\t0\t1485249\n",
      "4\tYHR174W\t818\t18\t0\t1567493\n",
      "6\tYGR192C\t927\t37\t0\t1868960\n",
      "9\tYDR224C\t376\t8\t0\t2198768\n"
     ]
    }
   ],
   "source": [
    "input_fn = \"./data/nanopolish_reads_samples.tsv\"\n",
    "output_fn = \"./output/collapsed_nanopolish_samples.tsv\"\n",
    "index_fn = \"./output/collapsed_nanopolish_samples.tsv.idx\"\n",
    "\n",
    "Eventalign_collapse (input_fn=input_fn, output_fn=output_fn, verbose=True, threads=6, write_samples=True)\n",
    "\n",
    "print (\"\\nCollapsed eventalign file\")\n",
    "! head {output_fn} -n 10\n",
    "\n",
    "print (\"\\nIndex file\")\n",
    "! head {index_fn} -n 10"
   ]
  },
  {
   "cell_type": "markdown",
   "metadata": {},
   "source": [
    "#### Using the index to random access a specific entry in the file"
   ]
  },
  {
   "cell_type": "code",
   "execution_count": 7,
   "metadata": {
    "ExecuteTime": {
     "end_time": "2018-08-29T23:37:09.389063Z",
     "start_time": "2018-08-29T23:37:09.152162Z"
    }
   },
   "outputs": [
    {
     "name": "stdout",
     "output_type": "stream",
     "text": [
      "INDEX Read_id: 6 | Ref_id: YGR192C\n",
      "#6\tYGR192C\n",
      "ref_pos\tref_kmer\tn_events\tNNNNN_events\tmismatching_events\tstart_idx\tend_idx\n",
      "1\tTGGTT\t1\t0\t0\t45267\t45311\n",
      "2\tGGTTA\t1\t0\t0\t45248\t45267\n",
      "3\tGTTAG\t1\t0\t0\t45223\t45248\n",
      "\n",
      "INDEX Read_id: 4 | Ref_id: YHR174W\n",
      "#4\tYHR174W\n",
      "ref_pos\tref_kmer\tn_events\tNNNNN_events\tmismatching_events\tstart_idx\tend_idx\n",
      "462\tTTGAA\t2\t0\t0\t42640\t42664\n",
      "463\tTGAAC\t1\t0\t0\t42624\t42640\n",
      "464\tGAACG\t3\t0\t0\t42572\t42624\n",
      "\n",
      "INDEX Read_id: 19 | Ref_id: YKL060C\n",
      "#19\tYKL060C\n",
      "ref_pos\tref_kmer\tn_events\tNNNNN_events\tmismatching_events\tstart_idx\tend_idx\n",
      "897\tATCAG\t1\t0\t0\t29373\t29399\n",
      "898\tTCAGA\t1\t0\t0\t29364\t29373\n",
      "899\tCAGAG\t3\t0\t0\t29329\t29364\n",
      "\n",
      "INDEX Read_id: 16 | Ref_id: YMR116C\n",
      "#16\tYMR116C\n",
      "ref_pos\tref_kmer\tn_events\tNNNNN_events\tmismatching_events\tstart_idx\tend_idx\n",
      "180\tTTCAA\t3\t0\t0\t41362\t41555\n",
      "181\tTCAAG\t1\t0\t0\t41344\t41362\n",
      "182\tCAAGG\t2\t0\t0\t41315\t41344\n",
      "\n",
      "INDEX Read_id: 9 | Ref_id: YDR224C\n",
      "#9\tYDR224C\n",
      "ref_pos\tref_kmer\tn_events\tNNNNN_events\tmismatching_events\tstart_idx\tend_idx\n",
      "0\tATGTC\t1\t0\t0\t24307\t24316\n",
      "1\tTGTCT\t1\t0\t0\t24292\t24307\n",
      "2\tGTCTG\t1\t0\t0\t24280\t24292\n",
      "\n"
     ]
    }
   ],
   "source": [
    "output_fn = \"./output/collapsed_nanopolish_index.tsv\"\n",
    "index_fn = \"./output/collapsed_nanopolish_index.tsv.idx\"\n",
    "\n",
    "# Import the index in a pandas dataframe (because it is simple)\n",
    "import pandas as pd \n",
    "index_df = pd.read_table(index_fn)\n",
    "\n",
    "# Select random lines\n",
    "random_lines = index_df.sample(5)\n",
    "\n",
    "# Open the collapsed event align file\n",
    "with open (output_fn) as fp:\n",
    "    for id, read in random_lines.iterrows():\n",
    "        \n",
    "        #Access the header corresponding to the randomly selected index line using seek \n",
    "        print (\"INDEX Read_id: {} | Ref_id: {}\".format(read.read_id, read.ref_id))\n",
    "        fp.seek(0) # Return to file start\n",
    "        fp.seek(read.offset) # move tho the offset indicated in the index file\n",
    "        for _ in range(5): # read the first 5 lines of each sequence\n",
    "            print (fp.readline()[:-1])\n",
    "        print()"
   ]
  }
 ],
 "metadata": {
  "hide_input": false,
  "kernelspec": {
   "display_name": "Python3.6",
   "language": "python",
   "name": "python3.6"
  },
  "language_info": {
   "codemirror_mode": {
    "name": "ipython",
    "version": 3
   },
   "file_extension": ".py",
   "mimetype": "text/x-python",
   "name": "python",
   "nbconvert_exporter": "python",
   "pygments_lexer": "ipython3",
   "version": "3.6.6"
  }
 },
 "nbformat": 4,
 "nbformat_minor": 2
}
