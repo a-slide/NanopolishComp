{
 "cells": [
  {
   "cell_type": "markdown",
   "metadata": {
    "ExecuteTime": {
     "end_time": "2018-08-10T10:03:00.595966Z",
     "start_time": "2018-08-10T10:03:00.587806Z"
    }
   },
   "source": [
    "# Eventalign_collapse usage"
   ]
  },
  {
   "cell_type": "markdown",
   "metadata": {
    "heading_collapsed": true
   },
   "source": [
    "## Bash command line usage"
   ]
  },
  {
   "cell_type": "code",
   "execution_count": 21,
   "metadata": {
    "ExecuteTime": {
     "end_time": "2018-08-31T11:07:24.469140Z",
     "start_time": "2018-08-31T11:07:23.968718Z"
    },
    "hidden": true
   },
   "outputs": [],
   "source": [
    "%%bash\n",
    "source ~/.bashrc && workon Nanopolish_0.10.1\n",
    "# To add in cells for bash in Jupyter"
   ]
  },
  {
   "cell_type": "markdown",
   "metadata": {
    "ExecuteTime": {
     "end_time": "2018-08-10T17:02:13.860121Z",
     "start_time": "2018-08-10T17:02:13.847128Z"
    },
    "heading_collapsed": true,
    "hidden": true
   },
   "source": [
    "#### From an existing nanopolish eventalign output to a file"
   ]
  },
  {
   "cell_type": "code",
   "execution_count": 1,
   "metadata": {
    "ExecuteTime": {
     "end_time": "2018-08-31T11:21:24.259785Z",
     "start_time": "2018-08-31T11:21:23.440697Z"
    },
    "hidden": true,
    "scrolled": true
   },
   "outputs": [
    {
     "name": "stdout",
     "output_type": "stream",
     "text": [
      "#0\tYGR240C\n",
      "ref_pos\tref_kmer\tn_events\tNNNNN_events\tmismatching_events\n",
      "1656\tGAAAA\t1\t0\t0\n",
      "1657\tAAAAC\t1\t0\t0\n",
      "1658\tAAACA\t1\t0\t0\n",
      "1659\tAACAA\t1\t0\t0\n",
      "1660\tACAAA\t1\t0\t0\n",
      "1661\tCAAAG\t1\t0\t0\n",
      "1662\tAAAGA\t1\t0\t0\n",
      "1663\tAAGAT\t1\t0\t0\n",
      "read_id\tref_id\tref_start\tref_end\tkmers\tNNNNN_kmers\tmismatching_kmers\toffset\n",
      "0\tYGR240C\t1656\t2959\t1251\t35\t0\t0\n",
      "1\tYCR030C\t1578\t2575\t972\t23\t0\t21326\n",
      "2\tYHR174W\t0\t838\t826\t15\t0\t37906\n",
      "3\tYHR174W\t218\t1308\t1029\t36\t0\t51076\n",
      "4\tYHR174W\t462\t1308\t819\t18\t0\t67895\n",
      "5\tYLR441C\t173\t763\t555\t20\t0\t81361\n",
      "6\tYGR192C\t1\t988\t928\t37\t0\t90294\n",
      "8\tYDR500C\t9\t251\t232\t7\t0\t105105\n",
      "7\tYGR192C\t3\t994\t947\t31\t0\t108785\n"
     ]
    },
    {
     "name": "stderr",
     "output_type": "stream",
     "text": [
      "Collapse file by read_id/ref_id\n",
      "[Eventalign_collapse] Reads:21 [199 reads/s]\n"
     ]
    }
   ],
   "source": [
    "NanopolishComp Eventalign_collapse -i ./data/nanopolish_reads.tsv -o ./output/nanopolish_collapsed_reads.tsv --verbose\n",
    "head ./output/nanopolish_collapsed_reads.tsv\n",
    "head ./output/nanopolish_collapsed_reads.tsv.idx"
   ]
  },
  {
   "cell_type": "markdown",
   "metadata": {
    "heading_collapsed": true,
    "hidden": true
   },
   "source": [
    "#### From standard input to a file"
   ]
  },
  {
   "cell_type": "code",
   "execution_count": 22,
   "metadata": {
    "ExecuteTime": {
     "end_time": "2018-08-31T11:07:34.223513Z",
     "start_time": "2018-08-31T11:07:33.419886Z"
    },
    "hidden": true
   },
   "outputs": [
    {
     "name": "stdout",
     "output_type": "stream",
     "text": [
      "#0\tYGR240C\n",
      "ref_pos\tref_kmer\tn_events\tNNNNN_events\tmismatching_events\tstart_idx\tend_idx\n",
      "1656\tGAAAA\t1\t0\t0\t63446\t63454\n",
      "1657\tAAAAC\t1\t0\t0\t63423\t63446\n",
      "1658\tAAACA\t1\t0\t0\t63411\t63423\n",
      "1659\tAACAA\t1\t0\t0\t63398\t63411\n",
      "1660\tACAAA\t1\t0\t0\t63383\t63398\n",
      "1661\tCAAAG\t1\t0\t0\t63366\t63383\n",
      "1662\tAAAGA\t1\t0\t0\t63337\t63366\n",
      "1663\tAAGAT\t1\t0\t0\t63328\t63337\n",
      "read_id\tref_id\tref_start\tref_end\tkmers\tNNNNN_kmers\tmismatching_kmers\toffset\n",
      "0\tYGR240C\t1656\t2959\t1251\t35\t0\t0\n",
      "1\tYCR030C\t1578\t2575\t972\t23\t0\t36344\n",
      "2\tYHR174W\t0\t838\t826\t15\t0\t64594\n",
      "3\tYHR174W\t218\t1308\t1029\t36\t0\t87128\n",
      "4\tYHR174W\t462\t1308\t819\t18\t0\t116301\n",
      "5\tYLR441C\t173\t763\t555\t20\t0\t139601\n",
      "6\tYGR192C\t1\t988\t928\t37\t0\t155200\n",
      "8\tYDR500C\t9\t251\t232\t7\t0\t181152\n",
      "9\tYDR224C\t0\t388\t377\t8\t0\t187622\n"
     ]
    },
    {
     "name": "stderr",
     "output_type": "stream",
     "text": [
      "Collapse file by read_id/ref_id\n",
      "[Eventalign_collapse] Reads:21 [174 reads/s]\n"
     ]
    }
   ],
   "source": [
    "cat ./data/nanopolish_reads_index.tsv | NanopolishComp Eventalign_collapse -o ./output/nanopolish_collapsed_reads.tsv --verbose\n",
    "head ./output/nanopolish_collapsed_reads.tsv\n",
    "head ./output/nanopolish_collapsed_reads.tsv.idx"
   ]
  },
  {
   "cell_type": "markdown",
   "metadata": {
    "heading_collapsed": true,
    "hidden": true
   },
   "source": [
    "#### On the fly, from nanopolish eventalign to a file"
   ]
  },
  {
   "cell_type": "code",
   "execution_count": 27,
   "metadata": {
    "ExecuteTime": {
     "end_time": "2018-08-31T11:15:08.447681Z",
     "start_time": "2018-08-31T11:15:06.719559Z"
    },
    "hidden": true,
    "scrolled": true
   },
   "outputs": [
    {
     "name": "stdout",
     "output_type": "stream",
     "text": [
      "#3784283c-47cc-48ac-8d7b-7efd32123b56\tYHR174W\n",
      "ref_pos\tref_kmer\tn_events\tNNNNN_events\tmismatching_events\tmean\tstd\tn_signals\n",
      "0\tATGGC\t1\t0\t0\t86.3893051147461\t3.8192403316497803\t33\n",
      "1\tTGGCT\t4\t0\t0\t104.78181457519531\t6.572873592376709\t98\n",
      "2\tGGCTG\t1\t0\t0\t96.55765533447266\t6.874111652374268\t14\n",
      "3\tGCTGT\t5\t0\t0\t81.69342803955078\t5.14208984375\t116\n",
      "4\tCTGTC\t1\t0\t0\t102.4487075805664\t1.5290673971176147\t7\n",
      "5\tTGTCT\t4\t0\t0\t107.04158020019531\t5.813553810119629\t58\n",
      "6\tGTCTC\t2\t0\t0\t76.83718872070312\t2.1963260173797607\t24\n",
      "7\tTCTCT\t1\t0\t0\t80.0484619140625\t1.0306347608566284\t7\n",
      "read_id\tref_id\tref_start\tref_end\tkmers\tNNNNN_kmers\tmismatching_kmers\toffset\n",
      "3784283c-47cc-48ac-8d7b-7efd32123b56\tYHR174W\t0\t838\t826\t15\t0\t0\n",
      "9a1c5296-2ab1-4abd-8d50-e059754cf332\tYCR030C\t1578\t2575\t972\t23\t0\t45733\n",
      "3e81c32a-f2ee-4719-a88d-e0affe93d26f\tYHR174W\t218\t1308\t1029\t36\t0\t100662\n",
      "6af04302-04c8-4d8d-8e87-aa69178b3f24\tYLR441C\t173\t763\t555\t20\t0\t158094\n",
      "e6a8e4d0-7b3c-471a-be26-fa7857d12663\tYDR500C\t9\t251\t232\t7\t0\t188952\n",
      "97205d42-93ac-4c99-af78-e553f7d1ff83\tYGR240C\t1656\t2959\t1251\t35\t0\t201801\n",
      "4e21bf07-e2df-42d8-b347-59ef2c0618ea\tYGR192C\t1\t988\t928\t37\t0\t272533\n",
      "f8325de9-a77e-4616-a4a8-69ecf32e1688\tYDR224C\t0\t388\t377\t8\t0\t323949\n",
      "0ef36fa0-7c3f-47f5-8410-027f50724701\tYHR174W\t462\t1308\t819\t18\t0\t344838\n"
     ]
    },
    {
     "name": "stderr",
     "output_type": "stream",
     "text": [
      "Collapse file by read_id/ref_id\n",
      "Reads:3 [15 reads/s]\r",
      "Reads:8 [25 reads/s]\r",
      "Reads:12 [20 reads/s]\r",
      "Reads:16 [20 reads/s]\r",
      "[post-run summary] total reads: 21, unparseable: 0, qc fail: 0, could not calibrate: 0, no alignment: 0, bad fast5: 0\n",
      "[Eventalign_collapse] Reads:21 [21 reads/s]\n"
     ]
    }
   ],
   "source": [
    "nanopolish eventalign -t 4 --samples --scale-events --print-read-name --reads ./data/reads.fastq --bam ./data/aligned_reads.bam --genome ./data/reference.fa | NanopolishComp Eventalign_collapse  -o ./output/nanopolish_collapsed_reads.tsv --verbose\n",
    "head ./output/nanopolish_collapsed_reads.tsv\n",
    "head ./output/nanopolish_collapsed_reads.tsv.idx"
   ]
  },
  {
   "cell_type": "markdown",
   "metadata": {},
   "source": [
    "## Python API usage"
   ]
  },
  {
   "cell_type": "markdown",
   "metadata": {
    "heading_collapsed": true
   },
   "source": [
    "#### Import the package"
   ]
  },
  {
   "cell_type": "code",
   "execution_count": 2,
   "metadata": {
    "ExecuteTime": {
     "end_time": "2018-08-31T11:21:46.515646Z",
     "start_time": "2018-08-31T11:21:46.432613Z"
    },
    "hidden": true
   },
   "outputs": [],
   "source": [
    "from NanopolishComp.Eventalign_collapse import Eventalign_collapse"
   ]
  },
  {
   "cell_type": "markdown",
   "metadata": {
    "heading_collapsed": true
   },
   "source": [
    "#### Example with minimal file"
   ]
  },
  {
   "cell_type": "code",
   "execution_count": 3,
   "metadata": {
    "ExecuteTime": {
     "end_time": "2018-08-31T11:21:48.223265Z",
     "start_time": "2018-08-31T11:21:47.812277Z"
    },
    "hidden": true,
    "scrolled": true
   },
   "outputs": [
    {
     "name": "stderr",
     "output_type": "stream",
     "text": [
      "Collapse file by read_id/ref_id\n",
      "[Eventalign_collapse] Reads:21 [214 reads/s]\n"
     ]
    },
    {
     "name": "stdout",
     "output_type": "stream",
     "text": [
      "\n",
      "Collapsed eventalign file\n",
      "#0\tYGR240C\n",
      "ref_pos\tref_kmer\tn_events\tNNNNN_events\tmismatching_events\n",
      "1656\tGAAAA\t1\t0\t0\n",
      "1657\tAAAAC\t1\t0\t0\n",
      "1658\tAAACA\t1\t0\t0\n",
      "1659\tAACAA\t1\t0\t0\n",
      "1660\tACAAA\t1\t0\t0\n",
      "1661\tCAAAG\t1\t0\t0\n",
      "1662\tAAAGA\t1\t0\t0\n",
      "1663\tAAGAT\t1\t0\t0\n",
      "\n",
      "Index file\n",
      "read_id\tref_id\tref_start\tref_end\tkmers\tNNNNN_kmers\tmismatching_kmers\toffset\n",
      "0\tYGR240C\t1656\t2959\t1251\t35\t0\t0\n",
      "1\tYCR030C\t1578\t2575\t972\t23\t0\t21326\n",
      "2\tYHR174W\t0\t838\t826\t15\t0\t37906\n",
      "3\tYHR174W\t218\t1308\t1029\t36\t0\t51076\n",
      "4\tYHR174W\t462\t1308\t819\t18\t0\t67895\n",
      "5\tYLR441C\t173\t763\t555\t20\t0\t81361\n",
      "6\tYGR192C\t1\t988\t928\t37\t0\t90294\n",
      "8\tYDR500C\t9\t251\t232\t7\t0\t105105\n",
      "9\tYDR224C\t0\t388\t377\t8\t0\t108785\n"
     ]
    }
   ],
   "source": [
    "input_fn = \"./data/nanopolish_reads.tsv\"\n",
    "output_fn = \"./output/collapsed_nanopolish.tsv\"\n",
    "index_fn = \"./output/collapsed_nanopolish.tsv.idx\"\n",
    "\n",
    "Eventalign_collapse (input_fn=input_fn, output_fn=output_fn, threads=6, verbose=True)\n",
    "\n",
    "print (\"\\nCollapsed eventalign file\")\n",
    "! head {output_fn} -n 10\n",
    "\n",
    "print (\"\\nIndex file\")\n",
    "! head {index_fn} -n 10"
   ]
  },
  {
   "cell_type": "markdown",
   "metadata": {
    "heading_collapsed": true
   },
   "source": [
    "#### Example with indexes"
   ]
  },
  {
   "cell_type": "code",
   "execution_count": 4,
   "metadata": {
    "ExecuteTime": {
     "end_time": "2018-08-31T11:21:56.029278Z",
     "start_time": "2018-08-31T11:21:55.621962Z"
    },
    "hidden": true
   },
   "outputs": [
    {
     "name": "stderr",
     "output_type": "stream",
     "text": [
      "Collapse file by read_id/ref_id\n",
      "[Eventalign_collapse] Reads:21 [148 reads/s]\n"
     ]
    },
    {
     "name": "stdout",
     "output_type": "stream",
     "text": [
      "\n",
      "Collapsed eventalign file\n",
      "#0\tYGR240C\n",
      "ref_pos\tref_kmer\tn_events\tNNNNN_events\tmismatching_events\tstart_idx\tend_idx\n",
      "1656\tGAAAA\t1\t0\t0\t63446\t63454\n",
      "1657\tAAAAC\t1\t0\t0\t63423\t63446\n",
      "1658\tAAACA\t1\t0\t0\t63411\t63423\n",
      "1659\tAACAA\t1\t0\t0\t63398\t63411\n",
      "1660\tACAAA\t1\t0\t0\t63383\t63398\n",
      "1661\tCAAAG\t1\t0\t0\t63366\t63383\n",
      "1662\tAAAGA\t1\t0\t0\t63337\t63366\n",
      "1663\tAAGAT\t1\t0\t0\t63328\t63337\n",
      "\n",
      "Index file\n",
      "read_id\tref_id\tref_start\tref_end\tkmers\tNNNNN_kmers\tmismatching_kmers\toffset\n",
      "0\tYGR240C\t1656\t2959\t1251\t35\t0\t0\n",
      "1\tYCR030C\t1578\t2575\t972\t23\t0\t36344\n",
      "2\tYHR174W\t0\t838\t826\t15\t0\t64594\n",
      "3\tYHR174W\t218\t1308\t1029\t36\t0\t87128\n",
      "4\tYHR174W\t462\t1308\t819\t18\t0\t116301\n",
      "5\tYLR441C\t173\t763\t555\t20\t0\t139601\n",
      "6\tYGR192C\t1\t988\t928\t37\t0\t155200\n",
      "8\tYDR500C\t9\t251\t232\t7\t0\t181152\n",
      "9\tYDR224C\t0\t388\t377\t8\t0\t187622\n"
     ]
    }
   ],
   "source": [
    "input_fn = \"./data/nanopolish_reads_index.tsv\"\n",
    "output_fn = \"./output/collapsed_nanopolish_index.tsv\"\n",
    "index_fn = \"./output/collapsed_nanopolish_index.tsv.idx\"\n",
    "\n",
    "Eventalign_collapse (input_fn=input_fn, output_fn=output_fn, verbose=True, threads=6)\n",
    "\n",
    "print (\"\\nCollapsed eventalign file\")\n",
    "! head {output_fn} -n 10\n",
    "\n",
    "print (\"\\nIndex file\")\n",
    "! head {index_fn} -n 10"
   ]
  },
  {
   "cell_type": "markdown",
   "metadata": {
    "heading_collapsed": true
   },
   "source": [
    "#### Example including samples"
   ]
  },
  {
   "cell_type": "code",
   "execution_count": 6,
   "metadata": {
    "ExecuteTime": {
     "end_time": "2018-08-31T11:22:12.980374Z",
     "start_time": "2018-08-31T11:22:12.240238Z"
    },
    "hidden": true,
    "scrolled": false
   },
   "outputs": [
    {
     "name": "stderr",
     "output_type": "stream",
     "text": [
      "Collapse file by read_id/ref_id\n",
      "[Eventalign_collapse] Reads:21 [45 reads/s]\n"
     ]
    },
    {
     "name": "stdout",
     "output_type": "stream",
     "text": [
      "\n",
      "Collapsed eventalign file\n",
      "#1\tYCR030C\n",
      "ref_pos\tref_kmer\tn_events\tNNNNN_events\tmismatching_events\tmean\tstd\tn_signals\n",
      "1578\tCCACC\t1\t0\t0\t70.06341552734375\t2.593737840652466\t11\n",
      "1579\tCACCC\t15\t0\t0\t74.59468841552734\t3.2702603340148926\t294\n",
      "1580\tACCCT\t1\t0\t0\t67.23785400390625\t1.7063778638839722\t7\n",
      "1581\tCCCTC\t1\t0\t0\t72.0615005493164\t1.1475614309310913\t7\n",
      "1582\tCCTCA\t5\t0\t0\t73.5634994506836\t2.3691813945770264\t47\n",
      "1583\tCTCAA\t1\t0\t0\t77.58948516845703\t1.5072672367095947\t12\n",
      "1584\tTCAAG\t1\t0\t0\t83.52072143554688\t3.1505558490753174\t33\n",
      "1585\tCAAGG\t1\t0\t0\t105.23970794677734\t3.632479667663574\t7\n",
      "\n",
      "Index file\n",
      "read_id\tref_id\tref_start\tref_end\tkmers\tNNNNN_kmers\tmismatching_kmers\toffset\n",
      "1\tYCR030C\t1578\t2575\t972\t23\t0\t0\n",
      "0\tYGR240C\t1656\t2959\t1251\t35\t0\t54894\n",
      "3\tYHR174W\t218\t1308\t1029\t36\t0\t125591\n",
      "4\tYHR174W\t462\t1308\t819\t18\t0\t182988\n",
      "2\tYHR174W\t0\t838\t826\t15\t0\t228829\n",
      "5\tYLR441C\t173\t763\t555\t20\t0\t274527\n",
      "8\tYDR500C\t9\t251\t232\t7\t0\t305350\n",
      "9\tYDR224C\t0\t388\t377\t8\t0\t318164\n",
      "6\tYGR192C\t1\t988\t928\t37\t0\t339018\n"
     ]
    }
   ],
   "source": [
    "input_fn = \"./data/nanopolish_reads_samples.tsv\"\n",
    "output_fn = \"./output/collapsed_nanopolish_samples.tsv\"\n",
    "index_fn = \"./output/collapsed_nanopolish_samples.tsv.idx\"\n",
    "\n",
    "Eventalign_collapse (input_fn=input_fn, output_fn=output_fn, verbose=True, threads=6)\n",
    "\n",
    "print (\"\\nCollapsed eventalign file\")\n",
    "! head {output_fn} -n 10\n",
    "\n",
    "print (\"\\nIndex file\")\n",
    "! head {index_fn} -n 10"
   ]
  },
  {
   "cell_type": "markdown",
   "metadata": {
    "heading_collapsed": true
   },
   "source": [
    "#### Example including samples and writing samples values in ouput file"
   ]
  },
  {
   "cell_type": "code",
   "execution_count": 7,
   "metadata": {
    "ExecuteTime": {
     "end_time": "2018-08-31T11:22:15.238941Z",
     "start_time": "2018-08-31T11:22:14.484933Z"
    },
    "hidden": true,
    "scrolled": false
   },
   "outputs": [
    {
     "name": "stderr",
     "output_type": "stream",
     "text": [
      "Collapse file by read_id/ref_id\n",
      "[Eventalign_collapse] Reads:21 [43 reads/s]\n"
     ]
    },
    {
     "name": "stdout",
     "output_type": "stream",
     "text": [
      "\n",
      "Collapsed eventalign file\n",
      "#2\tYHR174W\n",
      "ref_pos\tref_kmer\tn_events\tNNNNN_events\tmismatching_events\tmean\tstd\tn_signals\tsamples\n",
      "0\tATGGC\t1\t0\t0\t86.3893051147461\t3.8192403316497803\t33\t96.4434,93.5342,94.5524,87.1342,85.6797,86.6978,85.0978,91.0615,89.316,84.0797,82.916,82.3342,89.316,84.3706,84.3706,85.8251,81.4615,83.0615,85.9706,85.0978,80.7342,82.4796,93.0979,88.0069,82.916,85.3887,84.0797,86.5524,84.3706,82.3342,88.2979,88.2979,85.9706\n",
      "1\tTGGCT\t4\t0\t0\t104.78181457519531\t6.572873592376709\t98\t104.007,96.1524,106.189,99.0615,108.371,102.407,107.498,100.662,113.462,106.189,111.28,111.28,112.298,102.989,101.971,109.68,106.916,109.243,106.916,103.28,101.825,110.553,112.443,105.898,101.098,99.0615,105.462,102.843,100.516,107.643,109.098,107.789,113.316,109.098,110.116,108.807,106.916,112.443,114.916,110.843,109.098,111.716,103.862,110.262,109.098,105.171,109.68,108.807,112.589,111.425,123.498,110.116,108.371,110.843,111.134,110.843,96.007,94.5524,97.8979,90.6251,94.9888,97.0252,93.9706,104.589,109.971,106.48,108.807,101.389,103.716,96.8797,89.7524,97.4615,98.0434,86.8433,104.443,103.716,102.407,107.207,102.989,93.6797,103.571,104.007,100.08,103.862,109.68,106.625,101.534,97.3161,103.571,97.607,88.7342,109.534,106.771,113.025,108.807,93.2433,108.952,91.207\n",
      "2\tGGCTG\t1\t0\t0\t96.55765533447266\t6.874111652374268\t14\t105.752,98.9161,98.7706,96.7343,95.5706,100.08,105.607,96.4434,88.5888,101.68,85.6797,104.589,88.1524,85.2433\n",
      "3\tGCTGT\t5\t0\t0\t81.69342803955078\t5.14208984375\t116\t94.1161,90.6251,93.2433,81.316,105.316,87.716,95.7161,90.3342,98.0434,86.116,87.716,107.789,96.2979,83.4978,84.2251,83.3524,79.5705,80.8796,79.1342,78.116,80.4433,80.5887,79.4251,79.2796,81.6069,77.9705,81.6069,81.7524,81.4615,80.4433,86.9888,79.5705,81.316,77.5342,82.6251,77.9705,82.1887,77.6796,80.7342,83.6433,77.9705,78.4069,80.0069,80.1524,80.4433,80.7342,80.2978,84.9524,78.5524,81.316,80.2978,82.1887,81.6069,77.6796,81.0251,78.4069,79.4251,80.4433,79.8615,82.1887,79.8615,80.0069,78.6978,80.7342,80.5887,78.5524,78.8433,79.4251,82.6251,80.0069,77.5342,80.0069,77.5342,83.7887,84.0797,83.0615,82.1887,81.6069,80.8796,81.316,80.0069,78.9887,82.7706,84.516,81.4615,80.5887,79.2796,78.9887,78.4069,80.5887,80.2978,83.7887,78.4069,78.116,79.5705,78.5524,79.4251,79.2796,81.0251,78.8433,78.9887,78.5524,80.1524,77.9705,78.2614,80.8796,78.4069,79.2796,78.2614,79.716,77.6796,79.4251,77.6796,78.6978,77.3887,76.9523\n",
      "4\tCTGTC\t1\t0\t0\t102.4487075805664\t1.5290673971176147\t7\t103.571,103.716,103.862,101.243,100.371,103.862,100.516\n",
      "5\tTGTCT\t4\t0\t0\t107.04158020019531\t5.813553810119629\t58\t113.462,109.534,107.789,112.298,110.116,112.153,109.243,111.862,107.352,112.88,103.716,102.262,103.571,101.971,104.007,104.152,99.6434,104.88,109.971,109.825,114.625,105.898,107.062,88.7342,105.462,112.589,108.516,114.771,106.916,111.716,110.116,106.334,108.08,107.207,110.262,110.116,105.898,109.825,108.08,106.771,107.207,108.08,107.498,114.48,116.807,107.062,109.68,105.607,110.407,110.553,106.189,105.025,109.389,104.88,86.6978,103.425,88.2979,97.4615\n",
      "6\tGTCTC\t2\t0\t0\t76.83718872070312\t2.1963260173797607\t24\t78.5524,75.6432,75.7887,79.4251,82.3342,77.3887,79.4251,77.8251,76.9523,78.4069,76.9523,77.8251,76.6614,78.9887,76.6614,76.8069,75.7887,71.8614,74.7705,74.6251,77.3887,76.8069,74.3341,72.8796\n",
      "7\tTCTCT\t1\t0\t0\t80.0484619140625\t1.0306347608566284\t7\t78.6978,79.2796,79.2796,80.0069,81.4615,81.6069,80.0069\n",
      "\n",
      "Index file\n",
      "read_id\tref_id\tref_start\tref_end\tkmers\tNNNNN_kmers\tmismatching_kmers\toffset\n",
      "2\tYHR174W\t0\t838\t826\t15\t0\t0\n",
      "0\tYGR240C\t1656\t2959\t1251\t35\t0\t275727\n",
      "3\tYHR174W\t218\t1308\t1029\t36\t0\t674165\n",
      "1\tYCR030C\t1578\t2575\t972\t23\t0\t994737\n",
      "5\tYLR441C\t173\t763\t555\t20\t0\t1322410\n",
      "4\tYHR174W\t462\t1308\t819\t18\t0\t1485249\n",
      "8\tYDR500C\t9\t251\t232\t7\t0\t1786716\n",
      "9\tYDR224C\t0\t388\t377\t8\t0\t1868960\n",
      "6\tYGR192C\t1\t988\t928\t37\t0\t1991605\n"
     ]
    }
   ],
   "source": [
    "input_fn = \"./data/nanopolish_reads_samples.tsv\"\n",
    "output_fn = \"./output/collapsed_nanopolish_samples.tsv\"\n",
    "index_fn = \"./output/collapsed_nanopolish_samples.tsv.idx\"\n",
    "\n",
    "Eventalign_collapse (input_fn=input_fn, output_fn=output_fn, verbose=True, threads=6, write_samples=True)\n",
    "\n",
    "print (\"\\nCollapsed eventalign file\")\n",
    "! head {output_fn} -n 10\n",
    "\n",
    "print (\"\\nIndex file\")\n",
    "! head {index_fn} -n 10"
   ]
  },
  {
   "cell_type": "markdown",
   "metadata": {},
   "source": [
    "#### Using the index to random access a specific entry in the file"
   ]
  },
  {
   "cell_type": "code",
   "execution_count": 10,
   "metadata": {
    "ExecuteTime": {
     "end_time": "2018-08-31T11:23:58.877653Z",
     "start_time": "2018-08-31T11:23:58.833217Z"
    }
   },
   "outputs": [
    {
     "data": {
      "text/html": [
       "<div>\n",
       "<style scoped>\n",
       "    .dataframe tbody tr th:only-of-type {\n",
       "        vertical-align: middle;\n",
       "    }\n",
       "\n",
       "    .dataframe tbody tr th {\n",
       "        vertical-align: top;\n",
       "    }\n",
       "\n",
       "    .dataframe thead th {\n",
       "        text-align: right;\n",
       "    }\n",
       "</style>\n",
       "<table border=\"1\" class=\"dataframe\">\n",
       "  <thead>\n",
       "    <tr style=\"text-align: right;\">\n",
       "      <th></th>\n",
       "      <th>read_id</th>\n",
       "      <th>ref_id</th>\n",
       "      <th>ref_start</th>\n",
       "      <th>ref_end</th>\n",
       "      <th>kmers</th>\n",
       "      <th>NNNNN_kmers</th>\n",
       "      <th>mismatching_kmers</th>\n",
       "      <th>offset</th>\n",
       "    </tr>\n",
       "  </thead>\n",
       "  <tbody>\n",
       "    <tr>\n",
       "      <th>13</th>\n",
       "      <td>14</td>\n",
       "      <td>YDR382W</td>\n",
       "      <td>5</td>\n",
       "      <td>328</td>\n",
       "      <td>309</td>\n",
       "      <td>13</td>\n",
       "      <td>0</td>\n",
       "      <td>276153</td>\n",
       "    </tr>\n",
       "    <tr>\n",
       "      <th>8</th>\n",
       "      <td>9</td>\n",
       "      <td>YDR224C</td>\n",
       "      <td>0</td>\n",
       "      <td>388</td>\n",
       "      <td>377</td>\n",
       "      <td>8</td>\n",
       "      <td>0</td>\n",
       "      <td>187622</td>\n",
       "    </tr>\n",
       "    <tr>\n",
       "      <th>5</th>\n",
       "      <td>5</td>\n",
       "      <td>YLR441C</td>\n",
       "      <td>173</td>\n",
       "      <td>763</td>\n",
       "      <td>555</td>\n",
       "      <td>20</td>\n",
       "      <td>0</td>\n",
       "      <td>139601</td>\n",
       "    </tr>\n",
       "    <tr>\n",
       "      <th>12</th>\n",
       "      <td>12</td>\n",
       "      <td>YLR293C</td>\n",
       "      <td>1</td>\n",
       "      <td>653</td>\n",
       "      <td>611</td>\n",
       "      <td>38</td>\n",
       "      <td>0</td>\n",
       "      <td>259023</td>\n",
       "    </tr>\n",
       "    <tr>\n",
       "      <th>4</th>\n",
       "      <td>4</td>\n",
       "      <td>YHR174W</td>\n",
       "      <td>462</td>\n",
       "      <td>1308</td>\n",
       "      <td>819</td>\n",
       "      <td>18</td>\n",
       "      <td>0</td>\n",
       "      <td>116301</td>\n",
       "    </tr>\n",
       "  </tbody>\n",
       "</table>\n",
       "</div>"
      ],
      "text/plain": [
       "    read_id   ref_id  ref_start  ref_end  kmers  NNNNN_kmers  \\\n",
       "13       14  YDR382W          5      328    309           13   \n",
       "8         9  YDR224C          0      388    377            8   \n",
       "5         5  YLR441C        173      763    555           20   \n",
       "12       12  YLR293C          1      653    611           38   \n",
       "4         4  YHR174W        462     1308    819           18   \n",
       "\n",
       "    mismatching_kmers  offset  \n",
       "13                  0  276153  \n",
       "8                   0  187622  \n",
       "5                   0  139601  \n",
       "12                  0  259023  \n",
       "4                   0  116301  "
      ]
     },
     "metadata": {},
     "output_type": "display_data"
    },
    {
     "name": "stdout",
     "output_type": "stream",
     "text": [
      "#14\tYDR382W\n",
      "ref_pos\tref_kmer\tn_events\tNNNNN_events\tmismatching_events\tstart_idx\tend_idx\n",
      "5\tATACT\t2\t0\t0\t48813\t48858\n",
      "6\tTACTT\t2\t0\t0\t48794\t48813\n",
      "7\tACTTA\t4\t0\t0\t48741\t48794\n",
      "\n",
      "#9\tYDR224C\n",
      "ref_pos\tref_kmer\tn_events\tNNNNN_events\tmismatching_events\tstart_idx\tend_idx\n",
      "0\tATGTC\t1\t0\t0\t24307\t24316\n",
      "1\tTGTCT\t1\t0\t0\t24292\t24307\n",
      "2\tGTCTG\t1\t0\t0\t24280\t24292\n",
      "\n",
      "#5\tYLR441C\n",
      "ref_pos\tref_kmer\tn_events\tNNNNN_events\tmismatching_events\tstart_idx\tend_idx\n",
      "173\tAGATG\t4\t0\t0\t27161\t27241\n",
      "174\tGATGC\t1\t0\t0\t27150\t27161\n",
      "175\tATGCT\t1\t0\t0\t27105\t27150\n",
      "\n",
      "#12\tYLR293C\n",
      "ref_pos\tref_kmer\tn_events\tNNNNN_events\tmismatching_events\tstart_idx\tend_idx\n",
      "1\tTGTCT\t1\t0\t0\t81520\t81535\n",
      "2\tGTCTG\t2\t0\t0\t81436\t81520\n",
      "3\tTCTGC\t2\t0\t0\t81371\t81436\n",
      "\n",
      "#4\tYHR174W\n",
      "ref_pos\tref_kmer\tn_events\tNNNNN_events\tmismatching_events\tstart_idx\tend_idx\n",
      "462\tTTGAA\t2\t0\t0\t42640\t42664\n",
      "463\tTGAAC\t1\t0\t0\t42624\t42640\n",
      "464\tGAACG\t3\t0\t0\t42572\t42624\n",
      "\n"
     ]
    }
   ],
   "source": [
    "output_fn = \"./output/collapsed_nanopolish_index.tsv\"\n",
    "index_fn = \"./output/collapsed_nanopolish_index.tsv.idx\"\n",
    "\n",
    "# Import the index in a pandas dataframe (because it is simple)\n",
    "import pandas as pd \n",
    "index_df = pd.read_table (index_fn)\n",
    "\n",
    "# Select random lines\n",
    "random_lines = index_df.sample(5)\n",
    "display (random_lines)\n",
    "\n",
    "# Open the collapsed event align file\n",
    "with open (output_fn) as fp:\n",
    "    for id, read in random_lines.iterrows():\n",
    "        \n",
    "        #Access the header corresponding to the randomly selected index line using seek \n",
    "        fp.seek(0) # Return to file start\n",
    "        fp.seek(read.offset) # move tho the offset indicated in the index file\n",
    "        for _ in range(5): # read the first 5 lines of each sequence\n",
    "            print (fp.readline()[:-1])\n",
    "        print()"
   ]
  }
 ],
 "metadata": {
  "celltoolbar": "Initialization Cell",
  "hide_input": false,
  "kernelspec": {
   "display_name": "Python3.6",
   "language": "python",
   "name": "python3.6"
  },
  "language_info": {
   "codemirror_mode": {
    "name": "ipython",
    "version": 3
   },
   "file_extension": ".py",
   "mimetype": "text/x-python",
   "name": "python",
   "nbconvert_exporter": "python",
   "pygments_lexer": "ipython3",
   "version": "3.6.6"
  }
 },
 "nbformat": 4,
 "nbformat_minor": 2
}
