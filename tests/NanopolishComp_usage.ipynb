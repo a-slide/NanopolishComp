{
 "cells": [
  {
   "cell_type": "markdown",
   "metadata": {
    "ExecuteTime": {
     "end_time": "2018-08-10T10:03:00.595966Z",
     "start_time": "2018-08-10T10:03:00.587806Z"
    }
   },
   "source": [
    "# Eventalign_collapse usage"
   ]
  },
  {
   "cell_type": "markdown",
   "metadata": {},
   "source": [
    "## Bash command line usage"
   ]
  },
  {
   "cell_type": "code",
   "execution_count": 21,
   "metadata": {
    "ExecuteTime": {
     "end_time": "2018-08-31T11:07:24.469140Z",
     "start_time": "2018-08-31T11:07:23.968718Z"
    }
   },
   "outputs": [],
   "source": [
    "%%bash\n",
    "source ~/.bashrc && workon Nanopolish_0.10.1\n",
    "# To add in cells for bash in Jupyter"
   ]
  },
  {
   "cell_type": "markdown",
   "metadata": {
    "ExecuteTime": {
     "end_time": "2018-08-10T17:02:13.860121Z",
     "start_time": "2018-08-10T17:02:13.847128Z"
    },
    "heading_collapsed": true
   },
   "source": [
    "#### From an existing nanopolish eventalign output to a file"
   ]
  },
  {
   "cell_type": "code",
   "execution_count": 17,
   "metadata": {
    "ExecuteTime": {
     "end_time": "2018-08-31T14:18:14.883597Z",
     "start_time": "2018-08-31T14:18:14.093687Z"
    },
    "hidden": true,
    "scrolled": true
   },
   "outputs": [
    {
     "name": "stdout",
     "output_type": "stream",
     "text": [
      "#0\tYGR240C\n",
      "ref_pos\tref_kmer\tn_events\tNNNNN_events\tmismatching_events\n",
      "1656\tGAAAA\t1\t0\t0\n",
      "1657\tAAAAC\t1\t0\t0\n",
      "1658\tAAACA\t1\t0\t0\n",
      "1659\tAACAA\t1\t0\t0\n",
      "1660\tACAAA\t1\t0\t0\n",
      "1661\tCAAAG\t1\t0\t0\n",
      "1662\tAAAGA\t1\t0\t0\n",
      "1663\tAAGAT\t1\t0\t0\n",
      "read_id\tref_id\tref_start\tref_end\tkmers\tNNNNN_kmers\tmismatching_kmers\toffset\n",
      "0\tYGR240C\t1656\t2959\t1251\t35\t0\t0\n",
      "1\tYCR030C\t1578\t2575\t972\t23\t0\t21326\n",
      "2\tYHR174W\t0\t838\t826\t15\t0\t37906\n",
      "3\tYHR174W\t218\t1308\t1029\t36\t0\t51076\n",
      "4\tYHR174W\t462\t1308\t819\t18\t0\t67895\n",
      "5\tYLR441C\t173\t763\t555\t20\t0\t81361\n",
      "6\tYGR192C\t1\t988\t928\t37\t0\t90294\n",
      "8\tYDR500C\t9\t251\t232\t7\t0\t105105\n",
      "7\tYGR192C\t3\t994\t947\t31\t0\t108785\n"
     ]
    },
    {
     "name": "stderr",
     "output_type": "stream",
     "text": [
      "[Eventalign_collapse] total reads: 21 [220.53 reads/s]\n"
     ]
    }
   ],
   "source": [
    "NanopolishComp Eventalign_collapse -i ./data/nanopolish_reads.tsv -o ./output/nanopolish_collapsed_reads.tsv\n",
    "head ./output/nanopolish_collapsed_reads.tsv\n",
    "head ./output/nanopolish_collapsed_reads.tsv.idx"
   ]
  },
  {
   "cell_type": "markdown",
   "metadata": {
    "heading_collapsed": true
   },
   "source": [
    "#### From standard input to a file"
   ]
  },
  {
   "cell_type": "code",
   "execution_count": 18,
   "metadata": {
    "ExecuteTime": {
     "end_time": "2018-08-31T14:18:27.257097Z",
     "start_time": "2018-08-31T14:18:26.342416Z"
    },
    "hidden": true
   },
   "outputs": [
    {
     "name": "stdout",
     "output_type": "stream",
     "text": [
      "#0\tYGR240C\n",
      "ref_pos\tref_kmer\tn_events\tNNNNN_events\tmismatching_events\tstart_idx\tend_idx\n",
      "1656\tGAAAA\t1\t0\t0\t63446\t63454\n",
      "1657\tAAAAC\t1\t0\t0\t63423\t63446\n",
      "1658\tAAACA\t1\t0\t0\t63411\t63423\n",
      "1659\tAACAA\t1\t0\t0\t63398\t63411\n",
      "1660\tACAAA\t1\t0\t0\t63383\t63398\n",
      "1661\tCAAAG\t1\t0\t0\t63366\t63383\n",
      "1662\tAAAGA\t1\t0\t0\t63337\t63366\n",
      "1663\tAAGAT\t1\t0\t0\t63328\t63337\n",
      "read_id\tref_id\tref_start\tref_end\tkmers\tNNNNN_kmers\tmismatching_kmers\toffset\n",
      "0\tYGR240C\t1656\t2959\t1251\t35\t0\t0\n",
      "1\tYCR030C\t1578\t2575\t972\t23\t0\t36344\n",
      "2\tYHR174W\t0\t838\t826\t15\t0\t64594\n",
      "3\tYHR174W\t218\t1308\t1029\t36\t0\t87128\n",
      "4\tYHR174W\t462\t1308\t819\t18\t0\t116301\n",
      "5\tYLR441C\t173\t763\t555\t20\t0\t139601\n",
      "6\tYGR192C\t1\t988\t928\t37\t0\t155200\n",
      "8\tYDR500C\t9\t251\t232\t7\t0\t181152\n",
      "9\tYDR224C\t0\t388\t377\t8\t0\t187622\n"
     ]
    },
    {
     "name": "stderr",
     "output_type": "stream",
     "text": [
      "Collapse file by read_id/ref_id\n",
      "\r",
      "0 reads [00:00, ? reads/s]\r",
      "11 reads [00:00, 106.37 reads/s]\r",
      "21 reads [00:00, 112.30 reads/s]\n",
      "[Eventalign_collapse] total reads: 21 [110.74 reads/s]\n"
     ]
    }
   ],
   "source": [
    "cat ./data/nanopolish_reads_index.tsv | NanopolishComp Eventalign_collapse -o ./output/nanopolish_collapsed_reads.tsv --verbose\n",
    "head ./output/nanopolish_collapsed_reads.tsv\n",
    "head ./output/nanopolish_collapsed_reads.tsv.idx"
   ]
  },
  {
   "cell_type": "markdown",
   "metadata": {
    "heading_collapsed": true
   },
   "source": [
    "#### On the fly, from nanopolish eventalign to a file"
   ]
  },
  {
   "cell_type": "code",
   "execution_count": 6,
   "metadata": {
    "ExecuteTime": {
     "end_time": "2018-08-31T14:57:32.002499Z",
     "start_time": "2018-08-31T14:57:30.261855Z"
    },
    "hidden": true,
    "scrolled": true
   },
   "outputs": [
    {
     "name": "stdout",
     "output_type": "stream",
     "text": [
      "#3784283c-47cc-48ac-8d7b-7efd32123b56\tYHR174W\n",
      "ref_pos\tref_kmer\tn_events\tNNNNN_events\tmismatching_events\tmean\tstd\tn_signals\n",
      "0\tATGGC\t1\t0\t0\t86.3893051147461\t3.8192403316497803\t33\n",
      "1\tTGGCT\t4\t0\t0\t104.78181457519531\t6.572873592376709\t98\n",
      "2\tGGCTG\t1\t0\t0\t96.55765533447266\t6.874111652374268\t14\n",
      "3\tGCTGT\t5\t0\t0\t81.69342803955078\t5.14208984375\t116\n",
      "4\tCTGTC\t1\t0\t0\t102.4487075805664\t1.5290673971176147\t7\n",
      "5\tTGTCT\t4\t0\t0\t107.04158020019531\t5.813553810119629\t58\n",
      "6\tGTCTC\t2\t0\t0\t76.83718872070312\t2.1963260173797607\t24\n",
      "7\tTCTCT\t1\t0\t0\t80.0484619140625\t1.0306347608566284\t7\n",
      "read_id\tref_id\tref_start\tref_end\tkmers\tNNNNN_kmers\tmismatching_kmers\toffset\n",
      "3784283c-47cc-48ac-8d7b-7efd32123b56\tYHR174W\t0\t838\t826\t15\t0\t0\n",
      "6af04302-04c8-4d8d-8e87-aa69178b3f24\tYLR441C\t173\t763\t555\t20\t0\t45733\n",
      "9a1c5296-2ab1-4abd-8d50-e059754cf332\tYCR030C\t1578\t2575\t972\t23\t0\t76591\n",
      "3e81c32a-f2ee-4719-a88d-e0affe93d26f\tYHR174W\t218\t1308\t1029\t36\t0\t131520\n",
      "97205d42-93ac-4c99-af78-e553f7d1ff83\tYGR240C\t1656\t2959\t1251\t35\t0\t188952\n",
      "0ef36fa0-7c3f-47f5-8410-027f50724701\tYHR174W\t462\t1308\t819\t18\t0\t259684\n",
      "e6a8e4d0-7b3c-471a-be26-fa7857d12663\tYDR500C\t9\t251\t232\t7\t0\t305560\n",
      "4e21bf07-e2df-42d8-b347-59ef2c0618ea\tYGR192C\t1\t988\t928\t37\t0\t318409\n",
      "2c32553e-62c6-4c7a-bf05-249771364f04\tYGR192C\t3\t994\t947\t31\t0\t369825\n"
     ]
    },
    {
     "name": "stderr",
     "output_type": "stream",
     "text": [
      "Collapse file by read_id/ref_id\n",
      "\r",
      "0 reads [00:00, ? reads/s]\r",
      "1 reads [00:00,  9.10 reads/s]\r",
      "3 reads [00:00,  9.61 reads/s]\r",
      "5 reads [00:00,  9.77 reads/s]\r",
      "9 reads [00:00, 10.37 reads/s]\r",
      "13 reads [00:00, 11.01 reads/s]\r",
      "16 reads [00:00, 11.67 reads/s]\r",
      "19 reads [00:00, 12.37 reads/s][post-run summary] total reads: 20, unparseable: 0, qc fail: 0, could not calibrate: 0, no alignment: 0, bad fast5: 0\n",
      "\r",
      "21 reads [00:01, 20.82 reads/s]\n",
      "[Eventalign_collapse] total reads: 21 [20.77 reads/s]\n"
     ]
    }
   ],
   "source": [
    "nanopolish eventalign -t 4 --samples --scale-events --print-read-name --reads ./data/reads.fastq --bam ./data/aligned_reads.bam --genome ./data/reference.fa | NanopolishComp Eventalign_collapse  -o ./output/nanopolish_collapsed_reads.tsv --verbose\n",
    "head ./output/nanopolish_collapsed_reads.tsv\n",
    "head ./output/nanopolish_collapsed_reads.tsv.idx"
   ]
  },
  {
   "cell_type": "markdown",
   "metadata": {},
   "source": [
    "## Python API usage"
   ]
  },
  {
   "cell_type": "markdown",
   "metadata": {
    "heading_collapsed": true
   },
   "source": [
    "#### Import the package"
   ]
  },
  {
   "cell_type": "code",
   "execution_count": 1,
   "metadata": {
    "ExecuteTime": {
     "end_time": "2018-08-31T14:57:48.508815Z",
     "start_time": "2018-08-31T14:57:48.422045Z"
    },
    "hidden": true
   },
   "outputs": [],
   "source": [
    "from NanopolishComp.Eventalign_collapse import Eventalign_collapse"
   ]
  },
  {
   "cell_type": "markdown",
   "metadata": {
    "heading_collapsed": true
   },
   "source": [
    "#### Example with minimal file"
   ]
  },
  {
   "cell_type": "code",
   "execution_count": 2,
   "metadata": {
    "ExecuteTime": {
     "end_time": "2018-08-31T14:57:50.123270Z",
     "start_time": "2018-08-31T14:57:49.710401Z"
    },
    "hidden": true,
    "scrolled": true
   },
   "outputs": [
    {
     "name": "stderr",
     "output_type": "stream",
     "text": [
      "Collapse file by read_id/ref_id\n",
      "21 reads [00:00, 179.71 reads/s]\n",
      "[Eventalign_collapse] total reads: 21 [169.2 reads/s]\n"
     ]
    },
    {
     "name": "stdout",
     "output_type": "stream",
     "text": [
      "Collapsed eventalign file\n",
      "#0\tYGR240C\n",
      "ref_pos\tref_kmer\tn_events\tNNNNN_events\tmismatching_events\n",
      "1656\tGAAAA\t1\t0\t0\n",
      "1657\tAAAAC\t1\t0\t0\n",
      "1658\tAAACA\t1\t0\t0\n",
      "1659\tAACAA\t1\t0\t0\n",
      "1660\tACAAA\t1\t0\t0\n",
      "1661\tCAAAG\t1\t0\t0\n",
      "1662\tAAAGA\t1\t0\t0\n",
      "1663\tAAGAT\t1\t0\t0\n",
      "Index file\n",
      "read_id\tref_id\tref_start\tref_end\tkmers\tNNNNN_kmers\tmismatching_kmers\toffset\n",
      "0\tYGR240C\t1656\t2959\t1251\t35\t0\t0\n",
      "1\tYCR030C\t1578\t2575\t972\t23\t0\t21326\n",
      "2\tYHR174W\t0\t838\t826\t15\t0\t37906\n",
      "4\tYHR174W\t462\t1308\t819\t18\t0\t51076\n",
      "3\tYHR174W\t218\t1308\t1029\t36\t0\t64542\n",
      "5\tYLR441C\t173\t763\t555\t20\t0\t81361\n",
      "6\tYGR192C\t1\t988\t928\t37\t0\t90294\n",
      "8\tYDR500C\t9\t251\t232\t7\t0\t105105\n",
      "7\tYGR192C\t3\t994\t947\t31\t0\t108785\n"
     ]
    }
   ],
   "source": [
    "input_fn = \"./data/nanopolish_reads.tsv\"\n",
    "output_fn = \"./output/collapsed_nanopolish.tsv\"\n",
    "index_fn = \"./output/collapsed_nanopolish.tsv.idx\"\n",
    "\n",
    "Eventalign_collapse (input_fn=input_fn, output_fn=output_fn, threads=6, verbose=True)\n",
    "\n",
    "print (\"Collapsed eventalign file\")\n",
    "! head {output_fn} -n 10\n",
    "\n",
    "print (\"Index file\")\n",
    "! head {index_fn} -n 10"
   ]
  },
  {
   "cell_type": "markdown",
   "metadata": {
    "heading_collapsed": true
   },
   "source": [
    "#### Example with indexes"
   ]
  },
  {
   "cell_type": "code",
   "execution_count": 4,
   "metadata": {
    "ExecuteTime": {
     "end_time": "2018-08-31T11:21:56.029278Z",
     "start_time": "2018-08-31T11:21:55.621962Z"
    },
    "hidden": true
   },
   "outputs": [
    {
     "name": "stderr",
     "output_type": "stream",
     "text": [
      "Collapse file by read_id/ref_id\n",
      "[Eventalign_collapse] Reads:21 [148 reads/s]\n"
     ]
    },
    {
     "name": "stdout",
     "output_type": "stream",
     "text": [
      "\n",
      "Collapsed eventalign file\n",
      "#0\tYGR240C\n",
      "ref_pos\tref_kmer\tn_events\tNNNNN_events\tmismatching_events\tstart_idx\tend_idx\n",
      "1656\tGAAAA\t1\t0\t0\t63446\t63454\n",
      "1657\tAAAAC\t1\t0\t0\t63423\t63446\n",
      "1658\tAAACA\t1\t0\t0\t63411\t63423\n",
      "1659\tAACAA\t1\t0\t0\t63398\t63411\n",
      "1660\tACAAA\t1\t0\t0\t63383\t63398\n",
      "1661\tCAAAG\t1\t0\t0\t63366\t63383\n",
      "1662\tAAAGA\t1\t0\t0\t63337\t63366\n",
      "1663\tAAGAT\t1\t0\t0\t63328\t63337\n",
      "\n",
      "Index file\n",
      "read_id\tref_id\tref_start\tref_end\tkmers\tNNNNN_kmers\tmismatching_kmers\toffset\n",
      "0\tYGR240C\t1656\t2959\t1251\t35\t0\t0\n",
      "1\tYCR030C\t1578\t2575\t972\t23\t0\t36344\n",
      "2\tYHR174W\t0\t838\t826\t15\t0\t64594\n",
      "3\tYHR174W\t218\t1308\t1029\t36\t0\t87128\n",
      "4\tYHR174W\t462\t1308\t819\t18\t0\t116301\n",
      "5\tYLR441C\t173\t763\t555\t20\t0\t139601\n",
      "6\tYGR192C\t1\t988\t928\t37\t0\t155200\n",
      "8\tYDR500C\t9\t251\t232\t7\t0\t181152\n",
      "9\tYDR224C\t0\t388\t377\t8\t0\t187622\n"
     ]
    }
   ],
   "source": [
    "input_fn = \"./data/nanopolish_reads_index.tsv\"\n",
    "output_fn = \"./output/collapsed_nanopolish_index.tsv\"\n",
    "index_fn = \"./output/collapsed_nanopolish_index.tsv.idx\"\n",
    "\n",
    "Eventalign_collapse (input_fn=input_fn, output_fn=output_fn, verbose=True, threads=6)\n",
    "\n",
    "print (\"\\nCollapsed eventalign file\")\n",
    "! head {output_fn} -n 10\n",
    "\n",
    "print (\"\\nIndex file\")\n",
    "! head {index_fn} -n 10"
   ]
  },
  {
   "cell_type": "markdown",
   "metadata": {
    "heading_collapsed": true
   },
   "source": [
    "#### Example including samples"
   ]
  },
  {
   "cell_type": "code",
   "execution_count": 6,
   "metadata": {
    "ExecuteTime": {
     "end_time": "2018-08-31T11:22:12.980374Z",
     "start_time": "2018-08-31T11:22:12.240238Z"
    },
    "hidden": true,
    "scrolled": false
   },
   "outputs": [
    {
     "name": "stderr",
     "output_type": "stream",
     "text": [
      "Collapse file by read_id/ref_id\n",
      "[Eventalign_collapse] Reads:21 [45 reads/s]\n"
     ]
    },
    {
     "name": "stdout",
     "output_type": "stream",
     "text": [
      "\n",
      "Collapsed eventalign file\n",
      "#1\tYCR030C\n",
      "ref_pos\tref_kmer\tn_events\tNNNNN_events\tmismatching_events\tmean\tstd\tn_signals\n",
      "1578\tCCACC\t1\t0\t0\t70.06341552734375\t2.593737840652466\t11\n",
      "1579\tCACCC\t15\t0\t0\t74.59468841552734\t3.2702603340148926\t294\n",
      "1580\tACCCT\t1\t0\t0\t67.23785400390625\t1.7063778638839722\t7\n",
      "1581\tCCCTC\t1\t0\t0\t72.0615005493164\t1.1475614309310913\t7\n",
      "1582\tCCTCA\t5\t0\t0\t73.5634994506836\t2.3691813945770264\t47\n",
      "1583\tCTCAA\t1\t0\t0\t77.58948516845703\t1.5072672367095947\t12\n",
      "1584\tTCAAG\t1\t0\t0\t83.52072143554688\t3.1505558490753174\t33\n",
      "1585\tCAAGG\t1\t0\t0\t105.23970794677734\t3.632479667663574\t7\n",
      "\n",
      "Index file\n",
      "read_id\tref_id\tref_start\tref_end\tkmers\tNNNNN_kmers\tmismatching_kmers\toffset\n",
      "1\tYCR030C\t1578\t2575\t972\t23\t0\t0\n",
      "0\tYGR240C\t1656\t2959\t1251\t35\t0\t54894\n",
      "3\tYHR174W\t218\t1308\t1029\t36\t0\t125591\n",
      "4\tYHR174W\t462\t1308\t819\t18\t0\t182988\n",
      "2\tYHR174W\t0\t838\t826\t15\t0\t228829\n",
      "5\tYLR441C\t173\t763\t555\t20\t0\t274527\n",
      "8\tYDR500C\t9\t251\t232\t7\t0\t305350\n",
      "9\tYDR224C\t0\t388\t377\t8\t0\t318164\n",
      "6\tYGR192C\t1\t988\t928\t37\t0\t339018\n"
     ]
    }
   ],
   "source": [
    "input_fn = \"./data/nanopolish_reads_samples.tsv\"\n",
    "output_fn = \"./output/collapsed_nanopolish_samples.tsv\"\n",
    "index_fn = \"./output/collapsed_nanopolish_samples.tsv.idx\"\n",
    "\n",
    "Eventalign_collapse (input_fn=input_fn, output_fn=output_fn, verbose=True, threads=6)\n",
    "\n",
    "print (\"\\nCollapsed eventalign file\")\n",
    "! head {output_fn} -n 10\n",
    "\n",
    "print (\"\\nIndex file\")\n",
    "! head {index_fn} -n 10"
   ]
  },
  {
   "cell_type": "markdown",
   "metadata": {
    "heading_collapsed": true
   },
   "source": [
    "#### Example including samples and writing samples values in ouput file"
   ]
  },
  {
   "cell_type": "code",
   "execution_count": 3,
   "metadata": {
    "ExecuteTime": {
     "end_time": "2018-08-31T14:57:54.728826Z",
     "start_time": "2018-08-31T14:57:53.948258Z"
    },
    "hidden": true,
    "scrolled": false
   },
   "outputs": [
    {
     "name": "stderr",
     "output_type": "stream",
     "text": [
      "Collapse file by read_id/ref_id\n",
      "21 reads [00:00, 42.00 reads/s]\n",
      "[Eventalign_collapse] total reads: 21 [41.25 reads/s]\n"
     ]
    },
    {
     "name": "stdout",
     "output_type": "stream",
     "text": [
      "\n",
      "Collapsed eventalign file\n",
      "#1\tYCR030C\n",
      "ref_pos\tref_kmer\tn_events\tNNNNN_events\tmismatching_events\tmean\tstd\tn_signals\tsamples\n",
      "1578\tCCACC\t1\t0\t0\t70.06341552734375\t2.593737840652466\t11\t70.6773,72.1454,71.4114,63.6306,69.2093,69.2093,67.3008,72.5858,69.9433,72.8794,71.705\n",
      "1579\tCACCC\t15\t0\t0\t74.59468841552734\t3.2702603340148926\t294\t75.0815,75.8156,79.6326,78.0177,75.3752,77.2837,78.0177,72.2922,76.99,74.7879,75.3752,75.522,75.6688,73.3199,74.9347,77.5773,73.7603,74.3475,72.7326,75.522,77.2837,75.2284,76.6964,78.4581,78.4581,79.7794,76.5496,76.8432,70.2369,70.2369,81.1006,77.8709,74.9347,72.439,75.8156,77.5773,75.9624,77.4305,76.1092,77.2837,64.5114,74.4943,78.4581,77.4305,76.8432,75.0815,76.1092,78.3113,76.5496,75.6688,76.5496,77.4305,78.6049,76.4028,75.8156,77.1368,71.8518,76.4028,75.8156,75.9624,74.9347,78.3113,72.2922,75.6688,75.0815,75.522,75.9624,70.6773,69.9433,69.2093,68.3284,69.3561,69.2093,69.7965,67.888,68.9157,68.622,69.0625,69.7965,73.173,76.1092,74.7879,75.2284,78.3113,76.256,78.3113,77.7241,72.7326,73.6135,78.6049,75.522,75.8156,74.0539,67.3008,72.439,72.2922,67.0072,74.6411,76.1092,75.8156,73.3199,77.2837,70.3837,73.4667,74.7879,76.6964,79.1921,73.3199,76.6964,76.4028,71.1178,76.1092,79.7794,77.7241,77.1368,74.3475,78.6049,78.8985,77.2837,77.7241,70.0901,79.0453,76.1092,73.6135,78.1645,79.0453,75.8156,79.3389,79.0453,77.1368,78.1645,78.3113,77.8709,79.4858,75.8156,76.4028,77.2837,77.4305,79.6326,77.4305,81.8347,76.5496,76.5496,78.8985,74.7879,77.2837,80.2198,75.6688,78.1645,76.99,79.3389,79.0453,71.5582,78.6049,79.7794,78.3113,78.1645,75.3752,76.8432,80.073,78.3113,80.2198,80.073,80.9538,77.5773,77.8709,75.6688,80.807,77.8709,78.0177,79.3389,80.2198,80.2198,76.1092,77.8709,76.5496,76.6964,77.8709,77.1368,75.9624,76.99,72.2922,71.8518,73.9071,68.9157,70.0901,71.8518,75.3752,73.9071,72.1454,73.6135,74.4943,73.173,75.9624,75.0815,74.6411,75.0815,75.2284,74.4943,75.522,76.6964,72.7326,73.7603,74.9347,75.522,74.0539,71.2646,70.3837,72.439,75.522,75.9624,71.705,72.2922,70.8241,71.1178,70.971,74.7879,75.6688,74.6411,72.1454,73.0262,71.4114,73.9071,74.2007,75.0815,74.4943,72.1454,72.8794,72.1454,69.6497,71.5582,72.439,70.6773,69.7965,68.4752,68.7689,73.6135,73.7603,72.2922,71.4114,69.2093,70.2369,73.3199,72.439,71.5582,67.4476,72.8794,72.2922,72.5858,72.439,73.9071,69.6497,72.2922,73.6135,74.4943,73.0262,70.0901,72.439,71.8518,72.1454,71.9986,70.2369,74.0539,70.971,72.1454,71.2646,71.8518,71.1178,71.5582,70.971,69.2093,70.8241,71.4114,71.2646,72.1454,70.5305,69.6497,70.6773,69.9433,72.8794,67.5944,66.7135,70.5305,69.7965,68.622,73.4667,73.7603,76.1092,77.1368,74.3475,75.8156,74.7879,76.8432,75.8156\n",
      "1580\tACCCT\t1\t0\t0\t67.23785400390625\t1.7063778638839722\t7\t64.9519,65.6859,67.888,68.1816,68.1816,65.6859,70.0901\n",
      "1581\tCCCTC\t1\t0\t0\t72.0615005493164\t1.1475614309310913\t7\t70.3837,72.5858,70.6773,71.4114,73.0262,73.6135,72.7326\n",
      "1582\tCCTCA\t5\t0\t0\t73.5634994506836\t2.3691813945770264\t47\t75.522,77.8709,75.2284,74.3475,75.9624,76.6964,72.1454,71.1178,71.1178,72.439,76.256,74.0539,73.0262,73.4667,70.6773,71.5582,69.7965,71.1178,68.3284,70.6773,73.6135,69.6497,67.4476,73.7603,74.3475,72.8794,74.0539,73.3199,74.4943,75.522,72.8794,72.5858,71.2646,73.4667,74.3475,74.4943,74.9347,71.9986,72.2922,76.8432,74.9347,76.5496,75.6688,75.2284,75.0815,76.6964,77.7241\n",
      "1583\tCTCAA\t1\t0\t0\t77.58948516845703\t1.5072672367095947\t12\t74.3475,75.0815,78.3113,78.8985,77.8709,78.3113,76.4028,78.0177,77.1368,78.3113,78.8985,79.4858\n",
      "1584\tTCAAG\t1\t0\t0\t83.52072143554688\t3.1505558490753174\t33\t88.441,79.9262,81.6879,81.9815,85.0644,86.9729,84.624,81.1006,76.99,79.0453,79.9262,84.0368,92.1112,83.0091,84.1836,80.807,84.0368,85.7985,87.2665,85.6516,83.0091,87.7069,81.2474,84.0368,79.1921,79.6326,87.2665,83.4495,84.0368,83.7432,80.807,84.624,84.7708\n",
      "1585\tCAAGG\t1\t0\t0\t105.23970794677734\t3.632479667663574\t7\t113.251,102.534,104.296,103.415,106.498,101.36,105.324\n",
      "\n",
      "Index file\n",
      "read_id\tref_id\tref_start\tref_end\tkmers\tNNNNN_kmers\tmismatching_kmers\toffset\n",
      "1\tYCR030C\t1578\t2575\t972\t23\t0\t0\n",
      "0\tYGR240C\t1656\t2959\t1251\t35\t0\t327673\n",
      "5\tYLR441C\t173\t763\t555\t20\t0\t726111\n",
      "3\tYHR174W\t218\t1308\t1029\t36\t0\t888950\n",
      "4\tYHR174W\t462\t1308\t819\t18\t0\t1209522\n",
      "8\tYDR500C\t9\t251\t232\t7\t0\t1510989\n",
      "2\tYHR174W\t0\t838\t826\t15\t0\t1593233\n",
      "9\tYDR224C\t0\t388\t377\t8\t0\t1868960\n",
      "7\tYGR192C\t3\t994\t947\t31\t0\t1991605\n"
     ]
    }
   ],
   "source": [
    "input_fn = \"./data/nanopolish_reads_samples.tsv\"\n",
    "output_fn = \"./output/collapsed_nanopolish_samples.tsv\"\n",
    "index_fn = \"./output/collapsed_nanopolish_samples.tsv.idx\"\n",
    "\n",
    "Eventalign_collapse (input_fn=input_fn, output_fn=output_fn, verbose=True, threads=6, write_samples=True)\n",
    "\n",
    "print (\"\\nCollapsed eventalign file\")\n",
    "! head {output_fn} -n 10\n",
    "\n",
    "print (\"\\nIndex file\")\n",
    "! head {index_fn} -n 10"
   ]
  },
  {
   "cell_type": "markdown",
   "metadata": {
    "heading_collapsed": true
   },
   "source": [
    "#### Using the index to random access a specific entry in the file"
   ]
  },
  {
   "cell_type": "code",
   "execution_count": 4,
   "metadata": {
    "ExecuteTime": {
     "end_time": "2018-08-31T14:57:59.641862Z",
     "start_time": "2018-08-31T14:57:59.394313Z"
    },
    "hidden": true
   },
   "outputs": [
    {
     "data": {
      "text/html": [
       "<div>\n",
       "<style scoped>\n",
       "    .dataframe tbody tr th:only-of-type {\n",
       "        vertical-align: middle;\n",
       "    }\n",
       "\n",
       "    .dataframe tbody tr th {\n",
       "        vertical-align: top;\n",
       "    }\n",
       "\n",
       "    .dataframe thead th {\n",
       "        text-align: right;\n",
       "    }\n",
       "</style>\n",
       "<table border=\"1\" class=\"dataframe\">\n",
       "  <thead>\n",
       "    <tr style=\"text-align: right;\">\n",
       "      <th></th>\n",
       "      <th>read_id</th>\n",
       "      <th>ref_id</th>\n",
       "      <th>ref_start</th>\n",
       "      <th>ref_end</th>\n",
       "      <th>kmers</th>\n",
       "      <th>NNNNN_kmers</th>\n",
       "      <th>mismatching_kmers</th>\n",
       "      <th>offset</th>\n",
       "    </tr>\n",
       "  </thead>\n",
       "  <tbody>\n",
       "    <tr>\n",
       "      <th>14</th>\n",
       "      <td>13</td>\n",
       "      <td>YPL198W</td>\n",
       "      <td>10</td>\n",
       "      <td>718</td>\n",
       "      <td>668</td>\n",
       "      <td>30</td>\n",
       "      <td>0</td>\n",
       "      <td>284790</td>\n",
       "    </tr>\n",
       "    <tr>\n",
       "      <th>12</th>\n",
       "      <td>12</td>\n",
       "      <td>YLR293C</td>\n",
       "      <td>1</td>\n",
       "      <td>653</td>\n",
       "      <td>611</td>\n",
       "      <td>38</td>\n",
       "      <td>0</td>\n",
       "      <td>259023</td>\n",
       "    </tr>\n",
       "    <tr>\n",
       "      <th>17</th>\n",
       "      <td>17</td>\n",
       "      <td>YEL052W</td>\n",
       "      <td>1095</td>\n",
       "      <td>1520</td>\n",
       "      <td>408</td>\n",
       "      <td>11</td>\n",
       "      <td>0</td>\n",
       "      <td>334503</td>\n",
       "    </tr>\n",
       "    <tr>\n",
       "      <th>20</th>\n",
       "      <td>20</td>\n",
       "      <td>YOL139C</td>\n",
       "      <td>0</td>\n",
       "      <td>637</td>\n",
       "      <td>618</td>\n",
       "      <td>15</td>\n",
       "      <td>0</td>\n",
       "      <td>370834</td>\n",
       "    </tr>\n",
       "    <tr>\n",
       "      <th>1</th>\n",
       "      <td>1</td>\n",
       "      <td>YCR030C</td>\n",
       "      <td>1578</td>\n",
       "      <td>2575</td>\n",
       "      <td>972</td>\n",
       "      <td>23</td>\n",
       "      <td>0</td>\n",
       "      <td>36344</td>\n",
       "    </tr>\n",
       "  </tbody>\n",
       "</table>\n",
       "</div>"
      ],
      "text/plain": [
       "    read_id   ref_id  ref_start  ref_end  kmers  NNNNN_kmers  \\\n",
       "14       13  YPL198W         10      718    668           30   \n",
       "12       12  YLR293C          1      653    611           38   \n",
       "17       17  YEL052W       1095     1520    408           11   \n",
       "20       20  YOL139C          0      637    618           15   \n",
       "1         1  YCR030C       1578     2575    972           23   \n",
       "\n",
       "    mismatching_kmers  offset  \n",
       "14                  0  284790  \n",
       "12                  0  259023  \n",
       "17                  0  334503  \n",
       "20                  0  370834  \n",
       "1                   0   36344  "
      ]
     },
     "metadata": {},
     "output_type": "display_data"
    },
    {
     "name": "stdout",
     "output_type": "stream",
     "text": [
      "#13\tYPL198W\n",
      "ref_pos\tref_kmer\tn_events\tNNNNN_events\tmismatching_events\tstart_idx\tend_idx\n",
      "10\tAAAAA\t1\t0\t0\t44620\t44641\n",
      "11\tAAAAA\t1\t0\t0\t44561\t44620\n",
      "12\tAAAAT\t7\t0\t0\t44410\t44561\n",
      "\n",
      "#12\tYLR293C\n",
      "ref_pos\tref_kmer\tn_events\tNNNNN_events\tmismatching_events\tstart_idx\tend_idx\n",
      "1\tTGTCT\t1\t0\t0\t81520\t81535\n",
      "2\tGTCTG\t2\t0\t0\t81436\t81520\n",
      "3\tTCTGC\t2\t0\t0\t81371\t81436\n",
      "\n",
      "#17\tYEL052W\n",
      "ref_pos\tref_kmer\tn_events\tNNNNN_events\tmismatching_events\tstart_idx\tend_idx\n",
      "1095\tCAGTT\t1\t1\t0\t30696\t30714\n",
      "1098\tTTGTG\t8\t0\t0\t30404\t30696\n",
      "1099\tTGTGT\t1\t0\t0\t30387\t30404\n",
      "\n",
      "#20\tYOL139C\n",
      "ref_pos\tref_kmer\tn_events\tNNNNN_events\tmismatching_events\tstart_idx\tend_idx\n",
      "0\tATGTC\t1\t0\t0\t34220\t34239\n",
      "1\tTGTCC\t3\t0\t0\t34175\t34220\n",
      "2\tGTCCG\t2\t0\t0\t34155\t34175\n",
      "\n",
      "#1\tYCR030C\n",
      "ref_pos\tref_kmer\tn_events\tNNNNN_events\tmismatching_events\tstart_idx\tend_idx\n",
      "1578\tCCACC\t1\t0\t0\t47517\t47528\n",
      "1579\tCACCC\t15\t0\t0\t47223\t47517\n",
      "1580\tACCCT\t1\t0\t0\t47216\t47223\n",
      "\n"
     ]
    }
   ],
   "source": [
    "output_fn = \"./output/collapsed_nanopolish_index.tsv\"\n",
    "index_fn = \"./output/collapsed_nanopolish_index.tsv.idx\"\n",
    "\n",
    "# Import the index in a pandas dataframe (because it is simple)\n",
    "import pandas as pd \n",
    "index_df = pd.read_table (index_fn)\n",
    "\n",
    "# Select random lines\n",
    "random_lines = index_df.sample(5)\n",
    "display (random_lines)\n",
    "\n",
    "# Open the collapsed event align file\n",
    "with open (output_fn) as fp:\n",
    "    for id, read in random_lines.iterrows():\n",
    "        \n",
    "        #Access the header corresponding to the randomly selected index line using seek \n",
    "        fp.seek(0) # Return to file start\n",
    "        fp.seek(read.offset) # move tho the offset indicated in the index file\n",
    "        for _ in range(5): # read the first 5 lines of each sequence\n",
    "            print (fp.readline()[:-1])\n",
    "        print()"
   ]
  }
 ],
 "metadata": {
  "celltoolbar": "Initialization Cell",
  "hide_input": false,
  "kernelspec": {
   "display_name": "Python3.6",
   "language": "python",
   "name": "python3.6"
  },
  "language_info": {
   "codemirror_mode": {
    "name": "ipython",
    "version": 3
   },
   "file_extension": ".py",
   "mimetype": "text/x-python",
   "name": "python",
   "nbconvert_exporter": "python",
   "pygments_lexer": "ipython3",
   "version": "3.6.6"
  }
 },
 "nbformat": 4,
 "nbformat_minor": 2
}
