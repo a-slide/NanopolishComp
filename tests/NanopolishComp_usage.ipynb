{
 "cells": [
  {
   "cell_type": "markdown",
   "metadata": {},
   "source": [
    "# NanopolishComp package usage"
   ]
  },
  {
   "cell_type": "markdown",
   "metadata": {
    "ExecuteTime": {
     "end_time": "2018-08-10T10:03:00.595966Z",
     "start_time": "2018-08-10T10:03:00.587806Z"
    }
   },
   "source": [
    "## Eventalign_collapse usage"
   ]
  },
  {
   "cell_type": "markdown",
   "metadata": {},
   "source": [
    "### Command line usage"
   ]
  },
  {
   "cell_type": "markdown",
   "metadata": {
    "ExecuteTime": {
     "end_time": "2018-08-10T17:02:13.860121Z",
     "start_time": "2018-08-10T17:02:13.847128Z"
    }
   },
   "source": [
    "**From an existing nanopolish event align output to another file**"
   ]
  },
  {
   "cell_type": "code",
   "execution_count": 23,
   "metadata": {
    "ExecuteTime": {
     "end_time": "2018-08-10T17:21:20.586346Z",
     "start_time": "2018-08-10T17:21:19.348885Z"
    },
    "scrolled": true
   },
   "outputs": [
    {
     "name": "stdout",
     "output_type": "stream",
     "text": [
      "YOL139C\t628\tCAATC\tc38cbad9-d91e-4208-9317-832f4e2cc289\t103.67\t1.747\n",
      "YOL139C\t629\tAATCA\tc38cbad9-d91e-4208-9317-832f4e2cc289\t89.46\t3.076\n",
      "YOL139C\t630\tATCAC\tc38cbad9-d91e-4208-9317-832f4e2cc289\t78.62\t1.631\n",
      "YOL139C\t631\tTCACC\tc38cbad9-d91e-4208-9317-832f4e2cc289\t74.98\t1.397\n",
      "YOL139C\t632\tCACCT\tc38cbad9-d91e-4208-9317-832f4e2cc289\t76.97\t1.207\n",
      "YOL139C\t633\tACCTT\tc38cbad9-d91e-4208-9317-832f4e2cc289\t72.71\t1.331\n",
      "YOL139C\t634\tCCTTG\tc38cbad9-d91e-4208-9317-832f4e2cc289\t78.38\t1.311\n",
      "YOL139C\t635\tCTTGT\tc38cbad9-d91e-4208-9317-832f4e2cc289\t88.14\t1.614\n",
      "YOL139C\t636\tTTGTA\tc38cbad9-d91e-4208-9317-832f4e2cc289\t101.54\t4.258\n",
      "YOL139C\t637\tTGTAA\tc38cbad9-d91e-4208-9317-832f4e2cc289\t121.39\t3.546\n"
     ]
    },
    {
     "name": "stderr",
     "output_type": "stream",
     "text": [
      "[NanopolishComp summary] Reads:20\tKmers:13,717\tEvents:30,361  \n"
     ]
    }
   ],
   "source": [
    "NanopolishComp Eventalign_collapse -i ./data/nanopolish_read.tsv -o ./output/nanopolish_collapsed_reads.tsv\n",
    "tail ./output/nanopolish_collapsed_reads.tsv"
   ]
  },
  {
   "cell_type": "markdown",
   "metadata": {
    "ExecuteTime": {
     "end_time": "2018-08-10T17:02:13.860121Z",
     "start_time": "2018-08-10T17:02:13.847128Z"
    }
   },
   "source": [
    "**From an existing nanopolish event align output to the standard output**"
   ]
  },
  {
   "cell_type": "code",
   "execution_count": 21,
   "metadata": {
    "ExecuteTime": {
     "end_time": "2018-08-10T17:04:58.736265Z",
     "start_time": "2018-08-10T17:04:57.526869Z"
    },
    "scrolled": true
   },
   "outputs": [
    {
     "name": "stdout",
     "output_type": "stream",
     "text": [
      "YOL139C\t628\tCAATC\tc38cbad9-d91e-4208-9317-832f4e2cc289\t108.31\t1.747\t12892\t12902\n",
      "YOL139C\t629\tAATCA\tc38cbad9-d91e-4208-9317-832f4e2cc289\t94.58\t3.076\t12884\t12892\n",
      "YOL139C\t630\tATCAC\tc38cbad9-d91e-4208-9317-832f4e2cc289\t84.11\t1.631\t12873\t12884\n",
      "YOL139C\t631\tTCACC\tc38cbad9-d91e-4208-9317-832f4e2cc289\t80.59\t1.397\t12841\t12873\n",
      "YOL139C\t632\tCACCT\tc38cbad9-d91e-4208-9317-832f4e2cc289\t82.51\t1.207\t12801\t12841\n",
      "YOL139C\t633\tACCTT\tc38cbad9-d91e-4208-9317-832f4e2cc289\t78.4\t1.331\t12777\t12801\n",
      "YOL139C\t634\tCCTTG\tc38cbad9-d91e-4208-9317-832f4e2cc289\t83.88\t1.311\t12767\t12777\n",
      "YOL139C\t635\tCTTGT\tc38cbad9-d91e-4208-9317-832f4e2cc289\t93.31\t1.614\t12755\t12767\n",
      "YOL139C\t636\tTTGTA\tc38cbad9-d91e-4208-9317-832f4e2cc289\t106.25\t4.258\t12670\t12755\n",
      "YOL139C\t637\tTGTAA\tc38cbad9-d91e-4208-9317-832f4e2cc289\t125.43\t3.546\t12610\t12670\n"
     ]
    },
    {
     "name": "stderr",
     "output_type": "stream",
     "text": [
      "[NanopolishComp summary] Reads:20\tKmers:13,717\tEvents:30,361  \n"
     ]
    }
   ],
   "source": [
    "NanopolishComp Eventalign_collapse -i ./data/nanopolish_read_index.tsv | tail"
   ]
  },
  {
   "cell_type": "markdown",
   "metadata": {},
   "source": [
    "**Directly from nanopolish to the standard output.**"
   ]
  },
  {
   "cell_type": "code",
   "execution_count": 35,
   "metadata": {
    "ExecuteTime": {
     "end_time": "2018-08-10T17:30:49.911133Z",
     "start_time": "2018-08-10T17:30:48.217004Z"
    },
    "scrolled": true
   },
   "outputs": [
    {
     "name": "stdout",
     "output_type": "stream",
     "text": [
      "YOL139C\t628\tCAATC\t20\t108.31\t1.747\t12892\t12902\n",
      "YOL139C\t629\tAATCA\t20\t94.58\t3.076\t12884\t12892\n",
      "YOL139C\t630\tATCAC\t20\t84.11\t1.631\t12873\t12884\n",
      "YOL139C\t631\tTCACC\t20\t80.59\t1.397\t12841\t12873\n",
      "YOL139C\t632\tCACCT\t20\t82.51\t1.207\t12801\t12841\n",
      "YOL139C\t633\tACCTT\t20\t78.4\t1.331\t12777\t12801\n",
      "YOL139C\t634\tCCTTG\t20\t83.88\t1.311\t12767\t12777\n",
      "YOL139C\t635\tCTTGT\t20\t93.31\t1.614\t12755\t12767\n",
      "YOL139C\t636\tTTGTA\t20\t106.25\t4.258\t12670\t12755\n",
      "YOL139C\t637\tTGTAA\t20\t125.43\t3.546\t12610\t12670\n"
     ]
    },
    {
     "name": "stderr",
     "output_type": "stream",
     "text": [
      "[readdb] indexing ./data/fast5/\n",
      "[readdb] num reads: 22, num reads with path to fast5: 22\n",
      "[post-run summary] total reads: 21, unparseable: 0, qc fail: 0, could not calibrate: 0, no alignment: 0, bad fast5: 0\n",
      "[NanopolishComp summary] Reads:21\tKmers:13,717\tEvents:30,361  \n"
     ]
    }
   ],
   "source": [
    "nanopolish index -d ./data/fast5/ ./data/reads.fastq\n",
    "nanopolish eventalign --reads ./data/reads.fastq --bam ./data/aligned_reads.bam --genome ./data/reference.fa --signal-index| NanopolishComp Eventalign_collapse | tail"
   ]
  },
  {
   "cell_type": "markdown",
   "metadata": {},
   "source": [
    "### Python API usage"
   ]
  },
  {
   "cell_type": "code",
   "execution_count": 1,
   "metadata": {
    "ExecuteTime": {
     "end_time": "2018-08-10T16:42:44.870543Z",
     "start_time": "2018-08-10T16:42:44.783889Z"
    }
   },
   "outputs": [],
   "source": [
    "from NanopolishComp.Eventalign_collapse import Eventalign_collapse"
   ]
  },
  {
   "cell_type": "code",
   "execution_count": 5,
   "metadata": {
    "ExecuteTime": {
     "end_time": "2018-08-10T16:44:10.767894Z",
     "start_time": "2018-08-10T16:44:10.228418Z"
    },
    "scrolled": true
   },
   "outputs": [
    {
     "name": "stderr",
     "output_type": "stream",
     "text": [
      "Define input and output  \n",
      "Parse file  \n",
      "[NanopolishComp summary] Reads:20\tKmers:13,717\tEvents:30,361  \n"
     ]
    }
   ],
   "source": [
    "Eventalign_collapse (input_fn=\"./data/nanopolish/nanopolish_read_index_no_sec.tsv\", output_fn=\"./output/collapsed_nanopolish.tsv\", verbose=True)"
   ]
  },
  {
   "cell_type": "code",
   "execution_count": 8,
   "metadata": {
    "ExecuteTime": {
     "end_time": "2018-08-10T16:44:31.679479Z",
     "start_time": "2018-08-10T16:44:31.444115Z"
    }
   },
   "outputs": [
    {
     "name": "stdout",
     "output_type": "stream",
     "text": [
      "ref_name\tref_pos\tref_kmer\tread_name\tkmer_mean\tkmer_std\tstart_idx\tend_idx\n",
      "YHR174W\t0\tATGGC\t3784283c-47cc-48ac-8d7b-7efd32123b56\t91.62\t3.719\t29726\t29759\n",
      "YHR174W\t1\tTGGCT\t3784283c-47cc-48ac-8d7b-7efd32123b56\t109.53\t4.818\t29628\t29726\n",
      "YHR174W\t2\tGGCTG\t3784283c-47cc-48ac-8d7b-7efd32123b56\t101.53\t6.694\t29614\t29628\n",
      "YHR174W\t3\tGCTGT\t3784283c-47cc-48ac-8d7b-7efd32123b56\t87.05\t2.404\t29498\t29614\n",
      "YHR174W\t4\tCTGTC\t3784283c-47cc-48ac-8d7b-7efd32123b56\t107.26\t1.489\t29491\t29498\n",
      "YHR174W\t5\tTGTCT\t3784283c-47cc-48ac-8d7b-7efd32123b56\t111.74\t4.355\t29433\t29491\n",
      "YHR174W\t6\tGTCTC\t3784283c-47cc-48ac-8d7b-7efd32123b56\t82.32\t1.617\t29409\t29433\n",
      "YHR174W\t7\tTCTCT\t3784283c-47cc-48ac-8d7b-7efd32123b56\t85.45\t1.004\t29402\t29409\n",
      "YHR174W\t8\tCTCTA\t3784283c-47cc-48ac-8d7b-7efd32123b56\t88.82\t1.404\t29388\t29402\n",
      "YOL139C\t628\tCAATC\tc38cbad9-d91e-4208-9317-832f4e2cc289\t108.31\t1.747\t12892\t12902\n",
      "YOL139C\t629\tAATCA\tc38cbad9-d91e-4208-9317-832f4e2cc289\t94.58\t3.076\t12884\t12892\n",
      "YOL139C\t630\tATCAC\tc38cbad9-d91e-4208-9317-832f4e2cc289\t84.11\t1.631\t12873\t12884\n",
      "YOL139C\t631\tTCACC\tc38cbad9-d91e-4208-9317-832f4e2cc289\t80.59\t1.397\t12841\t12873\n",
      "YOL139C\t632\tCACCT\tc38cbad9-d91e-4208-9317-832f4e2cc289\t82.51\t1.207\t12801\t12841\n",
      "YOL139C\t633\tACCTT\tc38cbad9-d91e-4208-9317-832f4e2cc289\t78.4\t1.331\t12777\t12801\n",
      "YOL139C\t634\tCCTTG\tc38cbad9-d91e-4208-9317-832f4e2cc289\t83.88\t1.311\t12767\t12777\n",
      "YOL139C\t635\tCTTGT\tc38cbad9-d91e-4208-9317-832f4e2cc289\t93.31\t1.614\t12755\t12767\n",
      "YOL139C\t636\tTTGTA\tc38cbad9-d91e-4208-9317-832f4e2cc289\t106.25\t4.258\t12670\t12755\n",
      "YOL139C\t637\tTGTAA\tc38cbad9-d91e-4208-9317-832f4e2cc289\t125.43\t3.546\t12610\t12670\n"
     ]
    }
   ],
   "source": [
    "! head output/collapsed_nanopolish.tsv\n",
    "! tail output/collapsed_nanopolish.tsv"
   ]
  }
 ],
 "metadata": {
  "hide_input": false,
  "kernelspec": {
   "display_name": "Python3.6",
   "language": "python",
   "name": "python3.6"
  },
  "language_info": {
   "codemirror_mode": {
    "name": "ipython",
    "version": 3
   },
   "file_extension": ".py",
   "mimetype": "text/x-python",
   "name": "python",
   "nbconvert_exporter": "python",
   "pygments_lexer": "ipython3",
   "version": "3.6.6"
  }
 },
 "nbformat": 4,
 "nbformat_minor": 2
}
