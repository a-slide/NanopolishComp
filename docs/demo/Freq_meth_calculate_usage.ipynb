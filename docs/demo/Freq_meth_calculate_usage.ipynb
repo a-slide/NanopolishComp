{
 "cells": [
  {
   "cell_type": "markdown",
   "metadata": {
    "ExecuteTime": {
     "end_time": "2018-08-10T10:03:00.595966Z",
     "start_time": "2018-08-10T10:03:00.587806Z"
    }
   },
   "source": [
    "# Freq_meth_calculate usage"
   ]
  },
  {
   "cell_type": "markdown",
   "metadata": {},
   "source": [
    "Calculate methylation frequency at genomic CpG sites from the output of `nanopolish call-methylation`"
   ]
  },
  {
   "cell_type": "markdown",
   "metadata": {},
   "source": [
    "## Output files format"
   ]
  },
  {
   "cell_type": "markdown",
   "metadata": {},
   "source": [
    "`Freq_meth_calculate` can generates 2 files, a standard BED file and a tabulated file containing extra information"
   ]
  },
  {
   "cell_type": "markdown",
   "metadata": {},
   "source": [
    "#### BED file"
   ]
  },
  {
   "cell_type": "markdown",
   "metadata": {},
   "source": [
    "Standard genomic BED6 (https://genome.ucsc.edu/FAQ/FAQformat.html#format1). The score correspond to the methylation frequency multiplied by 1000. The file is sorted by coordinates and can be rendered with a genome browser such as [IGV](https://software.broadinstitute.org/software/igv/)"
   ]
  },
  {
   "cell_type": "markdown",
   "metadata": {},
   "source": [
    "#### Tabulated TSV file"
   ]
  },
  {
   "cell_type": "markdown",
   "metadata": {},
   "source": [
    "Contrary to the bed file, in the tabulated report, positions are ordered by decreasing methylation frequency.\n",
    "\n",
    "The file contains the following fields:\n",
    "\n",
    "* **chrom / start / end / strand**: Genomic coordinates of the motif or group of motifs in case split_group was not selected.\n",
    "* **site_id**: Unique integer identifier of the genomic position.\n",
    "* **methylated_reads / unmethylated_reads / ambiguous_reads**: Number of reads at a given genomic location with a higher likelyhood of being methylated or unmethylated or with an ambiguous methylation call.\n",
    "* **sequence**: -5 to +5 sequence of the motif or group of motifs in case split_group was not selected.\n",
    "* **num_motifs**: Number of motif in the group.\n",
    "* **meth_freq**: Methylation frequency (out of non anbiguous calls)."
   ]
  },
  {
   "cell_type": "markdown",
   "metadata": {},
   "source": [
    "## Bash command line usage"
   ]
  },
  {
   "cell_type": "markdown",
   "metadata": {},
   "source": [
    "### Command line help"
   ]
  },
  {
   "cell_type": "code",
   "execution_count": 1,
   "metadata": {
    "ExecuteTime": {
     "end_time": "2019-08-30T17:08:23.109104Z",
     "start_time": "2019-08-30T17:08:22.202544Z"
    }
   },
   "outputs": [
    {
     "name": "stdout",
     "output_type": "stream",
     "text": [
      "usage: NanopolishComp Freq_meth_calculate [-h] [-i INPUT_FN]\n",
      "                                          [-b OUTPUT_BED_FN]\n",
      "                                          [-t OUTPUT_TSV_FN] [-d MIN_DEPTH]\n",
      "                                          [-f FASTA_INDEX] [-s SAMPLE_ID]\n",
      "                                          [-v | -q]\n",
      "\n",
      "Calculate methylation frequency at genomic CpG sites from the output of\n",
      "nanopolish call-methylation\n",
      "\n",
      "optional arguments:\n",
      "  -h, --help            show this help message and exit\n",
      "  -v, --verbose         Increase verbosity (default: False)\n",
      "  -q, --quiet           Reduce verbosity (default: False)\n",
      "\n",
      "Input/Output options:\n",
      "  -i INPUT_FN, --input_fn INPUT_FN\n",
      "                        Path to a nanopolish call_methylation tsv output file.\n",
      "                        If not specified read from std input\n",
      "  -b OUTPUT_BED_FN, --output_bed_fn OUTPUT_BED_FN\n",
      "                        Path to write a summary result file in BED format\n",
      "  -t OUTPUT_TSV_FN, --output_tsv_fn OUTPUT_TSV_FN\n",
      "                        Path to write an more extensive result report in TSV\n",
      "                        format\n",
      "\n",
      "Filtering options:\n",
      "  -d MIN_DEPTH, --min_depth MIN_DEPTH\n",
      "                        Minimal number of reads covering a site to be reported\n",
      "                        (default: 10)\n",
      "\n",
      "Other options:\n",
      "  -f FASTA_INDEX, --fasta_index FASTA_INDEX\n",
      "                        fasta index file obtained with samtools faidx.\n",
      "                        Required for coordinate sorting\n",
      "  -s SAMPLE_ID, --sample_id SAMPLE_ID\n",
      "                        Sample ID to be used for the bed track header\n",
      "                        (default: )\n"
     ]
    }
   ],
   "source": [
    "%%bash\n",
    "\n",
    "# Load local bashrc and activate virtual environment\n",
    "source ~/.bashrc\n",
    "workon NanopolishComp\n",
    "\n",
    "NanopolishComp Freq_meth_calculate --help"
   ]
  },
  {
   "cell_type": "markdown",
   "metadata": {},
   "source": [
    "### Example usage"
   ]
  },
  {
   "cell_type": "markdown",
   "metadata": {},
   "source": [
    "#### From an existing nanopolish call_methylation file output"
   ]
  },
  {
   "cell_type": "code",
   "execution_count": 3,
   "metadata": {
    "ExecuteTime": {
     "end_time": "2019-08-30T17:10:16.309132Z",
     "start_time": "2019-08-30T17:09:59.494627Z"
    },
    "scrolled": true
   },
   "outputs": [
    {
     "name": "stdout",
     "output_type": "stream",
     "text": [
      "track name=Methylation_Sample1 itemRgb=On\n",
      "chr-VIII\t213351\t213352\t0\t-0.500000\t-\t213351\t213352\t'100,100,100''\n",
      "chr-VIII\t213382\t213386\t1\t-5.103000\t-\t213382\t213386\t'8,121,207''\n",
      "chr-VIII\t213427\t213428\t2\t0.504545\t-\t213427\t213428\t'100,100,100''\n",
      "chr-VIII\t213516\t213517\t3\t-2.447500\t-\t213516\t213517\t'8,121,207''\n",
      "chr-VIII\t213536\t213537\t4\t-3.103333\t-\t213536\t213537\t'8,121,207''\n",
      "chr-VIII\t213549\t213550\t5\t-2.724167\t-\t213549\t213550\t'8,121,207''\n",
      "chr-VIII\t213645\t213646\t6\t-2.546667\t-\t213645\t213646\t'8,121,207''\n",
      "chr-VIII\t213668\t213669\t7\t-3.728333\t-\t213668\t213669\t'8,121,207''\n",
      "chr-VIII\t213729\t213730\t8\t-3.253846\t-\t213729\t213730\t'8,121,207''\n",
      "chromosome\tstart\tend\tstrand\tsite_id\tmethylated_reads\tunmethylated_reads\tambiguous_reads\tsequence\tnum_motifs\tllr_list\n",
      "chr-VIII\t213351\t213352\t-\t0\t0\t1\t9\tACTAACGGGGA\t1\t-2.75,-0.46,1.48,-1.35,0.34,0.66,-1.58,-1.91,0.06,0.51\n",
      "chr-VIII\t213382\t213386\t-\t1\t1\t7\t2\tTTCTTCGCCGACTG\t2\t-7.94,3.23,-0.77,0.05,-9.8,-5.7,-11.29,-5.61,-4.64,-8.56\n",
      "chr-VIII\t213427\t213428\t-\t2\t1\t0\t10\tTTTCTCGCAAA\t1\t-0.28,0.35,-0.06,0.05,-0.11,2.63,-1.02,1.27,1.31,1.05,0.36\n",
      "chr-VIII\t213516\t213517\t-\t3\t0\t6\t6\tACTTCCGTTGC\t1\t-2.01,-5.92,-0.28,-0.07,-0.59,0.87,-5.23,-0.84,-2.65,-7.24,0.47,-5.88\n",
      "chr-VIII\t213536\t213537\t-\t4\t0\t11\t1\tCATCTCGTAAA\t1\t-3.33,-2.35,-4.14,-2.21,-1.92,-2.04,-2.17,-4.34,-2.79,-3.75,-4.01,-4.19\n",
      "chr-VIII\t213549\t213550\t-\t5\t1\t7\t4\tGGATACGATAA\t1\t-3.3,-4.74,-0.15,-0.08,-4.84,-8.16,-3.61,2.21,-2.28,-1.69,-6.15,0.1\n",
      "chr-VIII\t213645\t213646\t-\t6\t0\t6\t6\tAAATTCGTCAT\t1\t-9.16,-0.83,1.66,0.58,-2.18,-5.19,-2.13,-5.99,-3.47,-1.88,-1.55,-0.42\n",
      "chr-VIII\t213668\t213669\t-\t7\t0\t8\t4\tCACAACGTTGG\t1\t-10.85,-2.37,0.81,-1.98,-4.37,-7.49,-2.94,-0.06,-4.53,-3.63,-0.61,-6.72\n",
      "chr-VIII\t213729\t213730\t-\t8\t0\t9\t4\tATTTGCGAATA\t1\t-2.79,-4.55,1.21,-0.07,-6.66,-2.28,-7.42,-2.66,-1.86,-6.36,-5.87,0.39,-3.38\n"
     ]
    },
    {
     "name": "stderr",
     "output_type": "stream",
     "text": [
      "## Options summary ##\n",
      "\tpackage_name: NanopolishComp\n",
      "\tpackage_version: 0.6.9\n",
      "\ttimestamp: 2019-08-30 18:10:00.309729\n",
      "\tquiet: False\n",
      "\tverbose: True\n",
      "\tsample_id: Sample1\n",
      "\tmin_depth: 10\n",
      "\toutput_tsv_fn: ./output/freq_meth_calculate/out_freq_meth_calculate.tsv\n",
      "\toutput_bed_fn: ./output/freq_meth_calculate/out_freq_meth_calculate.bed\n",
      "\tfasta_index: \n",
      "\tinput_fn: data/freq_meth_calculate/methylation_calls.tsv\n",
      "## Checking arguments ##\n",
      "\tTesting input file readability\n",
      "\tCheck output file\n",
      "\t\tOutput results in bed format\n",
      "\t\tOutput results in tsv format\n",
      "## Parsing methylation_calls file ##\n",
      "\tWrite output file header\n",
      "\tStarting to parse file Nanopolish methylation call file\n",
      "\r",
      "\t: 0 lines [00:00, ? lines/s]\r",
      "\t: 4448 lines [00:00, 44476.33 lines/s]\r",
      "\t: 9001 lines [00:00, 44786.12 lines/s]\r",
      "\t: 13525 lines [00:00, 44916.78 lines/s]\r",
      "\t: 17394 lines [00:00, 42847.59 lines/s]\r",
      "\t: 21884 lines [00:00, 43439.17 lines/s]\r",
      "\t: 26318 lines [00:00, 43705.17 lines/s]\r",
      "\t: 30770 lines [00:00, 43945.61 lines/s]\r",
      "\t: 35077 lines [00:00, 43675.23 lines/s]\r",
      "\t: 39634 lines [00:00, 44224.77 lines/s]\r",
      "\t: 43909 lines [00:01, 43770.27 lines/s]\r",
      "\t: 48354 lines [00:01, 43969.89 lines/s]\r",
      "\t: 52668 lines [00:01, 43175.82 lines/s]\r",
      "\t: 57068 lines [00:01, 43417.56 lines/s]\r",
      "\t: 61372 lines [00:01, 43048.84 lines/s]\r",
      "\t: 65651 lines [00:01, 40195.85 lines/s]\r",
      "\t: 69999 lines [00:01, 41127.22 lines/s]\r",
      "\t: 74131 lines [00:01, 41101.25 lines/s]\r",
      "\t: 78635 lines [00:01, 42207.84 lines/s]\r",
      "\t: 83204 lines [00:01, 43194.82 lines/s]\r",
      "\t: 87808 lines [00:02, 44008.78 lines/s]\r",
      "\t: 92358 lines [00:02, 44443.62 lines/s]\r",
      "\t: 96921 lines [00:02, 44790.57 lines/s]\r",
      "\t: 101410 lines [00:02, 43954.78 lines/s]\r",
      "\t: 105816 lines [00:02, 43810.80 lines/s]\r",
      "\t: 110228 lines [00:02, 43900.87 lines/s]\r",
      "\t: 114624 lines [00:02, 40753.91 lines/s]\r",
      "\t: 119051 lines [00:02, 41747.94 lines/s]\r",
      "\t: 123513 lines [00:02, 42567.95 lines/s]\r",
      "\t: 127905 lines [00:02, 42962.95 lines/s]\r",
      "\t: 132284 lines [00:03, 43206.07 lines/s]\r",
      "\t: 136783 lines [00:03, 43724.31 lines/s]\r",
      "\t: 141169 lines [00:03, 42890.27 lines/s]\r",
      "\t: 145471 lines [00:03, 42747.36 lines/s]\r",
      "\t: 149755 lines [00:03, 41345.93 lines/s]\r",
      "\t: 153906 lines [00:03, 39248.25 lines/s]\r",
      "\t: 157865 lines [00:03, 38222.79 lines/s]\r",
      "\t: 162156 lines [00:03, 36569.01 lines/s]\r",
      "\t: 166449 lines [00:03, 38269.16 lines/s]\r",
      "\t: 170830 lines [00:04, 39777.84 lines/s]\r",
      "\t: 174856 lines [00:04, 37899.29 lines/s]\r",
      "\t: 178698 lines [00:04, 37733.45 lines/s]\r",
      "\t: 183058 lines [00:04, 39318.35 lines/s]\r",
      "\t: 187206 lines [00:04, 39942.63 lines/s]\r",
      "\t: 191337 lines [00:04, 40342.49 lines/s]\r",
      "\t: 195595 lines [00:04, 40987.63 lines/s]\r",
      "\t: 199901 lines [00:04, 41587.87 lines/s]\r",
      "\t: 204290 lines [00:04, 42252.58 lines/s]\r",
      "\t: 208529 lines [00:04, 41560.12 lines/s]\r",
      "\t: 212697 lines [00:05, 39244.56 lines/s]\r",
      "\t: 216657 lines [00:05, 36065.61 lines/s]\r",
      "\t: 221266 lines [00:05, 38582.68 lines/s]\r",
      "\t: 225810 lines [00:05, 40409.95 lines/s]\r",
      "\t: 230005 lines [00:05, 40857.95 lines/s]\r",
      "\t: 234261 lines [00:05, 41351.98 lines/s]\r",
      "\t: 238445 lines [00:05, 41006.17 lines/s]\r",
      "\t: 242843 lines [00:05, 41854.97 lines/s]\r",
      "\t: 247246 lines [00:05, 42483.71 lines/s]\r",
      "\t: 251652 lines [00:06, 42942.33 lines/s]\r",
      "\t: 255966 lines [00:06, 43001.02 lines/s]\r",
      "\t: 260338 lines [00:06, 43212.10 lines/s]\r",
      "\t: 264702 lines [00:06, 43339.10 lines/s]\r",
      "\t: 269186 lines [00:06, 43776.16 lines/s]\r",
      "\t: 273583 lines [00:06, 43832.08 lines/s]\r",
      "\t: 277970 lines [00:06, 43781.93 lines/s]\r",
      "\t: 282351 lines [00:06, 38115.33 lines/s]\r",
      "\t: 286296 lines [00:06, 37512.40 lines/s]\r",
      "\t: 290738 lines [00:06, 39346.38 lines/s]\r",
      "\t: 295214 lines [00:07, 40827.32 lines/s]\r",
      "\t: 299781 lines [00:07, 42167.03 lines/s]\r",
      "\t: 304350 lines [00:07, 43164.49 lines/s]\r",
      "\t: 309000 lines [00:07, 44113.14 lines/s]\r",
      "\t: 313453 lines [00:07, 44222.50 lines/s]\r",
      "\t: 317905 lines [00:07, 44093.65 lines/s]\r",
      "\t: 322335 lines [00:07, 43726.76 lines/s]\r",
      "\t: 326723 lines [00:07, 42162.08 lines/s]\r",
      "\t: 330962 lines [00:07, 42075.78 lines/s]\r",
      "\t: 335186 lines [00:08, 39792.64 lines/s]\r",
      "\t: 339581 lines [00:08, 40954.01 lines/s]\r",
      "\t: 344078 lines [00:08, 42080.14 lines/s]\r",
      "\t: 348497 lines [00:08, 42689.17 lines/s]\r",
      "\t: 352889 lines [00:08, 43049.98 lines/s]\r",
      "\t: 357380 lines [00:08, 43589.29 lines/s]\r",
      "\t: 361920 lines [00:08, 44117.13 lines/s]\r",
      "\t: 366411 lines [00:08, 44350.48 lines/s]\r",
      "\t: 370911 lines [00:08, 44542.11 lines/s]\r",
      "\t: 375420 lines [00:08, 44703.15 lines/s]\r",
      "\t: 379895 lines [00:09, 44346.15 lines/s]\r",
      "\t: 384391 lines [00:09, 44527.10 lines/s]\r",
      "\t: 389087 lines [00:09, 45228.29 lines/s]\r",
      "\t: 393830 lines [00:09, 45866.32 lines/s]\r",
      "\t: 398555 lines [00:09, 46272.72 lines/s]\r",
      "\t: 403187 lines [00:09, 45908.18 lines/s]\r",
      "\t: 407782 lines [00:09, 38628.40 lines/s]\r",
      "\t: 412116 lines [00:09, 39929.52 lines/s]\r",
      "\t: 416703 lines [00:09, 41543.18 lines/s]\r",
      "\t: 421248 lines [00:09, 42640.44 lines/s]\r",
      "\t: 425605 lines [00:10, 42769.84 lines/s]\r",
      "\t: 430115 lines [00:10, 43393.80 lines/s]\r",
      "\t: 434503 lines [00:10, 42577.31 lines/s]\r",
      "\t: 438949 lines [00:10, 43123.62 lines/s]\r",
      "\t: 443394 lines [00:10, 43511.42 lines/s]\r",
      "\t: 447795 lines [00:10, 43659.60 lines/s]\r",
      "\t: 452235 lines [00:10, 43878.60 lines/s]\r",
      "\t: 456634 lines [00:10, 43771.77 lines/s]\r",
      "\t: 461146 lines [00:10, 44165.09 lines/s]\r",
      "\t: 465569 lines [00:11, 42516.42 lines/s]\r",
      "\t: 469887 lines [00:11, 42711.09 lines/s]\r",
      "\t: 474570 lines [00:11, 43867.11 lines/s]\r",
      "\t: 479256 lines [00:11, 44721.68 lines/s]\r",
      "\t: 483852 lines [00:11, 45085.84 lines/s]\r",
      "\t: 488373 lines [00:11, 44863.13 lines/s]\r",
      "\t: 492868 lines [00:11, 44860.84 lines/s]\r",
      "\t: 497360 lines [00:11, 44170.88 lines/s]\r",
      "\t: 501784 lines [00:11, 43869.64 lines/s]\r",
      "\t: 506284 lines [00:11, 44199.90 lines/s]\r",
      "\t: 510709 lines [00:12, 35845.82 lines/s]\r",
      "\t: 515261 lines [00:12, 38286.06 lines/s]\r",
      "\t: 519654 lines [00:12, 39820.36 lines/s]\r",
      "\t: 524043 lines [00:12, 40957.87 lines/s]\r",
      "\t: 528450 lines [00:12, 41842.24 lines/s]\r",
      "\t: 532731 lines [00:12, 41462.56 lines/s]\r",
      "\t: 537173 lines [00:12, 42306.37 lines/s]\r",
      "\t: 541666 lines [00:12, 43060.19 lines/s]\r",
      "\t: 546129 lines [00:12, 43516.97 lines/s]\r",
      "\t: 550662 lines [00:13, 44042.85 lines/s]\r",
      "\t: 555126 lines [00:13, 44218.22 lines/s]\r",
      "\t: 559712 lines [00:13, 44697.92 lines/s]\r",
      "\t: 564270 lines [00:13, 44956.82 lines/s]\r",
      "\t: 568834 lines [00:13, 45158.35 lines/s]\r",
      "\t: 573357 lines [00:13, 44955.68 lines/s]\r",
      "\t: 577858 lines [00:13, 42377.28 lines/s]\r",
      "\t: 582130 lines [00:13, 42238.09 lines/s]\r",
      "\t: 586639 lines [00:13, 43053.21 lines/s]\r",
      "\t: 591145 lines [00:13, 43634.66 lines/s]\r",
      "\t: 595618 lines [00:14, 43955.32 lines/s]\r",
      "\t: 600026 lines [00:14, 43551.20 lines/s]\r",
      "\t: 604563 lines [00:14, 44079.58 lines/s]\r",
      "\t: 605248 lines [00:14, 42479.54 lines/s]\n",
      "\tFiltering out low coverage sites\n",
      "\tProcessing valid sites found\n",
      "\r",
      "\t:   0%|          | 0/999 [00:00<?, ? sites/s]\r",
      "\t:  16%|█▌        | 156/999 [00:00<00:00, 1546.91 sites/s]\r",
      "\t:  22%|██▏       | 221/999 [00:00<00:00, 1089.54 sites/s]\r",
      "\t:  27%|██▋       | 273/999 [00:00<00:01, 709.50 sites/s] \r",
      "\t:  32%|███▏      | 322/999 [00:00<00:01, 530.27 sites/s]\r",
      "\t:  38%|███▊      | 382/999 [00:00<00:01, 548.16 sites/s]\r",
      "\t:  50%|█████     | 500/999 [00:00<00:00, 652.84 sites/s]\r",
      "\t:  58%|█████▊    | 583/999 [00:00<00:00, 694.97 sites/s]\r",
      "\t:  66%|██████▌   | 656/999 [00:00<00:00, 548.87 sites/s]\r",
      "\t:  72%|███████▏  | 719/999 [00:01<00:00, 475.68 sites/s]\r",
      "\t:  78%|███████▊  | 783/999 [00:01<00:00, 513.84 sites/s]\r",
      "\t:  89%|████████▉ | 892/999 [00:01<00:00, 610.45 sites/s]\r",
      "\t: 100%|██████████| 999/999 [00:01<00:00, 700.68 sites/s]\n",
      "## Results summary ##\n",
      "\tTotal read lines: 605,248\n",
      "\tValid read lines: 605,248\n",
      "\tTotal sites: 340,081\n",
      "\tLow coverage sites: 339,082\n",
      "\tValid sites: 1,998\n"
     ]
    }
   ],
   "source": [
    "%%bash\n",
    "\n",
    "# Load local bashrc and activate virtual environment\n",
    "source ~/.bashrc\n",
    "workon NanopolishComp\n",
    "\n",
    "NanopolishComp Freq_meth_calculate --verbose -i data/freq_meth_calculate/methylation_calls.tsv -b ./output/freq_meth_calculate/out_freq_meth_calculate.bed -t ./output/freq_meth_calculate/out_freq_meth_calculate.tsv -s Sample1\n",
    "\n",
    "head ./output/freq_meth_calculate/out_freq_meth_calculate.bed\n",
    "head ./output/freq_meth_calculate/out_freq_meth_calculate.tsv"
   ]
  },
  {
   "cell_type": "markdown",
   "metadata": {},
   "source": [
    "#### Using a fasta index for output coordinates sorting"
   ]
  },
  {
   "cell_type": "code",
   "execution_count": 5,
   "metadata": {
    "ExecuteTime": {
     "end_time": "2019-08-30T17:12:09.735413Z",
     "start_time": "2019-08-30T17:11:53.375305Z"
    },
    "scrolled": false
   },
   "outputs": [
    {
     "name": "stdout",
     "output_type": "stream",
     "text": [
      "track name=Methylation_Sample1 itemRgb=On\n",
      "chr-VIII\t213351\t213352\t0\t-0.500000\t-\t213351\t213352\t'100,100,100''\n",
      "chr-VIII\t213382\t213386\t1\t-5.103000\t-\t213382\t213386\t'8,121,207''\n",
      "chr-VIII\t213427\t213428\t2\t0.504545\t-\t213427\t213428\t'100,100,100''\n",
      "chr-VIII\t213516\t213517\t3\t-2.447500\t-\t213516\t213517\t'8,121,207''\n",
      "chr-VIII\t213536\t213537\t4\t-3.103333\t-\t213536\t213537\t'8,121,207''\n",
      "chr-VIII\t213549\t213550\t5\t-2.724167\t-\t213549\t213550\t'8,121,207''\n",
      "chr-VIII\t213645\t213646\t6\t-2.546667\t-\t213645\t213646\t'8,121,207''\n",
      "chr-VIII\t213668\t213669\t7\t-3.728333\t-\t213668\t213669\t'8,121,207''\n",
      "chr-VIII\t213729\t213730\t8\t-3.253846\t-\t213729\t213730\t'8,121,207''\n",
      "chromosome\tstart\tend\tstrand\tsite_id\tmethylated_reads\tunmethylated_reads\tambiguous_reads\tsequence\tnum_motifs\tllr_list\n",
      "chr-VIII\t213351\t213352\t-\t0\t0\t1\t9\tACTAACGGGGA\t1\t-2.75,-0.46,1.48,-1.35,0.34,0.66,-1.58,-1.91,0.06,0.51\n",
      "chr-VIII\t213382\t213386\t-\t1\t1\t7\t2\tTTCTTCGCCGACTG\t2\t-7.94,3.23,-0.77,0.05,-9.8,-5.7,-11.29,-5.61,-4.64,-8.56\n",
      "chr-VIII\t213427\t213428\t-\t2\t1\t0\t10\tTTTCTCGCAAA\t1\t-0.28,0.35,-0.06,0.05,-0.11,2.63,-1.02,1.27,1.31,1.05,0.36\n",
      "chr-VIII\t213516\t213517\t-\t3\t0\t6\t6\tACTTCCGTTGC\t1\t-2.01,-5.92,-0.28,-0.07,-0.59,0.87,-5.23,-0.84,-2.65,-7.24,0.47,-5.88\n",
      "chr-VIII\t213536\t213537\t-\t4\t0\t11\t1\tCATCTCGTAAA\t1\t-3.33,-2.35,-4.14,-2.21,-1.92,-2.04,-2.17,-4.34,-2.79,-3.75,-4.01,-4.19\n",
      "chr-VIII\t213549\t213550\t-\t5\t1\t7\t4\tGGATACGATAA\t1\t-3.3,-4.74,-0.15,-0.08,-4.84,-8.16,-3.61,2.21,-2.28,-1.69,-6.15,0.1\n",
      "chr-VIII\t213645\t213646\t-\t6\t0\t6\t6\tAAATTCGTCAT\t1\t-9.16,-0.83,1.66,0.58,-2.18,-5.19,-2.13,-5.99,-3.47,-1.88,-1.55,-0.42\n",
      "chr-VIII\t213668\t213669\t-\t7\t0\t8\t4\tCACAACGTTGG\t1\t-10.85,-2.37,0.81,-1.98,-4.37,-7.49,-2.94,-0.06,-4.53,-3.63,-0.61,-6.72\n",
      "chr-VIII\t213729\t213730\t-\t8\t0\t9\t4\tATTTGCGAATA\t1\t-2.79,-4.55,1.21,-0.07,-6.66,-2.28,-7.42,-2.66,-1.86,-6.36,-5.87,0.39,-3.38\n"
     ]
    },
    {
     "name": "stderr",
     "output_type": "stream",
     "text": [
      "## Options summary ##\n",
      "\tpackage_name: NanopolishComp\n",
      "\tpackage_version: 0.6.9\n",
      "\ttimestamp: 2019-08-30 18:11:54.197782\n",
      "\tquiet: False\n",
      "\tverbose: True\n",
      "\tsample_id: Sample1\n",
      "\tmin_depth: 10\n",
      "\toutput_tsv_fn: ./output/freq_meth_calculate/out_freq_meth_calculate.tsv\n",
      "\toutput_bed_fn: ./output/freq_meth_calculate/out_freq_meth_calculate.bed\n",
      "\tfasta_index: data/freq_meth_calculate/ref.fa.fai\n",
      "\tinput_fn: data/freq_meth_calculate/methylation_calls.tsv\n",
      "## Checking arguments ##\n",
      "\tTesting input file readability\n",
      "\tCheck output file\n",
      "\t\tOutput results in bed format\n",
      "\t\tOutput results in tsv format\n",
      "## Parsing methylation_calls file ##\n",
      "\tWrite output file header\n",
      "\tStarting to parse file Nanopolish methylation call file\n",
      "\r",
      "\t: 0 lines [00:00, ? lines/s]\r",
      "\t: 4372 lines [00:00, 43718.79 lines/s]\r",
      "\t: 8791 lines [00:00, 43858.45 lines/s]\r",
      "\t: 13216 lines [00:00, 43975.11 lines/s]\r",
      "\t: 16914 lines [00:00, 41611.87 lines/s]\r",
      "\t: 21388 lines [00:00, 42501.90 lines/s]\r",
      "\t: 25888 lines [00:00, 43220.06 lines/s]\r",
      "\t: 30409 lines [00:00, 43798.24 lines/s]\r",
      "\t: 34928 lines [00:00, 44204.09 lines/s]\r",
      "\t: 39498 lines [00:00, 44640.00 lines/s]\r",
      "\t: 44042 lines [00:01, 44876.50 lines/s]\r",
      "\t: 48570 lines [00:01, 44996.33 lines/s]\r",
      "\t: 53287 lines [00:01, 45626.07 lines/s]\r",
      "\t: 58000 lines [00:01, 46065.44 lines/s]\r",
      "\t: 62621 lines [00:01, 46108.70 lines/s]\r",
      "\t: 67206 lines [00:01, 43685.90 lines/s]\r",
      "\t: 71618 lines [00:01, 43813.53 lines/s]\r",
      "\t: 76065 lines [00:01, 44008.29 lines/s]\r",
      "\t: 80587 lines [00:01, 44362.82 lines/s]\r",
      "\t: 85070 lines [00:01, 44501.24 lines/s]\r",
      "\t: 89523 lines [00:02, 44330.08 lines/s]\r",
      "\t: 93978 lines [00:02, 44393.50 lines/s]\r",
      "\t: 98471 lines [00:02, 44552.48 lines/s]\r",
      "\t: 102928 lines [00:02, 44090.92 lines/s]\r",
      "\t: 107430 lines [00:02, 44363.16 lines/s]\r",
      "\t: 111942 lines [00:02, 44585.25 lines/s]\r",
      "\t: 116402 lines [00:02, 41250.53 lines/s]\r",
      "\t: 120925 lines [00:02, 42366.87 lines/s]\r",
      "\t: 125446 lines [00:02, 43180.70 lines/s]\r",
      "\t: 129855 lines [00:02, 43448.93 lines/s]\r",
      "\t: 134255 lines [00:03, 43610.67 lines/s]\r",
      "\t: 138647 lines [00:03, 43702.31 lines/s]\r",
      "\t: 143385 lines [00:03, 44742.83 lines/s]\r",
      "\t: 148103 lines [00:03, 45444.54 lines/s]\r",
      "\t: 152769 lines [00:03, 45800.95 lines/s]\r",
      "\t: 157359 lines [00:03, 45459.09 lines/s]\r",
      "\t: 161913 lines [00:03, 45398.09 lines/s]\r",
      "\t: 166458 lines [00:03, 40837.17 lines/s]\r",
      "\t: 170897 lines [00:03, 41840.41 lines/s]\r",
      "\t: 175373 lines [00:03, 42675.07 lines/s]\r",
      "\t: 179811 lines [00:04, 43171.30 lines/s]\r",
      "\t: 184249 lines [00:04, 43524.69 lines/s]\r",
      "\t: 188669 lines [00:04, 43723.73 lines/s]\r",
      "\t: 193106 lines [00:04, 43914.30 lines/s]\r",
      "\t: 197563 lines [00:04, 44108.08 lines/s]\r",
      "\t: 201984 lines [00:04, 43073.62 lines/s]\r",
      "\t: 206453 lines [00:04, 43545.41 lines/s]\r",
      "\t: 210977 lines [00:04, 44039.03 lines/s]\r",
      "\t: 215390 lines [00:04, 39509.09 lines/s]\r",
      "\t: 219776 lines [00:05, 40719.31 lines/s]\r",
      "\t: 224290 lines [00:05, 41949.35 lines/s]\r",
      "\t: 229042 lines [00:05, 43477.17 lines/s]\r",
      "\t: 233705 lines [00:05, 44374.74 lines/s]\r",
      "\t: 238369 lines [00:05, 45028.43 lines/s]\r",
      "\t: 242906 lines [00:05, 44905.83 lines/s]\r",
      "\t: 247421 lines [00:05, 44906.15 lines/s]\r",
      "\t: 251929 lines [00:05, 44862.33 lines/s]\r",
      "\t: 256427 lines [00:05, 44796.93 lines/s]\r",
      "\t: 260934 lines [00:05, 44877.62 lines/s]\r",
      "\t: 265496 lines [00:06, 45097.26 lines/s]\r",
      "\t: 270010 lines [00:06, 45090.42 lines/s]\r",
      "\t: 274523 lines [00:06, 44776.28 lines/s]\r",
      "\t: 279029 lines [00:06, 44859.92 lines/s]\r",
      "\t: 283517 lines [00:06, 38994.13 lines/s]\r",
      "\t: 287590 lines [00:06, 39498.10 lines/s]\r",
      "\t: 291982 lines [00:06, 40727.57 lines/s]\r",
      "\t: 296360 lines [00:06, 41596.48 lines/s]\r",
      "\t: 300769 lines [00:06, 42313.49 lines/s]\r",
      "\t: 305181 lines [00:06, 42839.28 lines/s]\r",
      "\t: 309557 lines [00:07, 43110.87 lines/s]\r",
      "\t: 314169 lines [00:07, 43970.43 lines/s]\r",
      "\t: 318867 lines [00:07, 44831.69 lines/s]\r",
      "\t: 323439 lines [00:07, 45093.06 lines/s]\r",
      "\t: 327994 lines [00:07, 45228.39 lines/s]\r",
      "\t: 332527 lines [00:07, 45236.16 lines/s]\r",
      "\t: 337058 lines [00:07, 45250.83 lines/s]\r",
      "\t: 341588 lines [00:07, 45189.65 lines/s]\r",
      "\t: 346148 lines [00:07, 45311.57 lines/s]\r",
      "\t: 350682 lines [00:07, 45192.65 lines/s]\r",
      "\t: 355203 lines [00:08, 45030.94 lines/s]\r",
      "\t: 359708 lines [00:08, 44841.43 lines/s]\r",
      "\t: 364194 lines [00:08, 44705.91 lines/s]\r",
      "\t: 368666 lines [00:08, 44705.83 lines/s]\r",
      "\t: 373257 lines [00:08, 45058.86 lines/s]\r",
      "\t: 377813 lines [00:08, 45207.09 lines/s]\r",
      "\t: 382335 lines [00:08, 45173.60 lines/s]\r",
      "\t: 386862 lines [00:08, 45201.36 lines/s]\r",
      "\t: 391465 lines [00:08, 45444.63 lines/s]\r",
      "\t: 396023 lines [00:09, 45483.81 lines/s]\r",
      "\t: 400595 lines [00:09, 45553.68 lines/s]\r",
      "\t: 405280 lines [00:09, 45933.44 lines/s]\r",
      "\t: 409875 lines [00:09, 39436.74 lines/s]\r",
      "\t: 414471 lines [00:09, 41189.44 lines/s]\r",
      "\t: 418958 lines [00:09, 42225.23 lines/s]\r",
      "\t: 423522 lines [00:09, 43192.92 lines/s]\r",
      "\t: 428037 lines [00:09, 43759.85 lines/s]\r",
      "\t: 432468 lines [00:09, 43840.85 lines/s]\r",
      "\t: 436941 lines [00:09, 44102.35 lines/s]\r",
      "\t: 441382 lines [00:10, 44191.66 lines/s]\r",
      "\t: 445821 lines [00:10, 44227.62 lines/s]\r",
      "\t: 450258 lines [00:10, 43965.93 lines/s]\r",
      "\t: 454743 lines [00:10, 44224.83 lines/s]\r",
      "\t: 459241 lines [00:10, 44447.15 lines/s]\r",
      "\t: 463759 lines [00:10, 44663.78 lines/s]\r",
      "\t: 468263 lines [00:10, 44773.55 lines/s]\r",
      "\t: 472758 lines [00:10, 44825.17 lines/s]\r",
      "\t: 477275 lines [00:10, 44927.79 lines/s]\r",
      "\t: 481816 lines [00:10, 45070.68 lines/s]\r",
      "\t: 486358 lines [00:11, 45172.48 lines/s]\r",
      "\t: 490981 lines [00:11, 45484.09 lines/s]\r",
      "\t: 495698 lines [00:11, 45976.22 lines/s]\r",
      "\t: 500408 lines [00:11, 46307.50 lines/s]\r",
      "\t: 505041 lines [00:11, 46208.63 lines/s]\r",
      "\t: 509664 lines [00:11, 37349.26 lines/s]\r",
      "\t: 514156 lines [00:11, 39336.57 lines/s]\r",
      "\t: 518608 lines [00:11, 40758.93 lines/s]\r",
      "\t: 523150 lines [00:11, 42048.05 lines/s]\r",
      "\t: 527714 lines [00:12, 43064.56 lines/s]\r",
      "\t: 532179 lines [00:12, 43527.95 lines/s]\r",
      "\t: 536690 lines [00:12, 43989.79 lines/s]\r",
      "\t: 541146 lines [00:12, 44156.85 lines/s]\r",
      "\t: 545679 lines [00:12, 44500.48 lines/s]\r",
      "\t: 550172 lines [00:12, 44627.25 lines/s]\r",
      "\t: 554668 lines [00:12, 44725.99 lines/s]\r",
      "\t: 559153 lines [00:12, 44633.96 lines/s]\r",
      "\t: 563625 lines [00:12, 44491.51 lines/s]\r",
      "\t: 568151 lines [00:12, 44717.77 lines/s]\r",
      "\t: 572628 lines [00:13, 44708.29 lines/s]\r",
      "\t: 577199 lines [00:13, 45002.46 lines/s]\r",
      "\t: 581899 lines [00:13, 45583.55 lines/s]\r",
      "\t: 586462 lines [00:13, 44953.41 lines/s]\r",
      "\t: 591108 lines [00:13, 45393.74 lines/s]\r",
      "\t: 595652 lines [00:13, 44964.34 lines/s]\r",
      "\t: 600171 lines [00:13, 45029.89 lines/s]\r",
      "\t: 604677 lines [00:13, 44892.87 lines/s]\r",
      "\t: 605248 lines [00:13, 43975.59 lines/s]\n",
      "\tFiltering out low coverage sites\n",
      "\tSorting by coordinates\n",
      "\tProcessing valid sites found\n",
      "\r",
      "\t:   0%|          | 0/999 [00:00<?, ? sites/s]\r",
      "\t:  17%|█▋        | 169/999 [00:00<00:00, 1681.49 sites/s]\r",
      "\t:  27%|██▋       | 271/999 [00:00<00:00, 1406.71 sites/s]\r",
      "\t:  34%|███▍      | 341/999 [00:00<00:00, 1074.21 sites/s]\r",
      "\t:  41%|████      | 408/999 [00:00<00:00, 833.75 sites/s] \r",
      "\t:  47%|████▋     | 472/999 [00:00<00:00, 626.62 sites/s]\r",
      "\t:  53%|█████▎    | 529/999 [00:00<00:01, 445.82 sites/s]\r",
      "\t:  58%|█████▊    | 577/999 [00:00<00:01, 397.09 sites/s]\r",
      "\t:  62%|██████▏   | 620/999 [00:01<00:00, 405.69 sites/s]\r",
      "\t:  67%|██████▋   | 674/999 [00:01<00:00, 437.23 sites/s]\r",
      "\t:  75%|███████▍  | 747/999 [00:01<00:00, 495.94 sites/s]\r",
      "\t:  84%|████████▍ | 844/999 [00:01<00:00, 580.89 sites/s]\r",
      "\t: 100%|██████████| 999/999 [00:01<00:00, 687.78 sites/s]\n",
      "## Results summary ##\n",
      "\tTotal read lines: 605,248\n",
      "\tValid read lines: 605,248\n",
      "\tTotal sites: 340,081\n",
      "\tLow coverage sites: 339,082\n",
      "\tValid sites: 1,998\n"
     ]
    }
   ],
   "source": [
    "%%bash\n",
    "\n",
    "# Load local bashrc and activate virtual environment\n",
    "source ~/.bashrc\n",
    "workon NanopolishComp\n",
    "\n",
    "NanopolishComp Freq_meth_calculate --verbose -i data/freq_meth_calculate/methylation_calls.tsv -b ./output/freq_meth_calculate/out_freq_meth_calculate.bed -t ./output/freq_meth_calculate/out_freq_meth_calculate.tsv -s Sample1 -f data/freq_meth_calculate/ref.fa.fai\n",
    "\n",
    "head ./output/freq_meth_calculate/out_freq_meth_calculate.bed\n",
    "head ./output/freq_meth_calculate/out_freq_meth_calculate.tsv"
   ]
  },
  {
   "cell_type": "markdown",
   "metadata": {},
   "source": [
    "#### Changing filtering threshold (not recommended)"
   ]
  },
  {
   "cell_type": "code",
   "execution_count": 7,
   "metadata": {
    "ExecuteTime": {
     "end_time": "2019-08-30T17:13:02.789433Z",
     "start_time": "2019-08-30T17:12:45.323790Z"
    },
    "scrolled": false
   },
   "outputs": [
    {
     "name": "stdout",
     "output_type": "stream",
     "text": [
      "track name=Methylation_ itemRgb=On\n",
      "chr-I\t68274\t68275\t0\t-3.016000\t-\t68274\t68275\t'8,121,207''\n",
      "chr-I\t68295\t68296\t1\t-3.200000\t-\t68295\t68296\t'8,121,207''\n",
      "chr-I\t68306\t68311\t2\t-3.716000\t-\t68306\t68311\t'8,121,207''\n",
      "chr-I\t88983\t88984\t3\t-2.148333\t-\t88983\t88984\t'8,121,207''\n",
      "chr-I\t89003\t89004\t4\t-2.950000\t-\t89003\t89004\t'8,121,207''\n",
      "chr-I\t89023\t89024\t5\t-3.480000\t-\t89023\t89024\t'8,121,207''\n",
      "chr-I\t89092\t89093\t6\t-3.578333\t-\t89092\t89093\t'8,121,207''\n",
      "chr-I\t89105\t89106\t7\t-1.385000\t-\t89105\t89106\t'100,100,100''\n",
      "chr-I\t89273\t89274\t8\t-3.181667\t-\t89273\t89274\t'8,121,207''\n",
      "chromosome\tstart\tend\tstrand\tsite_id\tmethylated_reads\tunmethylated_reads\tambiguous_reads\tsequence\tnum_motifs\tllr_list\n",
      "chr-I\t68274\t68275\t-\t0\t0\t4\t1\tGGGACCGATCT\t1\t-1.1,-2.49,-5.42,-3.41,-2.66\n",
      "chr-I\t68295\t68296\t-\t1\t0\t3\t2\tACTTTCGGTAT\t1\t-1.34,-5.41,-0.14,-6.11,-3.0\n",
      "chr-I\t68306\t68311\t-\t2\t0\t3\t2\tCATCACGGTCGCAGG\t2\t-2.89,-2.95,-9.29,-1.75,-1.7\n",
      "chr-I\t88983\t88984\t-\t3\t0\t3\t3\tCTCTACGAATT\t1\t0.02,-1.06,-4.97,-3.01,-0.74,-3.13\n",
      "chr-I\t89003\t89004\t-\t4\t1\t4\t1\tAGCTTCGGTTT\t1\t-3.25,-1.39,-4.63,-6.34,2.19,-4.28\n",
      "chr-I\t89023\t89024\t-\t5\t0\t3\t3\tTCCTGCGATTC\t1\t-1.31,-1.43,-4.61,-3.53,-9.13,-0.87\n",
      "chr-I\t89092\t89093\t-\t6\t0\t4\t2\tTATTACGTTTT\t1\t-4.23,-4.07,-7.98,1.02,0.56,-6.77\n",
      "chr-I\t89105\t89106\t-\t7\t0\t1\t5\tATAAACGCTAG\t1\t-1.36,-1.43,-4.11,-1.64,0.03,0.2\n",
      "chr-I\t89273\t89274\t-\t8\t0\t5\t1\tTGTAACGTCTT\t1\t-6.36,-2.27,-3.41,-0.11,-3.75,-3.19\n"
     ]
    },
    {
     "name": "stderr",
     "output_type": "stream",
     "text": [
      "## Options summary ##\n",
      "\tpackage_name: NanopolishComp\n",
      "\tpackage_version: 0.6.9\n",
      "\ttimestamp: 2019-08-30 18:12:46.143103\n",
      "\tquiet: False\n",
      "\tverbose: True\n",
      "\tsample_id: \n",
      "\tmin_depth: 5\n",
      "\toutput_tsv_fn: ./output/freq_meth_calculate/out_freq_meth_calculate.tsv\n",
      "\toutput_bed_fn: ./output/freq_meth_calculate/out_freq_meth_calculate.bed\n",
      "\tfasta_index: \n",
      "\tinput_fn: data/freq_meth_calculate/methylation_calls.tsv\n",
      "## Checking arguments ##\n",
      "\tTesting input file readability\n",
      "\tCheck output file\n",
      "\t\tOutput results in bed format\n",
      "\t\tOutput results in tsv format\n",
      "## Parsing methylation_calls file ##\n",
      "\tWrite output file header\n",
      "\tStarting to parse file Nanopolish methylation call file\n",
      "\r",
      "\t: 0 lines [00:00, ? lines/s]\r",
      "\t: 4446 lines [00:00, 44451.78 lines/s]\r",
      "\t: 8863 lines [00:00, 44366.69 lines/s]\r",
      "\t: 13285 lines [00:00, 44321.77 lines/s]\r",
      "\t: 17021 lines [00:00, 41971.70 lines/s]\r",
      "\t: 21357 lines [00:00, 42377.18 lines/s]\r",
      "\t: 25761 lines [00:00, 42860.49 lines/s]\r",
      "\t: 30142 lines [00:00, 43139.25 lines/s]\r",
      "\t: 34597 lines [00:00, 43552.59 lines/s]\r",
      "\t: 39028 lines [00:00, 43776.38 lines/s]\r",
      "\t: 43477 lines [00:01, 43985.85 lines/s]\r",
      "\t: 47906 lines [00:01, 44075.70 lines/s]\r",
      "\t: 52552 lines [00:01, 44764.56 lines/s]\r",
      "\t: 57291 lines [00:01, 45519.74 lines/s]\r",
      "\t: 62031 lines [00:01, 46065.70 lines/s]\r",
      "\t: 66614 lines [00:01, 43608.91 lines/s]\r",
      "\t: 71060 lines [00:01, 43859.57 lines/s]\r",
      "\t: 75565 lines [00:01, 44207.63 lines/s]\r",
      "\t: 80021 lines [00:01, 44310.09 lines/s]\r",
      "\t: 84458 lines [00:01, 44327.27 lines/s]\r",
      "\t: 88894 lines [00:02, 43811.73 lines/s]\r",
      "\t: 93329 lines [00:02, 43969.38 lines/s]\r",
      "\t: 97756 lines [00:02, 44058.21 lines/s]\r",
      "\t: 102164 lines [00:02, 43942.25 lines/s]\r",
      "\t: 106620 lines [00:02, 44125.44 lines/s]\r",
      "\t: 111081 lines [00:02, 44268.80 lines/s]\r",
      "\t: 115509 lines [00:02, 41036.82 lines/s]\r",
      "\t: 119993 lines [00:02, 42106.10 lines/s]\r",
      "\t: 124520 lines [00:02, 43007.38 lines/s]\r",
      "\t: 128994 lines [00:02, 43512.14 lines/s]\r",
      "\t: 133427 lines [00:03, 43753.74 lines/s]\r",
      "\t: 137969 lines [00:03, 44240.49 lines/s]\r",
      "\t: 142471 lines [00:03, 44470.57 lines/s]\r",
      "\t: 147094 lines [00:03, 44982.02 lines/s]\r",
      "\t: 151689 lines [00:03, 45267.51 lines/s]\r",
      "\t: 156222 lines [00:03, 45224.18 lines/s]\r",
      "\t: 160749 lines [00:03, 45174.67 lines/s]\r",
      "\t: 165270 lines [00:03, 40979.62 lines/s]\r",
      "\t: 169730 lines [00:03, 42000.20 lines/s]\r",
      "\t: 174242 lines [00:03, 42888.69 lines/s]\r",
      "\t: 178781 lines [00:04, 43607.15 lines/s]\r",
      "\t: 183322 lines [00:04, 44130.35 lines/s]\r",
      "\t: 187819 lines [00:04, 44375.44 lines/s]\r",
      "\t: 192380 lines [00:04, 44736.36 lines/s]\r",
      "\t: 196933 lines [00:04, 44969.95 lines/s]\r",
      "\t: 201454 lines [00:04, 45040.78 lines/s]\r",
      "\t: 205966 lines [00:04, 44989.26 lines/s]\r",
      "\t: 210470 lines [00:04, 44994.00 lines/s]\r",
      "\t: 214973 lines [00:04, 40040.49 lines/s]\r",
      "\t: 219505 lines [00:05, 41489.00 lines/s]\r",
      "\t: 224059 lines [00:05, 42624.65 lines/s]\r",
      "\t: 228714 lines [00:05, 43728.98 lines/s]\r",
      "\t: 233282 lines [00:05, 44295.59 lines/s]\r",
      "\t: 237882 lines [00:05, 44792.02 lines/s]\r",
      "\t: 242391 lines [00:05, 44728.06 lines/s]\r",
      "\t: 246903 lines [00:05, 44842.39 lines/s]\r",
      "\t: 251402 lines [00:05, 44883.32 lines/s]\r",
      "\t: 255909 lines [00:05, 44938.12 lines/s]\r",
      "\t: 260410 lines [00:05, 43788.39 lines/s]\r",
      "\t: 264849 lines [00:06, 43965.89 lines/s]\r",
      "\t: 269354 lines [00:06, 44283.38 lines/s]\r",
      "\t: 273828 lines [00:06, 44418.98 lines/s]\r",
      "\t: 278275 lines [00:06, 44382.56 lines/s]\r",
      "\t: 282717 lines [00:06, 38924.17 lines/s]\r",
      "\t: 286807 lines [00:06, 39496.48 lines/s]\r",
      "\t: 291179 lines [00:06, 40674.96 lines/s]\r",
      "\t: 295655 lines [00:06, 41818.48 lines/s]\r",
      "\t: 300132 lines [00:06, 42661.07 lines/s]\r",
      "\t: 304644 lines [00:06, 43369.88 lines/s]\r",
      "\t: 309145 lines [00:07, 43847.31 lines/s]\r",
      "\t: 313714 lines [00:07, 44382.86 lines/s]\r",
      "\t: 318398 lines [00:07, 45092.32 lines/s]\r",
      "\t: 323079 lines [00:07, 45593.37 lines/s]\r",
      "\t: 327662 lines [00:07, 45663.72 lines/s]\r",
      "\t: 332238 lines [00:07, 45487.32 lines/s]\r",
      "\t: 336794 lines [00:07, 45302.07 lines/s]\r",
      "\t: 341329 lines [00:07, 44980.81 lines/s]\r",
      "\t: 345831 lines [00:07, 44836.20 lines/s]\r",
      "\t: 350352 lines [00:07, 44946.17 lines/s]\r",
      "\t: 354849 lines [00:08, 44918.90 lines/s]\r",
      "\t: 359361 lines [00:08, 44975.62 lines/s]\r",
      "\t: 363860 lines [00:08, 44806.70 lines/s]\r",
      "\t: 368395 lines [00:08, 44967.76 lines/s]\r",
      "\t: 372936 lines [00:08, 45097.90 lines/s]\r",
      "\t: 377515 lines [00:08, 45302.44 lines/s]\r",
      "\t: 382046 lines [00:08, 45159.84 lines/s]\r",
      "\t: 386566 lines [00:08, 45169.34 lines/s]\r",
      "\t: 391084 lines [00:08, 45101.53 lines/s]\r",
      "\t: 395636 lines [00:08, 45223.83 lines/s]\r",
      "\t: 400159 lines [00:09, 45192.95 lines/s]\r",
      "\t: 404803 lines [00:09, 45558.20 lines/s]\r",
      "\t: 409360 lines [00:09, 38936.39 lines/s]\r",
      "\t: 413941 lines [00:09, 40770.65 lines/s]\r",
      "\t: 418356 lines [00:09, 41727.72 lines/s]\r",
      "\t: 422801 lines [00:09, 42508.37 lines/s]\r",
      "\t: 427276 lines [00:09, 43155.35 lines/s]\r",
      "\t: 431648 lines [00:09, 43308.79 lines/s]\r",
      "\t: 436063 lines [00:09, 43555.35 lines/s]\r",
      "\t: 440452 lines [00:10, 43653.33 lines/s]\r",
      "\t: 444862 lines [00:10, 43783.09 lines/s]\r",
      "\t: 449275 lines [00:10, 43885.29 lines/s]\r",
      "\t: 453674 lines [00:10, 43892.78 lines/s]\r",
      "\t: 458093 lines [00:10, 43980.32 lines/s]\r",
      "\t: 462496 lines [00:10, 43232.84 lines/s]\r",
      "\t: 466826 lines [00:10, 42912.81 lines/s]\r",
      "\t: 471333 lines [00:10, 43537.20 lines/s]\r",
      "\t: 475775 lines [00:10, 43796.64 lines/s]\r",
      "\t: 480159 lines [00:10, 43096.46 lines/s]\r",
      "\t: 484562 lines [00:11, 43371.95 lines/s]\r",
      "\t: 488904 lines [00:11, 43335.29 lines/s]\r",
      "\t: 493448 lines [00:11, 43942.04 lines/s]\r",
      "\t: 497847 lines [00:11, 43732.14 lines/s]\r",
      "\t: 502224 lines [00:11, 43387.58 lines/s]\r",
      "\t: 506566 lines [00:11, 43185.19 lines/s]\r",
      "\t: 510887 lines [00:11, 34561.03 lines/s]\r",
      "\t: 515075 lines [00:11, 36471.88 lines/s]\r",
      "\t: 519565 lines [00:11, 38647.80 lines/s]\r",
      "\t: 523620 lines [00:12, 36859.52 lines/s]\r",
      "\t: 527799 lines [00:12, 38210.86 lines/s]\r",
      "\t: 532082 lines [00:12, 39485.66 lines/s]\r",
      "\t: 536466 lines [00:12, 40697.39 lines/s]\r",
      "\t: 540760 lines [00:12, 41342.95 lines/s]\r",
      "\t: 545165 lines [00:12, 42118.59 lines/s]\r",
      "\t: 549419 lines [00:12, 40668.47 lines/s]\r",
      "\t: 553526 lines [00:12, 37245.15 lines/s]\r",
      "\t: 557335 lines [00:12, 35876.47 lines/s]\r",
      "\t: 560993 lines [00:13, 35159.29 lines/s]\r",
      "\t: 565094 lines [00:13, 36729.39 lines/s]\r",
      "\t: 569657 lines [00:13, 39011.78 lines/s]\r",
      "\t: 574201 lines [00:13, 40739.83 lines/s]\r",
      "\t: 578516 lines [00:13, 41431.95 lines/s]\r",
      "\t: 582790 lines [00:13, 41813.35 lines/s]\r",
      "\t: 587204 lines [00:13, 42483.75 lines/s]\r",
      "\t: 591483 lines [00:13, 42474.13 lines/s]\r",
      "\t: 595774 lines [00:13, 42600.55 lines/s]\r",
      "\t: 600049 lines [00:13, 42353.94 lines/s]\r",
      "\t: 604296 lines [00:14, 42020.84 lines/s]\r",
      "\t: 605248 lines [00:14, 43000.69 lines/s]\n",
      "\tFiltering out low coverage sites\n",
      "\tProcessing valid sites found\n",
      "\r",
      "\t:   0%|          | 0/4544 [00:00<?, ? sites/s]\r",
      "\t:  10%|█         | 474/4544 [00:00<00:00, 4739.28 sites/s]\r",
      "\t:  20%|██        | 927/4544 [00:00<00:00, 4672.67 sites/s]\r",
      "\t:  30%|██▉       | 1361/4544 [00:00<00:00, 4567.31 sites/s]\r",
      "\t:  41%|████      | 1868/4544 [00:00<00:00, 4704.67 sites/s]\r",
      "\t:  49%|████▉     | 2227/4544 [00:00<00:00, 4183.43 sites/s]\r",
      "\t:  57%|█████▋    | 2578/4544 [00:01<00:01, 1469.79 sites/s]\r",
      "\t:  63%|██████▎   | 2841/4544 [00:01<00:01, 891.95 sites/s] \r",
      "\t:  67%|██████▋   | 3039/4544 [00:01<00:01, 899.98 sites/s]\r",
      "\t:  77%|███████▋  | 3517/4544 [00:01<00:00, 1189.62 sites/s]\r",
      "\t:  88%|████████▊ | 4019/4544 [00:02<00:00, 1542.76 sites/s]\r",
      "\t:  98%|█████████▊| 4443/4544 [00:02<00:00, 1906.14 sites/s]\r",
      "\t: 100%|██████████| 4544/4544 [00:02<00:00, 2052.97 sites/s]\n",
      "## Results summary ##\n",
      "\tTotal read lines: 605,248\n",
      "\tValid read lines: 605,248\n",
      "\tTotal sites: 340,081\n",
      "\tLow coverage sites: 335,537\n",
      "\tValid sites: 9,088\n"
     ]
    }
   ],
   "source": [
    "%%bash\n",
    "\n",
    "# Load local bashrc and activate virtual environment\n",
    "source ~/.bashrc\n",
    "workon NanopolishComp\n",
    "\n",
    "NanopolishComp Freq_meth_calculate --verbose -i data/freq_meth_calculate/methylation_calls.tsv -b ./output/freq_meth_calculate/out_freq_meth_calculate.bed -t ./output/freq_meth_calculate/out_freq_meth_calculate.tsv --min_depth 5\n",
    "\n",
    "head ./output/freq_meth_calculate/out_freq_meth_calculate.bed\n",
    "head ./output/freq_meth_calculate/out_freq_meth_calculate.tsv"
   ]
  },
  {
   "cell_type": "markdown",
   "metadata": {},
   "source": [
    "## Python API usage"
   ]
  },
  {
   "cell_type": "markdown",
   "metadata": {},
   "source": [
    "### Import the package"
   ]
  },
  {
   "cell_type": "code",
   "execution_count": 8,
   "metadata": {
    "ExecuteTime": {
     "end_time": "2019-08-30T17:13:02.990575Z",
     "start_time": "2019-08-30T17:13:02.792962Z"
    }
   },
   "outputs": [],
   "source": [
    "# Import main program\n",
    "from NanopolishComp.Freq_meth_calculate import Freq_meth_calculate\n",
    "\n",
    "# Import helper functions\n",
    "from NanopolishComp.common import jhelp, head"
   ]
  },
  {
   "cell_type": "markdown",
   "metadata": {},
   "source": [
    "### python API help"
   ]
  },
  {
   "cell_type": "code",
   "execution_count": 9,
   "metadata": {
    "ExecuteTime": {
     "end_time": "2019-08-30T17:13:03.007659Z",
     "start_time": "2019-08-30T17:13:02.992998Z"
    }
   },
   "outputs": [
    {
     "data": {
      "text/markdown": [
       "---\n",
       "\n",
       "**NanopolishComp.Freq_meth_calculate.__init__**\n",
       "\n",
       "Calculate methylation frequency at genomic CpG sites from the output of nanopolish call-methylation\n",
       "\n",
       "---\n",
       "\n",
       "* **input_fn** *: str (required)*\n",
       "\n",
       "Path to a nanopolish call_methylation tsv output file\n",
       "\n",
       "* **fasta_index** *: str (default = )*\n",
       "\n",
       "fasta index file obtained with samtools faidx. Required for coordinate sorting\n",
       "\n",
       "* **output_bed_fn** *: str (default = )*\n",
       "\n",
       "Path to write a summary result file in BED format\n",
       "\n",
       "* **output_tsv_fn** *: str (default = )*\n",
       "\n",
       "Path to write an more extensive result report in TSV format\n",
       "\n",
       "* **min_depth** *: int (default = 10)*\n",
       "\n",
       "Minimal number of reads covering a site to be reported\n",
       "\n",
       "* **sample_id** *: str (default = )*\n",
       "\n",
       "Sample ID to be used for the bed track header\n",
       "\n",
       "* **verbose** *: bool (default = False)*\n",
       "\n",
       "Increase verbosity\n",
       "\n",
       "* **quiet** *: bool (default = False)*\n",
       "\n",
       "Reduce verbosity\n",
       "\n"
      ],
      "text/plain": [
       "<IPython.core.display.Markdown object>"
      ]
     },
     "metadata": {},
     "output_type": "display_data"
    }
   ],
   "source": [
    "jhelp(Freq_meth_calculate)"
   ]
  },
  {
   "cell_type": "markdown",
   "metadata": {},
   "source": [
    "### Example usage"
   ]
  },
  {
   "cell_type": "markdown",
   "metadata": {
    "ExecuteTime": {
     "end_time": "2019-04-23T09:19:41.284517Z",
     "start_time": "2019-04-23T09:19:41.165804Z"
    },
    "scrolled": false
   },
   "source": [
    "#### basic setting"
   ]
  },
  {
   "cell_type": "code",
   "execution_count": 10,
   "metadata": {
    "ExecuteTime": {
     "end_time": "2019-08-30T17:13:45.861023Z",
     "start_time": "2019-08-30T17:13:27.883367Z"
    },
    "scrolled": true
   },
   "outputs": [
    {
     "name": "stderr",
     "output_type": "stream",
     "text": [
      "## Options summary ##\n",
      "\tpackage_name: NanopolishComp\n",
      "\tpackage_version: 0.6.9\n",
      "\ttimestamp: 2019-08-30 18:13:27.895308\n",
      "\tquiet: False\n",
      "\tverbose: True\n",
      "\tsample_id: Sample1\n",
      "\tmin_depth: 10\n",
      "\toutput_tsv_fn: \n",
      "\toutput_bed_fn: ./output/freq_meth_calculate/out_freq_meth_calculate.bed\n",
      "\tfasta_index: \n",
      "\tinput_fn: ./data/freq_meth_calculate/methylation_calls.tsv\n",
      "## Checking arguments ##\n",
      "\tTesting input file readability\n",
      "\tCheck output file\n",
      "\t\tOutput results in bed format\n",
      "## Parsing methylation_calls file ##\n",
      "\tWrite output file header\n",
      "\tStarting to parse file Nanopolish methylation call file\n",
      "\t: 605248 lines [00:16, 37771.09 lines/s]\n",
      "\tFiltering out low coverage sites\n",
      "\tProcessing valid sites found\n",
      "\t: 100%|██████████| 999/999 [00:01<00:00, 622.77 sites/s] \n",
      "## Results summary ##\n",
      "\tTotal read lines: 605,248\n",
      "\tValid read lines: 605,248\n",
      "\tTotal sites: 340,081\n",
      "\tLow coverage sites: 339,082\n",
      "\tValid sites: 1,998\n"
     ]
    },
    {
     "name": "stdout",
     "output_type": "stream",
     "text": [
      "track name=Methylation_Sample1 itemRgb=On\n",
      "chr-VIII\t213351\t213352\t0\t-0.500000\t-\t213351\t213352\t'100,100,100''\n",
      "chr-VIII\t213382\t213386\t1\t-5.103000\t-\t213382\t213386\t'8,121,207''\n",
      "chr-VIII\t213427\t213428\t2\t0.504545\t-\t213427\t213428\t'100,100,100''\n",
      "chr-VIII\t213516\t213517\t3\t-2.447500\t-\t213516\t213517\t'8,121,207''\n",
      "chr-VIII\t213536\t213537\t4\t-3.103333\t-\t213536\t213537\t'8,121,207''\n",
      "chr-VIII\t213549\t213550\t5\t-2.724167\t-\t213549\t213550\t'8,121,207''\n",
      "chr-VIII\t213645\t213646\t6\t-2.546667\t-\t213645\t213646\t'8,121,207''\n",
      "chr-VIII\t213668\t213669\t7\t-3.728333\t-\t213668\t213669\t'8,121,207''\n",
      "chr-VIII\t213729\t213730\t8\t-3.253846\t-\t213729\t213730\t'8,121,207''\n",
      "\n"
     ]
    }
   ],
   "source": [
    "f = Freq_meth_calculate(\n",
    "    input_fn=\"./data/freq_meth_calculate/methylation_calls.tsv\",\n",
    "    output_bed_fn=\"./output/freq_meth_calculate/out_freq_meth_calculate.bed\",\n",
    "    sample_id=\"Sample1\",\n",
    "    verbose=True)\n",
    "\n",
    "head(\"./output/freq_meth_calculate/out_freq_meth_calculate.bed\")"
   ]
  },
  {
   "cell_type": "markdown",
   "metadata": {},
   "source": [
    "#### Using a fasta index for output coordinates sorting"
   ]
  },
  {
   "cell_type": "code",
   "execution_count": 11,
   "metadata": {
    "ExecuteTime": {
     "end_time": "2019-08-30T17:14:53.826584Z",
     "start_time": "2019-08-30T17:14:36.563572Z"
    }
   },
   "outputs": [
    {
     "name": "stderr",
     "output_type": "stream",
     "text": [
      "## Options summary ##\n",
      "\tpackage_name: NanopolishComp\n",
      "\tpackage_version: 0.6.9\n",
      "\ttimestamp: 2019-08-30 18:14:36.578779\n",
      "\tquiet: False\n",
      "\tverbose: True\n",
      "\tsample_id: Sample1\n",
      "\tmin_depth: 10\n",
      "\toutput_tsv_fn: \n",
      "\toutput_bed_fn: ./output/freq_meth_calculate/out_freq_meth_calculate.bed\n",
      "\tfasta_index: ./data/freq_meth_calculate/ref.fa.fai\n",
      "\tinput_fn: ./data/freq_meth_calculate/methylation_calls.tsv\n",
      "## Checking arguments ##\n",
      "\tTesting input file readability\n",
      "\tCheck output file\n",
      "\t\tOutput results in bed format\n",
      "## Parsing methylation_calls file ##\n",
      "\tWrite output file header\n",
      "\tStarting to parse file Nanopolish methylation call file\n",
      "\t: 605248 lines [00:15, 39231.62 lines/s]\n",
      "\tFiltering out low coverage sites\n",
      "\tSorting by coordinates\n",
      "\tProcessing valid sites found\n",
      "\t: 100%|██████████| 999/999 [00:01<00:00, 673.84 sites/s] \n",
      "## Results summary ##\n",
      "\tTotal read lines: 605,248\n",
      "\tValid read lines: 605,248\n",
      "\tTotal sites: 340,081\n",
      "\tLow coverage sites: 339,082\n",
      "\tValid sites: 1,998\n"
     ]
    },
    {
     "name": "stdout",
     "output_type": "stream",
     "text": [
      "track name=Methylation_Sample1 itemRgb=On\n",
      "chr-VIII\t213351\t213352\t999\t-0.500000\t-\t213351\t213352\t'100,100,100''\n",
      "chr-VIII\t213382\t213386\t1000\t-5.103000\t-\t213382\t213386\t'8,121,207''\n",
      "chr-VIII\t213427\t213428\t1001\t0.504545\t-\t213427\t213428\t'100,100,100''\n",
      "chr-VIII\t213516\t213517\t1002\t-2.447500\t-\t213516\t213517\t'8,121,207''\n",
      "chr-VIII\t213536\t213537\t1003\t-3.103333\t-\t213536\t213537\t'8,121,207''\n",
      "chr-VIII\t213549\t213550\t1004\t-2.724167\t-\t213549\t213550\t'8,121,207''\n",
      "chr-VIII\t213645\t213646\t1005\t-2.546667\t-\t213645\t213646\t'8,121,207''\n",
      "chr-VIII\t213668\t213669\t1006\t-3.728333\t-\t213668\t213669\t'8,121,207''\n",
      "chr-VIII\t213729\t213730\t1007\t-3.253846\t-\t213729\t213730\t'8,121,207''\n",
      "\n"
     ]
    }
   ],
   "source": [
    "f = Freq_meth_calculate(\n",
    "    input_fn=\"./data/freq_meth_calculate/methylation_calls.tsv\",\n",
    "    fasta_index=\"./data/freq_meth_calculate/ref.fa.fai\",\n",
    "    output_bed_fn=\"./output/freq_meth_calculate/out_freq_meth_calculate.bed\",\n",
    "    sample_id=\"Sample1\",\n",
    "    verbose=True)\n",
    "\n",
    "head(\"./output/freq_meth_calculate/out_freq_meth_calculate.bed\")"
   ]
  },
  {
   "cell_type": "code",
   "execution_count": null,
   "metadata": {},
   "outputs": [],
   "source": []
  },
  {
   "cell_type": "code",
   "execution_count": null,
   "metadata": {},
   "outputs": [],
   "source": []
  },
  {
   "cell_type": "markdown",
   "metadata": {},
   "source": [
    "#### Changing filtering threshold (not recommended)"
   ]
  },
  {
   "cell_type": "code",
   "execution_count": 7,
   "metadata": {
    "ExecuteTime": {
     "end_time": "2019-08-12T17:10:14.818616Z",
     "start_time": "2019-08-12T17:10:00.490338Z"
    }
   },
   "outputs": [
    {
     "name": "stderr",
     "output_type": "stream",
     "text": [
      "## Checking arguments ##\n",
      "## Parsing methylation_calls file ##\n",
      "\tStarting to parse file Nanopolish methylation call file\n",
      "\tProcessing_valid site found\n",
      "## Results summary ##\n",
      "\ttotal read lines: 605,248\n",
      "\tTotal sites: 340,081\n",
      "\tLow coverage sites: 339,249\n",
      "\tLow methylation sites: 821\n",
      "\tValid sites: 11\n"
     ]
    },
    {
     "name": "stdout",
     "output_type": "stream",
     "text": [
      "chromosome start  end    strand site_id methylated_reads unmethylated_reads ambiguous_reads sequence       num_motifs meth_freq \n",
      "chr-XII    455556 455557 +      1089    16               6                  20              AGATCCGTTGT    1          0.380952  \n",
      "chr-XII    461541 461542 +      1234    26               3                  52              AATTCCGAGGG    1          0.320988  \n",
      "chr-XII    462606 462607 +      1266    21               9                  28              AATTCCGGGGT    1          0.362069  \n",
      "chr-XII    464693 464694 +      1327    15               4                  15              AGATCCGTTGT    1          0.441176  \n",
      "chr-XII    454376 454377 -      1418    10               7                  16              TCTTTCGGGTC    1          0.303030  \n",
      "chr-XII    456198 456202 -      1464    17               13                 16              CAGCACGACGGAGT 2          0.369565  \n",
      "chr-XII    458208 458209 -      1516    25               15                 37              TTAAACGCAAA    1          0.324675  \n",
      "chr-XII    465335 465339 -      1698    12               14                 14              CAGCACGACGGAGT 2          0.300000  \n",
      "chr-XII    467345 467346 -      1798    8                6                  12              TTAAACGCAAA    1          0.307692  \n",
      "\n"
     ]
    }
   ],
   "source": [
    "f = Freq_meth_calculate(\n",
    "    input_fn=\"./data/freq_meth_calculate/methylation_calls.tsv\",\n",
    "    output_tsv_fn=\"./output/freq_meth_calculate/out_freq_meth_calculate.tsv\",\n",
    "    min_llr=1,\n",
    "    min_depth=20,\n",
    "    min_meth_freq=0.3)\n",
    "\n",
    "head(\"./output/freq_meth_calculate/out_freq_meth_calculate.tsv\")"
   ]
  }
 ],
 "metadata": {
  "celltoolbar": "Initialization Cell",
  "hide_input": false,
  "kernelspec": {
   "display_name": "NanopolishComp",
   "language": "python",
   "name": "nanopolishcomp"
  },
  "language_info": {
   "codemirror_mode": {
    "name": "ipython",
    "version": 3
   },
   "file_extension": ".py",
   "mimetype": "text/x-python",
   "name": "python",
   "nbconvert_exporter": "python",
   "pygments_lexer": "ipython3",
   "version": "3.6.6"
  }
 },
 "nbformat": 4,
 "nbformat_minor": 2
}
