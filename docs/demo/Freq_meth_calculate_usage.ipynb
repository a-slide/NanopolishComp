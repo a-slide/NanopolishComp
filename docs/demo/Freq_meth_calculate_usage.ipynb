{
 "cells": [
  {
   "cell_type": "markdown",
   "metadata": {
    "ExecuteTime": {
     "end_time": "2018-08-10T10:03:00.595966Z",
     "start_time": "2018-08-10T10:03:00.587806Z"
    }
   },
   "source": [
    "# Freq_meth_calculate usage"
   ]
  },
  {
   "cell_type": "markdown",
   "metadata": {},
   "source": [
    "Calculate methylation frequency at genomic CpG sites from the output of `nanopolish call-methylation`"
   ]
  },
  {
   "cell_type": "markdown",
   "metadata": {},
   "source": [
    "## Output files format"
   ]
  },
  {
   "cell_type": "markdown",
   "metadata": {},
   "source": [
    "`Freq_meth_calculate` can generates 2 files, a standard BED file and a tabulated file containing extra information"
   ]
  },
  {
   "cell_type": "markdown",
   "metadata": {},
   "source": [
    "#### BED file"
   ]
  },
  {
   "cell_type": "markdown",
   "metadata": {},
   "source": [
    "Standard genomic BED6 (https://genome.ucsc.edu/FAQ/FAQformat.html#format1). The score correspond to the methylation frequency multiplied by 1000. The file is sorted by coordinates and can be rendered with a genome browser such as [IGV](https://software.broadinstitute.org/software/igv/)"
   ]
  },
  {
   "cell_type": "markdown",
   "metadata": {},
   "source": [
    "#### Tabulated TSV file"
   ]
  },
  {
   "cell_type": "markdown",
   "metadata": {},
   "source": [
    "Contrary to the bed file, in the tabulated report, positions are ordered by decreasing methylation frequency.\n",
    "\n",
    "The file contains the following fields:\n",
    "\n",
    "* **chrom / start / end / strand**: Genomic coordinates of the motif or group of motifs in case split_group was not selected.\n",
    "* **site_id**: Unique integer identifier of the genomic position.\n",
    "* **methylated_reads / unmethylated_reads / ambiguous_reads**: Number of reads at a given genomic location with a higher likelyhood of being methylated or unmethylated or with an ambiguous methylation call.\n",
    "* **sequence**: -5 to +5 sequence of the motif or group of motifs in case split_group was not selected.\n",
    "* **num_motifs**: Number of motif in the group.\n",
    "* **meth_freq**: Methylation frequency (out of non anbiguous calls)."
   ]
  },
  {
   "cell_type": "markdown",
   "metadata": {},
   "source": [
    "## Bash command line usage"
   ]
  },
  {
   "cell_type": "markdown",
   "metadata": {},
   "source": [
    "### Command line help"
   ]
  },
  {
   "cell_type": "code",
   "execution_count": 1,
   "metadata": {
    "ExecuteTime": {
     "end_time": "2019-08-12T17:02:53.474574Z",
     "start_time": "2019-08-12T17:02:52.526872Z"
    }
   },
   "outputs": [
    {
     "name": "stdout",
     "output_type": "stream",
     "text": [
      "usage: NanopolishComp Freq_meth_calculate [-h] [-i INPUT_FN]\n",
      "                                          [-b OUTPUT_BED_FN]\n",
      "                                          [-t OUTPUT_TSV_FN] [-l MIN_LLR]\n",
      "                                          [-d MIN_DEPTH] [-f MIN_METH_FREQ]\n",
      "                                          [-v | -q]\n",
      "\n",
      "Calculate methylation frequency at genomic CpG sites from the output of\n",
      "nanopolish call-methylation\n",
      "\n",
      "optional arguments:\n",
      "  -h, --help            show this help message and exit\n",
      "  -v, --verbose         Increase verbosity (default: False)\n",
      "  -q, --quiet           Reduce verbosity (default: False)\n",
      "\n",
      "Input/Output options:\n",
      "  -i INPUT_FN, --input_fn INPUT_FN\n",
      "                        Path to a nanopolish call_methylation tsv output file.\n",
      "                        If not specified read from std input\n",
      "  -b OUTPUT_BED_FN, --output_bed_fn OUTPUT_BED_FN\n",
      "                        Path to write a summary result file in BED format\n",
      "                        (default: )\n",
      "  -t OUTPUT_TSV_FN, --output_tsv_fn OUTPUT_TSV_FN\n",
      "                        Path to write an more extensive result report in TSV\n",
      "                        format (default: )\n",
      "\n",
      "Filtering options:\n",
      "  -l MIN_LLR, --min_llr MIN_LLR\n",
      "                        Log likelihood ratio threshold (default: 2.5)\n",
      "  -d MIN_DEPTH, --min_depth MIN_DEPTH\n",
      "                        Minimal number of reads covering a site to be reported\n",
      "                        (default: 10)\n",
      "  -f MIN_METH_FREQ, --min_meth_freq MIN_METH_FREQ\n",
      "                        Minimal methylation frequency of a site to be reported\n",
      "                        (default: 0.05)\n"
     ]
    }
   ],
   "source": [
    "%%bash\n",
    "\n",
    "# Load local bashrc and activate virtual environment\n",
    "source ~/.bashrc\n",
    "workon NanopolishComp\n",
    "\n",
    "NanopolishComp Freq_meth_calculate --help"
   ]
  },
  {
   "cell_type": "markdown",
   "metadata": {},
   "source": [
    "### Example usage"
   ]
  },
  {
   "cell_type": "markdown",
   "metadata": {},
   "source": [
    "#### From an existing nanopolish call_methylation file output"
   ]
  },
  {
   "cell_type": "code",
   "execution_count": 2,
   "metadata": {
    "ExecuteTime": {
     "end_time": "2019-08-12T17:04:54.887367Z",
     "start_time": "2019-08-12T17:04:40.486960Z"
    },
    "scrolled": false
   },
   "outputs": [
    {
     "name": "stdout",
     "output_type": "stream",
     "text": [
      "track name='nanopolish_methylation' description='Methylation frequency track generated with nanopolish/NanopolishComp' useScore=1\n",
      "chr-VIII\t213382\t213386\t1\t000100\t-\n",
      "chr-VIII\t213427\t213428\t2\t000090\t-\n",
      "chr-VIII\t214579\t214580\t25\t000153\t-\n",
      "chr-VIII\t214610\t214611\t27\t000083\t-\n",
      "chr-VIII\t214455\t214459\t39\t000100\t+\n",
      "chr-XII\t451675\t451676\t47\t000066\t+\n",
      "chr-XII\t451856\t451857\t50\t000066\t+\n",
      "chr-XII\t451872\t451873\t51\t000062\t+\n",
      "chr-XII\t452083\t452084\t60\t000058\t+\n",
      "chromosome\tstart\tend\tstrand\tsite_id\tmethylated_reads\tunmethylated_reads\tambiguous_reads\tsequence\tnum_motifs\tmeth_freq\n",
      "chr-VIII\t213382\t213386\t-\t1\t1\t7\t2\tTTCTTCGCCGACTG\t2\t0.100000\n",
      "chr-VIII\t213427\t213428\t-\t2\t1\t0\t10\tTTTCTCGCAAA\t1\t0.090909\n",
      "chr-VIII\t214579\t214580\t-\t25\t2\t1\t10\tGTTACCGCAGG\t1\t0.153846\n",
      "chr-VIII\t214610\t214611\t-\t27\t1\t8\t3\tCACCCCGTTGG\t1\t0.083333\n",
      "chr-VIII\t214455\t214459\t+\t39\t1\t6\t3\tAGAATCGTCGATTA\t2\t0.100000\n",
      "chr-XII\t451675\t451676\t+\t47\t1\t7\t7\tTTACCCGGATC\t1\t0.066667\n",
      "chr-XII\t451856\t451857\t+\t50\t1\t0\t14\tTACCCCGTTGT\t1\t0.066667\n",
      "chr-XII\t451872\t451873\t+\t51\t1\t6\t9\tTAAGTCGTATA\t1\t0.062500\n",
      "chr-XII\t452083\t452084\t+\t60\t1\t6\t10\tTCCAGCGGATG\t1\t0.058824\n"
     ]
    },
    {
     "name": "stderr",
     "output_type": "stream",
     "text": [
      "## Options summary ##\n",
      "\tpackage_name: NanopolishComp\n",
      "\tpackage_version: 0.6.2\n",
      "\ttimestamp: 2019-08-12 18:04:41.340804\n",
      "\tquiet: False\n",
      "\tverbose: True\n",
      "\tmin_meth_freq: 0.05\n",
      "\tmin_depth: 10\n",
      "\tmin_llr: 2.5\n",
      "\toutput_tsv_fn: ./output/freq_meth_calculate/out_freq_meth_calculate.tsv\n",
      "\toutput_bed_fn: ./output/freq_meth_calculate/out_freq_meth_calculate.bed\n",
      "\tinput_fn: data/freq_meth_calculate/methylation_calls.tsv\n",
      "## Checking arguments ##\n",
      "\tTesting input file readability\n",
      "\tCheck output file\n",
      "\t\tOutput results in bed format\n",
      "\t\tOutput results in tsv format\n",
      "## Parsing methylation_calls file ##\n",
      "\tWrite output file header\n",
      "\tStarting to parse file Nanopolish methylation call file\n",
      "\tProcessing_valid site found\n",
      "## Results summary ##\n",
      "\ttotal read lines: 605,248\n",
      "\tTotal sites: 340,081\n",
      "\tLow coverage sites: 339,082\n",
      "\tLow methylation sites: 907\n",
      "\tValid sites: 92\n"
     ]
    }
   ],
   "source": [
    "%%bash\n",
    "\n",
    "# Load local bashrc and activate virtual environment\n",
    "source ~/.bashrc\n",
    "workon NanopolishComp\n",
    "\n",
    "NanopolishComp Freq_meth_calculate --verbose -i data/freq_meth_calculate/methylation_calls.tsv -b ./output/freq_meth_calculate/out_freq_meth_calculate.bed -t ./output/freq_meth_calculate/out_freq_meth_calculate.tsv\n",
    "\n",
    "head ./output/freq_meth_calculate/out_freq_meth_calculate.bed\n",
    "head ./output/freq_meth_calculate/out_freq_meth_calculate.tsv"
   ]
  },
  {
   "cell_type": "markdown",
   "metadata": {},
   "source": [
    "#### Changing filtering threshold (not recommended)"
   ]
  },
  {
   "cell_type": "code",
   "execution_count": 3,
   "metadata": {
    "ExecuteTime": {
     "end_time": "2019-08-12T17:07:24.792451Z",
     "start_time": "2019-08-12T17:07:10.067893Z"
    },
    "scrolled": false
   },
   "outputs": [
    {
     "name": "stdout",
     "output_type": "stream",
     "text": [
      "track name='nanopolish_methylation' description='Methylation frequency track generated with nanopolish/NanopolishComp' useScore=1\n",
      "chr-XII\t451675\t451676\t0\t000066\t+\n",
      "chr-XII\t451856\t451857\t3\t000133\t+\n",
      "chr-XII\t451872\t451873\t4\t000062\t+\n",
      "chr-XII\t451915\t451916\t6\t000062\t+\n",
      "chr-XII\t451940\t451941\t7\t000062\t+\n",
      "chr-XII\t452083\t452084\t13\t000117\t+\n",
      "chr-XII\t452137\t452138\t16\t000058\t+\n",
      "chr-XII\t452238\t452239\t20\t000058\t+\n",
      "chr-XII\t452331\t452341\t24\t000055\t+\n",
      "chromosome\tstart\tend\tstrand\tsite_id\tmethylated_reads\tunmethylated_reads\tambiguous_reads\tsequence\tnum_motifs\tmeth_freq\n",
      "chr-XII\t451675\t451676\t+\t0\t1\t8\t6\tTTACCCGGATC\t1\t0.066667\n",
      "chr-XII\t451856\t451857\t+\t3\t2\t0\t13\tTACCCCGTTGT\t1\t0.133333\n",
      "chr-XII\t451872\t451873\t+\t4\t1\t7\t8\tTAAGTCGTATA\t1\t0.062500\n",
      "chr-XII\t451915\t451916\t+\t6\t1\t10\t5\tCAATTCGCCAG\t1\t0.062500\n",
      "chr-XII\t451940\t451941\t+\t7\t1\t1\t14\tCTTTCCGCCAA\t1\t0.062500\n",
      "chr-XII\t452083\t452084\t+\t13\t2\t8\t7\tTCCAGCGGATG\t1\t0.117647\n",
      "chr-XII\t452137\t452138\t+\t16\t1\t1\t15\tTTATCCGAATG\t1\t0.058824\n",
      "chr-XII\t452238\t452239\t+\t20\t1\t4\t12\tGCTCACGTTCC\t1\t0.058824\n",
      "chr-XII\t452331\t452341\t+\t24\t1\t15\t2\tAATGTCGCTATGAACGCTTG\t2\t0.055556\n"
     ]
    },
    {
     "name": "stderr",
     "output_type": "stream",
     "text": [
      "## Options summary ##\n",
      "\tpackage_name: NanopolishComp\n",
      "\tpackage_version: 0.6.2\n",
      "\ttimestamp: 2019-08-12 18:07:10.885082\n",
      "\tquiet: False\n",
      "\tverbose: True\n",
      "\tmin_meth_freq: 0.01\n",
      "\tmin_depth: 15\n",
      "\tmin_llr: 2.0\n",
      "\toutput_tsv_fn: ./output/freq_meth_calculate/out_freq_meth_calculate.tsv\n",
      "\toutput_bed_fn: ./output/freq_meth_calculate/out_freq_meth_calculate.bed\n",
      "\tinput_fn: data/freq_meth_calculate/methylation_calls.tsv\n",
      "## Checking arguments ##\n",
      "\tTesting input file readability\n",
      "\tCheck output file\n",
      "\t\tOutput results in bed format\n",
      "\t\tOutput results in tsv format\n",
      "## Parsing methylation_calls file ##\n",
      "\tWrite output file header\n",
      "\tStarting to parse file Nanopolish methylation call file\n",
      "\tProcessing_valid site found\n",
      "## Results summary ##\n",
      "\ttotal read lines: 605,248\n",
      "\tTotal sites: 340,081\n",
      "\tLow coverage sites: 339,180\n",
      "\tLow methylation sites: 518\n",
      "\tValid sites: 383\n"
     ]
    }
   ],
   "source": [
    "%%bash\n",
    "\n",
    "# Load local bashrc and activate virtual environment\n",
    "source ~/.bashrc\n",
    "workon NanopolishComp\n",
    "\n",
    "NanopolishComp Freq_meth_calculate --verbose -i data/freq_meth_calculate/methylation_calls.tsv -b ./output/freq_meth_calculate/out_freq_meth_calculate.bed -t ./output/freq_meth_calculate/out_freq_meth_calculate.tsv --min_llr 2 --min_depth 15 --min_meth_freq 0.01\n",
    "\n",
    "head ./output/freq_meth_calculate/out_freq_meth_calculate.bed\n",
    "head ./output/freq_meth_calculate/out_freq_meth_calculate.tsv"
   ]
  },
  {
   "cell_type": "markdown",
   "metadata": {},
   "source": [
    "## Python API usage"
   ]
  },
  {
   "cell_type": "markdown",
   "metadata": {},
   "source": [
    "### Import the package"
   ]
  },
  {
   "cell_type": "code",
   "execution_count": 4,
   "metadata": {
    "ExecuteTime": {
     "end_time": "2019-08-12T17:07:46.590303Z",
     "start_time": "2019-08-12T17:07:46.571084Z"
    }
   },
   "outputs": [],
   "source": [
    "# Import main program\n",
    "from NanopolishComp.Freq_meth_calculate import Freq_meth_calculate\n",
    "\n",
    "# Import helper functions\n",
    "from NanopolishComp.common import jhelp, head"
   ]
  },
  {
   "cell_type": "markdown",
   "metadata": {},
   "source": [
    "### python API help"
   ]
  },
  {
   "cell_type": "code",
   "execution_count": 5,
   "metadata": {
    "ExecuteTime": {
     "end_time": "2019-08-12T17:07:49.807201Z",
     "start_time": "2019-08-12T17:07:49.782464Z"
    }
   },
   "outputs": [
    {
     "data": {
      "text/markdown": [
       "---\n",
       "\n",
       "**NanopolishComp.Freq_meth_calculate.__init__**\n",
       "\n",
       "Calculate methylation frequency at genomic CpG sites from the output of nanopolish call-methylation\n",
       "\n",
       "---\n",
       "\n",
       "* **input_fn** *: str (required)*\n",
       "\n",
       "Path to a nanopolish call_methylation tsv output file\n",
       "\n",
       "* **output_bed_fn** *: str (default = )*\n",
       "\n",
       "Path to write a summary result file in BED format\n",
       "\n",
       "* **output_tsv_fn** *: str (default = )*\n",
       "\n",
       "Path to write an more extensive result report in TSV format\n",
       "\n",
       "* **min_llr** *: float (default = 2.5)*\n",
       "\n",
       "Log likelihood ratio threshold\n",
       "\n",
       "* **min_depth** *: int (default = 10)*\n",
       "\n",
       "Minimal number of reads covering a site to be reported\n",
       "\n",
       "* **min_meth_freq** *: float (default = 0.05)*\n",
       "\n",
       "Minimal methylation frequency of a site to be reported\n",
       "\n",
       "* **verbose** *: bool (default = False)*\n",
       "\n",
       "Increase verbosity\n",
       "\n",
       "* **quiet** *: bool (default = False)*\n",
       "\n",
       "Reduce verbosity\n",
       "\n"
      ],
      "text/plain": [
       "<IPython.core.display.Markdown object>"
      ]
     },
     "metadata": {},
     "output_type": "display_data"
    }
   ],
   "source": [
    "jhelp(Freq_meth_calculate)"
   ]
  },
  {
   "cell_type": "markdown",
   "metadata": {},
   "source": [
    "### Example usage"
   ]
  },
  {
   "cell_type": "markdown",
   "metadata": {
    "ExecuteTime": {
     "end_time": "2019-04-23T09:19:41.284517Z",
     "start_time": "2019-04-23T09:19:41.165804Z"
    },
    "scrolled": false
   },
   "source": [
    "#### basic setting"
   ]
  },
  {
   "cell_type": "code",
   "execution_count": null,
   "metadata": {
    "ExecuteTime": {
     "start_time": "2019-08-12T17:10:36.075Z"
    },
    "scrolled": true
   },
   "outputs": [
    {
     "name": "stderr",
     "output_type": "stream",
     "text": [
      "## Options summary ##\n",
      "\tpackage_name: NanopolishComp\n",
      "\tpackage_version: 0.6.2\n",
      "\ttimestamp: 2019-08-12 18:10:36.091502\n",
      "\tquiet: False\n",
      "\tverbose: True\n",
      "\tmin_meth_freq: 0.05\n",
      "\tmin_depth: 10\n",
      "\tmin_llr: 2.5\n",
      "\toutput_tsv_fn: \n",
      "\toutput_bed_fn: ./output/freq_meth_calculate/out_freq_meth_calculate.bed\n",
      "\tinput_fn: ./data/freq_meth_calculate/methylation_calls.tsv\n",
      "## Checking arguments ##\n",
      "\tTesting input file readability\n",
      "\tCheck output file\n",
      "\t\tOutput results in bed format\n",
      "## Parsing methylation_calls file ##\n",
      "\tWrite output file header\n",
      "\tStarting to parse file Nanopolish methylation call file\n",
      "\tProcessing_valid site found\n"
     ]
    }
   ],
   "source": [
    "f = Freq_meth_calculate(\n",
    "    input_fn=\"./data/freq_meth_calculate/methylation_calls.tsv\",\n",
    "    output_bed_fn=\"./output/freq_meth_calculate/out_freq_meth_calculate.bed\",\n",
    "    verbose=True)\n",
    "\n",
    "head(\"./output/freq_meth_calculate/out_freq_meth_calculate.bed\")"
   ]
  },
  {
   "cell_type": "markdown",
   "metadata": {},
   "source": [
    "#### Changing filtering threshold (not recommended)"
   ]
  },
  {
   "cell_type": "code",
   "execution_count": 7,
   "metadata": {
    "ExecuteTime": {
     "end_time": "2019-08-12T17:10:14.818616Z",
     "start_time": "2019-08-12T17:10:00.490338Z"
    }
   },
   "outputs": [
    {
     "name": "stderr",
     "output_type": "stream",
     "text": [
      "## Checking arguments ##\n",
      "## Parsing methylation_calls file ##\n",
      "\tStarting to parse file Nanopolish methylation call file\n",
      "\tProcessing_valid site found\n",
      "## Results summary ##\n",
      "\ttotal read lines: 605,248\n",
      "\tTotal sites: 340,081\n",
      "\tLow coverage sites: 339,249\n",
      "\tLow methylation sites: 821\n",
      "\tValid sites: 11\n"
     ]
    },
    {
     "name": "stdout",
     "output_type": "stream",
     "text": [
      "chromosome start  end    strand site_id methylated_reads unmethylated_reads ambiguous_reads sequence       num_motifs meth_freq \n",
      "chr-XII    455556 455557 +      1089    16               6                  20              AGATCCGTTGT    1          0.380952  \n",
      "chr-XII    461541 461542 +      1234    26               3                  52              AATTCCGAGGG    1          0.320988  \n",
      "chr-XII    462606 462607 +      1266    21               9                  28              AATTCCGGGGT    1          0.362069  \n",
      "chr-XII    464693 464694 +      1327    15               4                  15              AGATCCGTTGT    1          0.441176  \n",
      "chr-XII    454376 454377 -      1418    10               7                  16              TCTTTCGGGTC    1          0.303030  \n",
      "chr-XII    456198 456202 -      1464    17               13                 16              CAGCACGACGGAGT 2          0.369565  \n",
      "chr-XII    458208 458209 -      1516    25               15                 37              TTAAACGCAAA    1          0.324675  \n",
      "chr-XII    465335 465339 -      1698    12               14                 14              CAGCACGACGGAGT 2          0.300000  \n",
      "chr-XII    467345 467346 -      1798    8                6                  12              TTAAACGCAAA    1          0.307692  \n",
      "\n"
     ]
    }
   ],
   "source": [
    "f = Freq_meth_calculate(\n",
    "    input_fn=\"./data/freq_meth_calculate/methylation_calls.tsv\",\n",
    "    output_tsv_fn=\"./output/freq_meth_calculate/out_freq_meth_calculate.tsv\",\n",
    "    min_llr=1,\n",
    "    min_depth=20,\n",
    "    min_meth_freq=0.3)\n",
    "\n",
    "head(\"./output/freq_meth_calculate/out_freq_meth_calculate.tsv\")"
   ]
  }
 ],
 "metadata": {
  "celltoolbar": "Initialization Cell",
  "hide_input": false,
  "kernelspec": {
   "display_name": "NanopolishComp",
   "language": "python",
   "name": "nanopolishcomp"
  },
  "language_info": {
   "codemirror_mode": {
    "name": "ipython",
    "version": 3
   },
   "file_extension": ".py",
   "mimetype": "text/x-python",
   "name": "python",
   "nbconvert_exporter": "python",
   "pygments_lexer": "ipython3",
   "version": "3.6.6"
  }
 },
 "nbformat": 4,
 "nbformat_minor": 2
}
