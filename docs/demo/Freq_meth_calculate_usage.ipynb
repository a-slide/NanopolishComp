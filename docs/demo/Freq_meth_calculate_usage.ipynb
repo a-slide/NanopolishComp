{
 "cells": [
  {
   "cell_type": "markdown",
   "metadata": {
    "ExecuteTime": {
     "end_time": "2018-08-10T10:03:00.595966Z",
     "start_time": "2018-08-10T10:03:00.587806Z"
    }
   },
   "source": [
    "# Freq_meth_calculate usage"
   ]
  },
  {
   "cell_type": "markdown",
   "metadata": {},
   "source": [
    "Calculate methylation frequency at genomic CpG sites from the output of `nanopolish call-methylation`"
   ]
  },
  {
   "cell_type": "markdown",
   "metadata": {},
   "source": [
    "### Output file format"
   ]
  },
  {
   "cell_type": "markdown",
   "metadata": {},
   "source": [
    "..."
   ]
  },
  {
   "cell_type": "markdown",
   "metadata": {},
   "source": [
    "## Bash command line usage"
   ]
  },
  {
   "cell_type": "markdown",
   "metadata": {},
   "source": [
    "### Command line help"
   ]
  },
  {
   "cell_type": "code",
   "execution_count": 1,
   "metadata": {
    "ExecuteTime": {
     "end_time": "2019-04-19T18:43:08.120484Z",
     "start_time": "2019-04-19T18:43:07.155757Z"
    }
   },
   "outputs": [
    {
     "name": "stdout",
     "output_type": "stream",
     "text": [
      "usage: NanopolishComp Freq_meth_calculate [-h] -o OUTPUT_FN [-i INPUT_FN]\n",
      "                                          [-c CALL_THRESHOLD] [-s] [-v | -q]\n",
      "                                          [-t THREADS]\n",
      "\n",
      "Calculate methylation frequency at genomic CpG sites from the output of\n",
      "nanopolish call-methylation\n",
      "\n",
      "optional arguments:\n",
      "  -h, --help            show this help message and exit\n",
      "  -v, --verbose         Increase verbosity (default: False)\n",
      "  -q, --quiet           Reduce verbosity (default: False)\n",
      "\n",
      "Input/Output options:\n",
      "  -o OUTPUT_FN, --output_fn OUTPUT_FN\n",
      "                        Path the output reference position tsv file\n",
      "  -i INPUT_FN, --input_fn INPUT_FN\n",
      "                        Path to a nanopolish call_methylation tsv output file.\n",
      "                        If not specified read from std input\n",
      "\n",
      "Run parameters options:\n",
      "  -c CALL_THRESHOLD, --call_threshold CALL_THRESHOLD\n",
      "                        Log likelihood ratio threshold (default: 2.5)\n",
      "  -s, --split_groups    split multi-cpg groups (default: False)\n",
      "\n",
      "Other options:\n",
      "  -t THREADS, --threads THREADS\n",
      "                        Total number of threads. 1 thread is used for the\n",
      "                        reader and 1 for the writer (default: 4)\n"
     ]
    }
   ],
   "source": [
    "%%bash\n",
    "source ~/.bashrc && workon Nanopolish_0.11.1\n",
    "\n",
    "NanopolishComp Freq_meth_calculate --help"
   ]
  },
  {
   "cell_type": "markdown",
   "metadata": {},
   "source": [
    "### Example usage"
   ]
  },
  {
   "cell_type": "code",
   "execution_count": 2,
   "metadata": {
    "ExecuteTime": {
     "end_time": "2019-04-19T18:43:08.127645Z",
     "start_time": "2019-04-19T18:43:08.123569Z"
    }
   },
   "outputs": [],
   "source": [
    "with open (1, \"w\") as output_fp:\n",
    "    output_fp.write (\"test\")\n",
    "    output_fp.flush()"
   ]
  },
  {
   "cell_type": "markdown",
   "metadata": {},
   "source": [
    "## Python API usage"
   ]
  },
  {
   "cell_type": "markdown",
   "metadata": {},
   "source": [
    "### Import the package"
   ]
  },
  {
   "cell_type": "code",
   "execution_count": 3,
   "metadata": {
    "ExecuteTime": {
     "end_time": "2019-04-19T18:43:08.139503Z",
     "start_time": "2019-04-19T18:43:08.131385Z"
    }
   },
   "outputs": [],
   "source": [
    "from NanopolishComp.Freq_meth_calculate import Freq_meth_calculate\n",
    "from NanopolishComp.common import jhelp"
   ]
  },
  {
   "cell_type": "markdown",
   "metadata": {},
   "source": [
    "### python API help"
   ]
  },
  {
   "cell_type": "code",
   "execution_count": 4,
   "metadata": {
    "ExecuteTime": {
     "end_time": "2019-04-19T18:43:08.161721Z",
     "start_time": "2019-04-19T18:43:08.142571Z"
    }
   },
   "outputs": [
    {
     "data": {
      "text/markdown": [
       "---\n",
       "\n",
       "**NanopolishComp.Freq_meth_calculate.__init__**\n",
       "\n",
       "Calculate methylation frequency at genomic CpG sites from the output of nanopolish call-methylation\n",
       "\n",
       "---\n",
       "\n",
       "* **output_fn** *: str (required)*\n",
       "\n",
       "Path the output reference position tsv file\n",
       "\n",
       "* **input_fn** *: str (required)*\n",
       "\n",
       "Path to a nanopolish call_methylation tsv output file\n",
       "\n",
       "* **call_threshold** *: float (default = 2.5)*\n",
       "\n",
       "Log likelihood ratio threshold\n",
       "\n",
       "* **split_groups** *: bool (default = False)*\n",
       "\n",
       "split multi-cpg groups\n",
       "\n",
       "* **verbose** *: bool (default = False)*\n",
       "\n",
       "Increase verbosity\n",
       "\n",
       "* **quiet** *: bool (default = False)*\n",
       "\n",
       "Reduce verbosity\n",
       "\n"
      ],
      "text/plain": [
       "<IPython.core.display.Markdown object>"
      ]
     },
     "metadata": {},
     "output_type": "display_data"
    }
   ],
   "source": [
    "jhelp(Freq_meth_calculate)"
   ]
  },
  {
   "cell_type": "markdown",
   "metadata": {},
   "source": [
    "### Example usage"
   ]
  },
  {
   "cell_type": "code",
   "execution_count": null,
   "metadata": {
    "ExecuteTime": {
     "end_time": "2019-04-19T17:59:15.783677Z",
     "start_time": "2019-04-19T17:59:15.673Z"
    },
    "scrolled": false
   },
   "outputs": [],
   "source": []
  }
 ],
 "metadata": {
  "celltoolbar": "Initialization Cell",
  "hide_input": false,
  "kernelspec": {
   "display_name": "Python3.6",
   "language": "python",
   "name": "python3.6"
  },
  "language_info": {
   "codemirror_mode": {
    "name": "ipython",
    "version": 3
   },
   "file_extension": ".py",
   "mimetype": "text/x-python",
   "name": "python",
   "nbconvert_exporter": "python",
   "pygments_lexer": "ipython3",
   "version": "3.6.6"
  }
 },
 "nbformat": 4,
 "nbformat_minor": 2
}
